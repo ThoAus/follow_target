{
 "cells": [
  {
   "cell_type": "code",
   "execution_count": 44,
   "id": "e6dce7b4",
   "metadata": {},
   "outputs": [],
   "source": [
    "from ultralytics import YOLO\n",
    "\n",
    "import os\n",
    "import pandas as pd\n",
    "import matplotlib.pyplot as plt\n",
    "\n",
    "%matplotlib inline"
   ]
  },
  {
   "cell_type": "markdown",
   "id": "8e49a64d",
   "metadata": {},
   "source": [
    "# 01 - Training"
   ]
  },
  {
   "cell_type": "code",
   "execution_count": 28,
   "id": "3519cb4c",
   "metadata": {},
   "outputs": [
    {
     "name": "stdout",
     "output_type": "stream",
     "text": [
      "Ultralytics 8.3.146  Python-3.13.1 torch-2.7.0+cpu CPU (AMD Ryzen 7 PRO 7840HS w/ Radeon 780M Graphics)\n",
      "\u001b[34m\u001b[1mengine\\trainer: \u001b[0magnostic_nms=False, amp=True, augment=False, auto_augment=randaugment, batch=16, bgr=0.0, box=7.5, cache=False, cfg=None, classes=None, close_mosaic=10, cls=0.5, conf=None, copy_paste=0.0, copy_paste_mode=flip, cos_lr=False, cutmix=0.0, data=config/config_train.yaml, degrees=0.0, deterministic=True, device=cpu, dfl=1.5, dnn=False, dropout=0.0, dynamic=False, embed=None, epochs=100, erasing=0.4, exist_ok=False, fliplr=0.5, flipud=0.0, format=torchscript, fraction=1.0, freeze=None, half=False, hsv_h=0.015, hsv_s=0.7, hsv_v=0.4, imgsz=640, int8=False, iou=0.7, keras=False, kobj=1.0, line_width=None, lr0=0.01, lrf=0.01, mask_ratio=4, max_det=300, mixup=0.0, mode=train, model=yolo11s.pt, momentum=0.937, mosaic=1.0, multi_scale=False, name=first_try_yolo11s_100_images2, nbs=64, nms=False, opset=None, optimize=False, optimizer=auto, overlap_mask=True, patience=100, perspective=0.0, plots=True, pose=12.0, pretrained=True, profile=False, project=conceptual, rect=False, resume=False, retina_masks=False, save=True, save_conf=False, save_crop=False, save_dir=conceptual\\first_try_yolo11s_100_images2, save_frames=False, save_json=False, save_period=-1, save_txt=False, scale=0.5, seed=0, shear=0.0, show=False, show_boxes=True, show_conf=True, show_labels=True, simplify=True, single_cls=False, source=None, split=val, stream_buffer=False, task=detect, time=None, tracker=botsort.yaml, translate=0.1, val=True, verbose=True, vid_stride=1, visualize=False, warmup_bias_lr=0.1, warmup_epochs=3.0, warmup_momentum=0.8, weight_decay=0.0005, workers=8, workspace=None\n",
      "Overriding model.yaml nc=80 with nc=1\n",
      "\n",
      "                   from  n    params  module                                       arguments                     \n",
      "  0                  -1  1       928  ultralytics.nn.modules.conv.Conv             [3, 32, 3, 2]                 \n",
      "  1                  -1  1     18560  ultralytics.nn.modules.conv.Conv             [32, 64, 3, 2]                \n",
      "  2                  -1  1     26080  ultralytics.nn.modules.block.C3k2            [64, 128, 1, False, 0.25]     \n",
      "  3                  -1  1    147712  ultralytics.nn.modules.conv.Conv             [128, 128, 3, 2]              \n",
      "  4                  -1  1    103360  ultralytics.nn.modules.block.C3k2            [128, 256, 1, False, 0.25]    \n",
      "  5                  -1  1    590336  ultralytics.nn.modules.conv.Conv             [256, 256, 3, 2]              \n",
      "  6                  -1  1    346112  ultralytics.nn.modules.block.C3k2            [256, 256, 1, True]           \n",
      "  7                  -1  1   1180672  ultralytics.nn.modules.conv.Conv             [256, 512, 3, 2]              \n",
      "  8                  -1  1   1380352  ultralytics.nn.modules.block.C3k2            [512, 512, 1, True]           \n",
      "  9                  -1  1    656896  ultralytics.nn.modules.block.SPPF            [512, 512, 5]                 \n",
      " 10                  -1  1    990976  ultralytics.nn.modules.block.C2PSA           [512, 512, 1]                 \n",
      " 11                  -1  1         0  torch.nn.modules.upsampling.Upsample         [None, 2, 'nearest']          \n",
      " 12             [-1, 6]  1         0  ultralytics.nn.modules.conv.Concat           [1]                           \n",
      " 13                  -1  1    443776  ultralytics.nn.modules.block.C3k2            [768, 256, 1, False]          \n",
      " 14                  -1  1         0  torch.nn.modules.upsampling.Upsample         [None, 2, 'nearest']          \n",
      " 15             [-1, 4]  1         0  ultralytics.nn.modules.conv.Concat           [1]                           \n",
      " 16                  -1  1    127680  ultralytics.nn.modules.block.C3k2            [512, 128, 1, False]          \n",
      " 17                  -1  1    147712  ultralytics.nn.modules.conv.Conv             [128, 128, 3, 2]              \n",
      " 18            [-1, 13]  1         0  ultralytics.nn.modules.conv.Concat           [1]                           \n",
      " 19                  -1  1    345472  ultralytics.nn.modules.block.C3k2            [384, 256, 1, False]          \n",
      " 20                  -1  1    590336  ultralytics.nn.modules.conv.Conv             [256, 256, 3, 2]              \n",
      " 21            [-1, 10]  1         0  ultralytics.nn.modules.conv.Concat           [1]                           \n",
      " 22                  -1  1   1511424  ultralytics.nn.modules.block.C3k2            [768, 512, 1, True]           \n",
      " 23        [16, 19, 22]  1    819795  ultralytics.nn.modules.head.Detect           [1, [128, 256, 512]]          \n",
      "YOLO11s summary: 181 layers, 9,428,179 parameters, 9,428,163 gradients, 21.5 GFLOPs\n",
      "\n",
      "Transferred 493/499 items from pretrained weights\n",
      "Freezing layer 'model.23.dfl.conv.weight'\n",
      "\u001b[34m\u001b[1mtrain: \u001b[0mFast image access  (ping: 0.10.0 ms, read: 6.02.9 MB/s, size: 103.0 KB)\n"
     ]
    },
    {
     "name": "stderr",
     "output_type": "stream",
     "text": [
      "\u001b[34m\u001b[1mtrain: \u001b[0mScanning C:\\Users\\thoma\\Documents\\GitHub\\follow_target\\dataset\\labels\\train.cache... 80 images, 3 backgrounds, 0 corrupt: 100%|██████████| 80/80 [00:00<?, ?it/s]"
     ]
    },
    {
     "name": "stdout",
     "output_type": "stream",
     "text": [
      "\u001b[34m\u001b[1mval: \u001b[0mFast image access  (ping: 0.10.0 ms, read: 5.02.7 MB/s, size: 87.4 KB)\n"
     ]
    },
    {
     "name": "stderr",
     "output_type": "stream",
     "text": [
      "\n",
      "c:\\Users\\thoma\\Documents\\GitHub\\follow_target\\.venv\\Lib\\site-packages\\torch\\utils\\data\\dataloader.py:665: UserWarning: 'pin_memory' argument is set as true but no accelerator is found, then device pinned memory won't be used.\n",
      "  warnings.warn(warn_msg)\n",
      "\u001b[34m\u001b[1mval: \u001b[0mScanning C:\\Users\\thoma\\Documents\\GitHub\\follow_target\\dataset\\labels\\val.cache... 20 images, 1 backgrounds, 0 corrupt: 100%|██████████| 21/21 [00:00<?, ?it/s]\n",
      "c:\\Users\\thoma\\Documents\\GitHub\\follow_target\\.venv\\Lib\\site-packages\\torch\\utils\\data\\dataloader.py:665: UserWarning: 'pin_memory' argument is set as true but no accelerator is found, then device pinned memory won't be used.\n",
      "  warnings.warn(warn_msg)\n"
     ]
    },
    {
     "name": "stdout",
     "output_type": "stream",
     "text": [
      "Plotting labels to conceptual\\first_try_yolo11s_100_images2\\labels.jpg... \n",
      "\u001b[34m\u001b[1moptimizer:\u001b[0m 'optimizer=auto' found, ignoring 'lr0=0.01' and 'momentum=0.937' and determining best 'optimizer', 'lr0' and 'momentum' automatically... \n",
      "\u001b[34m\u001b[1moptimizer:\u001b[0m AdamW(lr=0.002, momentum=0.9) with parameter groups 81 weight(decay=0.0), 88 weight(decay=0.0005), 87 bias(decay=0.0)\n",
      "Image sizes 640 train, 640 val\n",
      "Using 0 dataloader workers\n",
      "Logging results to \u001b[1mconceptual\\first_try_yolo11s_100_images2\u001b[0m\n",
      "Starting training for 100 epochs...\n",
      "\n",
      "      Epoch    GPU_mem   box_loss   cls_loss   dfl_loss  Instances       Size\n"
     ]
    },
    {
     "name": "stderr",
     "output_type": "stream",
     "text": [
      "      1/100         0G      1.305      9.527      0.975         21        640: 100%|██████████| 5/5 [00:27<00:00,  5.50s/it]\n",
      "                 Class     Images  Instances      Box(P          R      mAP50  mAP50-95): 100%|██████████| 1/1 [00:02<00:00,  2.74s/it]"
     ]
    },
    {
     "name": "stdout",
     "output_type": "stream",
     "text": [
      "                   all         21         20       0.92       0.75       0.92      0.739\n"
     ]
    },
    {
     "name": "stderr",
     "output_type": "stream",
     "text": [
      "\n"
     ]
    },
    {
     "name": "stdout",
     "output_type": "stream",
     "text": [
      "\n",
      "      Epoch    GPU_mem   box_loss   cls_loss   dfl_loss  Instances       Size\n"
     ]
    },
    {
     "name": "stderr",
     "output_type": "stream",
     "text": [
      "      2/100         0G     0.9658      4.919     0.8841         21        640: 100%|██████████| 5/5 [00:25<00:00,  5.17s/it]\n",
      "                 Class     Images  Instances      Box(P          R      mAP50  mAP50-95): 100%|██████████| 1/1 [00:01<00:00,  1.95s/it]"
     ]
    },
    {
     "name": "stdout",
     "output_type": "stream",
     "text": [
      "                   all         21         20      0.908      0.992       0.92      0.713\n"
     ]
    },
    {
     "name": "stderr",
     "output_type": "stream",
     "text": [
      "\n"
     ]
    },
    {
     "name": "stdout",
     "output_type": "stream",
     "text": [
      "\n",
      "      Epoch    GPU_mem   box_loss   cls_loss   dfl_loss  Instances       Size\n"
     ]
    },
    {
     "name": "stderr",
     "output_type": "stream",
     "text": [
      "      3/100         0G     0.9495      3.329     0.8795         21        640: 100%|██████████| 5/5 [00:26<00:00,  5.21s/it]\n",
      "                 Class     Images  Instances      Box(P          R      mAP50  mAP50-95): 100%|██████████| 1/1 [00:01<00:00,  1.83s/it]"
     ]
    },
    {
     "name": "stdout",
     "output_type": "stream",
     "text": [
      "                   all         21         20      0.716       0.65      0.835      0.655\n"
     ]
    },
    {
     "name": "stderr",
     "output_type": "stream",
     "text": [
      "\n"
     ]
    },
    {
     "name": "stdout",
     "output_type": "stream",
     "text": [
      "\n",
      "      Epoch    GPU_mem   box_loss   cls_loss   dfl_loss  Instances       Size\n"
     ]
    },
    {
     "name": "stderr",
     "output_type": "stream",
     "text": [
      "      4/100         0G     0.9824      2.549     0.8976         23        640: 100%|██████████| 5/5 [00:25<00:00,  5.19s/it]\n",
      "                 Class     Images  Instances      Box(P          R      mAP50  mAP50-95): 100%|██████████| 1/1 [00:01<00:00,  1.87s/it]"
     ]
    },
    {
     "name": "stdout",
     "output_type": "stream",
     "text": [
      "                   all         21         20      0.238      0.608      0.265      0.205\n"
     ]
    },
    {
     "name": "stderr",
     "output_type": "stream",
     "text": [
      "\n"
     ]
    },
    {
     "name": "stdout",
     "output_type": "stream",
     "text": [
      "\n",
      "      Epoch    GPU_mem   box_loss   cls_loss   dfl_loss  Instances       Size\n"
     ]
    },
    {
     "name": "stderr",
     "output_type": "stream",
     "text": [
      "      5/100         0G     0.9453      1.663     0.9019         26        640: 100%|██████████| 5/5 [00:26<00:00,  5.23s/it]\n",
      "                 Class     Images  Instances      Box(P          R      mAP50  mAP50-95): 100%|██████████| 1/1 [00:01<00:00,  1.77s/it]"
     ]
    },
    {
     "name": "stdout",
     "output_type": "stream",
     "text": [
      "                   all         21         20       0.13        0.4      0.113     0.0846\n"
     ]
    },
    {
     "name": "stderr",
     "output_type": "stream",
     "text": [
      "\n"
     ]
    },
    {
     "name": "stdout",
     "output_type": "stream",
     "text": [
      "\n",
      "      Epoch    GPU_mem   box_loss   cls_loss   dfl_loss  Instances       Size\n"
     ]
    },
    {
     "name": "stderr",
     "output_type": "stream",
     "text": [
      "      6/100         0G     0.9051      1.384     0.8782         22        640: 100%|██████████| 5/5 [00:25<00:00,  5.19s/it]\n",
      "                 Class     Images  Instances      Box(P          R      mAP50  mAP50-95): 100%|██████████| 1/1 [00:01<00:00,  1.80s/it]"
     ]
    },
    {
     "name": "stdout",
     "output_type": "stream",
     "text": [
      "                   all         21         20     0.0332        0.8     0.0338     0.0245\n"
     ]
    },
    {
     "name": "stderr",
     "output_type": "stream",
     "text": [
      "\n"
     ]
    },
    {
     "name": "stdout",
     "output_type": "stream",
     "text": [
      "\n",
      "      Epoch    GPU_mem   box_loss   cls_loss   dfl_loss  Instances       Size\n"
     ]
    },
    {
     "name": "stderr",
     "output_type": "stream",
     "text": [
      "      7/100         0G     0.9182      1.121      0.883         35        640: 100%|██████████| 5/5 [00:26<00:00,  5.25s/it]\n",
      "                 Class     Images  Instances      Box(P          R      mAP50  mAP50-95): 100%|██████████| 1/1 [00:01<00:00,  1.73s/it]"
     ]
    },
    {
     "name": "stdout",
     "output_type": "stream",
     "text": [
      "                   all         21         20      0.035        0.8     0.0346     0.0233\n"
     ]
    },
    {
     "name": "stderr",
     "output_type": "stream",
     "text": [
      "\n"
     ]
    },
    {
     "name": "stdout",
     "output_type": "stream",
     "text": [
      "\n",
      "      Epoch    GPU_mem   box_loss   cls_loss   dfl_loss  Instances       Size\n"
     ]
    },
    {
     "name": "stderr",
     "output_type": "stream",
     "text": [
      "      8/100         0G     0.8922      1.033     0.8963         31        640: 100%|██████████| 5/5 [00:25<00:00,  5.18s/it]\n",
      "                 Class     Images  Instances      Box(P          R      mAP50  mAP50-95): 100%|██████████| 1/1 [00:01<00:00,  1.70s/it]"
     ]
    },
    {
     "name": "stdout",
     "output_type": "stream",
     "text": [
      "                   all         21         20      0.636       0.35      0.425      0.326\n"
     ]
    },
    {
     "name": "stderr",
     "output_type": "stream",
     "text": [
      "\n"
     ]
    },
    {
     "name": "stdout",
     "output_type": "stream",
     "text": [
      "\n",
      "      Epoch    GPU_mem   box_loss   cls_loss   dfl_loss  Instances       Size\n"
     ]
    },
    {
     "name": "stderr",
     "output_type": "stream",
     "text": [
      "      9/100         0G     0.8842     0.9379     0.8806         28        640: 100%|██████████| 5/5 [00:26<00:00,  5.26s/it]\n",
      "                 Class     Images  Instances      Box(P          R      mAP50  mAP50-95): 100%|██████████| 1/1 [00:01<00:00,  1.56s/it]"
     ]
    },
    {
     "name": "stdout",
     "output_type": "stream",
     "text": [
      "                   all         21         20      0.467       0.35      0.329      0.235\n"
     ]
    },
    {
     "name": "stderr",
     "output_type": "stream",
     "text": [
      "\n"
     ]
    },
    {
     "name": "stdout",
     "output_type": "stream",
     "text": [
      "\n",
      "      Epoch    GPU_mem   box_loss   cls_loss   dfl_loss  Instances       Size\n"
     ]
    },
    {
     "name": "stderr",
     "output_type": "stream",
     "text": [
      "     10/100         0G      1.023     0.9028     0.9345         34        640: 100%|██████████| 5/5 [00:25<00:00,  5.12s/it]\n",
      "                 Class     Images  Instances      Box(P          R      mAP50  mAP50-95): 100%|██████████| 1/1 [00:01<00:00,  1.53s/it]"
     ]
    },
    {
     "name": "stdout",
     "output_type": "stream",
     "text": [
      "                   all         21         20      0.449       0.55      0.368      0.259\n"
     ]
    },
    {
     "name": "stderr",
     "output_type": "stream",
     "text": [
      "\n"
     ]
    },
    {
     "name": "stdout",
     "output_type": "stream",
     "text": [
      "\n",
      "      Epoch    GPU_mem   box_loss   cls_loss   dfl_loss  Instances       Size\n"
     ]
    },
    {
     "name": "stderr",
     "output_type": "stream",
     "text": [
      "     11/100         0G     0.9542     0.7936     0.9337         31        640: 100%|██████████| 5/5 [00:24<00:00,  4.94s/it]\n",
      "                 Class     Images  Instances      Box(P          R      mAP50  mAP50-95): 100%|██████████| 1/1 [00:01<00:00,  1.45s/it]"
     ]
    },
    {
     "name": "stdout",
     "output_type": "stream",
     "text": [
      "                   all         21         20      0.435      0.733      0.492      0.391\n"
     ]
    },
    {
     "name": "stderr",
     "output_type": "stream",
     "text": [
      "\n"
     ]
    },
    {
     "name": "stdout",
     "output_type": "stream",
     "text": [
      "\n",
      "      Epoch    GPU_mem   box_loss   cls_loss   dfl_loss  Instances       Size\n"
     ]
    },
    {
     "name": "stderr",
     "output_type": "stream",
     "text": [
      "     12/100         0G     0.9407     0.8055     0.9209         21        640: 100%|██████████| 5/5 [00:29<00:00,  5.95s/it]\n",
      "                 Class     Images  Instances      Box(P          R      mAP50  mAP50-95): 100%|██████████| 1/1 [00:01<00:00,  1.80s/it]"
     ]
    },
    {
     "name": "stdout",
     "output_type": "stream",
     "text": [
      "                   all         21         20       0.12        0.7      0.123     0.0941\n"
     ]
    },
    {
     "name": "stderr",
     "output_type": "stream",
     "text": [
      "\n"
     ]
    },
    {
     "name": "stdout",
     "output_type": "stream",
     "text": [
      "\n",
      "      Epoch    GPU_mem   box_loss   cls_loss   dfl_loss  Instances       Size\n"
     ]
    },
    {
     "name": "stderr",
     "output_type": "stream",
     "text": [
      "     13/100         0G     0.9723     0.7143     0.8982         33        640: 100%|██████████| 5/5 [00:26<00:00,  5.37s/it]\n",
      "                 Class     Images  Instances      Box(P          R      mAP50  mAP50-95): 100%|██████████| 1/1 [00:01<00:00,  1.43s/it]"
     ]
    },
    {
     "name": "stdout",
     "output_type": "stream",
     "text": [
      "                   all         21         20      0.107        0.5      0.132     0.0972\n"
     ]
    },
    {
     "name": "stderr",
     "output_type": "stream",
     "text": [
      "\n"
     ]
    },
    {
     "name": "stdout",
     "output_type": "stream",
     "text": [
      "\n",
      "      Epoch    GPU_mem   box_loss   cls_loss   dfl_loss  Instances       Size\n"
     ]
    },
    {
     "name": "stderr",
     "output_type": "stream",
     "text": [
      "     14/100         0G     0.8737     0.7047     0.8749         32        640: 100%|██████████| 5/5 [00:24<00:00,  4.97s/it]\n",
      "                 Class     Images  Instances      Box(P          R      mAP50  mAP50-95): 100%|██████████| 1/1 [00:01<00:00,  1.41s/it]"
     ]
    },
    {
     "name": "stdout",
     "output_type": "stream",
     "text": [
      "                   all         21         20      0.723       0.25      0.569      0.412\n"
     ]
    },
    {
     "name": "stderr",
     "output_type": "stream",
     "text": [
      "\n"
     ]
    },
    {
     "name": "stdout",
     "output_type": "stream",
     "text": [
      "\n",
      "      Epoch    GPU_mem   box_loss   cls_loss   dfl_loss  Instances       Size\n"
     ]
    },
    {
     "name": "stderr",
     "output_type": "stream",
     "text": [
      "     15/100         0G     0.9335     0.6607      0.864         21        640: 100%|██████████| 5/5 [00:25<00:00,  5.01s/it]\n",
      "                 Class     Images  Instances      Box(P          R      mAP50  mAP50-95): 100%|██████████| 1/1 [00:01<00:00,  1.39s/it]"
     ]
    },
    {
     "name": "stdout",
     "output_type": "stream",
     "text": [
      "                   all         21         20          1      0.251      0.917      0.681\n"
     ]
    },
    {
     "name": "stderr",
     "output_type": "stream",
     "text": [
      "\n"
     ]
    },
    {
     "name": "stdout",
     "output_type": "stream",
     "text": [
      "\n",
      "      Epoch    GPU_mem   box_loss   cls_loss   dfl_loss  Instances       Size\n"
     ]
    },
    {
     "name": "stderr",
     "output_type": "stream",
     "text": [
      "     16/100         0G     0.9441     0.6438     0.8846         33        640: 100%|██████████| 5/5 [00:25<00:00,  5.03s/it]\n",
      "                 Class     Images  Instances      Box(P          R      mAP50  mAP50-95): 100%|██████████| 1/1 [00:01<00:00,  1.42s/it]"
     ]
    },
    {
     "name": "stdout",
     "output_type": "stream",
     "text": [
      "                   all         21         20      0.936      0.735      0.957      0.731\n"
     ]
    },
    {
     "name": "stderr",
     "output_type": "stream",
     "text": [
      "\n"
     ]
    },
    {
     "name": "stdout",
     "output_type": "stream",
     "text": [
      "\n",
      "      Epoch    GPU_mem   box_loss   cls_loss   dfl_loss  Instances       Size\n"
     ]
    },
    {
     "name": "stderr",
     "output_type": "stream",
     "text": [
      "     17/100         0G     0.9449     0.7416     0.9003         27        640: 100%|██████████| 5/5 [00:24<00:00,  4.99s/it]\n",
      "                 Class     Images  Instances      Box(P          R      mAP50  mAP50-95): 100%|██████████| 1/1 [00:01<00:00,  1.46s/it]"
     ]
    },
    {
     "name": "stdout",
     "output_type": "stream",
     "text": [
      "                   all         21         20       0.73        0.3      0.453      0.345\n"
     ]
    },
    {
     "name": "stderr",
     "output_type": "stream",
     "text": [
      "\n"
     ]
    },
    {
     "name": "stdout",
     "output_type": "stream",
     "text": [
      "\n",
      "      Epoch    GPU_mem   box_loss   cls_loss   dfl_loss  Instances       Size\n"
     ]
    },
    {
     "name": "stderr",
     "output_type": "stream",
     "text": [
      "     18/100         0G     0.9788     0.8398     0.9159         40        640: 100%|██████████| 5/5 [00:24<00:00,  4.98s/it]\n",
      "                 Class     Images  Instances      Box(P          R      mAP50  mAP50-95): 100%|██████████| 1/1 [00:01<00:00,  1.57s/it]"
     ]
    },
    {
     "name": "stdout",
     "output_type": "stream",
     "text": [
      "                   all         21         20     0.0174       0.75     0.0184     0.0118\n"
     ]
    },
    {
     "name": "stderr",
     "output_type": "stream",
     "text": [
      "\n"
     ]
    },
    {
     "name": "stdout",
     "output_type": "stream",
     "text": [
      "\n",
      "      Epoch    GPU_mem   box_loss   cls_loss   dfl_loss  Instances       Size\n"
     ]
    },
    {
     "name": "stderr",
     "output_type": "stream",
     "text": [
      "     19/100         0G     0.9325     0.7004     0.8981         30        640: 100%|██████████| 5/5 [00:24<00:00,  4.95s/it]\n",
      "                 Class     Images  Instances      Box(P          R      mAP50  mAP50-95): 100%|██████████| 1/1 [00:01<00:00,  1.73s/it]"
     ]
    },
    {
     "name": "stdout",
     "output_type": "stream",
     "text": [
      "                   all         21         20      0.211        0.3      0.222      0.151\n"
     ]
    },
    {
     "name": "stderr",
     "output_type": "stream",
     "text": [
      "\n"
     ]
    },
    {
     "name": "stdout",
     "output_type": "stream",
     "text": [
      "\n",
      "      Epoch    GPU_mem   box_loss   cls_loss   dfl_loss  Instances       Size\n"
     ]
    },
    {
     "name": "stderr",
     "output_type": "stream",
     "text": [
      "     20/100         0G     0.9234     0.7438     0.9135         25        640: 100%|██████████| 5/5 [00:24<00:00,  4.96s/it]\n",
      "                 Class     Images  Instances      Box(P          R      mAP50  mAP50-95): 100%|██████████| 1/1 [00:01<00:00,  1.40s/it]"
     ]
    },
    {
     "name": "stdout",
     "output_type": "stream",
     "text": [
      "                   all         21         20      0.876      0.706      0.884      0.561\n"
     ]
    },
    {
     "name": "stderr",
     "output_type": "stream",
     "text": [
      "\n"
     ]
    },
    {
     "name": "stdout",
     "output_type": "stream",
     "text": [
      "\n",
      "      Epoch    GPU_mem   box_loss   cls_loss   dfl_loss  Instances       Size\n"
     ]
    },
    {
     "name": "stderr",
     "output_type": "stream",
     "text": [
      "     21/100         0G      1.023     0.6745     0.9158         34        640: 100%|██████████| 5/5 [00:24<00:00,  4.93s/it]\n",
      "                 Class     Images  Instances      Box(P          R      mAP50  mAP50-95): 100%|██████████| 1/1 [00:01<00:00,  1.46s/it]"
     ]
    },
    {
     "name": "stdout",
     "output_type": "stream",
     "text": [
      "                   all         21         20      0.953       0.15      0.157        0.1\n"
     ]
    },
    {
     "name": "stderr",
     "output_type": "stream",
     "text": [
      "\n"
     ]
    },
    {
     "name": "stdout",
     "output_type": "stream",
     "text": [
      "\n",
      "      Epoch    GPU_mem   box_loss   cls_loss   dfl_loss  Instances       Size\n"
     ]
    },
    {
     "name": "stderr",
     "output_type": "stream",
     "text": [
      "     22/100         0G     0.9237     0.6005     0.9115         33        640: 100%|██████████| 5/5 [00:25<00:00,  5.01s/it]\n",
      "                 Class     Images  Instances      Box(P          R      mAP50  mAP50-95): 100%|██████████| 1/1 [00:01<00:00,  1.41s/it]"
     ]
    },
    {
     "name": "stdout",
     "output_type": "stream",
     "text": [
      "                   all         21         20          0          0          0          0\n"
     ]
    },
    {
     "name": "stderr",
     "output_type": "stream",
     "text": [
      "\n"
     ]
    },
    {
     "name": "stdout",
     "output_type": "stream",
     "text": [
      "\n",
      "      Epoch    GPU_mem   box_loss   cls_loss   dfl_loss  Instances       Size\n"
     ]
    },
    {
     "name": "stderr",
     "output_type": "stream",
     "text": [
      "     23/100         0G     0.9473     0.5972     0.8927         27        640: 100%|██████████| 5/5 [00:24<00:00,  4.98s/it]\n",
      "                 Class     Images  Instances      Box(P          R      mAP50  mAP50-95): 100%|██████████| 1/1 [00:01<00:00,  1.38s/it]"
     ]
    },
    {
     "name": "stdout",
     "output_type": "stream",
     "text": [
      "                   all         21         20          0          0          0          0\n"
     ]
    },
    {
     "name": "stderr",
     "output_type": "stream",
     "text": [
      "\n"
     ]
    },
    {
     "name": "stdout",
     "output_type": "stream",
     "text": [
      "\n",
      "      Epoch    GPU_mem   box_loss   cls_loss   dfl_loss  Instances       Size\n"
     ]
    },
    {
     "name": "stderr",
     "output_type": "stream",
     "text": [
      "     24/100         0G     0.9222     0.5673     0.8855         27        640: 100%|██████████| 5/5 [00:24<00:00,  4.98s/it]\n",
      "                 Class     Images  Instances      Box(P          R      mAP50  mAP50-95): 100%|██████████| 1/1 [00:01<00:00,  1.42s/it]"
     ]
    },
    {
     "name": "stdout",
     "output_type": "stream",
     "text": [
      "                   all         21         20       0.22       0.15     0.0523     0.0411\n"
     ]
    },
    {
     "name": "stderr",
     "output_type": "stream",
     "text": [
      "\n"
     ]
    },
    {
     "name": "stdout",
     "output_type": "stream",
     "text": [
      "\n",
      "      Epoch    GPU_mem   box_loss   cls_loss   dfl_loss  Instances       Size\n"
     ]
    },
    {
     "name": "stderr",
     "output_type": "stream",
     "text": [
      "     25/100         0G     0.9559     0.5633      0.888         25        640: 100%|██████████| 5/5 [00:25<00:00,  5.00s/it]\n",
      "                 Class     Images  Instances      Box(P          R      mAP50  mAP50-95): 100%|██████████| 1/1 [00:01<00:00,  1.41s/it]"
     ]
    },
    {
     "name": "stdout",
     "output_type": "stream",
     "text": [
      "                   all         21         20      0.932      0.688      0.749      0.519\n"
     ]
    },
    {
     "name": "stderr",
     "output_type": "stream",
     "text": [
      "\n"
     ]
    },
    {
     "name": "stdout",
     "output_type": "stream",
     "text": [
      "\n",
      "      Epoch    GPU_mem   box_loss   cls_loss   dfl_loss  Instances       Size\n"
     ]
    },
    {
     "name": "stderr",
     "output_type": "stream",
     "text": [
      "     26/100         0G     0.9008     0.5412     0.8524         27        640: 100%|██████████| 5/5 [00:24<00:00,  4.98s/it]\n",
      "                 Class     Images  Instances      Box(P          R      mAP50  mAP50-95): 100%|██████████| 1/1 [00:01<00:00,  1.37s/it]"
     ]
    },
    {
     "name": "stdout",
     "output_type": "stream",
     "text": [
      "                   all         21         20      0.933        0.8       0.87      0.619\n"
     ]
    },
    {
     "name": "stderr",
     "output_type": "stream",
     "text": [
      "\n"
     ]
    },
    {
     "name": "stdout",
     "output_type": "stream",
     "text": [
      "\n",
      "      Epoch    GPU_mem   box_loss   cls_loss   dfl_loss  Instances       Size\n"
     ]
    },
    {
     "name": "stderr",
     "output_type": "stream",
     "text": [
      "     27/100         0G     0.9667     0.5594     0.8918         25        640: 100%|██████████| 5/5 [00:24<00:00,  4.94s/it]\n",
      "                 Class     Images  Instances      Box(P          R      mAP50  mAP50-95): 100%|██████████| 1/1 [00:01<00:00,  1.40s/it]"
     ]
    },
    {
     "name": "stdout",
     "output_type": "stream",
     "text": [
      "                   all         21         20      0.943       0.95      0.948       0.63\n"
     ]
    },
    {
     "name": "stderr",
     "output_type": "stream",
     "text": [
      "\n"
     ]
    },
    {
     "name": "stdout",
     "output_type": "stream",
     "text": [
      "\n",
      "      Epoch    GPU_mem   box_loss   cls_loss   dfl_loss  Instances       Size\n"
     ]
    },
    {
     "name": "stderr",
     "output_type": "stream",
     "text": [
      "     28/100         0G     0.9121     0.5472     0.8703         23        640: 100%|██████████| 5/5 [00:24<00:00,  4.95s/it]\n",
      "                 Class     Images  Instances      Box(P          R      mAP50  mAP50-95): 100%|██████████| 1/1 [00:01<00:00,  1.38s/it]"
     ]
    },
    {
     "name": "stdout",
     "output_type": "stream",
     "text": [
      "                   all         21         20      0.943       0.95      0.944      0.695\n"
     ]
    },
    {
     "name": "stderr",
     "output_type": "stream",
     "text": [
      "\n"
     ]
    },
    {
     "name": "stdout",
     "output_type": "stream",
     "text": [
      "\n",
      "      Epoch    GPU_mem   box_loss   cls_loss   dfl_loss  Instances       Size\n"
     ]
    },
    {
     "name": "stderr",
     "output_type": "stream",
     "text": [
      "     29/100         0G     0.9135     0.5688     0.8845         29        640: 100%|██████████| 5/5 [00:24<00:00,  4.99s/it]\n",
      "                 Class     Images  Instances      Box(P          R      mAP50  mAP50-95): 100%|██████████| 1/1 [00:01<00:00,  1.37s/it]"
     ]
    },
    {
     "name": "stdout",
     "output_type": "stream",
     "text": [
      "                   all         21         20      0.944       0.95      0.948      0.678\n"
     ]
    },
    {
     "name": "stderr",
     "output_type": "stream",
     "text": [
      "\n"
     ]
    },
    {
     "name": "stdout",
     "output_type": "stream",
     "text": [
      "\n",
      "      Epoch    GPU_mem   box_loss   cls_loss   dfl_loss  Instances       Size\n"
     ]
    },
    {
     "name": "stderr",
     "output_type": "stream",
     "text": [
      "     30/100         0G     0.9329     0.5488     0.8682         32        640: 100%|██████████| 5/5 [00:24<00:00,  5.00s/it]\n",
      "                 Class     Images  Instances      Box(P          R      mAP50  mAP50-95): 100%|██████████| 1/1 [00:01<00:00,  1.39s/it]"
     ]
    },
    {
     "name": "stdout",
     "output_type": "stream",
     "text": [
      "                   all         21         20      0.944       0.95      0.948      0.677\n"
     ]
    },
    {
     "name": "stderr",
     "output_type": "stream",
     "text": [
      "\n"
     ]
    },
    {
     "name": "stdout",
     "output_type": "stream",
     "text": [
      "\n",
      "      Epoch    GPU_mem   box_loss   cls_loss   dfl_loss  Instances       Size\n"
     ]
    },
    {
     "name": "stderr",
     "output_type": "stream",
     "text": [
      "     31/100         0G     0.8812     0.4982      0.865         25        640: 100%|██████████| 5/5 [00:24<00:00,  4.93s/it]\n",
      "                 Class     Images  Instances      Box(P          R      mAP50  mAP50-95): 100%|██████████| 1/1 [00:01<00:00,  1.44s/it]"
     ]
    },
    {
     "name": "stdout",
     "output_type": "stream",
     "text": [
      "                   all         21         20      0.909      0.999      0.953      0.685\n"
     ]
    },
    {
     "name": "stderr",
     "output_type": "stream",
     "text": [
      "\n"
     ]
    },
    {
     "name": "stdout",
     "output_type": "stream",
     "text": [
      "\n",
      "      Epoch    GPU_mem   box_loss   cls_loss   dfl_loss  Instances       Size\n"
     ]
    },
    {
     "name": "stderr",
     "output_type": "stream",
     "text": [
      "     32/100         0G      0.836     0.4916     0.8434         30        640: 100%|██████████| 5/5 [00:25<00:00,  5.08s/it]\n",
      "                 Class     Images  Instances      Box(P          R      mAP50  mAP50-95): 100%|██████████| 1/1 [00:01<00:00,  1.41s/it]"
     ]
    },
    {
     "name": "stdout",
     "output_type": "stream",
     "text": [
      "                   all         21         20      0.944       0.95      0.951      0.702\n"
     ]
    },
    {
     "name": "stderr",
     "output_type": "stream",
     "text": [
      "\n"
     ]
    },
    {
     "name": "stdout",
     "output_type": "stream",
     "text": [
      "\n",
      "      Epoch    GPU_mem   box_loss   cls_loss   dfl_loss  Instances       Size\n"
     ]
    },
    {
     "name": "stderr",
     "output_type": "stream",
     "text": [
      "     33/100         0G     0.8503     0.4874     0.8377         31        640: 100%|██████████| 5/5 [00:25<00:00,  5.12s/it]\n",
      "                 Class     Images  Instances      Box(P          R      mAP50  mAP50-95): 100%|██████████| 1/1 [00:01<00:00,  1.59s/it]"
     ]
    },
    {
     "name": "stdout",
     "output_type": "stream",
     "text": [
      "                   all         21         20      0.942       0.95      0.961      0.721\n"
     ]
    },
    {
     "name": "stderr",
     "output_type": "stream",
     "text": [
      "\n"
     ]
    },
    {
     "name": "stdout",
     "output_type": "stream",
     "text": [
      "\n",
      "      Epoch    GPU_mem   box_loss   cls_loss   dfl_loss  Instances       Size\n"
     ]
    },
    {
     "name": "stderr",
     "output_type": "stream",
     "text": [
      "     34/100         0G     0.8155     0.4742     0.8498         28        640: 100%|██████████| 5/5 [00:26<00:00,  5.22s/it]\n",
      "                 Class     Images  Instances      Box(P          R      mAP50  mAP50-95): 100%|██████████| 1/1 [00:01<00:00,  1.56s/it]"
     ]
    },
    {
     "name": "stdout",
     "output_type": "stream",
     "text": [
      "                   all         21         20      0.952      0.991      0.966      0.728\n"
     ]
    },
    {
     "name": "stderr",
     "output_type": "stream",
     "text": [
      "\n"
     ]
    },
    {
     "name": "stdout",
     "output_type": "stream",
     "text": [
      "\n",
      "      Epoch    GPU_mem   box_loss   cls_loss   dfl_loss  Instances       Size\n"
     ]
    },
    {
     "name": "stderr",
     "output_type": "stream",
     "text": [
      "     35/100         0G     0.8289     0.5022     0.8801         29        640: 100%|██████████| 5/5 [00:24<00:00,  5.00s/it]\n",
      "                 Class     Images  Instances      Box(P          R      mAP50  mAP50-95): 100%|██████████| 1/1 [00:01<00:00,  1.42s/it]"
     ]
    },
    {
     "name": "stdout",
     "output_type": "stream",
     "text": [
      "                   all         21         20      0.942          1      0.966      0.721\n"
     ]
    },
    {
     "name": "stderr",
     "output_type": "stream",
     "text": [
      "\n"
     ]
    },
    {
     "name": "stdout",
     "output_type": "stream",
     "text": [
      "\n",
      "      Epoch    GPU_mem   box_loss   cls_loss   dfl_loss  Instances       Size\n"
     ]
    },
    {
     "name": "stderr",
     "output_type": "stream",
     "text": [
      "     36/100         0G     0.8477     0.5191     0.8502         30        640: 100%|██████████| 5/5 [00:25<00:00,  5.01s/it]\n",
      "                 Class     Images  Instances      Box(P          R      mAP50  mAP50-95): 100%|██████████| 1/1 [00:01<00:00,  1.42s/it]"
     ]
    },
    {
     "name": "stdout",
     "output_type": "stream",
     "text": [
      "                   all         21         20      0.365       0.95      0.369       0.26\n"
     ]
    },
    {
     "name": "stderr",
     "output_type": "stream",
     "text": [
      "\n"
     ]
    },
    {
     "name": "stdout",
     "output_type": "stream",
     "text": [
      "\n",
      "      Epoch    GPU_mem   box_loss   cls_loss   dfl_loss  Instances       Size\n"
     ]
    },
    {
     "name": "stderr",
     "output_type": "stream",
     "text": [
      "     37/100         0G     0.8488     0.5735     0.8663         29        640: 100%|██████████| 5/5 [00:24<00:00,  4.99s/it]\n",
      "                 Class     Images  Instances      Box(P          R      mAP50  mAP50-95): 100%|██████████| 1/1 [00:01<00:00,  1.38s/it]"
     ]
    },
    {
     "name": "stdout",
     "output_type": "stream",
     "text": [
      "                   all         21         20      0.224       0.95      0.215      0.152\n"
     ]
    },
    {
     "name": "stderr",
     "output_type": "stream",
     "text": [
      "\n"
     ]
    },
    {
     "name": "stdout",
     "output_type": "stream",
     "text": [
      "\n",
      "      Epoch    GPU_mem   box_loss   cls_loss   dfl_loss  Instances       Size\n"
     ]
    },
    {
     "name": "stderr",
     "output_type": "stream",
     "text": [
      "     38/100         0G     0.7906     0.4789     0.8463         33        640: 100%|██████████| 5/5 [00:24<00:00,  4.98s/it]\n",
      "                 Class     Images  Instances      Box(P          R      mAP50  mAP50-95): 100%|██████████| 1/1 [00:01<00:00,  1.45s/it]"
     ]
    },
    {
     "name": "stdout",
     "output_type": "stream",
     "text": [
      "                   all         21         20      0.427       0.95      0.468      0.343\n"
     ]
    },
    {
     "name": "stderr",
     "output_type": "stream",
     "text": [
      "\n"
     ]
    },
    {
     "name": "stdout",
     "output_type": "stream",
     "text": [
      "\n",
      "      Epoch    GPU_mem   box_loss   cls_loss   dfl_loss  Instances       Size\n"
     ]
    },
    {
     "name": "stderr",
     "output_type": "stream",
     "text": [
      "     39/100         0G     0.7913     0.4476     0.8518         32        640: 100%|██████████| 5/5 [00:24<00:00,  4.99s/it]\n",
      "                 Class     Images  Instances      Box(P          R      mAP50  mAP50-95): 100%|██████████| 1/1 [00:01<00:00,  1.40s/it]"
     ]
    },
    {
     "name": "stdout",
     "output_type": "stream",
     "text": [
      "                   all         21         20      0.513          1      0.524      0.393\n"
     ]
    },
    {
     "name": "stderr",
     "output_type": "stream",
     "text": [
      "\n"
     ]
    },
    {
     "name": "stdout",
     "output_type": "stream",
     "text": [
      "\n",
      "      Epoch    GPU_mem   box_loss   cls_loss   dfl_loss  Instances       Size\n"
     ]
    },
    {
     "name": "stderr",
     "output_type": "stream",
     "text": [
      "     40/100         0G     0.7693      0.466     0.8498         24        640: 100%|██████████| 5/5 [00:25<00:00,  5.04s/it]\n",
      "                 Class     Images  Instances      Box(P          R      mAP50  mAP50-95): 100%|██████████| 1/1 [00:01<00:00,  1.41s/it]"
     ]
    },
    {
     "name": "stdout",
     "output_type": "stream",
     "text": [
      "                   all         21         20      0.942       0.95       0.96      0.689\n"
     ]
    },
    {
     "name": "stderr",
     "output_type": "stream",
     "text": [
      "\n"
     ]
    },
    {
     "name": "stdout",
     "output_type": "stream",
     "text": [
      "\n",
      "      Epoch    GPU_mem   box_loss   cls_loss   dfl_loss  Instances       Size\n"
     ]
    },
    {
     "name": "stderr",
     "output_type": "stream",
     "text": [
      "     41/100         0G     0.7232     0.4713      0.842         27        640: 100%|██████████| 5/5 [00:24<00:00,  4.96s/it]\n",
      "                 Class     Images  Instances      Box(P          R      mAP50  mAP50-95): 100%|██████████| 1/1 [00:01<00:00,  1.42s/it]"
     ]
    },
    {
     "name": "stdout",
     "output_type": "stream",
     "text": [
      "                   all         21         20      0.952      0.997      0.985       0.71\n"
     ]
    },
    {
     "name": "stderr",
     "output_type": "stream",
     "text": [
      "\n"
     ]
    },
    {
     "name": "stdout",
     "output_type": "stream",
     "text": [
      "\n",
      "      Epoch    GPU_mem   box_loss   cls_loss   dfl_loss  Instances       Size\n"
     ]
    },
    {
     "name": "stderr",
     "output_type": "stream",
     "text": [
      "     42/100         0G     0.7334     0.4406     0.8601         33        640: 100%|██████████| 5/5 [00:24<00:00,  5.00s/it]\n",
      "                 Class     Images  Instances      Box(P          R      mAP50  mAP50-95): 100%|██████████| 1/1 [00:01<00:00,  1.40s/it]"
     ]
    },
    {
     "name": "stdout",
     "output_type": "stream",
     "text": [
      "                   all         21         20      0.952          1      0.983      0.739\n"
     ]
    },
    {
     "name": "stderr",
     "output_type": "stream",
     "text": [
      "\n"
     ]
    },
    {
     "name": "stdout",
     "output_type": "stream",
     "text": [
      "\n",
      "      Epoch    GPU_mem   box_loss   cls_loss   dfl_loss  Instances       Size\n"
     ]
    },
    {
     "name": "stderr",
     "output_type": "stream",
     "text": [
      "     43/100         0G     0.7288     0.4439      0.843         26        640: 100%|██████████| 5/5 [00:25<00:00,  5.01s/it]\n",
      "                 Class     Images  Instances      Box(P          R      mAP50  mAP50-95): 100%|██████████| 1/1 [00:01<00:00,  1.38s/it]"
     ]
    },
    {
     "name": "stdout",
     "output_type": "stream",
     "text": [
      "                   all         21         20      0.952      0.997      0.983       0.79\n"
     ]
    },
    {
     "name": "stderr",
     "output_type": "stream",
     "text": [
      "\n"
     ]
    },
    {
     "name": "stdout",
     "output_type": "stream",
     "text": [
      "\n",
      "      Epoch    GPU_mem   box_loss   cls_loss   dfl_loss  Instances       Size\n"
     ]
    },
    {
     "name": "stderr",
     "output_type": "stream",
     "text": [
      "     44/100         0G     0.7658     0.4351       0.84         25        640: 100%|██████████| 5/5 [00:25<00:00,  5.00s/it]\n",
      "                 Class     Images  Instances      Box(P          R      mAP50  mAP50-95): 100%|██████████| 1/1 [00:01<00:00,  1.39s/it]"
     ]
    },
    {
     "name": "stdout",
     "output_type": "stream",
     "text": [
      "                   all         21         20      0.952      0.997      0.971      0.738\n"
     ]
    },
    {
     "name": "stderr",
     "output_type": "stream",
     "text": [
      "\n"
     ]
    },
    {
     "name": "stdout",
     "output_type": "stream",
     "text": [
      "\n",
      "      Epoch    GPU_mem   box_loss   cls_loss   dfl_loss  Instances       Size\n"
     ]
    },
    {
     "name": "stderr",
     "output_type": "stream",
     "text": [
      "     45/100         0G     0.6711     0.4112     0.8355         23        640: 100%|██████████| 5/5 [00:24<00:00,  4.97s/it]\n",
      "                 Class     Images  Instances      Box(P          R      mAP50  mAP50-95): 100%|██████████| 1/1 [00:01<00:00,  1.41s/it]"
     ]
    },
    {
     "name": "stdout",
     "output_type": "stream",
     "text": [
      "                   all         21         20      0.909      0.999      0.955      0.715\n"
     ]
    },
    {
     "name": "stderr",
     "output_type": "stream",
     "text": [
      "\n"
     ]
    },
    {
     "name": "stdout",
     "output_type": "stream",
     "text": [
      "\n",
      "      Epoch    GPU_mem   box_loss   cls_loss   dfl_loss  Instances       Size\n"
     ]
    },
    {
     "name": "stderr",
     "output_type": "stream",
     "text": [
      "     46/100         0G     0.7224     0.4316     0.8549         18        640: 100%|██████████| 5/5 [00:24<00:00,  4.96s/it]\n",
      "                 Class     Images  Instances      Box(P          R      mAP50  mAP50-95): 100%|██████████| 1/1 [00:01<00:00,  1.36s/it]"
     ]
    },
    {
     "name": "stdout",
     "output_type": "stream",
     "text": [
      "                   all         21         20      0.909      0.996      0.963       0.73\n"
     ]
    },
    {
     "name": "stderr",
     "output_type": "stream",
     "text": [
      "\n"
     ]
    },
    {
     "name": "stdout",
     "output_type": "stream",
     "text": [
      "\n",
      "      Epoch    GPU_mem   box_loss   cls_loss   dfl_loss  Instances       Size\n"
     ]
    },
    {
     "name": "stderr",
     "output_type": "stream",
     "text": [
      "     47/100         0G     0.7458     0.4459     0.8399         34        640: 100%|██████████| 5/5 [00:24<00:00,  4.99s/it]\n",
      "                 Class     Images  Instances      Box(P          R      mAP50  mAP50-95): 100%|██████████| 1/1 [00:01<00:00,  1.40s/it]"
     ]
    },
    {
     "name": "stdout",
     "output_type": "stream",
     "text": [
      "                   all         21         20      0.909      0.995       0.98      0.749\n"
     ]
    },
    {
     "name": "stderr",
     "output_type": "stream",
     "text": [
      "\n"
     ]
    },
    {
     "name": "stdout",
     "output_type": "stream",
     "text": [
      "\n",
      "      Epoch    GPU_mem   box_loss   cls_loss   dfl_loss  Instances       Size\n"
     ]
    },
    {
     "name": "stderr",
     "output_type": "stream",
     "text": [
      "     48/100         0G     0.7451     0.4347     0.8597         20        640: 100%|██████████| 5/5 [00:25<00:00,  5.04s/it]\n",
      "                 Class     Images  Instances      Box(P          R      mAP50  mAP50-95): 100%|██████████| 1/1 [00:01<00:00,  1.40s/it]"
     ]
    },
    {
     "name": "stdout",
     "output_type": "stream",
     "text": [
      "                   all         21         20      0.908      0.989      0.983      0.727\n"
     ]
    },
    {
     "name": "stderr",
     "output_type": "stream",
     "text": [
      "\n"
     ]
    },
    {
     "name": "stdout",
     "output_type": "stream",
     "text": [
      "\n",
      "      Epoch    GPU_mem   box_loss   cls_loss   dfl_loss  Instances       Size\n"
     ]
    },
    {
     "name": "stderr",
     "output_type": "stream",
     "text": [
      "     49/100         0G     0.6246     0.3895     0.8587         25        640: 100%|██████████| 5/5 [00:25<00:00,  5.14s/it]\n",
      "                 Class     Images  Instances      Box(P          R      mAP50  mAP50-95): 100%|██████████| 1/1 [00:01<00:00,  1.42s/it]"
     ]
    },
    {
     "name": "stdout",
     "output_type": "stream",
     "text": [
      "                   all         21         20      0.908      0.993      0.983      0.721\n"
     ]
    },
    {
     "name": "stderr",
     "output_type": "stream",
     "text": [
      "\n"
     ]
    },
    {
     "name": "stdout",
     "output_type": "stream",
     "text": [
      "\n",
      "      Epoch    GPU_mem   box_loss   cls_loss   dfl_loss  Instances       Size\n"
     ]
    },
    {
     "name": "stderr",
     "output_type": "stream",
     "text": [
      "     50/100         0G     0.6595     0.4074     0.8178         37        640: 100%|██████████| 5/5 [00:26<00:00,  5.21s/it]\n",
      "                 Class     Images  Instances      Box(P          R      mAP50  mAP50-95): 100%|██████████| 1/1 [00:01<00:00,  1.45s/it]"
     ]
    },
    {
     "name": "stdout",
     "output_type": "stream",
     "text": [
      "                   all         21         20      0.906          1      0.985      0.742\n"
     ]
    },
    {
     "name": "stderr",
     "output_type": "stream",
     "text": [
      "\n"
     ]
    },
    {
     "name": "stdout",
     "output_type": "stream",
     "text": [
      "\n",
      "      Epoch    GPU_mem   box_loss   cls_loss   dfl_loss  Instances       Size\n"
     ]
    },
    {
     "name": "stderr",
     "output_type": "stream",
     "text": [
      "     51/100         0G     0.6491     0.3903     0.8238         31        640: 100%|██████████| 5/5 [00:26<00:00,  5.25s/it]\n",
      "                 Class     Images  Instances      Box(P          R      mAP50  mAP50-95): 100%|██████████| 1/1 [00:01<00:00,  1.47s/it]"
     ]
    },
    {
     "name": "stdout",
     "output_type": "stream",
     "text": [
      "                   all         21         20      0.946       0.95      0.985      0.771\n"
     ]
    },
    {
     "name": "stderr",
     "output_type": "stream",
     "text": [
      "\n"
     ]
    },
    {
     "name": "stdout",
     "output_type": "stream",
     "text": [
      "\n",
      "      Epoch    GPU_mem   box_loss   cls_loss   dfl_loss  Instances       Size\n"
     ]
    },
    {
     "name": "stderr",
     "output_type": "stream",
     "text": [
      "     52/100         0G     0.6894     0.3913     0.8408         27        640: 100%|██████████| 5/5 [00:26<00:00,  5.24s/it]\n",
      "                 Class     Images  Instances      Box(P          R      mAP50  mAP50-95): 100%|██████████| 1/1 [00:01<00:00,  1.45s/it]"
     ]
    },
    {
     "name": "stdout",
     "output_type": "stream",
     "text": [
      "                   all         21         20      0.952      0.996      0.959      0.741\n"
     ]
    },
    {
     "name": "stderr",
     "output_type": "stream",
     "text": [
      "\n"
     ]
    },
    {
     "name": "stdout",
     "output_type": "stream",
     "text": [
      "\n",
      "      Epoch    GPU_mem   box_loss   cls_loss   dfl_loss  Instances       Size\n"
     ]
    },
    {
     "name": "stderr",
     "output_type": "stream",
     "text": [
      "     53/100         0G     0.7196      0.402     0.8601         29        640: 100%|██████████| 5/5 [00:26<00:00,  5.22s/it]\n",
      "                 Class     Images  Instances      Box(P          R      mAP50  mAP50-95): 100%|██████████| 1/1 [00:01<00:00,  1.45s/it]"
     ]
    },
    {
     "name": "stdout",
     "output_type": "stream",
     "text": [
      "                   all         21         20      0.946       0.95      0.945      0.746\n"
     ]
    },
    {
     "name": "stderr",
     "output_type": "stream",
     "text": [
      "\n"
     ]
    },
    {
     "name": "stdout",
     "output_type": "stream",
     "text": [
      "\n",
      "      Epoch    GPU_mem   box_loss   cls_loss   dfl_loss  Instances       Size\n"
     ]
    },
    {
     "name": "stderr",
     "output_type": "stream",
     "text": [
      "     54/100         0G     0.6616     0.3871     0.8032         26        640: 100%|██████████| 5/5 [00:26<00:00,  5.23s/it]\n",
      "                 Class     Images  Instances      Box(P          R      mAP50  mAP50-95): 100%|██████████| 1/1 [00:01<00:00,  1.47s/it]"
     ]
    },
    {
     "name": "stdout",
     "output_type": "stream",
     "text": [
      "                   all         21         20      0.946       0.95      0.945      0.741\n"
     ]
    },
    {
     "name": "stderr",
     "output_type": "stream",
     "text": [
      "\n"
     ]
    },
    {
     "name": "stdout",
     "output_type": "stream",
     "text": [
      "\n",
      "      Epoch    GPU_mem   box_loss   cls_loss   dfl_loss  Instances       Size\n"
     ]
    },
    {
     "name": "stderr",
     "output_type": "stream",
     "text": [
      "     55/100         0G     0.6564     0.4035     0.8366         25        640: 100%|██████████| 5/5 [00:25<00:00,  5.20s/it]\n",
      "                 Class     Images  Instances      Box(P          R      mAP50  mAP50-95): 100%|██████████| 1/1 [00:01<00:00,  1.46s/it]"
     ]
    },
    {
     "name": "stdout",
     "output_type": "stream",
     "text": [
      "                   all         21         20      0.909      0.996      0.948      0.738\n"
     ]
    },
    {
     "name": "stderr",
     "output_type": "stream",
     "text": [
      "\n"
     ]
    },
    {
     "name": "stdout",
     "output_type": "stream",
     "text": [
      "\n",
      "      Epoch    GPU_mem   box_loss   cls_loss   dfl_loss  Instances       Size\n"
     ]
    },
    {
     "name": "stderr",
     "output_type": "stream",
     "text": [
      "     56/100         0G     0.6517     0.3858     0.8136         35        640: 100%|██████████| 5/5 [00:26<00:00,  5.23s/it]\n",
      "                 Class     Images  Instances      Box(P          R      mAP50  mAP50-95): 100%|██████████| 1/1 [00:01<00:00,  1.42s/it]"
     ]
    },
    {
     "name": "stdout",
     "output_type": "stream",
     "text": [
      "                   all         21         20      0.909      0.998      0.948      0.698\n"
     ]
    },
    {
     "name": "stderr",
     "output_type": "stream",
     "text": [
      "\n"
     ]
    },
    {
     "name": "stdout",
     "output_type": "stream",
     "text": [
      "\n",
      "      Epoch    GPU_mem   box_loss   cls_loss   dfl_loss  Instances       Size\n"
     ]
    },
    {
     "name": "stderr",
     "output_type": "stream",
     "text": [
      "     57/100         0G     0.6528     0.3915     0.8275         26        640: 100%|██████████| 5/5 [00:26<00:00,  5.22s/it]\n",
      "                 Class     Images  Instances      Box(P          R      mAP50  mAP50-95): 100%|██████████| 1/1 [00:01<00:00,  1.42s/it]"
     ]
    },
    {
     "name": "stdout",
     "output_type": "stream",
     "text": [
      "                   all         21         20      0.909      0.995      0.948      0.705\n"
     ]
    },
    {
     "name": "stderr",
     "output_type": "stream",
     "text": [
      "\n"
     ]
    },
    {
     "name": "stdout",
     "output_type": "stream",
     "text": [
      "\n",
      "      Epoch    GPU_mem   box_loss   cls_loss   dfl_loss  Instances       Size\n"
     ]
    },
    {
     "name": "stderr",
     "output_type": "stream",
     "text": [
      "     58/100         0G     0.5948     0.3563     0.8349         30        640: 100%|██████████| 5/5 [00:25<00:00,  5.19s/it]\n",
      "                 Class     Images  Instances      Box(P          R      mAP50  mAP50-95): 100%|██████████| 1/1 [00:01<00:00,  1.42s/it]"
     ]
    },
    {
     "name": "stdout",
     "output_type": "stream",
     "text": [
      "                   all         21         20      0.946       0.95      0.943      0.727\n"
     ]
    },
    {
     "name": "stderr",
     "output_type": "stream",
     "text": [
      "\n"
     ]
    },
    {
     "name": "stdout",
     "output_type": "stream",
     "text": [
      "\n",
      "      Epoch    GPU_mem   box_loss   cls_loss   dfl_loss  Instances       Size\n"
     ]
    },
    {
     "name": "stderr",
     "output_type": "stream",
     "text": [
      "     59/100         0G     0.6557     0.3981     0.8137         28        640: 100%|██████████| 5/5 [00:26<00:00,  5.22s/it]\n",
      "                 Class     Images  Instances      Box(P          R      mAP50  mAP50-95): 100%|██████████| 1/1 [00:01<00:00,  1.45s/it]"
     ]
    },
    {
     "name": "stdout",
     "output_type": "stream",
     "text": [
      "                   all         21         20      0.947       0.95      0.946      0.752\n"
     ]
    },
    {
     "name": "stderr",
     "output_type": "stream",
     "text": [
      "\n"
     ]
    },
    {
     "name": "stdout",
     "output_type": "stream",
     "text": [
      "\n",
      "      Epoch    GPU_mem   box_loss   cls_loss   dfl_loss  Instances       Size\n"
     ]
    },
    {
     "name": "stderr",
     "output_type": "stream",
     "text": [
      "     60/100         0G     0.6356     0.3667     0.8044         31        640: 100%|██████████| 5/5 [00:26<00:00,  5.25s/it]\n",
      "                 Class     Images  Instances      Box(P          R      mAP50  mAP50-95): 100%|██████████| 1/1 [00:01<00:00,  1.37s/it]"
     ]
    },
    {
     "name": "stdout",
     "output_type": "stream",
     "text": [
      "                   all         21         20      0.947       0.95      0.955      0.721\n"
     ]
    },
    {
     "name": "stderr",
     "output_type": "stream",
     "text": [
      "\n"
     ]
    },
    {
     "name": "stdout",
     "output_type": "stream",
     "text": [
      "\n",
      "      Epoch    GPU_mem   box_loss   cls_loss   dfl_loss  Instances       Size\n"
     ]
    },
    {
     "name": "stderr",
     "output_type": "stream",
     "text": [
      "     61/100         0G     0.6637     0.3684     0.8383         23        640: 100%|██████████| 5/5 [00:26<00:00,  5.20s/it]\n",
      "                 Class     Images  Instances      Box(P          R      mAP50  mAP50-95): 100%|██████████| 1/1 [00:01<00:00,  1.43s/it]"
     ]
    },
    {
     "name": "stdout",
     "output_type": "stream",
     "text": [
      "                   all         21         20      0.948       0.95      0.965      0.744\n"
     ]
    },
    {
     "name": "stderr",
     "output_type": "stream",
     "text": [
      "\n"
     ]
    },
    {
     "name": "stdout",
     "output_type": "stream",
     "text": [
      "\n",
      "      Epoch    GPU_mem   box_loss   cls_loss   dfl_loss  Instances       Size\n"
     ]
    },
    {
     "name": "stderr",
     "output_type": "stream",
     "text": [
      "     62/100         0G     0.6283     0.3882     0.8101         30        640: 100%|██████████| 5/5 [00:26<00:00,  5.29s/it]\n",
      "                 Class     Images  Instances      Box(P          R      mAP50  mAP50-95): 100%|██████████| 1/1 [00:01<00:00,  1.47s/it]"
     ]
    },
    {
     "name": "stdout",
     "output_type": "stream",
     "text": [
      "                   all         21         20      0.909      0.995      0.965      0.748\n"
     ]
    },
    {
     "name": "stderr",
     "output_type": "stream",
     "text": [
      "\n"
     ]
    },
    {
     "name": "stdout",
     "output_type": "stream",
     "text": [
      "\n",
      "      Epoch    GPU_mem   box_loss   cls_loss   dfl_loss  Instances       Size\n"
     ]
    },
    {
     "name": "stderr",
     "output_type": "stream",
     "text": [
      "     63/100         0G      0.669     0.3996     0.8201         30        640: 100%|██████████| 5/5 [00:26<00:00,  5.22s/it]\n",
      "                 Class     Images  Instances      Box(P          R      mAP50  mAP50-95): 100%|██████████| 1/1 [00:01<00:00,  1.44s/it]"
     ]
    },
    {
     "name": "stdout",
     "output_type": "stream",
     "text": [
      "                   all         21         20      0.909      0.994      0.965      0.756\n"
     ]
    },
    {
     "name": "stderr",
     "output_type": "stream",
     "text": [
      "\n"
     ]
    },
    {
     "name": "stdout",
     "output_type": "stream",
     "text": [
      "\n",
      "      Epoch    GPU_mem   box_loss   cls_loss   dfl_loss  Instances       Size\n"
     ]
    },
    {
     "name": "stderr",
     "output_type": "stream",
     "text": [
      "     64/100         0G     0.6566     0.3788     0.8548         27        640: 100%|██████████| 5/5 [00:26<00:00,  5.22s/it]\n",
      "                 Class     Images  Instances      Box(P          R      mAP50  mAP50-95): 100%|██████████| 1/1 [00:01<00:00,  1.42s/it]"
     ]
    },
    {
     "name": "stdout",
     "output_type": "stream",
     "text": [
      "                   all         21         20      0.946       0.95      0.947      0.731\n"
     ]
    },
    {
     "name": "stderr",
     "output_type": "stream",
     "text": [
      "\n"
     ]
    },
    {
     "name": "stdout",
     "output_type": "stream",
     "text": [
      "\n",
      "      Epoch    GPU_mem   box_loss   cls_loss   dfl_loss  Instances       Size\n"
     ]
    },
    {
     "name": "stderr",
     "output_type": "stream",
     "text": [
      "     65/100         0G     0.5945     0.3521     0.8071         34        640: 100%|██████████| 5/5 [00:26<00:00,  5.20s/it]\n",
      "                 Class     Images  Instances      Box(P          R      mAP50  mAP50-95): 100%|██████████| 1/1 [00:01<00:00,  1.46s/it]"
     ]
    },
    {
     "name": "stdout",
     "output_type": "stream",
     "text": [
      "                   all         21         20      0.947       0.95      0.945      0.731\n"
     ]
    },
    {
     "name": "stderr",
     "output_type": "stream",
     "text": [
      "\n"
     ]
    },
    {
     "name": "stdout",
     "output_type": "stream",
     "text": [
      "\n",
      "      Epoch    GPU_mem   box_loss   cls_loss   dfl_loss  Instances       Size\n"
     ]
    },
    {
     "name": "stderr",
     "output_type": "stream",
     "text": [
      "     66/100         0G       0.61     0.3578     0.8298         29        640: 100%|██████████| 5/5 [00:26<00:00,  5.26s/it]\n",
      "                 Class     Images  Instances      Box(P          R      mAP50  mAP50-95): 100%|██████████| 1/1 [00:01<00:00,  1.45s/it]"
     ]
    },
    {
     "name": "stdout",
     "output_type": "stream",
     "text": [
      "                   all         21         20      0.947       0.95      0.942      0.738\n"
     ]
    },
    {
     "name": "stderr",
     "output_type": "stream",
     "text": [
      "\n"
     ]
    },
    {
     "name": "stdout",
     "output_type": "stream",
     "text": [
      "\n",
      "      Epoch    GPU_mem   box_loss   cls_loss   dfl_loss  Instances       Size\n"
     ]
    },
    {
     "name": "stderr",
     "output_type": "stream",
     "text": [
      "     67/100         0G     0.6185     0.3818     0.8192         31        640: 100%|██████████| 5/5 [00:26<00:00,  5.30s/it]\n",
      "                 Class     Images  Instances      Box(P          R      mAP50  mAP50-95): 100%|██████████| 1/1 [00:01<00:00,  1.38s/it]"
     ]
    },
    {
     "name": "stdout",
     "output_type": "stream",
     "text": [
      "                   all         21         20      0.947       0.95      0.946      0.737\n"
     ]
    },
    {
     "name": "stderr",
     "output_type": "stream",
     "text": [
      "\n"
     ]
    },
    {
     "name": "stdout",
     "output_type": "stream",
     "text": [
      "\n",
      "      Epoch    GPU_mem   box_loss   cls_loss   dfl_loss  Instances       Size\n"
     ]
    },
    {
     "name": "stderr",
     "output_type": "stream",
     "text": [
      "     68/100         0G      0.644      0.367     0.8454         33        640: 100%|██████████| 5/5 [00:25<00:00,  5.13s/it]\n",
      "                 Class     Images  Instances      Box(P          R      mAP50  mAP50-95): 100%|██████████| 1/1 [00:01<00:00,  1.75s/it]"
     ]
    },
    {
     "name": "stdout",
     "output_type": "stream",
     "text": [
      "                   all         21         20      0.947       0.95      0.963       0.74\n"
     ]
    },
    {
     "name": "stderr",
     "output_type": "stream",
     "text": [
      "\n"
     ]
    },
    {
     "name": "stdout",
     "output_type": "stream",
     "text": [
      "\n",
      "      Epoch    GPU_mem   box_loss   cls_loss   dfl_loss  Instances       Size\n"
     ]
    },
    {
     "name": "stderr",
     "output_type": "stream",
     "text": [
      "     69/100         0G     0.6342     0.3701     0.8413         35        640: 100%|██████████| 5/5 [00:32<00:00,  6.56s/it]\n",
      "                 Class     Images  Instances      Box(P          R      mAP50  mAP50-95): 100%|██████████| 1/1 [00:01<00:00,  1.77s/it]"
     ]
    },
    {
     "name": "stdout",
     "output_type": "stream",
     "text": [
      "                   all         21         20      0.947       0.95      0.978      0.746\n"
     ]
    },
    {
     "name": "stderr",
     "output_type": "stream",
     "text": [
      "\n"
     ]
    },
    {
     "name": "stdout",
     "output_type": "stream",
     "text": [
      "\n",
      "      Epoch    GPU_mem   box_loss   cls_loss   dfl_loss  Instances       Size\n"
     ]
    },
    {
     "name": "stderr",
     "output_type": "stream",
     "text": [
      "     70/100         0G     0.5809     0.3574     0.8464         30        640: 100%|██████████| 5/5 [00:29<00:00,  5.96s/it]\n",
      "                 Class     Images  Instances      Box(P          R      mAP50  mAP50-95): 100%|██████████| 1/1 [00:01<00:00,  1.44s/it]"
     ]
    },
    {
     "name": "stdout",
     "output_type": "stream",
     "text": [
      "                   all         21         20      0.947       0.95      0.979       0.75\n"
     ]
    },
    {
     "name": "stderr",
     "output_type": "stream",
     "text": [
      "\n"
     ]
    },
    {
     "name": "stdout",
     "output_type": "stream",
     "text": [
      "\n",
      "      Epoch    GPU_mem   box_loss   cls_loss   dfl_loss  Instances       Size\n"
     ]
    },
    {
     "name": "stderr",
     "output_type": "stream",
     "text": [
      "     71/100         0G     0.6303     0.3586     0.8192         32        640: 100%|██████████| 5/5 [00:25<00:00,  5.03s/it]\n",
      "                 Class     Images  Instances      Box(P          R      mAP50  mAP50-95): 100%|██████████| 1/1 [00:01<00:00,  1.36s/it]"
     ]
    },
    {
     "name": "stdout",
     "output_type": "stream",
     "text": [
      "                   all         21         20      0.947       0.95      0.976      0.755\n"
     ]
    },
    {
     "name": "stderr",
     "output_type": "stream",
     "text": [
      "\n"
     ]
    },
    {
     "name": "stdout",
     "output_type": "stream",
     "text": [
      "\n",
      "      Epoch    GPU_mem   box_loss   cls_loss   dfl_loss  Instances       Size\n"
     ]
    },
    {
     "name": "stderr",
     "output_type": "stream",
     "text": [
      "     72/100         0G     0.6107     0.3497     0.8351         31        640: 100%|██████████| 5/5 [00:25<00:00,  5.01s/it]\n",
      "                 Class     Images  Instances      Box(P          R      mAP50  mAP50-95): 100%|██████████| 1/1 [00:01<00:00,  1.31s/it]"
     ]
    },
    {
     "name": "stdout",
     "output_type": "stream",
     "text": [
      "                   all         21         20      0.947       0.95      0.955      0.727\n"
     ]
    },
    {
     "name": "stderr",
     "output_type": "stream",
     "text": [
      "\n"
     ]
    },
    {
     "name": "stdout",
     "output_type": "stream",
     "text": [
      "\n",
      "      Epoch    GPU_mem   box_loss   cls_loss   dfl_loss  Instances       Size\n"
     ]
    },
    {
     "name": "stderr",
     "output_type": "stream",
     "text": [
      "     73/100         0G     0.5743     0.3643     0.8307         28        640: 100%|██████████| 5/5 [00:24<00:00,  4.98s/it]\n",
      "                 Class     Images  Instances      Box(P          R      mAP50  mAP50-95): 100%|██████████| 1/1 [00:01<00:00,  1.35s/it]"
     ]
    },
    {
     "name": "stdout",
     "output_type": "stream",
     "text": [
      "                   all         21         20      0.952      0.997      0.959      0.738\n"
     ]
    },
    {
     "name": "stderr",
     "output_type": "stream",
     "text": [
      "\n"
     ]
    },
    {
     "name": "stdout",
     "output_type": "stream",
     "text": [
      "\n",
      "      Epoch    GPU_mem   box_loss   cls_loss   dfl_loss  Instances       Size\n"
     ]
    },
    {
     "name": "stderr",
     "output_type": "stream",
     "text": [
      "     74/100         0G     0.6208     0.3579     0.8427         34        640: 100%|██████████| 5/5 [00:24<00:00,  4.83s/it]\n",
      "                 Class     Images  Instances      Box(P          R      mAP50  mAP50-95): 100%|██████████| 1/1 [00:01<00:00,  1.36s/it]"
     ]
    },
    {
     "name": "stdout",
     "output_type": "stream",
     "text": [
      "                   all         21         20      0.952      0.997      0.957      0.743\n"
     ]
    },
    {
     "name": "stderr",
     "output_type": "stream",
     "text": [
      "\n"
     ]
    },
    {
     "name": "stdout",
     "output_type": "stream",
     "text": [
      "\n",
      "      Epoch    GPU_mem   box_loss   cls_loss   dfl_loss  Instances       Size\n"
     ]
    },
    {
     "name": "stderr",
     "output_type": "stream",
     "text": [
      "     75/100         0G     0.6019     0.3536     0.8256         28        640: 100%|██████████| 5/5 [00:24<00:00,  4.88s/it]\n",
      "                 Class     Images  Instances      Box(P          R      mAP50  mAP50-95): 100%|██████████| 1/1 [00:01<00:00,  1.45s/it]"
     ]
    },
    {
     "name": "stdout",
     "output_type": "stream",
     "text": [
      "                   all         21         20      0.952      0.998      0.957      0.748\n"
     ]
    },
    {
     "name": "stderr",
     "output_type": "stream",
     "text": [
      "\n"
     ]
    },
    {
     "name": "stdout",
     "output_type": "stream",
     "text": [
      "\n",
      "      Epoch    GPU_mem   box_loss   cls_loss   dfl_loss  Instances       Size\n"
     ]
    },
    {
     "name": "stderr",
     "output_type": "stream",
     "text": [
      "     76/100         0G     0.5526     0.3348     0.8307         30        640: 100%|██████████| 5/5 [00:24<00:00,  4.95s/it]\n",
      "                 Class     Images  Instances      Box(P          R      mAP50  mAP50-95): 100%|██████████| 1/1 [00:01<00:00,  1.37s/it]"
     ]
    },
    {
     "name": "stdout",
     "output_type": "stream",
     "text": [
      "                   all         21         20      0.952      0.998      0.952      0.772\n"
     ]
    },
    {
     "name": "stderr",
     "output_type": "stream",
     "text": [
      "\n"
     ]
    },
    {
     "name": "stdout",
     "output_type": "stream",
     "text": [
      "\n",
      "      Epoch    GPU_mem   box_loss   cls_loss   dfl_loss  Instances       Size\n"
     ]
    },
    {
     "name": "stderr",
     "output_type": "stream",
     "text": [
      "     77/100         0G      0.606     0.3445     0.8267         31        640: 100%|██████████| 5/5 [00:25<00:00,  5.15s/it]\n",
      "                 Class     Images  Instances      Box(P          R      mAP50  mAP50-95): 100%|██████████| 1/1 [00:01<00:00,  1.38s/it]"
     ]
    },
    {
     "name": "stdout",
     "output_type": "stream",
     "text": [
      "                   all         21         20      0.952      0.997      0.952      0.777\n"
     ]
    },
    {
     "name": "stderr",
     "output_type": "stream",
     "text": [
      "\n"
     ]
    },
    {
     "name": "stdout",
     "output_type": "stream",
     "text": [
      "\n",
      "      Epoch    GPU_mem   box_loss   cls_loss   dfl_loss  Instances       Size\n"
     ]
    },
    {
     "name": "stderr",
     "output_type": "stream",
     "text": [
      "     78/100         0G     0.5787       0.35     0.8114         37        640: 100%|██████████| 5/5 [00:25<00:00,  5.09s/it]\n",
      "                 Class     Images  Instances      Box(P          R      mAP50  mAP50-95): 100%|██████████| 1/1 [00:01<00:00,  1.48s/it]"
     ]
    },
    {
     "name": "stdout",
     "output_type": "stream",
     "text": [
      "                   all         21         20      0.952      0.997      0.952      0.763\n"
     ]
    },
    {
     "name": "stderr",
     "output_type": "stream",
     "text": [
      "\n"
     ]
    },
    {
     "name": "stdout",
     "output_type": "stream",
     "text": [
      "\n",
      "      Epoch    GPU_mem   box_loss   cls_loss   dfl_loss  Instances       Size\n"
     ]
    },
    {
     "name": "stderr",
     "output_type": "stream",
     "text": [
      "     79/100         0G     0.5937      0.344      0.817         34        640: 100%|██████████| 5/5 [00:25<00:00,  5.13s/it]\n",
      "                 Class     Images  Instances      Box(P          R      mAP50  mAP50-95): 100%|██████████| 1/1 [00:01<00:00,  1.42s/it]"
     ]
    },
    {
     "name": "stdout",
     "output_type": "stream",
     "text": [
      "                   all         21         20      0.952      0.997      0.955      0.768\n"
     ]
    },
    {
     "name": "stderr",
     "output_type": "stream",
     "text": [
      "\n"
     ]
    },
    {
     "name": "stdout",
     "output_type": "stream",
     "text": [
      "\n",
      "      Epoch    GPU_mem   box_loss   cls_loss   dfl_loss  Instances       Size\n"
     ]
    },
    {
     "name": "stderr",
     "output_type": "stream",
     "text": [
      "     80/100         0G     0.5734     0.3267     0.8186         24        640: 100%|██████████| 5/5 [00:25<00:00,  5.08s/it]\n",
      "                 Class     Images  Instances      Box(P          R      mAP50  mAP50-95): 100%|██████████| 1/1 [00:01<00:00,  1.43s/it]"
     ]
    },
    {
     "name": "stdout",
     "output_type": "stream",
     "text": [
      "                   all         21         20      0.952      0.997      0.955      0.762\n"
     ]
    },
    {
     "name": "stderr",
     "output_type": "stream",
     "text": [
      "\n"
     ]
    },
    {
     "name": "stdout",
     "output_type": "stream",
     "text": [
      "\n",
      "      Epoch    GPU_mem   box_loss   cls_loss   dfl_loss  Instances       Size\n"
     ]
    },
    {
     "name": "stderr",
     "output_type": "stream",
     "text": [
      "     81/100         0G     0.5432     0.3282     0.7787         30        640: 100%|██████████| 5/5 [00:25<00:00,  5.10s/it]\n",
      "                 Class     Images  Instances      Box(P          R      mAP50  mAP50-95): 100%|██████████| 1/1 [00:01<00:00,  1.39s/it]"
     ]
    },
    {
     "name": "stdout",
     "output_type": "stream",
     "text": [
      "                   all         21         20      0.952      0.997      0.955      0.756\n"
     ]
    },
    {
     "name": "stderr",
     "output_type": "stream",
     "text": [
      "\n"
     ]
    },
    {
     "name": "stdout",
     "output_type": "stream",
     "text": [
      "\n",
      "      Epoch    GPU_mem   box_loss   cls_loss   dfl_loss  Instances       Size\n"
     ]
    },
    {
     "name": "stderr",
     "output_type": "stream",
     "text": [
      "     82/100         0G     0.5493     0.3136     0.8179         23        640: 100%|██████████| 5/5 [00:25<00:00,  5.01s/it]\n",
      "                 Class     Images  Instances      Box(P          R      mAP50  mAP50-95): 100%|██████████| 1/1 [00:01<00:00,  1.41s/it]"
     ]
    },
    {
     "name": "stdout",
     "output_type": "stream",
     "text": [
      "                   all         21         20      0.952      0.997      0.952      0.754\n"
     ]
    },
    {
     "name": "stderr",
     "output_type": "stream",
     "text": [
      "\n"
     ]
    },
    {
     "name": "stdout",
     "output_type": "stream",
     "text": [
      "\n",
      "      Epoch    GPU_mem   box_loss   cls_loss   dfl_loss  Instances       Size\n"
     ]
    },
    {
     "name": "stderr",
     "output_type": "stream",
     "text": [
      "     83/100         0G     0.5428     0.3117     0.8145         25        640: 100%|██████████| 5/5 [00:25<00:00,  5.00s/it]\n",
      "                 Class     Images  Instances      Box(P          R      mAP50  mAP50-95): 100%|██████████| 1/1 [00:01<00:00,  1.37s/it]"
     ]
    },
    {
     "name": "stdout",
     "output_type": "stream",
     "text": [
      "                   all         21         20      0.952      0.997      0.952      0.747\n"
     ]
    },
    {
     "name": "stderr",
     "output_type": "stream",
     "text": [
      "\n"
     ]
    },
    {
     "name": "stdout",
     "output_type": "stream",
     "text": [
      "\n",
      "      Epoch    GPU_mem   box_loss   cls_loss   dfl_loss  Instances       Size\n"
     ]
    },
    {
     "name": "stderr",
     "output_type": "stream",
     "text": [
      "     84/100         0G     0.5344     0.3266     0.8142         29        640: 100%|██████████| 5/5 [00:24<00:00,  5.00s/it]\n",
      "                 Class     Images  Instances      Box(P          R      mAP50  mAP50-95): 100%|██████████| 1/1 [00:01<00:00,  1.37s/it]"
     ]
    },
    {
     "name": "stdout",
     "output_type": "stream",
     "text": [
      "                   all         21         20      0.952      0.997      0.957       0.77\n"
     ]
    },
    {
     "name": "stderr",
     "output_type": "stream",
     "text": [
      "\n"
     ]
    },
    {
     "name": "stdout",
     "output_type": "stream",
     "text": [
      "\n",
      "      Epoch    GPU_mem   box_loss   cls_loss   dfl_loss  Instances       Size\n"
     ]
    },
    {
     "name": "stderr",
     "output_type": "stream",
     "text": [
      "     85/100         0G     0.5346     0.3144     0.7975         29        640: 100%|██████████| 5/5 [00:24<00:00,  4.96s/it]\n",
      "                 Class     Images  Instances      Box(P          R      mAP50  mAP50-95): 100%|██████████| 1/1 [00:01<00:00,  1.35s/it]"
     ]
    },
    {
     "name": "stdout",
     "output_type": "stream",
     "text": [
      "                   all         21         20      0.952      0.997      0.955      0.777\n"
     ]
    },
    {
     "name": "stderr",
     "output_type": "stream",
     "text": [
      "\n"
     ]
    },
    {
     "name": "stdout",
     "output_type": "stream",
     "text": [
      "\n",
      "      Epoch    GPU_mem   box_loss   cls_loss   dfl_loss  Instances       Size\n"
     ]
    },
    {
     "name": "stderr",
     "output_type": "stream",
     "text": [
      "     86/100         0G     0.5309     0.3098     0.8154         27        640: 100%|██████████| 5/5 [00:25<00:00,  5.00s/it]\n",
      "                 Class     Images  Instances      Box(P          R      mAP50  mAP50-95): 100%|██████████| 1/1 [00:01<00:00,  1.41s/it]"
     ]
    },
    {
     "name": "stdout",
     "output_type": "stream",
     "text": [
      "                   all         21         20      0.952      0.997      0.955      0.762\n"
     ]
    },
    {
     "name": "stderr",
     "output_type": "stream",
     "text": [
      "\n"
     ]
    },
    {
     "name": "stdout",
     "output_type": "stream",
     "text": [
      "\n",
      "      Epoch    GPU_mem   box_loss   cls_loss   dfl_loss  Instances       Size\n"
     ]
    },
    {
     "name": "stderr",
     "output_type": "stream",
     "text": [
      "     87/100         0G     0.4799     0.3067     0.8037         27        640: 100%|██████████| 5/5 [00:24<00:00,  4.97s/it]\n",
      "                 Class     Images  Instances      Box(P          R      mAP50  mAP50-95): 100%|██████████| 1/1 [00:01<00:00,  1.34s/it]"
     ]
    },
    {
     "name": "stdout",
     "output_type": "stream",
     "text": [
      "                   all         21         20      0.952      0.996      0.952      0.752\n"
     ]
    },
    {
     "name": "stderr",
     "output_type": "stream",
     "text": [
      "\n"
     ]
    },
    {
     "name": "stdout",
     "output_type": "stream",
     "text": [
      "\n",
      "      Epoch    GPU_mem   box_loss   cls_loss   dfl_loss  Instances       Size\n"
     ]
    },
    {
     "name": "stderr",
     "output_type": "stream",
     "text": [
      "     88/100         0G     0.5038     0.3009     0.8003         29        640: 100%|██████████| 5/5 [00:24<00:00,  4.91s/it]\n",
      "                 Class     Images  Instances      Box(P          R      mAP50  mAP50-95): 100%|██████████| 1/1 [00:01<00:00,  1.29s/it]"
     ]
    },
    {
     "name": "stdout",
     "output_type": "stream",
     "text": [
      "                   all         21         20      0.947       0.95      0.946      0.754\n"
     ]
    },
    {
     "name": "stderr",
     "output_type": "stream",
     "text": [
      "\n"
     ]
    },
    {
     "name": "stdout",
     "output_type": "stream",
     "text": [
      "\n",
      "      Epoch    GPU_mem   box_loss   cls_loss   dfl_loss  Instances       Size\n"
     ]
    },
    {
     "name": "stderr",
     "output_type": "stream",
     "text": [
      "     89/100         0G     0.5039     0.2977     0.7978         26        640: 100%|██████████| 5/5 [00:24<00:00,  4.84s/it]\n",
      "                 Class     Images  Instances      Box(P          R      mAP50  mAP50-95): 100%|██████████| 1/1 [00:01<00:00,  1.30s/it]"
     ]
    },
    {
     "name": "stdout",
     "output_type": "stream",
     "text": [
      "                   all         21         20      0.947       0.95      0.946      0.766\n"
     ]
    },
    {
     "name": "stderr",
     "output_type": "stream",
     "text": [
      "\n"
     ]
    },
    {
     "name": "stdout",
     "output_type": "stream",
     "text": [
      "\n",
      "      Epoch    GPU_mem   box_loss   cls_loss   dfl_loss  Instances       Size\n"
     ]
    },
    {
     "name": "stderr",
     "output_type": "stream",
     "text": [
      "     90/100         0G     0.4707     0.2968     0.8068         22        640: 100%|██████████| 5/5 [00:23<00:00,  4.78s/it]\n",
      "                 Class     Images  Instances      Box(P          R      mAP50  mAP50-95): 100%|██████████| 1/1 [00:01<00:00,  1.32s/it]"
     ]
    },
    {
     "name": "stdout",
     "output_type": "stream",
     "text": [
      "                   all         21         20      0.947       0.95      0.946      0.768\n"
     ]
    },
    {
     "name": "stderr",
     "output_type": "stream",
     "text": [
      "\n"
     ]
    },
    {
     "name": "stdout",
     "output_type": "stream",
     "text": [
      "Closing dataloader mosaic\n",
      "\n",
      "      Epoch    GPU_mem   box_loss   cls_loss   dfl_loss  Instances       Size\n"
     ]
    },
    {
     "name": "stderr",
     "output_type": "stream",
     "text": [
      "c:\\Users\\thoma\\Documents\\GitHub\\follow_target\\.venv\\Lib\\site-packages\\torch\\utils\\data\\dataloader.py:665: UserWarning: 'pin_memory' argument is set as true but no accelerator is found, then device pinned memory won't be used.\n",
      "  warnings.warn(warn_msg)\n",
      "     91/100         0G     0.5048     0.3164     0.8191         15        640: 100%|██████████| 5/5 [00:24<00:00,  4.84s/it]\n",
      "                 Class     Images  Instances      Box(P          R      mAP50  mAP50-95): 100%|██████████| 1/1 [00:01<00:00,  1.32s/it]"
     ]
    },
    {
     "name": "stdout",
     "output_type": "stream",
     "text": [
      "                   all         21         20      0.947       0.95      0.946      0.771\n"
     ]
    },
    {
     "name": "stderr",
     "output_type": "stream",
     "text": [
      "\n"
     ]
    },
    {
     "name": "stdout",
     "output_type": "stream",
     "text": [
      "\n",
      "      Epoch    GPU_mem   box_loss   cls_loss   dfl_loss  Instances       Size\n"
     ]
    },
    {
     "name": "stderr",
     "output_type": "stream",
     "text": [
      "     92/100         0G     0.4828     0.3065      0.801         17        640: 100%|██████████| 5/5 [00:23<00:00,  4.77s/it]\n",
      "                 Class     Images  Instances      Box(P          R      mAP50  mAP50-95): 100%|██████████| 1/1 [00:01<00:00,  1.31s/it]"
     ]
    },
    {
     "name": "stdout",
     "output_type": "stream",
     "text": [
      "                   all         21         20      0.947       0.95      0.946      0.745\n"
     ]
    },
    {
     "name": "stderr",
     "output_type": "stream",
     "text": [
      "\n"
     ]
    },
    {
     "name": "stdout",
     "output_type": "stream",
     "text": [
      "\n",
      "      Epoch    GPU_mem   box_loss   cls_loss   dfl_loss  Instances       Size\n"
     ]
    },
    {
     "name": "stderr",
     "output_type": "stream",
     "text": [
      "     93/100         0G     0.5131      0.312     0.8165         15        640: 100%|██████████| 5/5 [00:23<00:00,  4.79s/it]\n",
      "                 Class     Images  Instances      Box(P          R      mAP50  mAP50-95): 100%|██████████| 1/1 [00:01<00:00,  1.34s/it]"
     ]
    },
    {
     "name": "stdout",
     "output_type": "stream",
     "text": [
      "                   all         21         20      0.947       0.95      0.946      0.754\n"
     ]
    },
    {
     "name": "stderr",
     "output_type": "stream",
     "text": [
      "\n"
     ]
    },
    {
     "name": "stdout",
     "output_type": "stream",
     "text": [
      "\n",
      "      Epoch    GPU_mem   box_loss   cls_loss   dfl_loss  Instances       Size\n"
     ]
    },
    {
     "name": "stderr",
     "output_type": "stream",
     "text": [
      "     94/100         0G     0.5086     0.3125     0.8142         16        640: 100%|██████████| 5/5 [00:25<00:00,  5.07s/it]\n",
      "                 Class     Images  Instances      Box(P          R      mAP50  mAP50-95): 100%|██████████| 1/1 [00:01<00:00,  1.38s/it]"
     ]
    },
    {
     "name": "stdout",
     "output_type": "stream",
     "text": [
      "                   all         21         20      0.947       0.95      0.948      0.752\n"
     ]
    },
    {
     "name": "stderr",
     "output_type": "stream",
     "text": [
      "\n"
     ]
    },
    {
     "name": "stdout",
     "output_type": "stream",
     "text": [
      "\n",
      "      Epoch    GPU_mem   box_loss   cls_loss   dfl_loss  Instances       Size\n"
     ]
    },
    {
     "name": "stderr",
     "output_type": "stream",
     "text": [
      "     95/100         0G     0.4829     0.2902     0.8235         14        640: 100%|██████████| 5/5 [00:25<00:00,  5.12s/it]\n",
      "                 Class     Images  Instances      Box(P          R      mAP50  mAP50-95): 100%|██████████| 1/1 [00:01<00:00,  1.36s/it]"
     ]
    },
    {
     "name": "stdout",
     "output_type": "stream",
     "text": [
      "                   all         21         20      0.947       0.95      0.948      0.754\n"
     ]
    },
    {
     "name": "stderr",
     "output_type": "stream",
     "text": [
      "\n"
     ]
    },
    {
     "name": "stdout",
     "output_type": "stream",
     "text": [
      "\n",
      "      Epoch    GPU_mem   box_loss   cls_loss   dfl_loss  Instances       Size\n"
     ]
    },
    {
     "name": "stderr",
     "output_type": "stream",
     "text": [
      "     96/100         0G      0.471     0.2793      0.814         16        640: 100%|██████████| 5/5 [00:24<00:00,  4.86s/it]\n",
      "                 Class     Images  Instances      Box(P          R      mAP50  mAP50-95): 100%|██████████| 1/1 [00:01<00:00,  1.41s/it]"
     ]
    },
    {
     "name": "stdout",
     "output_type": "stream",
     "text": [
      "                   all         21         20      0.948       0.95      0.948      0.742\n"
     ]
    },
    {
     "name": "stderr",
     "output_type": "stream",
     "text": [
      "\n"
     ]
    },
    {
     "name": "stdout",
     "output_type": "stream",
     "text": [
      "\n",
      "      Epoch    GPU_mem   box_loss   cls_loss   dfl_loss  Instances       Size\n"
     ]
    },
    {
     "name": "stderr",
     "output_type": "stream",
     "text": [
      "     97/100         0G     0.4672     0.2752     0.8044         16        640: 100%|██████████| 5/5 [00:24<00:00,  4.96s/it]\n",
      "                 Class     Images  Instances      Box(P          R      mAP50  mAP50-95): 100%|██████████| 1/1 [00:01<00:00,  1.41s/it]"
     ]
    },
    {
     "name": "stdout",
     "output_type": "stream",
     "text": [
      "                   all         21         20      0.948       0.95      0.948      0.742\n"
     ]
    },
    {
     "name": "stderr",
     "output_type": "stream",
     "text": [
      "\n"
     ]
    },
    {
     "name": "stdout",
     "output_type": "stream",
     "text": [
      "\n",
      "      Epoch    GPU_mem   box_loss   cls_loss   dfl_loss  Instances       Size\n"
     ]
    },
    {
     "name": "stderr",
     "output_type": "stream",
     "text": [
      "     98/100         0G     0.4365     0.2689     0.7722         17        640: 100%|██████████| 5/5 [00:24<00:00,  4.98s/it]\n",
      "                 Class     Images  Instances      Box(P          R      mAP50  mAP50-95): 100%|██████████| 1/1 [00:01<00:00,  1.39s/it]"
     ]
    },
    {
     "name": "stdout",
     "output_type": "stream",
     "text": [
      "                   all         21         20      0.948       0.95      0.948      0.742\n"
     ]
    },
    {
     "name": "stderr",
     "output_type": "stream",
     "text": [
      "\n"
     ]
    },
    {
     "name": "stdout",
     "output_type": "stream",
     "text": [
      "\n",
      "      Epoch    GPU_mem   box_loss   cls_loss   dfl_loss  Instances       Size\n"
     ]
    },
    {
     "name": "stderr",
     "output_type": "stream",
     "text": [
      "     99/100         0G     0.4591     0.2743     0.7926         16        640: 100%|██████████| 5/5 [00:24<00:00,  4.94s/it]\n",
      "                 Class     Images  Instances      Box(P          R      mAP50  mAP50-95): 100%|██████████| 1/1 [00:01<00:00,  1.37s/it]"
     ]
    },
    {
     "name": "stdout",
     "output_type": "stream",
     "text": [
      "                   all         21         20      0.952      0.996      0.952       0.75\n"
     ]
    },
    {
     "name": "stderr",
     "output_type": "stream",
     "text": [
      "\n"
     ]
    },
    {
     "name": "stdout",
     "output_type": "stream",
     "text": [
      "\n",
      "      Epoch    GPU_mem   box_loss   cls_loss   dfl_loss  Instances       Size\n"
     ]
    },
    {
     "name": "stderr",
     "output_type": "stream",
     "text": [
      "    100/100         0G     0.4491     0.2761      0.813         15        640: 100%|██████████| 5/5 [00:25<00:00,  5.05s/it]\n",
      "                 Class     Images  Instances      Box(P          R      mAP50  mAP50-95): 100%|██████████| 1/1 [00:01<00:00,  1.34s/it]"
     ]
    },
    {
     "name": "stdout",
     "output_type": "stream",
     "text": [
      "                   all         21         20      0.952      0.996      0.952      0.757\n"
     ]
    },
    {
     "name": "stderr",
     "output_type": "stream",
     "text": [
      "\n"
     ]
    },
    {
     "name": "stdout",
     "output_type": "stream",
     "text": [
      "\n",
      "100 epochs completed in 0.757 hours.\n",
      "Optimizer stripped from conceptual\\first_try_yolo11s_100_images2\\weights\\last.pt, 19.2MB\n",
      "Optimizer stripped from conceptual\\first_try_yolo11s_100_images2\\weights\\best.pt, 19.2MB\n",
      "\n",
      "Validating conceptual\\first_try_yolo11s_100_images2\\weights\\best.pt...\n",
      "Ultralytics 8.3.146  Python-3.13.1 torch-2.7.0+cpu CPU (AMD Ryzen 7 PRO 7840HS w/ Radeon 780M Graphics)\n",
      "YOLO11s summary (fused): 100 layers, 9,413,187 parameters, 0 gradients, 21.3 GFLOPs\n"
     ]
    },
    {
     "name": "stderr",
     "output_type": "stream",
     "text": [
      "                 Class     Images  Instances      Box(P          R      mAP50  mAP50-95): 100%|██████████| 1/1 [00:01<00:00,  1.11s/it]\n"
     ]
    },
    {
     "name": "stdout",
     "output_type": "stream",
     "text": [
      "                   all         21         20      0.952      0.997      0.983       0.79\n",
      "Speed: 0.5ms preprocess, 48.1ms inference, 0.0ms loss, 0.2ms postprocess per image\n",
      "Results saved to \u001b[1mconceptual\\first_try_yolo11s_100_images2\u001b[0m\n"
     ]
    }
   ],
   "source": [
    "# Load the YOLO model as a starting point\n",
    "model = YOLO(\"yolo11s.pt\")\n",
    "\n",
    "# Train the model on the dataset\n",
    "results = model.train(\n",
    "    data=\"config/config_train.yaml\",\n",
    "    epochs=100,\n",
    "    project='conceptual',\n",
    "    name='first_try_yolo11s_100_images',\n",
    "    )"
   ]
  },
  {
   "cell_type": "markdown",
   "id": "51a2292d",
   "metadata": {},
   "source": [
    "# 02 - Use model to make predictions"
   ]
  },
  {
   "cell_type": "code",
   "execution_count": 29,
   "id": "ae5a22d4",
   "metadata": {},
   "outputs": [],
   "source": [
    "# Load the best model from training\n",
    "model = YOLO('conceptual/epochs_100_yolo11s_100_images/weights/best.pt')"
   ]
  },
  {
   "cell_type": "markdown",
   "id": "e735b7b6",
   "metadata": {},
   "source": [
    "https://docs.ultralytics.com/modes/predict/#inference-arguments"
   ]
  },
  {
   "cell_type": "code",
   "execution_count": 30,
   "id": "edbb5865",
   "metadata": {},
   "outputs": [
    {
     "name": "stdout",
     "output_type": "stream",
     "text": [
      "\n",
      "WARNING imgsz=[640, 360] must be multiple of max stride 32, updating to [640, 384]\n",
      "WARNING \n",
      "inference results will accumulate in RAM unless `stream=True` is passed, causing potential out-of-memory\n",
      "errors for large sources or long-running streams and videos. See https://docs.ultralytics.com/modes/predict/ for help.\n",
      "\n",
      "Example:\n",
      "    results = model(source=..., stream=True)  # generator of Results objects\n",
      "    for r in results:\n",
      "        boxes = r.boxes  # Boxes object for bbox outputs\n",
      "        masks = r.masks  # Masks object for segment masks outputs\n",
      "        probs = r.probs  # Class probabilities for classification outputs\n",
      "\n",
      "video 1/1 (frame 1/2731) c:\\Users\\thoma\\Documents\\GitHub\\follow_target\\videos\\testvideo_1_640x360.mp4: 224x384 1 Target, 47.7ms\n",
      "video 1/1 (frame 2/2731) c:\\Users\\thoma\\Documents\\GitHub\\follow_target\\videos\\testvideo_1_640x360.mp4: 224x384 1 Target, 29.0ms\n",
      "video 1/1 (frame 3/2731) c:\\Users\\thoma\\Documents\\GitHub\\follow_target\\videos\\testvideo_1_640x360.mp4: 224x384 1 Target, 27.6ms\n",
      "video 1/1 (frame 4/2731) c:\\Users\\thoma\\Documents\\GitHub\\follow_target\\videos\\testvideo_1_640x360.mp4: 224x384 1 Target, 26.2ms\n",
      "video 1/1 (frame 5/2731) c:\\Users\\thoma\\Documents\\GitHub\\follow_target\\videos\\testvideo_1_640x360.mp4: 224x384 1 Target, 26.8ms\n",
      "video 1/1 (frame 6/2731) c:\\Users\\thoma\\Documents\\GitHub\\follow_target\\videos\\testvideo_1_640x360.mp4: 224x384 1 Target, 25.6ms\n",
      "video 1/1 (frame 7/2731) c:\\Users\\thoma\\Documents\\GitHub\\follow_target\\videos\\testvideo_1_640x360.mp4: 224x384 1 Target, 30.2ms\n",
      "video 1/1 (frame 8/2731) c:\\Users\\thoma\\Documents\\GitHub\\follow_target\\videos\\testvideo_1_640x360.mp4: 224x384 1 Target, 26.6ms\n",
      "video 1/1 (frame 9/2731) c:\\Users\\thoma\\Documents\\GitHub\\follow_target\\videos\\testvideo_1_640x360.mp4: 224x384 1 Target, 28.8ms\n",
      "video 1/1 (frame 10/2731) c:\\Users\\thoma\\Documents\\GitHub\\follow_target\\videos\\testvideo_1_640x360.mp4: 224x384 1 Target, 25.7ms\n",
      "video 1/1 (frame 11/2731) c:\\Users\\thoma\\Documents\\GitHub\\follow_target\\videos\\testvideo_1_640x360.mp4: 224x384 1 Target, 24.5ms\n",
      "video 1/1 (frame 12/2731) c:\\Users\\thoma\\Documents\\GitHub\\follow_target\\videos\\testvideo_1_640x360.mp4: 224x384 1 Target, 24.4ms\n",
      "video 1/1 (frame 13/2731) c:\\Users\\thoma\\Documents\\GitHub\\follow_target\\videos\\testvideo_1_640x360.mp4: 224x384 1 Target, 27.2ms\n",
      "video 1/1 (frame 14/2731) c:\\Users\\thoma\\Documents\\GitHub\\follow_target\\videos\\testvideo_1_640x360.mp4: 224x384 1 Target, 26.3ms\n",
      "video 1/1 (frame 15/2731) c:\\Users\\thoma\\Documents\\GitHub\\follow_target\\videos\\testvideo_1_640x360.mp4: 224x384 1 Target, 28.4ms\n",
      "video 1/1 (frame 16/2731) c:\\Users\\thoma\\Documents\\GitHub\\follow_target\\videos\\testvideo_1_640x360.mp4: 224x384 1 Target, 25.2ms\n",
      "video 1/1 (frame 17/2731) c:\\Users\\thoma\\Documents\\GitHub\\follow_target\\videos\\testvideo_1_640x360.mp4: 224x384 1 Target, 26.8ms\n",
      "video 1/1 (frame 18/2731) c:\\Users\\thoma\\Documents\\GitHub\\follow_target\\videos\\testvideo_1_640x360.mp4: 224x384 1 Target, 26.7ms\n",
      "video 1/1 (frame 19/2731) c:\\Users\\thoma\\Documents\\GitHub\\follow_target\\videos\\testvideo_1_640x360.mp4: 224x384 1 Target, 43.9ms\n",
      "video 1/1 (frame 20/2731) c:\\Users\\thoma\\Documents\\GitHub\\follow_target\\videos\\testvideo_1_640x360.mp4: 224x384 1 Target, 28.9ms\n",
      "video 1/1 (frame 21/2731) c:\\Users\\thoma\\Documents\\GitHub\\follow_target\\videos\\testvideo_1_640x360.mp4: 224x384 1 Target, 23.8ms\n",
      "video 1/1 (frame 22/2731) c:\\Users\\thoma\\Documents\\GitHub\\follow_target\\videos\\testvideo_1_640x360.mp4: 224x384 1 Target, 24.3ms\n",
      "video 1/1 (frame 23/2731) c:\\Users\\thoma\\Documents\\GitHub\\follow_target\\videos\\testvideo_1_640x360.mp4: 224x384 1 Target, 26.5ms\n",
      "video 1/1 (frame 24/2731) c:\\Users\\thoma\\Documents\\GitHub\\follow_target\\videos\\testvideo_1_640x360.mp4: 224x384 1 Target, 28.7ms\n",
      "video 1/1 (frame 25/2731) c:\\Users\\thoma\\Documents\\GitHub\\follow_target\\videos\\testvideo_1_640x360.mp4: 224x384 1 Target, 25.5ms\n",
      "video 1/1 (frame 26/2731) c:\\Users\\thoma\\Documents\\GitHub\\follow_target\\videos\\testvideo_1_640x360.mp4: 224x384 1 Target, 20.0ms\n",
      "video 1/1 (frame 27/2731) c:\\Users\\thoma\\Documents\\GitHub\\follow_target\\videos\\testvideo_1_640x360.mp4: 224x384 1 Target, 25.7ms\n",
      "video 1/1 (frame 28/2731) c:\\Users\\thoma\\Documents\\GitHub\\follow_target\\videos\\testvideo_1_640x360.mp4: 224x384 1 Target, 23.2ms\n",
      "video 1/1 (frame 29/2731) c:\\Users\\thoma\\Documents\\GitHub\\follow_target\\videos\\testvideo_1_640x360.mp4: 224x384 1 Target, 26.8ms\n",
      "video 1/1 (frame 30/2731) c:\\Users\\thoma\\Documents\\GitHub\\follow_target\\videos\\testvideo_1_640x360.mp4: 224x384 1 Target, 25.1ms\n",
      "video 1/1 (frame 31/2731) c:\\Users\\thoma\\Documents\\GitHub\\follow_target\\videos\\testvideo_1_640x360.mp4: 224x384 1 Target, 26.6ms\n",
      "video 1/1 (frame 32/2731) c:\\Users\\thoma\\Documents\\GitHub\\follow_target\\videos\\testvideo_1_640x360.mp4: 224x384 1 Target, 24.4ms\n",
      "video 1/1 (frame 33/2731) c:\\Users\\thoma\\Documents\\GitHub\\follow_target\\videos\\testvideo_1_640x360.mp4: 224x384 1 Target, 25.2ms\n",
      "video 1/1 (frame 34/2731) c:\\Users\\thoma\\Documents\\GitHub\\follow_target\\videos\\testvideo_1_640x360.mp4: 224x384 1 Target, 24.2ms\n",
      "video 1/1 (frame 35/2731) c:\\Users\\thoma\\Documents\\GitHub\\follow_target\\videos\\testvideo_1_640x360.mp4: 224x384 1 Target, 24.8ms\n",
      "video 1/1 (frame 36/2731) c:\\Users\\thoma\\Documents\\GitHub\\follow_target\\videos\\testvideo_1_640x360.mp4: 224x384 1 Target, 27.4ms\n",
      "video 1/1 (frame 37/2731) c:\\Users\\thoma\\Documents\\GitHub\\follow_target\\videos\\testvideo_1_640x360.mp4: 224x384 1 Target, 28.1ms\n",
      "video 1/1 (frame 38/2731) c:\\Users\\thoma\\Documents\\GitHub\\follow_target\\videos\\testvideo_1_640x360.mp4: 224x384 1 Target, 25.9ms\n",
      "video 1/1 (frame 39/2731) c:\\Users\\thoma\\Documents\\GitHub\\follow_target\\videos\\testvideo_1_640x360.mp4: 224x384 1 Target, 24.1ms\n",
      "video 1/1 (frame 40/2731) c:\\Users\\thoma\\Documents\\GitHub\\follow_target\\videos\\testvideo_1_640x360.mp4: 224x384 1 Target, 25.8ms\n",
      "video 1/1 (frame 41/2731) c:\\Users\\thoma\\Documents\\GitHub\\follow_target\\videos\\testvideo_1_640x360.mp4: 224x384 1 Target, 26.1ms\n",
      "video 1/1 (frame 42/2731) c:\\Users\\thoma\\Documents\\GitHub\\follow_target\\videos\\testvideo_1_640x360.mp4: 224x384 1 Target, 23.4ms\n",
      "video 1/1 (frame 43/2731) c:\\Users\\thoma\\Documents\\GitHub\\follow_target\\videos\\testvideo_1_640x360.mp4: 224x384 1 Target, 26.2ms\n",
      "video 1/1 (frame 44/2731) c:\\Users\\thoma\\Documents\\GitHub\\follow_target\\videos\\testvideo_1_640x360.mp4: 224x384 1 Target, 26.2ms\n",
      "video 1/1 (frame 45/2731) c:\\Users\\thoma\\Documents\\GitHub\\follow_target\\videos\\testvideo_1_640x360.mp4: 224x384 1 Target, 23.8ms\n",
      "video 1/1 (frame 46/2731) c:\\Users\\thoma\\Documents\\GitHub\\follow_target\\videos\\testvideo_1_640x360.mp4: 224x384 1 Target, 27.1ms\n",
      "video 1/1 (frame 47/2731) c:\\Users\\thoma\\Documents\\GitHub\\follow_target\\videos\\testvideo_1_640x360.mp4: 224x384 1 Target, 23.9ms\n",
      "video 1/1 (frame 48/2731) c:\\Users\\thoma\\Documents\\GitHub\\follow_target\\videos\\testvideo_1_640x360.mp4: 224x384 1 Target, 26.5ms\n",
      "video 1/1 (frame 49/2731) c:\\Users\\thoma\\Documents\\GitHub\\follow_target\\videos\\testvideo_1_640x360.mp4: 224x384 1 Target, 23.6ms\n",
      "video 1/1 (frame 50/2731) c:\\Users\\thoma\\Documents\\GitHub\\follow_target\\videos\\testvideo_1_640x360.mp4: 224x384 1 Target, 25.1ms\n",
      "video 1/1 (frame 51/2731) c:\\Users\\thoma\\Documents\\GitHub\\follow_target\\videos\\testvideo_1_640x360.mp4: 224x384 1 Target, 26.5ms\n",
      "video 1/1 (frame 52/2731) c:\\Users\\thoma\\Documents\\GitHub\\follow_target\\videos\\testvideo_1_640x360.mp4: 224x384 1 Target, 26.0ms\n",
      "video 1/1 (frame 53/2731) c:\\Users\\thoma\\Documents\\GitHub\\follow_target\\videos\\testvideo_1_640x360.mp4: 224x384 1 Target, 27.5ms\n",
      "video 1/1 (frame 54/2731) c:\\Users\\thoma\\Documents\\GitHub\\follow_target\\videos\\testvideo_1_640x360.mp4: 224x384 1 Target, 23.3ms\n",
      "video 1/1 (frame 55/2731) c:\\Users\\thoma\\Documents\\GitHub\\follow_target\\videos\\testvideo_1_640x360.mp4: 224x384 1 Target, 25.5ms\n",
      "video 1/1 (frame 56/2731) c:\\Users\\thoma\\Documents\\GitHub\\follow_target\\videos\\testvideo_1_640x360.mp4: 224x384 1 Target, 26.0ms\n",
      "video 1/1 (frame 57/2731) c:\\Users\\thoma\\Documents\\GitHub\\follow_target\\videos\\testvideo_1_640x360.mp4: 224x384 1 Target, 20.5ms\n",
      "video 1/1 (frame 58/2731) c:\\Users\\thoma\\Documents\\GitHub\\follow_target\\videos\\testvideo_1_640x360.mp4: 224x384 1 Target, 23.1ms\n",
      "video 1/1 (frame 59/2731) c:\\Users\\thoma\\Documents\\GitHub\\follow_target\\videos\\testvideo_1_640x360.mp4: 224x384 1 Target, 24.9ms\n",
      "video 1/1 (frame 60/2731) c:\\Users\\thoma\\Documents\\GitHub\\follow_target\\videos\\testvideo_1_640x360.mp4: 224x384 1 Target, 24.9ms\n",
      "video 1/1 (frame 61/2731) c:\\Users\\thoma\\Documents\\GitHub\\follow_target\\videos\\testvideo_1_640x360.mp4: 224x384 1 Target, 23.7ms\n",
      "video 1/1 (frame 62/2731) c:\\Users\\thoma\\Documents\\GitHub\\follow_target\\videos\\testvideo_1_640x360.mp4: 224x384 1 Target, 25.9ms\n",
      "video 1/1 (frame 63/2731) c:\\Users\\thoma\\Documents\\GitHub\\follow_target\\videos\\testvideo_1_640x360.mp4: 224x384 1 Target, 27.3ms\n",
      "video 1/1 (frame 64/2731) c:\\Users\\thoma\\Documents\\GitHub\\follow_target\\videos\\testvideo_1_640x360.mp4: 224x384 1 Target, 27.6ms\n",
      "video 1/1 (frame 65/2731) c:\\Users\\thoma\\Documents\\GitHub\\follow_target\\videos\\testvideo_1_640x360.mp4: 224x384 1 Target, 25.5ms\n",
      "video 1/1 (frame 66/2731) c:\\Users\\thoma\\Documents\\GitHub\\follow_target\\videos\\testvideo_1_640x360.mp4: 224x384 1 Target, 26.8ms\n",
      "video 1/1 (frame 67/2731) c:\\Users\\thoma\\Documents\\GitHub\\follow_target\\videos\\testvideo_1_640x360.mp4: 224x384 1 Target, 26.8ms\n",
      "video 1/1 (frame 68/2731) c:\\Users\\thoma\\Documents\\GitHub\\follow_target\\videos\\testvideo_1_640x360.mp4: 224x384 1 Target, 24.1ms\n",
      "video 1/1 (frame 69/2731) c:\\Users\\thoma\\Documents\\GitHub\\follow_target\\videos\\testvideo_1_640x360.mp4: 224x384 1 Target, 23.9ms\n",
      "video 1/1 (frame 70/2731) c:\\Users\\thoma\\Documents\\GitHub\\follow_target\\videos\\testvideo_1_640x360.mp4: 224x384 1 Target, 24.9ms\n",
      "video 1/1 (frame 71/2731) c:\\Users\\thoma\\Documents\\GitHub\\follow_target\\videos\\testvideo_1_640x360.mp4: 224x384 1 Target, 24.7ms\n",
      "video 1/1 (frame 72/2731) c:\\Users\\thoma\\Documents\\GitHub\\follow_target\\videos\\testvideo_1_640x360.mp4: 224x384 1 Target, 22.3ms\n",
      "video 1/1 (frame 73/2731) c:\\Users\\thoma\\Documents\\GitHub\\follow_target\\videos\\testvideo_1_640x360.mp4: 224x384 1 Target, 26.8ms\n",
      "video 1/1 (frame 74/2731) c:\\Users\\thoma\\Documents\\GitHub\\follow_target\\videos\\testvideo_1_640x360.mp4: 224x384 1 Target, 24.8ms\n",
      "video 1/1 (frame 75/2731) c:\\Users\\thoma\\Documents\\GitHub\\follow_target\\videos\\testvideo_1_640x360.mp4: 224x384 1 Target, 23.0ms\n",
      "video 1/1 (frame 76/2731) c:\\Users\\thoma\\Documents\\GitHub\\follow_target\\videos\\testvideo_1_640x360.mp4: 224x384 1 Target, 24.4ms\n",
      "video 1/1 (frame 77/2731) c:\\Users\\thoma\\Documents\\GitHub\\follow_target\\videos\\testvideo_1_640x360.mp4: 224x384 1 Target, 27.3ms\n",
      "video 1/1 (frame 78/2731) c:\\Users\\thoma\\Documents\\GitHub\\follow_target\\videos\\testvideo_1_640x360.mp4: 224x384 1 Target, 26.4ms\n",
      "video 1/1 (frame 79/2731) c:\\Users\\thoma\\Documents\\GitHub\\follow_target\\videos\\testvideo_1_640x360.mp4: 224x384 1 Target, 25.1ms\n",
      "video 1/1 (frame 80/2731) c:\\Users\\thoma\\Documents\\GitHub\\follow_target\\videos\\testvideo_1_640x360.mp4: 224x384 1 Target, 26.9ms\n",
      "video 1/1 (frame 81/2731) c:\\Users\\thoma\\Documents\\GitHub\\follow_target\\videos\\testvideo_1_640x360.mp4: 224x384 1 Target, 28.1ms\n",
      "video 1/1 (frame 82/2731) c:\\Users\\thoma\\Documents\\GitHub\\follow_target\\videos\\testvideo_1_640x360.mp4: 224x384 1 Target, 27.8ms\n",
      "video 1/1 (frame 83/2731) c:\\Users\\thoma\\Documents\\GitHub\\follow_target\\videos\\testvideo_1_640x360.mp4: 224x384 1 Target, 28.1ms\n",
      "video 1/1 (frame 84/2731) c:\\Users\\thoma\\Documents\\GitHub\\follow_target\\videos\\testvideo_1_640x360.mp4: 224x384 1 Target, 23.9ms\n",
      "video 1/1 (frame 85/2731) c:\\Users\\thoma\\Documents\\GitHub\\follow_target\\videos\\testvideo_1_640x360.mp4: 224x384 1 Target, 24.4ms\n",
      "video 1/1 (frame 86/2731) c:\\Users\\thoma\\Documents\\GitHub\\follow_target\\videos\\testvideo_1_640x360.mp4: 224x384 1 Target, 23.5ms\n",
      "video 1/1 (frame 87/2731) c:\\Users\\thoma\\Documents\\GitHub\\follow_target\\videos\\testvideo_1_640x360.mp4: 224x384 1 Target, 26.8ms\n",
      "video 1/1 (frame 88/2731) c:\\Users\\thoma\\Documents\\GitHub\\follow_target\\videos\\testvideo_1_640x360.mp4: 224x384 1 Target, 24.1ms\n",
      "video 1/1 (frame 89/2731) c:\\Users\\thoma\\Documents\\GitHub\\follow_target\\videos\\testvideo_1_640x360.mp4: 224x384 1 Target, 23.8ms\n",
      "video 1/1 (frame 90/2731) c:\\Users\\thoma\\Documents\\GitHub\\follow_target\\videos\\testvideo_1_640x360.mp4: 224x384 1 Target, 25.6ms\n",
      "video 1/1 (frame 91/2731) c:\\Users\\thoma\\Documents\\GitHub\\follow_target\\videos\\testvideo_1_640x360.mp4: 224x384 1 Target, 27.8ms\n",
      "video 1/1 (frame 92/2731) c:\\Users\\thoma\\Documents\\GitHub\\follow_target\\videos\\testvideo_1_640x360.mp4: 224x384 1 Target, 24.4ms\n",
      "video 1/1 (frame 93/2731) c:\\Users\\thoma\\Documents\\GitHub\\follow_target\\videos\\testvideo_1_640x360.mp4: 224x384 1 Target, 23.4ms\n",
      "video 1/1 (frame 94/2731) c:\\Users\\thoma\\Documents\\GitHub\\follow_target\\videos\\testvideo_1_640x360.mp4: 224x384 1 Target, 23.5ms\n",
      "video 1/1 (frame 95/2731) c:\\Users\\thoma\\Documents\\GitHub\\follow_target\\videos\\testvideo_1_640x360.mp4: 224x384 1 Target, 24.5ms\n",
      "video 1/1 (frame 96/2731) c:\\Users\\thoma\\Documents\\GitHub\\follow_target\\videos\\testvideo_1_640x360.mp4: 224x384 1 Target, 25.2ms\n",
      "video 1/1 (frame 97/2731) c:\\Users\\thoma\\Documents\\GitHub\\follow_target\\videos\\testvideo_1_640x360.mp4: 224x384 1 Target, 24.7ms\n",
      "video 1/1 (frame 98/2731) c:\\Users\\thoma\\Documents\\GitHub\\follow_target\\videos\\testvideo_1_640x360.mp4: 224x384 1 Target, 23.9ms\n",
      "video 1/1 (frame 99/2731) c:\\Users\\thoma\\Documents\\GitHub\\follow_target\\videos\\testvideo_1_640x360.mp4: 224x384 1 Target, 26.0ms\n",
      "video 1/1 (frame 100/2731) c:\\Users\\thoma\\Documents\\GitHub\\follow_target\\videos\\testvideo_1_640x360.mp4: 224x384 1 Target, 26.6ms\n",
      "video 1/1 (frame 101/2731) c:\\Users\\thoma\\Documents\\GitHub\\follow_target\\videos\\testvideo_1_640x360.mp4: 224x384 1 Target, 26.1ms\n",
      "video 1/1 (frame 102/2731) c:\\Users\\thoma\\Documents\\GitHub\\follow_target\\videos\\testvideo_1_640x360.mp4: 224x384 1 Target, 25.3ms\n",
      "video 1/1 (frame 103/2731) c:\\Users\\thoma\\Documents\\GitHub\\follow_target\\videos\\testvideo_1_640x360.mp4: 224x384 1 Target, 24.0ms\n",
      "video 1/1 (frame 104/2731) c:\\Users\\thoma\\Documents\\GitHub\\follow_target\\videos\\testvideo_1_640x360.mp4: 224x384 1 Target, 26.5ms\n",
      "video 1/1 (frame 105/2731) c:\\Users\\thoma\\Documents\\GitHub\\follow_target\\videos\\testvideo_1_640x360.mp4: 224x384 1 Target, 25.0ms\n",
      "video 1/1 (frame 106/2731) c:\\Users\\thoma\\Documents\\GitHub\\follow_target\\videos\\testvideo_1_640x360.mp4: 224x384 1 Target, 26.5ms\n",
      "video 1/1 (frame 107/2731) c:\\Users\\thoma\\Documents\\GitHub\\follow_target\\videos\\testvideo_1_640x360.mp4: 224x384 1 Target, 25.6ms\n",
      "video 1/1 (frame 108/2731) c:\\Users\\thoma\\Documents\\GitHub\\follow_target\\videos\\testvideo_1_640x360.mp4: 224x384 1 Target, 26.7ms\n",
      "video 1/1 (frame 109/2731) c:\\Users\\thoma\\Documents\\GitHub\\follow_target\\videos\\testvideo_1_640x360.mp4: 224x384 1 Target, 26.4ms\n",
      "video 1/1 (frame 110/2731) c:\\Users\\thoma\\Documents\\GitHub\\follow_target\\videos\\testvideo_1_640x360.mp4: 224x384 1 Target, 24.7ms\n",
      "video 1/1 (frame 111/2731) c:\\Users\\thoma\\Documents\\GitHub\\follow_target\\videos\\testvideo_1_640x360.mp4: 224x384 1 Target, 25.0ms\n",
      "video 1/1 (frame 112/2731) c:\\Users\\thoma\\Documents\\GitHub\\follow_target\\videos\\testvideo_1_640x360.mp4: 224x384 1 Target, 24.4ms\n",
      "video 1/1 (frame 113/2731) c:\\Users\\thoma\\Documents\\GitHub\\follow_target\\videos\\testvideo_1_640x360.mp4: 224x384 1 Target, 26.6ms\n",
      "video 1/1 (frame 114/2731) c:\\Users\\thoma\\Documents\\GitHub\\follow_target\\videos\\testvideo_1_640x360.mp4: 224x384 1 Target, 23.7ms\n",
      "video 1/1 (frame 115/2731) c:\\Users\\thoma\\Documents\\GitHub\\follow_target\\videos\\testvideo_1_640x360.mp4: 224x384 1 Target, 25.5ms\n",
      "video 1/1 (frame 116/2731) c:\\Users\\thoma\\Documents\\GitHub\\follow_target\\videos\\testvideo_1_640x360.mp4: 224x384 1 Target, 25.4ms\n",
      "video 1/1 (frame 117/2731) c:\\Users\\thoma\\Documents\\GitHub\\follow_target\\videos\\testvideo_1_640x360.mp4: 224x384 1 Target, 24.5ms\n",
      "video 1/1 (frame 118/2731) c:\\Users\\thoma\\Documents\\GitHub\\follow_target\\videos\\testvideo_1_640x360.mp4: 224x384 1 Target, 22.0ms\n",
      "video 1/1 (frame 119/2731) c:\\Users\\thoma\\Documents\\GitHub\\follow_target\\videos\\testvideo_1_640x360.mp4: 224x384 1 Target, 28.4ms\n",
      "video 1/1 (frame 120/2731) c:\\Users\\thoma\\Documents\\GitHub\\follow_target\\videos\\testvideo_1_640x360.mp4: 224x384 1 Target, 25.9ms\n",
      "video 1/1 (frame 121/2731) c:\\Users\\thoma\\Documents\\GitHub\\follow_target\\videos\\testvideo_1_640x360.mp4: 224x384 1 Target, 27.3ms\n",
      "video 1/1 (frame 122/2731) c:\\Users\\thoma\\Documents\\GitHub\\follow_target\\videos\\testvideo_1_640x360.mp4: 224x384 1 Target, 25.6ms\n",
      "video 1/1 (frame 123/2731) c:\\Users\\thoma\\Documents\\GitHub\\follow_target\\videos\\testvideo_1_640x360.mp4: 224x384 1 Target, 24.5ms\n",
      "video 1/1 (frame 124/2731) c:\\Users\\thoma\\Documents\\GitHub\\follow_target\\videos\\testvideo_1_640x360.mp4: 224x384 1 Target, 23.7ms\n",
      "video 1/1 (frame 125/2731) c:\\Users\\thoma\\Documents\\GitHub\\follow_target\\videos\\testvideo_1_640x360.mp4: 224x384 1 Target, 27.9ms\n",
      "video 1/1 (frame 126/2731) c:\\Users\\thoma\\Documents\\GitHub\\follow_target\\videos\\testvideo_1_640x360.mp4: 224x384 1 Target, 23.2ms\n",
      "video 1/1 (frame 127/2731) c:\\Users\\thoma\\Documents\\GitHub\\follow_target\\videos\\testvideo_1_640x360.mp4: 224x384 1 Target, 23.7ms\n",
      "video 1/1 (frame 128/2731) c:\\Users\\thoma\\Documents\\GitHub\\follow_target\\videos\\testvideo_1_640x360.mp4: 224x384 1 Target, 23.6ms\n",
      "video 1/1 (frame 129/2731) c:\\Users\\thoma\\Documents\\GitHub\\follow_target\\videos\\testvideo_1_640x360.mp4: 224x384 1 Target, 24.5ms\n",
      "video 1/1 (frame 130/2731) c:\\Users\\thoma\\Documents\\GitHub\\follow_target\\videos\\testvideo_1_640x360.mp4: 224x384 1 Target, 29.8ms\n",
      "video 1/1 (frame 131/2731) c:\\Users\\thoma\\Documents\\GitHub\\follow_target\\videos\\testvideo_1_640x360.mp4: 224x384 1 Target, 23.6ms\n",
      "video 1/1 (frame 132/2731) c:\\Users\\thoma\\Documents\\GitHub\\follow_target\\videos\\testvideo_1_640x360.mp4: 224x384 1 Target, 23.3ms\n",
      "video 1/1 (frame 133/2731) c:\\Users\\thoma\\Documents\\GitHub\\follow_target\\videos\\testvideo_1_640x360.mp4: 224x384 1 Target, 26.3ms\n",
      "video 1/1 (frame 134/2731) c:\\Users\\thoma\\Documents\\GitHub\\follow_target\\videos\\testvideo_1_640x360.mp4: 224x384 1 Target, 26.4ms\n",
      "video 1/1 (frame 135/2731) c:\\Users\\thoma\\Documents\\GitHub\\follow_target\\videos\\testvideo_1_640x360.mp4: 224x384 1 Target, 24.4ms\n",
      "video 1/1 (frame 136/2731) c:\\Users\\thoma\\Documents\\GitHub\\follow_target\\videos\\testvideo_1_640x360.mp4: 224x384 1 Target, 25.9ms\n",
      "video 1/1 (frame 137/2731) c:\\Users\\thoma\\Documents\\GitHub\\follow_target\\videos\\testvideo_1_640x360.mp4: 224x384 1 Target, 19.8ms\n",
      "video 1/1 (frame 138/2731) c:\\Users\\thoma\\Documents\\GitHub\\follow_target\\videos\\testvideo_1_640x360.mp4: 224x384 1 Target, 24.1ms\n",
      "video 1/1 (frame 139/2731) c:\\Users\\thoma\\Documents\\GitHub\\follow_target\\videos\\testvideo_1_640x360.mp4: 224x384 1 Target, 25.6ms\n",
      "video 1/1 (frame 140/2731) c:\\Users\\thoma\\Documents\\GitHub\\follow_target\\videos\\testvideo_1_640x360.mp4: 224x384 1 Target, 25.2ms\n",
      "video 1/1 (frame 141/2731) c:\\Users\\thoma\\Documents\\GitHub\\follow_target\\videos\\testvideo_1_640x360.mp4: 224x384 1 Target, 35.1ms\n",
      "video 1/1 (frame 142/2731) c:\\Users\\thoma\\Documents\\GitHub\\follow_target\\videos\\testvideo_1_640x360.mp4: 224x384 1 Target, 29.3ms\n",
      "video 1/1 (frame 143/2731) c:\\Users\\thoma\\Documents\\GitHub\\follow_target\\videos\\testvideo_1_640x360.mp4: 224x384 1 Target, 24.6ms\n",
      "video 1/1 (frame 144/2731) c:\\Users\\thoma\\Documents\\GitHub\\follow_target\\videos\\testvideo_1_640x360.mp4: 224x384 1 Target, 26.3ms\n",
      "video 1/1 (frame 145/2731) c:\\Users\\thoma\\Documents\\GitHub\\follow_target\\videos\\testvideo_1_640x360.mp4: 224x384 1 Target, 24.0ms\n",
      "video 1/1 (frame 146/2731) c:\\Users\\thoma\\Documents\\GitHub\\follow_target\\videos\\testvideo_1_640x360.mp4: 224x384 1 Target, 25.0ms\n",
      "video 1/1 (frame 147/2731) c:\\Users\\thoma\\Documents\\GitHub\\follow_target\\videos\\testvideo_1_640x360.mp4: 224x384 1 Target, 25.5ms\n",
      "video 1/1 (frame 148/2731) c:\\Users\\thoma\\Documents\\GitHub\\follow_target\\videos\\testvideo_1_640x360.mp4: 224x384 1 Target, 22.4ms\n",
      "video 1/1 (frame 149/2731) c:\\Users\\thoma\\Documents\\GitHub\\follow_target\\videos\\testvideo_1_640x360.mp4: 224x384 1 Target, 28.3ms\n",
      "video 1/1 (frame 150/2731) c:\\Users\\thoma\\Documents\\GitHub\\follow_target\\videos\\testvideo_1_640x360.mp4: 224x384 1 Target, 25.5ms\n",
      "video 1/1 (frame 151/2731) c:\\Users\\thoma\\Documents\\GitHub\\follow_target\\videos\\testvideo_1_640x360.mp4: 224x384 1 Target, 26.9ms\n",
      "video 1/1 (frame 152/2731) c:\\Users\\thoma\\Documents\\GitHub\\follow_target\\videos\\testvideo_1_640x360.mp4: 224x384 1 Target, 25.6ms\n",
      "video 1/1 (frame 153/2731) c:\\Users\\thoma\\Documents\\GitHub\\follow_target\\videos\\testvideo_1_640x360.mp4: 224x384 1 Target, 24.4ms\n",
      "video 1/1 (frame 154/2731) c:\\Users\\thoma\\Documents\\GitHub\\follow_target\\videos\\testvideo_1_640x360.mp4: 224x384 1 Target, 26.5ms\n",
      "video 1/1 (frame 155/2731) c:\\Users\\thoma\\Documents\\GitHub\\follow_target\\videos\\testvideo_1_640x360.mp4: 224x384 1 Target, 24.5ms\n",
      "video 1/1 (frame 156/2731) c:\\Users\\thoma\\Documents\\GitHub\\follow_target\\videos\\testvideo_1_640x360.mp4: 224x384 1 Target, 24.0ms\n",
      "video 1/1 (frame 157/2731) c:\\Users\\thoma\\Documents\\GitHub\\follow_target\\videos\\testvideo_1_640x360.mp4: 224x384 1 Target, 24.4ms\n",
      "video 1/1 (frame 158/2731) c:\\Users\\thoma\\Documents\\GitHub\\follow_target\\videos\\testvideo_1_640x360.mp4: 224x384 1 Target, 26.6ms\n",
      "video 1/1 (frame 159/2731) c:\\Users\\thoma\\Documents\\GitHub\\follow_target\\videos\\testvideo_1_640x360.mp4: 224x384 1 Target, 26.1ms\n",
      "video 1/1 (frame 160/2731) c:\\Users\\thoma\\Documents\\GitHub\\follow_target\\videos\\testvideo_1_640x360.mp4: 224x384 1 Target, 24.1ms\n",
      "video 1/1 (frame 161/2731) c:\\Users\\thoma\\Documents\\GitHub\\follow_target\\videos\\testvideo_1_640x360.mp4: 224x384 1 Target, 28.1ms\n",
      "video 1/1 (frame 162/2731) c:\\Users\\thoma\\Documents\\GitHub\\follow_target\\videos\\testvideo_1_640x360.mp4: 224x384 1 Target, 24.5ms\n",
      "video 1/1 (frame 163/2731) c:\\Users\\thoma\\Documents\\GitHub\\follow_target\\videos\\testvideo_1_640x360.mp4: 224x384 1 Target, 23.4ms\n",
      "video 1/1 (frame 164/2731) c:\\Users\\thoma\\Documents\\GitHub\\follow_target\\videos\\testvideo_1_640x360.mp4: 224x384 1 Target, 27.6ms\n",
      "video 1/1 (frame 165/2731) c:\\Users\\thoma\\Documents\\GitHub\\follow_target\\videos\\testvideo_1_640x360.mp4: 224x384 1 Target, 23.5ms\n",
      "video 1/1 (frame 166/2731) c:\\Users\\thoma\\Documents\\GitHub\\follow_target\\videos\\testvideo_1_640x360.mp4: 224x384 1 Target, 27.1ms\n",
      "video 1/1 (frame 167/2731) c:\\Users\\thoma\\Documents\\GitHub\\follow_target\\videos\\testvideo_1_640x360.mp4: 224x384 1 Target, 24.9ms\n",
      "video 1/1 (frame 168/2731) c:\\Users\\thoma\\Documents\\GitHub\\follow_target\\videos\\testvideo_1_640x360.mp4: 224x384 1 Target, 26.4ms\n",
      "video 1/1 (frame 169/2731) c:\\Users\\thoma\\Documents\\GitHub\\follow_target\\videos\\testvideo_1_640x360.mp4: 224x384 1 Target, 25.0ms\n",
      "video 1/1 (frame 170/2731) c:\\Users\\thoma\\Documents\\GitHub\\follow_target\\videos\\testvideo_1_640x360.mp4: 224x384 1 Target, 20.3ms\n",
      "video 1/1 (frame 171/2731) c:\\Users\\thoma\\Documents\\GitHub\\follow_target\\videos\\testvideo_1_640x360.mp4: 224x384 1 Target, 27.2ms\n",
      "video 1/1 (frame 172/2731) c:\\Users\\thoma\\Documents\\GitHub\\follow_target\\videos\\testvideo_1_640x360.mp4: 224x384 1 Target, 25.2ms\n",
      "video 1/1 (frame 173/2731) c:\\Users\\thoma\\Documents\\GitHub\\follow_target\\videos\\testvideo_1_640x360.mp4: 224x384 1 Target, 27.7ms\n",
      "video 1/1 (frame 174/2731) c:\\Users\\thoma\\Documents\\GitHub\\follow_target\\videos\\testvideo_1_640x360.mp4: 224x384 1 Target, 25.8ms\n",
      "video 1/1 (frame 175/2731) c:\\Users\\thoma\\Documents\\GitHub\\follow_target\\videos\\testvideo_1_640x360.mp4: 224x384 1 Target, 23.6ms\n",
      "video 1/1 (frame 176/2731) c:\\Users\\thoma\\Documents\\GitHub\\follow_target\\videos\\testvideo_1_640x360.mp4: 224x384 1 Target, 25.5ms\n",
      "video 1/1 (frame 177/2731) c:\\Users\\thoma\\Documents\\GitHub\\follow_target\\videos\\testvideo_1_640x360.mp4: 224x384 1 Target, 25.8ms\n",
      "video 1/1 (frame 178/2731) c:\\Users\\thoma\\Documents\\GitHub\\follow_target\\videos\\testvideo_1_640x360.mp4: 224x384 1 Target, 24.3ms\n",
      "video 1/1 (frame 179/2731) c:\\Users\\thoma\\Documents\\GitHub\\follow_target\\videos\\testvideo_1_640x360.mp4: 224x384 1 Target, 26.2ms\n",
      "video 1/1 (frame 180/2731) c:\\Users\\thoma\\Documents\\GitHub\\follow_target\\videos\\testvideo_1_640x360.mp4: 224x384 1 Target, 21.7ms\n",
      "video 1/1 (frame 181/2731) c:\\Users\\thoma\\Documents\\GitHub\\follow_target\\videos\\testvideo_1_640x360.mp4: 224x384 1 Target, 26.3ms\n",
      "video 1/1 (frame 182/2731) c:\\Users\\thoma\\Documents\\GitHub\\follow_target\\videos\\testvideo_1_640x360.mp4: 224x384 1 Target, 19.4ms\n",
      "video 1/1 (frame 183/2731) c:\\Users\\thoma\\Documents\\GitHub\\follow_target\\videos\\testvideo_1_640x360.mp4: 224x384 1 Target, 26.7ms\n",
      "video 1/1 (frame 184/2731) c:\\Users\\thoma\\Documents\\GitHub\\follow_target\\videos\\testvideo_1_640x360.mp4: 224x384 1 Target, 26.1ms\n",
      "video 1/1 (frame 185/2731) c:\\Users\\thoma\\Documents\\GitHub\\follow_target\\videos\\testvideo_1_640x360.mp4: 224x384 1 Target, 26.0ms\n",
      "video 1/1 (frame 186/2731) c:\\Users\\thoma\\Documents\\GitHub\\follow_target\\videos\\testvideo_1_640x360.mp4: 224x384 1 Target, 24.5ms\n",
      "video 1/1 (frame 187/2731) c:\\Users\\thoma\\Documents\\GitHub\\follow_target\\videos\\testvideo_1_640x360.mp4: 224x384 1 Target, 26.4ms\n",
      "video 1/1 (frame 188/2731) c:\\Users\\thoma\\Documents\\GitHub\\follow_target\\videos\\testvideo_1_640x360.mp4: 224x384 1 Target, 22.7ms\n",
      "video 1/1 (frame 189/2731) c:\\Users\\thoma\\Documents\\GitHub\\follow_target\\videos\\testvideo_1_640x360.mp4: 224x384 1 Target, 26.7ms\n",
      "video 1/1 (frame 190/2731) c:\\Users\\thoma\\Documents\\GitHub\\follow_target\\videos\\testvideo_1_640x360.mp4: 224x384 1 Target, 25.7ms\n",
      "video 1/1 (frame 191/2731) c:\\Users\\thoma\\Documents\\GitHub\\follow_target\\videos\\testvideo_1_640x360.mp4: 224x384 1 Target, 26.2ms\n",
      "video 1/1 (frame 192/2731) c:\\Users\\thoma\\Documents\\GitHub\\follow_target\\videos\\testvideo_1_640x360.mp4: 224x384 1 Target, 26.9ms\n",
      "video 1/1 (frame 193/2731) c:\\Users\\thoma\\Documents\\GitHub\\follow_target\\videos\\testvideo_1_640x360.mp4: 224x384 1 Target, 25.5ms\n",
      "video 1/1 (frame 194/2731) c:\\Users\\thoma\\Documents\\GitHub\\follow_target\\videos\\testvideo_1_640x360.mp4: 224x384 1 Target, 24.3ms\n",
      "video 1/1 (frame 195/2731) c:\\Users\\thoma\\Documents\\GitHub\\follow_target\\videos\\testvideo_1_640x360.mp4: 224x384 1 Target, 25.8ms\n",
      "video 1/1 (frame 196/2731) c:\\Users\\thoma\\Documents\\GitHub\\follow_target\\videos\\testvideo_1_640x360.mp4: 224x384 1 Target, 25.3ms\n",
      "video 1/1 (frame 197/2731) c:\\Users\\thoma\\Documents\\GitHub\\follow_target\\videos\\testvideo_1_640x360.mp4: 224x384 1 Target, 27.1ms\n",
      "video 1/1 (frame 198/2731) c:\\Users\\thoma\\Documents\\GitHub\\follow_target\\videos\\testvideo_1_640x360.mp4: 224x384 1 Target, 22.1ms\n",
      "video 1/1 (frame 199/2731) c:\\Users\\thoma\\Documents\\GitHub\\follow_target\\videos\\testvideo_1_640x360.mp4: 224x384 1 Target, 24.4ms\n",
      "video 1/1 (frame 200/2731) c:\\Users\\thoma\\Documents\\GitHub\\follow_target\\videos\\testvideo_1_640x360.mp4: 224x384 1 Target, 25.9ms\n",
      "video 1/1 (frame 201/2731) c:\\Users\\thoma\\Documents\\GitHub\\follow_target\\videos\\testvideo_1_640x360.mp4: 224x384 1 Target, 21.9ms\n",
      "video 1/1 (frame 202/2731) c:\\Users\\thoma\\Documents\\GitHub\\follow_target\\videos\\testvideo_1_640x360.mp4: 224x384 1 Target, 26.7ms\n",
      "video 1/1 (frame 203/2731) c:\\Users\\thoma\\Documents\\GitHub\\follow_target\\videos\\testvideo_1_640x360.mp4: 224x384 1 Target, 25.8ms\n",
      "video 1/1 (frame 204/2731) c:\\Users\\thoma\\Documents\\GitHub\\follow_target\\videos\\testvideo_1_640x360.mp4: 224x384 1 Target, 24.3ms\n",
      "video 1/1 (frame 205/2731) c:\\Users\\thoma\\Documents\\GitHub\\follow_target\\videos\\testvideo_1_640x360.mp4: 224x384 1 Target, 26.3ms\n",
      "video 1/1 (frame 206/2731) c:\\Users\\thoma\\Documents\\GitHub\\follow_target\\videos\\testvideo_1_640x360.mp4: 224x384 1 Target, 24.0ms\n",
      "video 1/1 (frame 207/2731) c:\\Users\\thoma\\Documents\\GitHub\\follow_target\\videos\\testvideo_1_640x360.mp4: 224x384 1 Target, 23.1ms\n",
      "video 1/1 (frame 208/2731) c:\\Users\\thoma\\Documents\\GitHub\\follow_target\\videos\\testvideo_1_640x360.mp4: 224x384 1 Target, 26.8ms\n",
      "video 1/1 (frame 209/2731) c:\\Users\\thoma\\Documents\\GitHub\\follow_target\\videos\\testvideo_1_640x360.mp4: 224x384 1 Target, 27.1ms\n",
      "video 1/1 (frame 210/2731) c:\\Users\\thoma\\Documents\\GitHub\\follow_target\\videos\\testvideo_1_640x360.mp4: 224x384 1 Target, 24.6ms\n",
      "video 1/1 (frame 211/2731) c:\\Users\\thoma\\Documents\\GitHub\\follow_target\\videos\\testvideo_1_640x360.mp4: 224x384 1 Target, 23.4ms\n",
      "video 1/1 (frame 212/2731) c:\\Users\\thoma\\Documents\\GitHub\\follow_target\\videos\\testvideo_1_640x360.mp4: 224x384 1 Target, 25.1ms\n",
      "video 1/1 (frame 213/2731) c:\\Users\\thoma\\Documents\\GitHub\\follow_target\\videos\\testvideo_1_640x360.mp4: 224x384 1 Target, 26.7ms\n",
      "video 1/1 (frame 214/2731) c:\\Users\\thoma\\Documents\\GitHub\\follow_target\\videos\\testvideo_1_640x360.mp4: 224x384 1 Target, 30.9ms\n",
      "video 1/1 (frame 215/2731) c:\\Users\\thoma\\Documents\\GitHub\\follow_target\\videos\\testvideo_1_640x360.mp4: 224x384 1 Target, 22.7ms\n",
      "video 1/1 (frame 216/2731) c:\\Users\\thoma\\Documents\\GitHub\\follow_target\\videos\\testvideo_1_640x360.mp4: 224x384 1 Target, 23.8ms\n",
      "video 1/1 (frame 217/2731) c:\\Users\\thoma\\Documents\\GitHub\\follow_target\\videos\\testvideo_1_640x360.mp4: 224x384 1 Target, 23.6ms\n",
      "video 1/1 (frame 218/2731) c:\\Users\\thoma\\Documents\\GitHub\\follow_target\\videos\\testvideo_1_640x360.mp4: 224x384 1 Target, 25.6ms\n",
      "video 1/1 (frame 219/2731) c:\\Users\\thoma\\Documents\\GitHub\\follow_target\\videos\\testvideo_1_640x360.mp4: 224x384 1 Target, 25.2ms\n",
      "video 1/1 (frame 220/2731) c:\\Users\\thoma\\Documents\\GitHub\\follow_target\\videos\\testvideo_1_640x360.mp4: 224x384 1 Target, 22.8ms\n",
      "video 1/1 (frame 221/2731) c:\\Users\\thoma\\Documents\\GitHub\\follow_target\\videos\\testvideo_1_640x360.mp4: 224x384 1 Target, 24.5ms\n",
      "video 1/1 (frame 222/2731) c:\\Users\\thoma\\Documents\\GitHub\\follow_target\\videos\\testvideo_1_640x360.mp4: 224x384 1 Target, 24.2ms\n",
      "video 1/1 (frame 223/2731) c:\\Users\\thoma\\Documents\\GitHub\\follow_target\\videos\\testvideo_1_640x360.mp4: 224x384 1 Target, 26.8ms\n",
      "video 1/1 (frame 224/2731) c:\\Users\\thoma\\Documents\\GitHub\\follow_target\\videos\\testvideo_1_640x360.mp4: 224x384 1 Target, 26.9ms\n",
      "video 1/1 (frame 225/2731) c:\\Users\\thoma\\Documents\\GitHub\\follow_target\\videos\\testvideo_1_640x360.mp4: 224x384 1 Target, 24.7ms\n",
      "video 1/1 (frame 226/2731) c:\\Users\\thoma\\Documents\\GitHub\\follow_target\\videos\\testvideo_1_640x360.mp4: 224x384 1 Target, 25.4ms\n",
      "video 1/1 (frame 227/2731) c:\\Users\\thoma\\Documents\\GitHub\\follow_target\\videos\\testvideo_1_640x360.mp4: 224x384 1 Target, 25.8ms\n",
      "video 1/1 (frame 228/2731) c:\\Users\\thoma\\Documents\\GitHub\\follow_target\\videos\\testvideo_1_640x360.mp4: 224x384 1 Target, 25.4ms\n",
      "video 1/1 (frame 229/2731) c:\\Users\\thoma\\Documents\\GitHub\\follow_target\\videos\\testvideo_1_640x360.mp4: 224x384 1 Target, 24.1ms\n",
      "video 1/1 (frame 230/2731) c:\\Users\\thoma\\Documents\\GitHub\\follow_target\\videos\\testvideo_1_640x360.mp4: 224x384 1 Target, 26.1ms\n",
      "video 1/1 (frame 231/2731) c:\\Users\\thoma\\Documents\\GitHub\\follow_target\\videos\\testvideo_1_640x360.mp4: 224x384 1 Target, 24.5ms\n",
      "video 1/1 (frame 232/2731) c:\\Users\\thoma\\Documents\\GitHub\\follow_target\\videos\\testvideo_1_640x360.mp4: 224x384 1 Target, 27.9ms\n",
      "video 1/1 (frame 233/2731) c:\\Users\\thoma\\Documents\\GitHub\\follow_target\\videos\\testvideo_1_640x360.mp4: 224x384 1 Target, 25.2ms\n",
      "video 1/1 (frame 234/2731) c:\\Users\\thoma\\Documents\\GitHub\\follow_target\\videos\\testvideo_1_640x360.mp4: 224x384 1 Target, 25.4ms\n",
      "video 1/1 (frame 235/2731) c:\\Users\\thoma\\Documents\\GitHub\\follow_target\\videos\\testvideo_1_640x360.mp4: 224x384 1 Target, 26.8ms\n",
      "video 1/1 (frame 236/2731) c:\\Users\\thoma\\Documents\\GitHub\\follow_target\\videos\\testvideo_1_640x360.mp4: 224x384 1 Target, 24.6ms\n",
      "video 1/1 (frame 237/2731) c:\\Users\\thoma\\Documents\\GitHub\\follow_target\\videos\\testvideo_1_640x360.mp4: 224x384 1 Target, 29.2ms\n",
      "video 1/1 (frame 238/2731) c:\\Users\\thoma\\Documents\\GitHub\\follow_target\\videos\\testvideo_1_640x360.mp4: 224x384 1 Target, 26.9ms\n",
      "video 1/1 (frame 239/2731) c:\\Users\\thoma\\Documents\\GitHub\\follow_target\\videos\\testvideo_1_640x360.mp4: 224x384 1 Target, 25.5ms\n",
      "video 1/1 (frame 240/2731) c:\\Users\\thoma\\Documents\\GitHub\\follow_target\\videos\\testvideo_1_640x360.mp4: 224x384 1 Target, 22.9ms\n",
      "video 1/1 (frame 241/2731) c:\\Users\\thoma\\Documents\\GitHub\\follow_target\\videos\\testvideo_1_640x360.mp4: 224x384 1 Target, 26.7ms\n",
      "video 1/1 (frame 242/2731) c:\\Users\\thoma\\Documents\\GitHub\\follow_target\\videos\\testvideo_1_640x360.mp4: 224x384 1 Target, 24.6ms\n",
      "video 1/1 (frame 243/2731) c:\\Users\\thoma\\Documents\\GitHub\\follow_target\\videos\\testvideo_1_640x360.mp4: 224x384 1 Target, 26.3ms\n",
      "video 1/1 (frame 244/2731) c:\\Users\\thoma\\Documents\\GitHub\\follow_target\\videos\\testvideo_1_640x360.mp4: 224x384 1 Target, 27.1ms\n",
      "video 1/1 (frame 245/2731) c:\\Users\\thoma\\Documents\\GitHub\\follow_target\\videos\\testvideo_1_640x360.mp4: 224x384 1 Target, 24.7ms\n",
      "video 1/1 (frame 246/2731) c:\\Users\\thoma\\Documents\\GitHub\\follow_target\\videos\\testvideo_1_640x360.mp4: 224x384 1 Target, 28.3ms\n",
      "video 1/1 (frame 247/2731) c:\\Users\\thoma\\Documents\\GitHub\\follow_target\\videos\\testvideo_1_640x360.mp4: 224x384 1 Target, 24.8ms\n",
      "video 1/1 (frame 248/2731) c:\\Users\\thoma\\Documents\\GitHub\\follow_target\\videos\\testvideo_1_640x360.mp4: 224x384 1 Target, 24.4ms\n",
      "video 1/1 (frame 249/2731) c:\\Users\\thoma\\Documents\\GitHub\\follow_target\\videos\\testvideo_1_640x360.mp4: 224x384 1 Target, 30.4ms\n",
      "video 1/1 (frame 250/2731) c:\\Users\\thoma\\Documents\\GitHub\\follow_target\\videos\\testvideo_1_640x360.mp4: 224x384 1 Target, 29.0ms\n",
      "video 1/1 (frame 251/2731) c:\\Users\\thoma\\Documents\\GitHub\\follow_target\\videos\\testvideo_1_640x360.mp4: 224x384 1 Target, 30.2ms\n",
      "video 1/1 (frame 252/2731) c:\\Users\\thoma\\Documents\\GitHub\\follow_target\\videos\\testvideo_1_640x360.mp4: 224x384 1 Target, 31.6ms\n",
      "video 1/1 (frame 253/2731) c:\\Users\\thoma\\Documents\\GitHub\\follow_target\\videos\\testvideo_1_640x360.mp4: 224x384 1 Target, 29.2ms\n",
      "video 1/1 (frame 254/2731) c:\\Users\\thoma\\Documents\\GitHub\\follow_target\\videos\\testvideo_1_640x360.mp4: 224x384 1 Target, 28.2ms\n",
      "video 1/1 (frame 255/2731) c:\\Users\\thoma\\Documents\\GitHub\\follow_target\\videos\\testvideo_1_640x360.mp4: 224x384 1 Target, 28.0ms\n",
      "video 1/1 (frame 256/2731) c:\\Users\\thoma\\Documents\\GitHub\\follow_target\\videos\\testvideo_1_640x360.mp4: 224x384 1 Target, 25.1ms\n",
      "video 1/1 (frame 257/2731) c:\\Users\\thoma\\Documents\\GitHub\\follow_target\\videos\\testvideo_1_640x360.mp4: 224x384 1 Target, 26.6ms\n",
      "video 1/1 (frame 258/2731) c:\\Users\\thoma\\Documents\\GitHub\\follow_target\\videos\\testvideo_1_640x360.mp4: 224x384 1 Target, 23.9ms\n",
      "video 1/1 (frame 259/2731) c:\\Users\\thoma\\Documents\\GitHub\\follow_target\\videos\\testvideo_1_640x360.mp4: 224x384 1 Target, 25.5ms\n",
      "video 1/1 (frame 260/2731) c:\\Users\\thoma\\Documents\\GitHub\\follow_target\\videos\\testvideo_1_640x360.mp4: 224x384 1 Target, 23.9ms\n",
      "video 1/1 (frame 261/2731) c:\\Users\\thoma\\Documents\\GitHub\\follow_target\\videos\\testvideo_1_640x360.mp4: 224x384 1 Target, 26.3ms\n",
      "video 1/1 (frame 262/2731) c:\\Users\\thoma\\Documents\\GitHub\\follow_target\\videos\\testvideo_1_640x360.mp4: 224x384 1 Target, 22.6ms\n",
      "video 1/1 (frame 263/2731) c:\\Users\\thoma\\Documents\\GitHub\\follow_target\\videos\\testvideo_1_640x360.mp4: 224x384 1 Target, 24.5ms\n",
      "video 1/1 (frame 264/2731) c:\\Users\\thoma\\Documents\\GitHub\\follow_target\\videos\\testvideo_1_640x360.mp4: 224x384 1 Target, 24.2ms\n",
      "video 1/1 (frame 265/2731) c:\\Users\\thoma\\Documents\\GitHub\\follow_target\\videos\\testvideo_1_640x360.mp4: 224x384 1 Target, 27.0ms\n",
      "video 1/1 (frame 266/2731) c:\\Users\\thoma\\Documents\\GitHub\\follow_target\\videos\\testvideo_1_640x360.mp4: 224x384 1 Target, 27.6ms\n",
      "video 1/1 (frame 267/2731) c:\\Users\\thoma\\Documents\\GitHub\\follow_target\\videos\\testvideo_1_640x360.mp4: 224x384 1 Target, 27.1ms\n",
      "video 1/1 (frame 268/2731) c:\\Users\\thoma\\Documents\\GitHub\\follow_target\\videos\\testvideo_1_640x360.mp4: 224x384 1 Target, 25.8ms\n",
      "video 1/1 (frame 269/2731) c:\\Users\\thoma\\Documents\\GitHub\\follow_target\\videos\\testvideo_1_640x360.mp4: 224x384 1 Target, 24.7ms\n",
      "video 1/1 (frame 270/2731) c:\\Users\\thoma\\Documents\\GitHub\\follow_target\\videos\\testvideo_1_640x360.mp4: 224x384 1 Target, 30.7ms\n",
      "video 1/1 (frame 271/2731) c:\\Users\\thoma\\Documents\\GitHub\\follow_target\\videos\\testvideo_1_640x360.mp4: 224x384 1 Target, 26.5ms\n",
      "video 1/1 (frame 272/2731) c:\\Users\\thoma\\Documents\\GitHub\\follow_target\\videos\\testvideo_1_640x360.mp4: 224x384 1 Target, 25.2ms\n",
      "video 1/1 (frame 273/2731) c:\\Users\\thoma\\Documents\\GitHub\\follow_target\\videos\\testvideo_1_640x360.mp4: 224x384 1 Target, 26.8ms\n",
      "video 1/1 (frame 274/2731) c:\\Users\\thoma\\Documents\\GitHub\\follow_target\\videos\\testvideo_1_640x360.mp4: 224x384 1 Target, 26.8ms\n",
      "video 1/1 (frame 275/2731) c:\\Users\\thoma\\Documents\\GitHub\\follow_target\\videos\\testvideo_1_640x360.mp4: 224x384 1 Target, 23.0ms\n",
      "video 1/1 (frame 276/2731) c:\\Users\\thoma\\Documents\\GitHub\\follow_target\\videos\\testvideo_1_640x360.mp4: 224x384 1 Target, 26.5ms\n",
      "video 1/1 (frame 277/2731) c:\\Users\\thoma\\Documents\\GitHub\\follow_target\\videos\\testvideo_1_640x360.mp4: 224x384 1 Target, 25.8ms\n",
      "video 1/1 (frame 278/2731) c:\\Users\\thoma\\Documents\\GitHub\\follow_target\\videos\\testvideo_1_640x360.mp4: 224x384 1 Target, 26.9ms\n",
      "video 1/1 (frame 279/2731) c:\\Users\\thoma\\Documents\\GitHub\\follow_target\\videos\\testvideo_1_640x360.mp4: 224x384 1 Target, 26.2ms\n",
      "video 1/1 (frame 280/2731) c:\\Users\\thoma\\Documents\\GitHub\\follow_target\\videos\\testvideo_1_640x360.mp4: 224x384 1 Target, 22.3ms\n",
      "video 1/1 (frame 281/2731) c:\\Users\\thoma\\Documents\\GitHub\\follow_target\\videos\\testvideo_1_640x360.mp4: 224x384 1 Target, 26.2ms\n",
      "video 1/1 (frame 282/2731) c:\\Users\\thoma\\Documents\\GitHub\\follow_target\\videos\\testvideo_1_640x360.mp4: 224x384 1 Target, 27.8ms\n",
      "video 1/1 (frame 283/2731) c:\\Users\\thoma\\Documents\\GitHub\\follow_target\\videos\\testvideo_1_640x360.mp4: 224x384 1 Target, 24.6ms\n",
      "video 1/1 (frame 284/2731) c:\\Users\\thoma\\Documents\\GitHub\\follow_target\\videos\\testvideo_1_640x360.mp4: 224x384 1 Target, 26.7ms\n",
      "video 1/1 (frame 285/2731) c:\\Users\\thoma\\Documents\\GitHub\\follow_target\\videos\\testvideo_1_640x360.mp4: 224x384 1 Target, 39.4ms\n",
      "video 1/1 (frame 286/2731) c:\\Users\\thoma\\Documents\\GitHub\\follow_target\\videos\\testvideo_1_640x360.mp4: 224x384 1 Target, 29.5ms\n",
      "video 1/1 (frame 287/2731) c:\\Users\\thoma\\Documents\\GitHub\\follow_target\\videos\\testvideo_1_640x360.mp4: 224x384 1 Target, 25.2ms\n",
      "video 1/1 (frame 288/2731) c:\\Users\\thoma\\Documents\\GitHub\\follow_target\\videos\\testvideo_1_640x360.mp4: 224x384 1 Target, 27.6ms\n",
      "video 1/1 (frame 289/2731) c:\\Users\\thoma\\Documents\\GitHub\\follow_target\\videos\\testvideo_1_640x360.mp4: 224x384 1 Target, 26.0ms\n",
      "video 1/1 (frame 290/2731) c:\\Users\\thoma\\Documents\\GitHub\\follow_target\\videos\\testvideo_1_640x360.mp4: 224x384 1 Target, 29.1ms\n",
      "video 1/1 (frame 291/2731) c:\\Users\\thoma\\Documents\\GitHub\\follow_target\\videos\\testvideo_1_640x360.mp4: 224x384 1 Target, 26.4ms\n",
      "video 1/1 (frame 292/2731) c:\\Users\\thoma\\Documents\\GitHub\\follow_target\\videos\\testvideo_1_640x360.mp4: 224x384 1 Target, 28.4ms\n",
      "video 1/1 (frame 293/2731) c:\\Users\\thoma\\Documents\\GitHub\\follow_target\\videos\\testvideo_1_640x360.mp4: 224x384 1 Target, 30.1ms\n",
      "video 1/1 (frame 294/2731) c:\\Users\\thoma\\Documents\\GitHub\\follow_target\\videos\\testvideo_1_640x360.mp4: 224x384 1 Target, 24.8ms\n",
      "video 1/1 (frame 295/2731) c:\\Users\\thoma\\Documents\\GitHub\\follow_target\\videos\\testvideo_1_640x360.mp4: 224x384 1 Target, 25.2ms\n",
      "video 1/1 (frame 296/2731) c:\\Users\\thoma\\Documents\\GitHub\\follow_target\\videos\\testvideo_1_640x360.mp4: 224x384 1 Target, 27.1ms\n",
      "video 1/1 (frame 297/2731) c:\\Users\\thoma\\Documents\\GitHub\\follow_target\\videos\\testvideo_1_640x360.mp4: 224x384 1 Target, 23.4ms\n",
      "video 1/1 (frame 298/2731) c:\\Users\\thoma\\Documents\\GitHub\\follow_target\\videos\\testvideo_1_640x360.mp4: 224x384 1 Target, 28.4ms\n",
      "video 1/1 (frame 299/2731) c:\\Users\\thoma\\Documents\\GitHub\\follow_target\\videos\\testvideo_1_640x360.mp4: 224x384 1 Target, 29.5ms\n",
      "video 1/1 (frame 300/2731) c:\\Users\\thoma\\Documents\\GitHub\\follow_target\\videos\\testvideo_1_640x360.mp4: 224x384 1 Target, 31.8ms\n",
      "video 1/1 (frame 301/2731) c:\\Users\\thoma\\Documents\\GitHub\\follow_target\\videos\\testvideo_1_640x360.mp4: 224x384 1 Target, 28.9ms\n",
      "video 1/1 (frame 302/2731) c:\\Users\\thoma\\Documents\\GitHub\\follow_target\\videos\\testvideo_1_640x360.mp4: 224x384 1 Target, 23.9ms\n",
      "video 1/1 (frame 303/2731) c:\\Users\\thoma\\Documents\\GitHub\\follow_target\\videos\\testvideo_1_640x360.mp4: 224x384 1 Target, 26.1ms\n",
      "video 1/1 (frame 304/2731) c:\\Users\\thoma\\Documents\\GitHub\\follow_target\\videos\\testvideo_1_640x360.mp4: 224x384 1 Target, 28.3ms\n",
      "video 1/1 (frame 305/2731) c:\\Users\\thoma\\Documents\\GitHub\\follow_target\\videos\\testvideo_1_640x360.mp4: 224x384 1 Target, 28.5ms\n",
      "video 1/1 (frame 306/2731) c:\\Users\\thoma\\Documents\\GitHub\\follow_target\\videos\\testvideo_1_640x360.mp4: 224x384 1 Target, 28.4ms\n",
      "video 1/1 (frame 307/2731) c:\\Users\\thoma\\Documents\\GitHub\\follow_target\\videos\\testvideo_1_640x360.mp4: 224x384 1 Target, 26.7ms\n",
      "video 1/1 (frame 308/2731) c:\\Users\\thoma\\Documents\\GitHub\\follow_target\\videos\\testvideo_1_640x360.mp4: 224x384 1 Target, 26.3ms\n",
      "video 1/1 (frame 309/2731) c:\\Users\\thoma\\Documents\\GitHub\\follow_target\\videos\\testvideo_1_640x360.mp4: 224x384 1 Target, 22.8ms\n",
      "video 1/1 (frame 310/2731) c:\\Users\\thoma\\Documents\\GitHub\\follow_target\\videos\\testvideo_1_640x360.mp4: 224x384 1 Target, 21.9ms\n",
      "video 1/1 (frame 311/2731) c:\\Users\\thoma\\Documents\\GitHub\\follow_target\\videos\\testvideo_1_640x360.mp4: 224x384 1 Target, 25.1ms\n",
      "video 1/1 (frame 312/2731) c:\\Users\\thoma\\Documents\\GitHub\\follow_target\\videos\\testvideo_1_640x360.mp4: 224x384 1 Target, 28.5ms\n",
      "video 1/1 (frame 313/2731) c:\\Users\\thoma\\Documents\\GitHub\\follow_target\\videos\\testvideo_1_640x360.mp4: 224x384 1 Target, 26.5ms\n",
      "video 1/1 (frame 314/2731) c:\\Users\\thoma\\Documents\\GitHub\\follow_target\\videos\\testvideo_1_640x360.mp4: 224x384 1 Target, 27.6ms\n",
      "video 1/1 (frame 315/2731) c:\\Users\\thoma\\Documents\\GitHub\\follow_target\\videos\\testvideo_1_640x360.mp4: 224x384 1 Target, 27.3ms\n",
      "video 1/1 (frame 316/2731) c:\\Users\\thoma\\Documents\\GitHub\\follow_target\\videos\\testvideo_1_640x360.mp4: 224x384 1 Target, 24.9ms\n",
      "video 1/1 (frame 317/2731) c:\\Users\\thoma\\Documents\\GitHub\\follow_target\\videos\\testvideo_1_640x360.mp4: 224x384 1 Target, 25.3ms\n",
      "video 1/1 (frame 318/2731) c:\\Users\\thoma\\Documents\\GitHub\\follow_target\\videos\\testvideo_1_640x360.mp4: 224x384 1 Target, 27.9ms\n",
      "video 1/1 (frame 319/2731) c:\\Users\\thoma\\Documents\\GitHub\\follow_target\\videos\\testvideo_1_640x360.mp4: 224x384 1 Target, 24.2ms\n",
      "video 1/1 (frame 320/2731) c:\\Users\\thoma\\Documents\\GitHub\\follow_target\\videos\\testvideo_1_640x360.mp4: 224x384 1 Target, 24.8ms\n",
      "video 1/1 (frame 321/2731) c:\\Users\\thoma\\Documents\\GitHub\\follow_target\\videos\\testvideo_1_640x360.mp4: 224x384 1 Target, 24.5ms\n",
      "video 1/1 (frame 322/2731) c:\\Users\\thoma\\Documents\\GitHub\\follow_target\\videos\\testvideo_1_640x360.mp4: 224x384 1 Target, 24.0ms\n",
      "video 1/1 (frame 323/2731) c:\\Users\\thoma\\Documents\\GitHub\\follow_target\\videos\\testvideo_1_640x360.mp4: 224x384 1 Target, 25.5ms\n",
      "video 1/1 (frame 324/2731) c:\\Users\\thoma\\Documents\\GitHub\\follow_target\\videos\\testvideo_1_640x360.mp4: 224x384 1 Target, 25.4ms\n",
      "video 1/1 (frame 325/2731) c:\\Users\\thoma\\Documents\\GitHub\\follow_target\\videos\\testvideo_1_640x360.mp4: 224x384 1 Target, 25.7ms\n",
      "video 1/1 (frame 326/2731) c:\\Users\\thoma\\Documents\\GitHub\\follow_target\\videos\\testvideo_1_640x360.mp4: 224x384 1 Target, 24.9ms\n",
      "video 1/1 (frame 327/2731) c:\\Users\\thoma\\Documents\\GitHub\\follow_target\\videos\\testvideo_1_640x360.mp4: 224x384 1 Target, 26.0ms\n",
      "video 1/1 (frame 328/2731) c:\\Users\\thoma\\Documents\\GitHub\\follow_target\\videos\\testvideo_1_640x360.mp4: 224x384 1 Target, 29.7ms\n",
      "video 1/1 (frame 329/2731) c:\\Users\\thoma\\Documents\\GitHub\\follow_target\\videos\\testvideo_1_640x360.mp4: 224x384 1 Target, 26.0ms\n",
      "video 1/1 (frame 330/2731) c:\\Users\\thoma\\Documents\\GitHub\\follow_target\\videos\\testvideo_1_640x360.mp4: 224x384 1 Target, 27.9ms\n",
      "video 1/1 (frame 331/2731) c:\\Users\\thoma\\Documents\\GitHub\\follow_target\\videos\\testvideo_1_640x360.mp4: 224x384 1 Target, 26.8ms\n",
      "video 1/1 (frame 332/2731) c:\\Users\\thoma\\Documents\\GitHub\\follow_target\\videos\\testvideo_1_640x360.mp4: 224x384 1 Target, 26.8ms\n",
      "video 1/1 (frame 333/2731) c:\\Users\\thoma\\Documents\\GitHub\\follow_target\\videos\\testvideo_1_640x360.mp4: 224x384 1 Target, 24.0ms\n",
      "video 1/1 (frame 334/2731) c:\\Users\\thoma\\Documents\\GitHub\\follow_target\\videos\\testvideo_1_640x360.mp4: 224x384 1 Target, 24.8ms\n",
      "video 1/1 (frame 335/2731) c:\\Users\\thoma\\Documents\\GitHub\\follow_target\\videos\\testvideo_1_640x360.mp4: 224x384 1 Target, 27.4ms\n",
      "video 1/1 (frame 336/2731) c:\\Users\\thoma\\Documents\\GitHub\\follow_target\\videos\\testvideo_1_640x360.mp4: 224x384 1 Target, 24.2ms\n",
      "video 1/1 (frame 337/2731) c:\\Users\\thoma\\Documents\\GitHub\\follow_target\\videos\\testvideo_1_640x360.mp4: 224x384 1 Target, 26.7ms\n",
      "video 1/1 (frame 338/2731) c:\\Users\\thoma\\Documents\\GitHub\\follow_target\\videos\\testvideo_1_640x360.mp4: 224x384 (no detections), 26.9ms\n",
      "video 1/1 (frame 339/2731) c:\\Users\\thoma\\Documents\\GitHub\\follow_target\\videos\\testvideo_1_640x360.mp4: 224x384 1 Target, 25.6ms\n",
      "video 1/1 (frame 340/2731) c:\\Users\\thoma\\Documents\\GitHub\\follow_target\\videos\\testvideo_1_640x360.mp4: 224x384 (no detections), 29.5ms\n",
      "video 1/1 (frame 341/2731) c:\\Users\\thoma\\Documents\\GitHub\\follow_target\\videos\\testvideo_1_640x360.mp4: 224x384 (no detections), 25.5ms\n",
      "video 1/1 (frame 342/2731) c:\\Users\\thoma\\Documents\\GitHub\\follow_target\\videos\\testvideo_1_640x360.mp4: 224x384 (no detections), 27.6ms\n",
      "video 1/1 (frame 343/2731) c:\\Users\\thoma\\Documents\\GitHub\\follow_target\\videos\\testvideo_1_640x360.mp4: 224x384 (no detections), 27.0ms\n",
      "video 1/1 (frame 344/2731) c:\\Users\\thoma\\Documents\\GitHub\\follow_target\\videos\\testvideo_1_640x360.mp4: 224x384 1 Target, 27.2ms\n",
      "video 1/1 (frame 345/2731) c:\\Users\\thoma\\Documents\\GitHub\\follow_target\\videos\\testvideo_1_640x360.mp4: 224x384 1 Target, 25.4ms\n",
      "video 1/1 (frame 346/2731) c:\\Users\\thoma\\Documents\\GitHub\\follow_target\\videos\\testvideo_1_640x360.mp4: 224x384 1 Target, 27.2ms\n",
      "video 1/1 (frame 347/2731) c:\\Users\\thoma\\Documents\\GitHub\\follow_target\\videos\\testvideo_1_640x360.mp4: 224x384 1 Target, 25.3ms\n",
      "video 1/1 (frame 348/2731) c:\\Users\\thoma\\Documents\\GitHub\\follow_target\\videos\\testvideo_1_640x360.mp4: 224x384 1 Target, 25.7ms\n",
      "video 1/1 (frame 349/2731) c:\\Users\\thoma\\Documents\\GitHub\\follow_target\\videos\\testvideo_1_640x360.mp4: 224x384 1 Target, 25.7ms\n",
      "video 1/1 (frame 350/2731) c:\\Users\\thoma\\Documents\\GitHub\\follow_target\\videos\\testvideo_1_640x360.mp4: 224x384 1 Target, 26.8ms\n",
      "video 1/1 (frame 351/2731) c:\\Users\\thoma\\Documents\\GitHub\\follow_target\\videos\\testvideo_1_640x360.mp4: 224x384 1 Target, 23.2ms\n",
      "video 1/1 (frame 352/2731) c:\\Users\\thoma\\Documents\\GitHub\\follow_target\\videos\\testvideo_1_640x360.mp4: 224x384 1 Target, 24.3ms\n",
      "video 1/1 (frame 353/2731) c:\\Users\\thoma\\Documents\\GitHub\\follow_target\\videos\\testvideo_1_640x360.mp4: 224x384 1 Target, 26.3ms\n",
      "video 1/1 (frame 354/2731) c:\\Users\\thoma\\Documents\\GitHub\\follow_target\\videos\\testvideo_1_640x360.mp4: 224x384 1 Target, 26.9ms\n",
      "video 1/1 (frame 355/2731) c:\\Users\\thoma\\Documents\\GitHub\\follow_target\\videos\\testvideo_1_640x360.mp4: 224x384 1 Target, 23.1ms\n",
      "video 1/1 (frame 356/2731) c:\\Users\\thoma\\Documents\\GitHub\\follow_target\\videos\\testvideo_1_640x360.mp4: 224x384 1 Target, 25.9ms\n",
      "video 1/1 (frame 357/2731) c:\\Users\\thoma\\Documents\\GitHub\\follow_target\\videos\\testvideo_1_640x360.mp4: 224x384 1 Target, 27.4ms\n",
      "video 1/1 (frame 358/2731) c:\\Users\\thoma\\Documents\\GitHub\\follow_target\\videos\\testvideo_1_640x360.mp4: 224x384 1 Target, 23.8ms\n",
      "video 1/1 (frame 359/2731) c:\\Users\\thoma\\Documents\\GitHub\\follow_target\\videos\\testvideo_1_640x360.mp4: 224x384 1 Target, 27.0ms\n",
      "video 1/1 (frame 360/2731) c:\\Users\\thoma\\Documents\\GitHub\\follow_target\\videos\\testvideo_1_640x360.mp4: 224x384 1 Target, 25.3ms\n",
      "video 1/1 (frame 361/2731) c:\\Users\\thoma\\Documents\\GitHub\\follow_target\\videos\\testvideo_1_640x360.mp4: 224x384 1 Target, 25.3ms\n",
      "video 1/1 (frame 362/2731) c:\\Users\\thoma\\Documents\\GitHub\\follow_target\\videos\\testvideo_1_640x360.mp4: 224x384 1 Target, 27.6ms\n",
      "video 1/1 (frame 363/2731) c:\\Users\\thoma\\Documents\\GitHub\\follow_target\\videos\\testvideo_1_640x360.mp4: 224x384 1 Target, 29.4ms\n",
      "video 1/1 (frame 364/2731) c:\\Users\\thoma\\Documents\\GitHub\\follow_target\\videos\\testvideo_1_640x360.mp4: 224x384 1 Target, 27.3ms\n",
      "video 1/1 (frame 365/2731) c:\\Users\\thoma\\Documents\\GitHub\\follow_target\\videos\\testvideo_1_640x360.mp4: 224x384 1 Target, 25.9ms\n",
      "video 1/1 (frame 366/2731) c:\\Users\\thoma\\Documents\\GitHub\\follow_target\\videos\\testvideo_1_640x360.mp4: 224x384 1 Target, 28.6ms\n",
      "video 1/1 (frame 367/2731) c:\\Users\\thoma\\Documents\\GitHub\\follow_target\\videos\\testvideo_1_640x360.mp4: 224x384 1 Target, 26.6ms\n",
      "video 1/1 (frame 368/2731) c:\\Users\\thoma\\Documents\\GitHub\\follow_target\\videos\\testvideo_1_640x360.mp4: 224x384 1 Target, 27.1ms\n",
      "video 1/1 (frame 369/2731) c:\\Users\\thoma\\Documents\\GitHub\\follow_target\\videos\\testvideo_1_640x360.mp4: 224x384 1 Target, 26.7ms\n",
      "video 1/1 (frame 370/2731) c:\\Users\\thoma\\Documents\\GitHub\\follow_target\\videos\\testvideo_1_640x360.mp4: 224x384 1 Target, 25.8ms\n",
      "video 1/1 (frame 371/2731) c:\\Users\\thoma\\Documents\\GitHub\\follow_target\\videos\\testvideo_1_640x360.mp4: 224x384 1 Target, 28.1ms\n",
      "video 1/1 (frame 372/2731) c:\\Users\\thoma\\Documents\\GitHub\\follow_target\\videos\\testvideo_1_640x360.mp4: 224x384 1 Target, 24.1ms\n",
      "video 1/1 (frame 373/2731) c:\\Users\\thoma\\Documents\\GitHub\\follow_target\\videos\\testvideo_1_640x360.mp4: 224x384 1 Target, 26.0ms\n",
      "video 1/1 (frame 374/2731) c:\\Users\\thoma\\Documents\\GitHub\\follow_target\\videos\\testvideo_1_640x360.mp4: 224x384 1 Target, 24.8ms\n",
      "video 1/1 (frame 375/2731) c:\\Users\\thoma\\Documents\\GitHub\\follow_target\\videos\\testvideo_1_640x360.mp4: 224x384 1 Target, 27.7ms\n",
      "video 1/1 (frame 376/2731) c:\\Users\\thoma\\Documents\\GitHub\\follow_target\\videos\\testvideo_1_640x360.mp4: 224x384 1 Target, 30.1ms\n",
      "video 1/1 (frame 377/2731) c:\\Users\\thoma\\Documents\\GitHub\\follow_target\\videos\\testvideo_1_640x360.mp4: 224x384 1 Target, 21.3ms\n",
      "video 1/1 (frame 378/2731) c:\\Users\\thoma\\Documents\\GitHub\\follow_target\\videos\\testvideo_1_640x360.mp4: 224x384 1 Target, 26.5ms\n",
      "video 1/1 (frame 379/2731) c:\\Users\\thoma\\Documents\\GitHub\\follow_target\\videos\\testvideo_1_640x360.mp4: 224x384 1 Target, 26.9ms\n",
      "video 1/1 (frame 380/2731) c:\\Users\\thoma\\Documents\\GitHub\\follow_target\\videos\\testvideo_1_640x360.mp4: 224x384 1 Target, 25.2ms\n",
      "video 1/1 (frame 381/2731) c:\\Users\\thoma\\Documents\\GitHub\\follow_target\\videos\\testvideo_1_640x360.mp4: 224x384 1 Target, 29.5ms\n",
      "video 1/1 (frame 382/2731) c:\\Users\\thoma\\Documents\\GitHub\\follow_target\\videos\\testvideo_1_640x360.mp4: 224x384 1 Target, 25.2ms\n",
      "video 1/1 (frame 383/2731) c:\\Users\\thoma\\Documents\\GitHub\\follow_target\\videos\\testvideo_1_640x360.mp4: 224x384 1 Target, 26.4ms\n",
      "video 1/1 (frame 384/2731) c:\\Users\\thoma\\Documents\\GitHub\\follow_target\\videos\\testvideo_1_640x360.mp4: 224x384 1 Target, 26.3ms\n",
      "video 1/1 (frame 385/2731) c:\\Users\\thoma\\Documents\\GitHub\\follow_target\\videos\\testvideo_1_640x360.mp4: 224x384 1 Target, 26.8ms\n",
      "video 1/1 (frame 386/2731) c:\\Users\\thoma\\Documents\\GitHub\\follow_target\\videos\\testvideo_1_640x360.mp4: 224x384 1 Target, 26.5ms\n",
      "video 1/1 (frame 387/2731) c:\\Users\\thoma\\Documents\\GitHub\\follow_target\\videos\\testvideo_1_640x360.mp4: 224x384 1 Target, 26.1ms\n",
      "video 1/1 (frame 388/2731) c:\\Users\\thoma\\Documents\\GitHub\\follow_target\\videos\\testvideo_1_640x360.mp4: 224x384 1 Target, 27.5ms\n",
      "video 1/1 (frame 389/2731) c:\\Users\\thoma\\Documents\\GitHub\\follow_target\\videos\\testvideo_1_640x360.mp4: 224x384 1 Target, 26.4ms\n",
      "video 1/1 (frame 390/2731) c:\\Users\\thoma\\Documents\\GitHub\\follow_target\\videos\\testvideo_1_640x360.mp4: 224x384 1 Target, 25.5ms\n",
      "video 1/1 (frame 391/2731) c:\\Users\\thoma\\Documents\\GitHub\\follow_target\\videos\\testvideo_1_640x360.mp4: 224x384 1 Target, 22.6ms\n",
      "video 1/1 (frame 392/2731) c:\\Users\\thoma\\Documents\\GitHub\\follow_target\\videos\\testvideo_1_640x360.mp4: 224x384 1 Target, 34.2ms\n",
      "video 1/1 (frame 393/2731) c:\\Users\\thoma\\Documents\\GitHub\\follow_target\\videos\\testvideo_1_640x360.mp4: 224x384 1 Target, 29.2ms\n",
      "video 1/1 (frame 394/2731) c:\\Users\\thoma\\Documents\\GitHub\\follow_target\\videos\\testvideo_1_640x360.mp4: 224x384 1 Target, 28.3ms\n",
      "video 1/1 (frame 395/2731) c:\\Users\\thoma\\Documents\\GitHub\\follow_target\\videos\\testvideo_1_640x360.mp4: 224x384 1 Target, 26.2ms\n",
      "video 1/1 (frame 396/2731) c:\\Users\\thoma\\Documents\\GitHub\\follow_target\\videos\\testvideo_1_640x360.mp4: 224x384 1 Target, 26.4ms\n",
      "video 1/1 (frame 397/2731) c:\\Users\\thoma\\Documents\\GitHub\\follow_target\\videos\\testvideo_1_640x360.mp4: 224x384 1 Target, 24.9ms\n",
      "video 1/1 (frame 398/2731) c:\\Users\\thoma\\Documents\\GitHub\\follow_target\\videos\\testvideo_1_640x360.mp4: 224x384 1 Target, 24.1ms\n",
      "video 1/1 (frame 399/2731) c:\\Users\\thoma\\Documents\\GitHub\\follow_target\\videos\\testvideo_1_640x360.mp4: 224x384 1 Target, 23.6ms\n",
      "video 1/1 (frame 400/2731) c:\\Users\\thoma\\Documents\\GitHub\\follow_target\\videos\\testvideo_1_640x360.mp4: 224x384 1 Target, 25.4ms\n",
      "video 1/1 (frame 401/2731) c:\\Users\\thoma\\Documents\\GitHub\\follow_target\\videos\\testvideo_1_640x360.mp4: 224x384 1 Target, 25.3ms\n",
      "video 1/1 (frame 402/2731) c:\\Users\\thoma\\Documents\\GitHub\\follow_target\\videos\\testvideo_1_640x360.mp4: 224x384 1 Target, 30.7ms\n",
      "video 1/1 (frame 403/2731) c:\\Users\\thoma\\Documents\\GitHub\\follow_target\\videos\\testvideo_1_640x360.mp4: 224x384 1 Target, 28.2ms\n",
      "video 1/1 (frame 404/2731) c:\\Users\\thoma\\Documents\\GitHub\\follow_target\\videos\\testvideo_1_640x360.mp4: 224x384 1 Target, 29.7ms\n",
      "video 1/1 (frame 405/2731) c:\\Users\\thoma\\Documents\\GitHub\\follow_target\\videos\\testvideo_1_640x360.mp4: 224x384 1 Target, 27.6ms\n",
      "video 1/1 (frame 406/2731) c:\\Users\\thoma\\Documents\\GitHub\\follow_target\\videos\\testvideo_1_640x360.mp4: 224x384 1 Target, 29.1ms\n",
      "video 1/1 (frame 407/2731) c:\\Users\\thoma\\Documents\\GitHub\\follow_target\\videos\\testvideo_1_640x360.mp4: 224x384 1 Target, 27.4ms\n",
      "video 1/1 (frame 408/2731) c:\\Users\\thoma\\Documents\\GitHub\\follow_target\\videos\\testvideo_1_640x360.mp4: 224x384 1 Target, 28.3ms\n",
      "video 1/1 (frame 409/2731) c:\\Users\\thoma\\Documents\\GitHub\\follow_target\\videos\\testvideo_1_640x360.mp4: 224x384 1 Target, 30.7ms\n",
      "video 1/1 (frame 410/2731) c:\\Users\\thoma\\Documents\\GitHub\\follow_target\\videos\\testvideo_1_640x360.mp4: 224x384 1 Target, 33.6ms\n",
      "video 1/1 (frame 411/2731) c:\\Users\\thoma\\Documents\\GitHub\\follow_target\\videos\\testvideo_1_640x360.mp4: 224x384 1 Target, 26.6ms\n",
      "video 1/1 (frame 412/2731) c:\\Users\\thoma\\Documents\\GitHub\\follow_target\\videos\\testvideo_1_640x360.mp4: 224x384 1 Target, 26.0ms\n",
      "video 1/1 (frame 413/2731) c:\\Users\\thoma\\Documents\\GitHub\\follow_target\\videos\\testvideo_1_640x360.mp4: 224x384 1 Target, 26.0ms\n",
      "video 1/1 (frame 414/2731) c:\\Users\\thoma\\Documents\\GitHub\\follow_target\\videos\\testvideo_1_640x360.mp4: 224x384 1 Target, 26.5ms\n",
      "video 1/1 (frame 415/2731) c:\\Users\\thoma\\Documents\\GitHub\\follow_target\\videos\\testvideo_1_640x360.mp4: 224x384 1 Target, 29.2ms\n",
      "video 1/1 (frame 416/2731) c:\\Users\\thoma\\Documents\\GitHub\\follow_target\\videos\\testvideo_1_640x360.mp4: 224x384 1 Target, 25.6ms\n",
      "video 1/1 (frame 417/2731) c:\\Users\\thoma\\Documents\\GitHub\\follow_target\\videos\\testvideo_1_640x360.mp4: 224x384 1 Target, 28.5ms\n",
      "video 1/1 (frame 418/2731) c:\\Users\\thoma\\Documents\\GitHub\\follow_target\\videos\\testvideo_1_640x360.mp4: 224x384 1 Target, 44.0ms\n",
      "video 1/1 (frame 419/2731) c:\\Users\\thoma\\Documents\\GitHub\\follow_target\\videos\\testvideo_1_640x360.mp4: 224x384 1 Target, 25.6ms\n",
      "video 1/1 (frame 420/2731) c:\\Users\\thoma\\Documents\\GitHub\\follow_target\\videos\\testvideo_1_640x360.mp4: 224x384 1 Target, 26.7ms\n",
      "video 1/1 (frame 421/2731) c:\\Users\\thoma\\Documents\\GitHub\\follow_target\\videos\\testvideo_1_640x360.mp4: 224x384 1 Target, 27.1ms\n",
      "video 1/1 (frame 422/2731) c:\\Users\\thoma\\Documents\\GitHub\\follow_target\\videos\\testvideo_1_640x360.mp4: 224x384 1 Target, 26.4ms\n",
      "video 1/1 (frame 423/2731) c:\\Users\\thoma\\Documents\\GitHub\\follow_target\\videos\\testvideo_1_640x360.mp4: 224x384 1 Target, 27.7ms\n",
      "video 1/1 (frame 424/2731) c:\\Users\\thoma\\Documents\\GitHub\\follow_target\\videos\\testvideo_1_640x360.mp4: 224x384 1 Target, 28.7ms\n",
      "video 1/1 (frame 425/2731) c:\\Users\\thoma\\Documents\\GitHub\\follow_target\\videos\\testvideo_1_640x360.mp4: 224x384 1 Target, 27.3ms\n",
      "video 1/1 (frame 426/2731) c:\\Users\\thoma\\Documents\\GitHub\\follow_target\\videos\\testvideo_1_640x360.mp4: 224x384 1 Target, 27.3ms\n",
      "video 1/1 (frame 427/2731) c:\\Users\\thoma\\Documents\\GitHub\\follow_target\\videos\\testvideo_1_640x360.mp4: 224x384 1 Target, 26.2ms\n",
      "video 1/1 (frame 428/2731) c:\\Users\\thoma\\Documents\\GitHub\\follow_target\\videos\\testvideo_1_640x360.mp4: 224x384 1 Target, 29.3ms\n",
      "video 1/1 (frame 429/2731) c:\\Users\\thoma\\Documents\\GitHub\\follow_target\\videos\\testvideo_1_640x360.mp4: 224x384 1 Target, 24.7ms\n",
      "video 1/1 (frame 430/2731) c:\\Users\\thoma\\Documents\\GitHub\\follow_target\\videos\\testvideo_1_640x360.mp4: 224x384 1 Target, 31.1ms\n",
      "video 1/1 (frame 431/2731) c:\\Users\\thoma\\Documents\\GitHub\\follow_target\\videos\\testvideo_1_640x360.mp4: 224x384 1 Target, 29.4ms\n",
      "video 1/1 (frame 432/2731) c:\\Users\\thoma\\Documents\\GitHub\\follow_target\\videos\\testvideo_1_640x360.mp4: 224x384 1 Target, 30.2ms\n",
      "video 1/1 (frame 433/2731) c:\\Users\\thoma\\Documents\\GitHub\\follow_target\\videos\\testvideo_1_640x360.mp4: 224x384 1 Target, 29.9ms\n",
      "video 1/1 (frame 434/2731) c:\\Users\\thoma\\Documents\\GitHub\\follow_target\\videos\\testvideo_1_640x360.mp4: 224x384 1 Target, 31.6ms\n",
      "video 1/1 (frame 435/2731) c:\\Users\\thoma\\Documents\\GitHub\\follow_target\\videos\\testvideo_1_640x360.mp4: 224x384 1 Target, 28.7ms\n",
      "video 1/1 (frame 436/2731) c:\\Users\\thoma\\Documents\\GitHub\\follow_target\\videos\\testvideo_1_640x360.mp4: 224x384 1 Target, 28.1ms\n",
      "video 1/1 (frame 437/2731) c:\\Users\\thoma\\Documents\\GitHub\\follow_target\\videos\\testvideo_1_640x360.mp4: 224x384 1 Target, 26.3ms\n",
      "video 1/1 (frame 438/2731) c:\\Users\\thoma\\Documents\\GitHub\\follow_target\\videos\\testvideo_1_640x360.mp4: 224x384 1 Target, 29.5ms\n",
      "video 1/1 (frame 439/2731) c:\\Users\\thoma\\Documents\\GitHub\\follow_target\\videos\\testvideo_1_640x360.mp4: 224x384 1 Target, 27.0ms\n",
      "video 1/1 (frame 440/2731) c:\\Users\\thoma\\Documents\\GitHub\\follow_target\\videos\\testvideo_1_640x360.mp4: 224x384 1 Target, 25.7ms\n",
      "video 1/1 (frame 441/2731) c:\\Users\\thoma\\Documents\\GitHub\\follow_target\\videos\\testvideo_1_640x360.mp4: 224x384 1 Target, 32.4ms\n",
      "video 1/1 (frame 442/2731) c:\\Users\\thoma\\Documents\\GitHub\\follow_target\\videos\\testvideo_1_640x360.mp4: 224x384 1 Target, 27.0ms\n",
      "video 1/1 (frame 443/2731) c:\\Users\\thoma\\Documents\\GitHub\\follow_target\\videos\\testvideo_1_640x360.mp4: 224x384 1 Target, 29.1ms\n",
      "video 1/1 (frame 444/2731) c:\\Users\\thoma\\Documents\\GitHub\\follow_target\\videos\\testvideo_1_640x360.mp4: 224x384 1 Target, 28.5ms\n",
      "video 1/1 (frame 445/2731) c:\\Users\\thoma\\Documents\\GitHub\\follow_target\\videos\\testvideo_1_640x360.mp4: 224x384 1 Target, 30.2ms\n",
      "video 1/1 (frame 446/2731) c:\\Users\\thoma\\Documents\\GitHub\\follow_target\\videos\\testvideo_1_640x360.mp4: 224x384 1 Target, 28.9ms\n",
      "video 1/1 (frame 447/2731) c:\\Users\\thoma\\Documents\\GitHub\\follow_target\\videos\\testvideo_1_640x360.mp4: 224x384 1 Target, 24.8ms\n",
      "video 1/1 (frame 448/2731) c:\\Users\\thoma\\Documents\\GitHub\\follow_target\\videos\\testvideo_1_640x360.mp4: 224x384 1 Target, 27.8ms\n",
      "video 1/1 (frame 449/2731) c:\\Users\\thoma\\Documents\\GitHub\\follow_target\\videos\\testvideo_1_640x360.mp4: 224x384 1 Target, 32.1ms\n",
      "video 1/1 (frame 450/2731) c:\\Users\\thoma\\Documents\\GitHub\\follow_target\\videos\\testvideo_1_640x360.mp4: 224x384 1 Target, 31.1ms\n",
      "video 1/1 (frame 451/2731) c:\\Users\\thoma\\Documents\\GitHub\\follow_target\\videos\\testvideo_1_640x360.mp4: 224x384 1 Target, 28.6ms\n",
      "video 1/1 (frame 452/2731) c:\\Users\\thoma\\Documents\\GitHub\\follow_target\\videos\\testvideo_1_640x360.mp4: 224x384 1 Target, 29.2ms\n",
      "video 1/1 (frame 453/2731) c:\\Users\\thoma\\Documents\\GitHub\\follow_target\\videos\\testvideo_1_640x360.mp4: 224x384 1 Target, 30.7ms\n",
      "video 1/1 (frame 454/2731) c:\\Users\\thoma\\Documents\\GitHub\\follow_target\\videos\\testvideo_1_640x360.mp4: 224x384 1 Target, 28.0ms\n",
      "video 1/1 (frame 455/2731) c:\\Users\\thoma\\Documents\\GitHub\\follow_target\\videos\\testvideo_1_640x360.mp4: 224x384 1 Target, 27.5ms\n",
      "video 1/1 (frame 456/2731) c:\\Users\\thoma\\Documents\\GitHub\\follow_target\\videos\\testvideo_1_640x360.mp4: 224x384 1 Target, 30.6ms\n",
      "video 1/1 (frame 457/2731) c:\\Users\\thoma\\Documents\\GitHub\\follow_target\\videos\\testvideo_1_640x360.mp4: 224x384 1 Target, 30.5ms\n",
      "video 1/1 (frame 458/2731) c:\\Users\\thoma\\Documents\\GitHub\\follow_target\\videos\\testvideo_1_640x360.mp4: 224x384 1 Target, 31.3ms\n",
      "video 1/1 (frame 459/2731) c:\\Users\\thoma\\Documents\\GitHub\\follow_target\\videos\\testvideo_1_640x360.mp4: 224x384 1 Target, 30.7ms\n",
      "video 1/1 (frame 460/2731) c:\\Users\\thoma\\Documents\\GitHub\\follow_target\\videos\\testvideo_1_640x360.mp4: 224x384 1 Target, 25.9ms\n",
      "video 1/1 (frame 461/2731) c:\\Users\\thoma\\Documents\\GitHub\\follow_target\\videos\\testvideo_1_640x360.mp4: 224x384 1 Target, 30.3ms\n",
      "video 1/1 (frame 462/2731) c:\\Users\\thoma\\Documents\\GitHub\\follow_target\\videos\\testvideo_1_640x360.mp4: 224x384 1 Target, 25.1ms\n",
      "video 1/1 (frame 463/2731) c:\\Users\\thoma\\Documents\\GitHub\\follow_target\\videos\\testvideo_1_640x360.mp4: 224x384 1 Target, 24.9ms\n",
      "video 1/1 (frame 464/2731) c:\\Users\\thoma\\Documents\\GitHub\\follow_target\\videos\\testvideo_1_640x360.mp4: 224x384 1 Target, 28.6ms\n",
      "video 1/1 (frame 465/2731) c:\\Users\\thoma\\Documents\\GitHub\\follow_target\\videos\\testvideo_1_640x360.mp4: 224x384 1 Target, 25.5ms\n",
      "video 1/1 (frame 466/2731) c:\\Users\\thoma\\Documents\\GitHub\\follow_target\\videos\\testvideo_1_640x360.mp4: 224x384 1 Target, 30.5ms\n",
      "video 1/1 (frame 467/2731) c:\\Users\\thoma\\Documents\\GitHub\\follow_target\\videos\\testvideo_1_640x360.mp4: 224x384 1 Target, 28.6ms\n",
      "video 1/1 (frame 468/2731) c:\\Users\\thoma\\Documents\\GitHub\\follow_target\\videos\\testvideo_1_640x360.mp4: 224x384 1 Target, 23.9ms\n",
      "video 1/1 (frame 469/2731) c:\\Users\\thoma\\Documents\\GitHub\\follow_target\\videos\\testvideo_1_640x360.mp4: 224x384 1 Target, 28.8ms\n",
      "video 1/1 (frame 470/2731) c:\\Users\\thoma\\Documents\\GitHub\\follow_target\\videos\\testvideo_1_640x360.mp4: 224x384 1 Target, 30.8ms\n",
      "video 1/1 (frame 471/2731) c:\\Users\\thoma\\Documents\\GitHub\\follow_target\\videos\\testvideo_1_640x360.mp4: 224x384 1 Target, 25.2ms\n",
      "video 1/1 (frame 472/2731) c:\\Users\\thoma\\Documents\\GitHub\\follow_target\\videos\\testvideo_1_640x360.mp4: 224x384 1 Target, 28.3ms\n",
      "video 1/1 (frame 473/2731) c:\\Users\\thoma\\Documents\\GitHub\\follow_target\\videos\\testvideo_1_640x360.mp4: 224x384 1 Target, 29.8ms\n",
      "video 1/1 (frame 474/2731) c:\\Users\\thoma\\Documents\\GitHub\\follow_target\\videos\\testvideo_1_640x360.mp4: 224x384 1 Target, 27.4ms\n",
      "video 1/1 (frame 475/2731) c:\\Users\\thoma\\Documents\\GitHub\\follow_target\\videos\\testvideo_1_640x360.mp4: 224x384 1 Target, 30.3ms\n",
      "video 1/1 (frame 476/2731) c:\\Users\\thoma\\Documents\\GitHub\\follow_target\\videos\\testvideo_1_640x360.mp4: 224x384 1 Target, 28.3ms\n",
      "video 1/1 (frame 477/2731) c:\\Users\\thoma\\Documents\\GitHub\\follow_target\\videos\\testvideo_1_640x360.mp4: 224x384 1 Target, 26.5ms\n",
      "video 1/1 (frame 478/2731) c:\\Users\\thoma\\Documents\\GitHub\\follow_target\\videos\\testvideo_1_640x360.mp4: 224x384 1 Target, 25.4ms\n",
      "video 1/1 (frame 479/2731) c:\\Users\\thoma\\Documents\\GitHub\\follow_target\\videos\\testvideo_1_640x360.mp4: 224x384 1 Target, 29.6ms\n",
      "video 1/1 (frame 480/2731) c:\\Users\\thoma\\Documents\\GitHub\\follow_target\\videos\\testvideo_1_640x360.mp4: 224x384 1 Target, 26.2ms\n",
      "video 1/1 (frame 481/2731) c:\\Users\\thoma\\Documents\\GitHub\\follow_target\\videos\\testvideo_1_640x360.mp4: 224x384 1 Target, 27.2ms\n",
      "video 1/1 (frame 482/2731) c:\\Users\\thoma\\Documents\\GitHub\\follow_target\\videos\\testvideo_1_640x360.mp4: 224x384 1 Target, 28.7ms\n",
      "video 1/1 (frame 483/2731) c:\\Users\\thoma\\Documents\\GitHub\\follow_target\\videos\\testvideo_1_640x360.mp4: 224x384 1 Target, 29.4ms\n",
      "video 1/1 (frame 484/2731) c:\\Users\\thoma\\Documents\\GitHub\\follow_target\\videos\\testvideo_1_640x360.mp4: 224x384 1 Target, 27.7ms\n",
      "video 1/1 (frame 485/2731) c:\\Users\\thoma\\Documents\\GitHub\\follow_target\\videos\\testvideo_1_640x360.mp4: 224x384 1 Target, 31.4ms\n",
      "video 1/1 (frame 486/2731) c:\\Users\\thoma\\Documents\\GitHub\\follow_target\\videos\\testvideo_1_640x360.mp4: 224x384 1 Target, 28.4ms\n",
      "video 1/1 (frame 487/2731) c:\\Users\\thoma\\Documents\\GitHub\\follow_target\\videos\\testvideo_1_640x360.mp4: 224x384 1 Target, 27.6ms\n",
      "video 1/1 (frame 488/2731) c:\\Users\\thoma\\Documents\\GitHub\\follow_target\\videos\\testvideo_1_640x360.mp4: 224x384 1 Target, 28.3ms\n",
      "video 1/1 (frame 489/2731) c:\\Users\\thoma\\Documents\\GitHub\\follow_target\\videos\\testvideo_1_640x360.mp4: 224x384 1 Target, 28.1ms\n",
      "video 1/1 (frame 490/2731) c:\\Users\\thoma\\Documents\\GitHub\\follow_target\\videos\\testvideo_1_640x360.mp4: 224x384 1 Target, 28.5ms\n",
      "video 1/1 (frame 491/2731) c:\\Users\\thoma\\Documents\\GitHub\\follow_target\\videos\\testvideo_1_640x360.mp4: 224x384 1 Target, 26.9ms\n",
      "video 1/1 (frame 492/2731) c:\\Users\\thoma\\Documents\\GitHub\\follow_target\\videos\\testvideo_1_640x360.mp4: 224x384 1 Target, 28.1ms\n",
      "video 1/1 (frame 493/2731) c:\\Users\\thoma\\Documents\\GitHub\\follow_target\\videos\\testvideo_1_640x360.mp4: 224x384 1 Target, 30.6ms\n",
      "video 1/1 (frame 494/2731) c:\\Users\\thoma\\Documents\\GitHub\\follow_target\\videos\\testvideo_1_640x360.mp4: 224x384 1 Target, 29.7ms\n",
      "video 1/1 (frame 495/2731) c:\\Users\\thoma\\Documents\\GitHub\\follow_target\\videos\\testvideo_1_640x360.mp4: 224x384 1 Target, 28.8ms\n",
      "video 1/1 (frame 496/2731) c:\\Users\\thoma\\Documents\\GitHub\\follow_target\\videos\\testvideo_1_640x360.mp4: 224x384 1 Target, 31.6ms\n",
      "video 1/1 (frame 497/2731) c:\\Users\\thoma\\Documents\\GitHub\\follow_target\\videos\\testvideo_1_640x360.mp4: 224x384 1 Target, 25.8ms\n",
      "video 1/1 (frame 498/2731) c:\\Users\\thoma\\Documents\\GitHub\\follow_target\\videos\\testvideo_1_640x360.mp4: 224x384 1 Target, 30.5ms\n",
      "video 1/1 (frame 499/2731) c:\\Users\\thoma\\Documents\\GitHub\\follow_target\\videos\\testvideo_1_640x360.mp4: 224x384 1 Target, 27.5ms\n",
      "video 1/1 (frame 500/2731) c:\\Users\\thoma\\Documents\\GitHub\\follow_target\\videos\\testvideo_1_640x360.mp4: 224x384 1 Target, 24.4ms\n",
      "video 1/1 (frame 501/2731) c:\\Users\\thoma\\Documents\\GitHub\\follow_target\\videos\\testvideo_1_640x360.mp4: 224x384 1 Target, 27.3ms\n",
      "video 1/1 (frame 502/2731) c:\\Users\\thoma\\Documents\\GitHub\\follow_target\\videos\\testvideo_1_640x360.mp4: 224x384 1 Target, 25.1ms\n",
      "video 1/1 (frame 503/2731) c:\\Users\\thoma\\Documents\\GitHub\\follow_target\\videos\\testvideo_1_640x360.mp4: 224x384 1 Target, 26.7ms\n",
      "video 1/1 (frame 504/2731) c:\\Users\\thoma\\Documents\\GitHub\\follow_target\\videos\\testvideo_1_640x360.mp4: 224x384 1 Target, 24.5ms\n",
      "video 1/1 (frame 505/2731) c:\\Users\\thoma\\Documents\\GitHub\\follow_target\\videos\\testvideo_1_640x360.mp4: 224x384 1 Target, 29.5ms\n",
      "video 1/1 (frame 506/2731) c:\\Users\\thoma\\Documents\\GitHub\\follow_target\\videos\\testvideo_1_640x360.mp4: 224x384 1 Target, 29.0ms\n",
      "video 1/1 (frame 507/2731) c:\\Users\\thoma\\Documents\\GitHub\\follow_target\\videos\\testvideo_1_640x360.mp4: 224x384 1 Target, 25.0ms\n",
      "video 1/1 (frame 508/2731) c:\\Users\\thoma\\Documents\\GitHub\\follow_target\\videos\\testvideo_1_640x360.mp4: 224x384 (no detections), 26.0ms\n",
      "video 1/1 (frame 509/2731) c:\\Users\\thoma\\Documents\\GitHub\\follow_target\\videos\\testvideo_1_640x360.mp4: 224x384 (no detections), 30.9ms\n",
      "video 1/1 (frame 510/2731) c:\\Users\\thoma\\Documents\\GitHub\\follow_target\\videos\\testvideo_1_640x360.mp4: 224x384 (no detections), 30.4ms\n",
      "video 1/1 (frame 511/2731) c:\\Users\\thoma\\Documents\\GitHub\\follow_target\\videos\\testvideo_1_640x360.mp4: 224x384 (no detections), 29.4ms\n",
      "video 1/1 (frame 512/2731) c:\\Users\\thoma\\Documents\\GitHub\\follow_target\\videos\\testvideo_1_640x360.mp4: 224x384 (no detections), 29.5ms\n",
      "video 1/1 (frame 513/2731) c:\\Users\\thoma\\Documents\\GitHub\\follow_target\\videos\\testvideo_1_640x360.mp4: 224x384 (no detections), 30.5ms\n",
      "video 1/1 (frame 514/2731) c:\\Users\\thoma\\Documents\\GitHub\\follow_target\\videos\\testvideo_1_640x360.mp4: 224x384 (no detections), 29.2ms\n",
      "video 1/1 (frame 515/2731) c:\\Users\\thoma\\Documents\\GitHub\\follow_target\\videos\\testvideo_1_640x360.mp4: 224x384 (no detections), 24.7ms\n",
      "video 1/1 (frame 516/2731) c:\\Users\\thoma\\Documents\\GitHub\\follow_target\\videos\\testvideo_1_640x360.mp4: 224x384 1 Target, 24.6ms\n",
      "video 1/1 (frame 517/2731) c:\\Users\\thoma\\Documents\\GitHub\\follow_target\\videos\\testvideo_1_640x360.mp4: 224x384 1 Target, 25.6ms\n",
      "video 1/1 (frame 518/2731) c:\\Users\\thoma\\Documents\\GitHub\\follow_target\\videos\\testvideo_1_640x360.mp4: 224x384 1 Target, 25.2ms\n",
      "video 1/1 (frame 519/2731) c:\\Users\\thoma\\Documents\\GitHub\\follow_target\\videos\\testvideo_1_640x360.mp4: 224x384 1 Target, 25.7ms\n",
      "video 1/1 (frame 520/2731) c:\\Users\\thoma\\Documents\\GitHub\\follow_target\\videos\\testvideo_1_640x360.mp4: 224x384 1 Target, 24.9ms\n",
      "video 1/1 (frame 521/2731) c:\\Users\\thoma\\Documents\\GitHub\\follow_target\\videos\\testvideo_1_640x360.mp4: 224x384 (no detections), 31.2ms\n",
      "video 1/1 (frame 522/2731) c:\\Users\\thoma\\Documents\\GitHub\\follow_target\\videos\\testvideo_1_640x360.mp4: 224x384 1 Target, 30.0ms\n",
      "video 1/1 (frame 523/2731) c:\\Users\\thoma\\Documents\\GitHub\\follow_target\\videos\\testvideo_1_640x360.mp4: 224x384 1 Target, 25.9ms\n",
      "video 1/1 (frame 524/2731) c:\\Users\\thoma\\Documents\\GitHub\\follow_target\\videos\\testvideo_1_640x360.mp4: 224x384 1 Target, 27.5ms\n",
      "video 1/1 (frame 525/2731) c:\\Users\\thoma\\Documents\\GitHub\\follow_target\\videos\\testvideo_1_640x360.mp4: 224x384 1 Target, 26.6ms\n",
      "video 1/1 (frame 526/2731) c:\\Users\\thoma\\Documents\\GitHub\\follow_target\\videos\\testvideo_1_640x360.mp4: 224x384 1 Target, 26.2ms\n",
      "video 1/1 (frame 527/2731) c:\\Users\\thoma\\Documents\\GitHub\\follow_target\\videos\\testvideo_1_640x360.mp4: 224x384 1 Target, 26.2ms\n",
      "video 1/1 (frame 528/2731) c:\\Users\\thoma\\Documents\\GitHub\\follow_target\\videos\\testvideo_1_640x360.mp4: 224x384 1 Target, 26.4ms\n",
      "video 1/1 (frame 529/2731) c:\\Users\\thoma\\Documents\\GitHub\\follow_target\\videos\\testvideo_1_640x360.mp4: 224x384 1 Target, 30.7ms\n",
      "video 1/1 (frame 530/2731) c:\\Users\\thoma\\Documents\\GitHub\\follow_target\\videos\\testvideo_1_640x360.mp4: 224x384 1 Target, 27.1ms\n",
      "video 1/1 (frame 531/2731) c:\\Users\\thoma\\Documents\\GitHub\\follow_target\\videos\\testvideo_1_640x360.mp4: 224x384 1 Target, 26.9ms\n",
      "video 1/1 (frame 532/2731) c:\\Users\\thoma\\Documents\\GitHub\\follow_target\\videos\\testvideo_1_640x360.mp4: 224x384 1 Target, 29.5ms\n",
      "video 1/1 (frame 533/2731) c:\\Users\\thoma\\Documents\\GitHub\\follow_target\\videos\\testvideo_1_640x360.mp4: 224x384 1 Target, 28.6ms\n",
      "video 1/1 (frame 534/2731) c:\\Users\\thoma\\Documents\\GitHub\\follow_target\\videos\\testvideo_1_640x360.mp4: 224x384 1 Target, 28.6ms\n",
      "video 1/1 (frame 535/2731) c:\\Users\\thoma\\Documents\\GitHub\\follow_target\\videos\\testvideo_1_640x360.mp4: 224x384 1 Target, 28.4ms\n",
      "video 1/1 (frame 536/2731) c:\\Users\\thoma\\Documents\\GitHub\\follow_target\\videos\\testvideo_1_640x360.mp4: 224x384 1 Target, 29.1ms\n",
      "video 1/1 (frame 537/2731) c:\\Users\\thoma\\Documents\\GitHub\\follow_target\\videos\\testvideo_1_640x360.mp4: 224x384 1 Target, 25.7ms\n",
      "video 1/1 (frame 538/2731) c:\\Users\\thoma\\Documents\\GitHub\\follow_target\\videos\\testvideo_1_640x360.mp4: 224x384 1 Target, 27.7ms\n",
      "video 1/1 (frame 539/2731) c:\\Users\\thoma\\Documents\\GitHub\\follow_target\\videos\\testvideo_1_640x360.mp4: 224x384 1 Target, 25.4ms\n",
      "video 1/1 (frame 540/2731) c:\\Users\\thoma\\Documents\\GitHub\\follow_target\\videos\\testvideo_1_640x360.mp4: 224x384 1 Target, 28.6ms\n",
      "video 1/1 (frame 541/2731) c:\\Users\\thoma\\Documents\\GitHub\\follow_target\\videos\\testvideo_1_640x360.mp4: 224x384 1 Target, 30.6ms\n",
      "video 1/1 (frame 542/2731) c:\\Users\\thoma\\Documents\\GitHub\\follow_target\\videos\\testvideo_1_640x360.mp4: 224x384 1 Target, 26.0ms\n",
      "video 1/1 (frame 543/2731) c:\\Users\\thoma\\Documents\\GitHub\\follow_target\\videos\\testvideo_1_640x360.mp4: 224x384 1 Target, 26.4ms\n",
      "video 1/1 (frame 544/2731) c:\\Users\\thoma\\Documents\\GitHub\\follow_target\\videos\\testvideo_1_640x360.mp4: 224x384 1 Target, 27.1ms\n",
      "video 1/1 (frame 545/2731) c:\\Users\\thoma\\Documents\\GitHub\\follow_target\\videos\\testvideo_1_640x360.mp4: 224x384 1 Target, 25.7ms\n",
      "video 1/1 (frame 546/2731) c:\\Users\\thoma\\Documents\\GitHub\\follow_target\\videos\\testvideo_1_640x360.mp4: 224x384 1 Target, 27.6ms\n",
      "video 1/1 (frame 547/2731) c:\\Users\\thoma\\Documents\\GitHub\\follow_target\\videos\\testvideo_1_640x360.mp4: 224x384 1 Target, 29.2ms\n",
      "video 1/1 (frame 548/2731) c:\\Users\\thoma\\Documents\\GitHub\\follow_target\\videos\\testvideo_1_640x360.mp4: 224x384 1 Target, 31.2ms\n",
      "video 1/1 (frame 549/2731) c:\\Users\\thoma\\Documents\\GitHub\\follow_target\\videos\\testvideo_1_640x360.mp4: 224x384 1 Target, 26.2ms\n",
      "video 1/1 (frame 550/2731) c:\\Users\\thoma\\Documents\\GitHub\\follow_target\\videos\\testvideo_1_640x360.mp4: 224x384 1 Target, 24.6ms\n",
      "video 1/1 (frame 551/2731) c:\\Users\\thoma\\Documents\\GitHub\\follow_target\\videos\\testvideo_1_640x360.mp4: 224x384 1 Target, 27.6ms\n",
      "video 1/1 (frame 552/2731) c:\\Users\\thoma\\Documents\\GitHub\\follow_target\\videos\\testvideo_1_640x360.mp4: 224x384 1 Target, 24.9ms\n",
      "video 1/1 (frame 553/2731) c:\\Users\\thoma\\Documents\\GitHub\\follow_target\\videos\\testvideo_1_640x360.mp4: 224x384 1 Target, 41.0ms\n",
      "video 1/1 (frame 554/2731) c:\\Users\\thoma\\Documents\\GitHub\\follow_target\\videos\\testvideo_1_640x360.mp4: 224x384 1 Target, 27.5ms\n",
      "video 1/1 (frame 555/2731) c:\\Users\\thoma\\Documents\\GitHub\\follow_target\\videos\\testvideo_1_640x360.mp4: 224x384 1 Target, 26.5ms\n",
      "video 1/1 (frame 556/2731) c:\\Users\\thoma\\Documents\\GitHub\\follow_target\\videos\\testvideo_1_640x360.mp4: 224x384 1 Target, 26.3ms\n",
      "video 1/1 (frame 557/2731) c:\\Users\\thoma\\Documents\\GitHub\\follow_target\\videos\\testvideo_1_640x360.mp4: 224x384 1 Target, 25.3ms\n",
      "video 1/1 (frame 558/2731) c:\\Users\\thoma\\Documents\\GitHub\\follow_target\\videos\\testvideo_1_640x360.mp4: 224x384 1 Target, 25.4ms\n",
      "video 1/1 (frame 559/2731) c:\\Users\\thoma\\Documents\\GitHub\\follow_target\\videos\\testvideo_1_640x360.mp4: 224x384 1 Target, 26.2ms\n",
      "video 1/1 (frame 560/2731) c:\\Users\\thoma\\Documents\\GitHub\\follow_target\\videos\\testvideo_1_640x360.mp4: 224x384 1 Target, 25.9ms\n",
      "video 1/1 (frame 561/2731) c:\\Users\\thoma\\Documents\\GitHub\\follow_target\\videos\\testvideo_1_640x360.mp4: 224x384 1 Target, 26.0ms\n",
      "video 1/1 (frame 562/2731) c:\\Users\\thoma\\Documents\\GitHub\\follow_target\\videos\\testvideo_1_640x360.mp4: 224x384 1 Target, 27.0ms\n",
      "video 1/1 (frame 563/2731) c:\\Users\\thoma\\Documents\\GitHub\\follow_target\\videos\\testvideo_1_640x360.mp4: 224x384 1 Target, 26.9ms\n",
      "video 1/1 (frame 564/2731) c:\\Users\\thoma\\Documents\\GitHub\\follow_target\\videos\\testvideo_1_640x360.mp4: 224x384 1 Target, 27.6ms\n",
      "video 1/1 (frame 565/2731) c:\\Users\\thoma\\Documents\\GitHub\\follow_target\\videos\\testvideo_1_640x360.mp4: 224x384 1 Target, 26.8ms\n",
      "video 1/1 (frame 566/2731) c:\\Users\\thoma\\Documents\\GitHub\\follow_target\\videos\\testvideo_1_640x360.mp4: 224x384 1 Target, 27.2ms\n",
      "video 1/1 (frame 567/2731) c:\\Users\\thoma\\Documents\\GitHub\\follow_target\\videos\\testvideo_1_640x360.mp4: 224x384 1 Target, 27.6ms\n",
      "video 1/1 (frame 568/2731) c:\\Users\\thoma\\Documents\\GitHub\\follow_target\\videos\\testvideo_1_640x360.mp4: 224x384 1 Target, 26.2ms\n",
      "video 1/1 (frame 569/2731) c:\\Users\\thoma\\Documents\\GitHub\\follow_target\\videos\\testvideo_1_640x360.mp4: 224x384 1 Target, 26.5ms\n",
      "video 1/1 (frame 570/2731) c:\\Users\\thoma\\Documents\\GitHub\\follow_target\\videos\\testvideo_1_640x360.mp4: 224x384 1 Target, 27.1ms\n",
      "video 1/1 (frame 571/2731) c:\\Users\\thoma\\Documents\\GitHub\\follow_target\\videos\\testvideo_1_640x360.mp4: 224x384 1 Target, 27.2ms\n",
      "video 1/1 (frame 572/2731) c:\\Users\\thoma\\Documents\\GitHub\\follow_target\\videos\\testvideo_1_640x360.mp4: 224x384 1 Target, 30.0ms\n",
      "video 1/1 (frame 573/2731) c:\\Users\\thoma\\Documents\\GitHub\\follow_target\\videos\\testvideo_1_640x360.mp4: 224x384 1 Target, 27.8ms\n",
      "video 1/1 (frame 574/2731) c:\\Users\\thoma\\Documents\\GitHub\\follow_target\\videos\\testvideo_1_640x360.mp4: 224x384 1 Target, 26.8ms\n",
      "video 1/1 (frame 575/2731) c:\\Users\\thoma\\Documents\\GitHub\\follow_target\\videos\\testvideo_1_640x360.mp4: 224x384 1 Target, 27.7ms\n",
      "video 1/1 (frame 576/2731) c:\\Users\\thoma\\Documents\\GitHub\\follow_target\\videos\\testvideo_1_640x360.mp4: 224x384 1 Target, 25.7ms\n",
      "video 1/1 (frame 577/2731) c:\\Users\\thoma\\Documents\\GitHub\\follow_target\\videos\\testvideo_1_640x360.mp4: 224x384 1 Target, 27.1ms\n",
      "video 1/1 (frame 578/2731) c:\\Users\\thoma\\Documents\\GitHub\\follow_target\\videos\\testvideo_1_640x360.mp4: 224x384 1 Target, 26.5ms\n",
      "video 1/1 (frame 579/2731) c:\\Users\\thoma\\Documents\\GitHub\\follow_target\\videos\\testvideo_1_640x360.mp4: 224x384 1 Target, 24.8ms\n",
      "video 1/1 (frame 580/2731) c:\\Users\\thoma\\Documents\\GitHub\\follow_target\\videos\\testvideo_1_640x360.mp4: 224x384 1 Target, 26.5ms\n",
      "video 1/1 (frame 581/2731) c:\\Users\\thoma\\Documents\\GitHub\\follow_target\\videos\\testvideo_1_640x360.mp4: 224x384 1 Target, 24.9ms\n",
      "video 1/1 (frame 582/2731) c:\\Users\\thoma\\Documents\\GitHub\\follow_target\\videos\\testvideo_1_640x360.mp4: 224x384 1 Target, 25.9ms\n",
      "video 1/1 (frame 583/2731) c:\\Users\\thoma\\Documents\\GitHub\\follow_target\\videos\\testvideo_1_640x360.mp4: 224x384 1 Target, 25.5ms\n",
      "video 1/1 (frame 584/2731) c:\\Users\\thoma\\Documents\\GitHub\\follow_target\\videos\\testvideo_1_640x360.mp4: 224x384 1 Target, 28.3ms\n",
      "video 1/1 (frame 585/2731) c:\\Users\\thoma\\Documents\\GitHub\\follow_target\\videos\\testvideo_1_640x360.mp4: 224x384 1 Target, 26.5ms\n",
      "video 1/1 (frame 586/2731) c:\\Users\\thoma\\Documents\\GitHub\\follow_target\\videos\\testvideo_1_640x360.mp4: 224x384 1 Target, 28.4ms\n",
      "video 1/1 (frame 587/2731) c:\\Users\\thoma\\Documents\\GitHub\\follow_target\\videos\\testvideo_1_640x360.mp4: 224x384 1 Target, 28.8ms\n",
      "video 1/1 (frame 588/2731) c:\\Users\\thoma\\Documents\\GitHub\\follow_target\\videos\\testvideo_1_640x360.mp4: 224x384 1 Target, 30.8ms\n",
      "video 1/1 (frame 589/2731) c:\\Users\\thoma\\Documents\\GitHub\\follow_target\\videos\\testvideo_1_640x360.mp4: 224x384 1 Target, 26.1ms\n",
      "video 1/1 (frame 590/2731) c:\\Users\\thoma\\Documents\\GitHub\\follow_target\\videos\\testvideo_1_640x360.mp4: 224x384 1 Target, 28.3ms\n",
      "video 1/1 (frame 591/2731) c:\\Users\\thoma\\Documents\\GitHub\\follow_target\\videos\\testvideo_1_640x360.mp4: 224x384 1 Target, 25.7ms\n",
      "video 1/1 (frame 592/2731) c:\\Users\\thoma\\Documents\\GitHub\\follow_target\\videos\\testvideo_1_640x360.mp4: 224x384 1 Target, 25.2ms\n",
      "video 1/1 (frame 593/2731) c:\\Users\\thoma\\Documents\\GitHub\\follow_target\\videos\\testvideo_1_640x360.mp4: 224x384 1 Target, 29.1ms\n",
      "video 1/1 (frame 594/2731) c:\\Users\\thoma\\Documents\\GitHub\\follow_target\\videos\\testvideo_1_640x360.mp4: 224x384 1 Target, 29.7ms\n",
      "video 1/1 (frame 595/2731) c:\\Users\\thoma\\Documents\\GitHub\\follow_target\\videos\\testvideo_1_640x360.mp4: 224x384 1 Target, 26.1ms\n",
      "video 1/1 (frame 596/2731) c:\\Users\\thoma\\Documents\\GitHub\\follow_target\\videos\\testvideo_1_640x360.mp4: 224x384 1 Target, 29.2ms\n",
      "video 1/1 (frame 597/2731) c:\\Users\\thoma\\Documents\\GitHub\\follow_target\\videos\\testvideo_1_640x360.mp4: 224x384 1 Target, 24.7ms\n",
      "video 1/1 (frame 598/2731) c:\\Users\\thoma\\Documents\\GitHub\\follow_target\\videos\\testvideo_1_640x360.mp4: 224x384 1 Target, 28.6ms\n",
      "video 1/1 (frame 599/2731) c:\\Users\\thoma\\Documents\\GitHub\\follow_target\\videos\\testvideo_1_640x360.mp4: 224x384 1 Target, 25.9ms\n",
      "video 1/1 (frame 600/2731) c:\\Users\\thoma\\Documents\\GitHub\\follow_target\\videos\\testvideo_1_640x360.mp4: 224x384 1 Target, 27.1ms\n",
      "video 1/1 (frame 601/2731) c:\\Users\\thoma\\Documents\\GitHub\\follow_target\\videos\\testvideo_1_640x360.mp4: 224x384 1 Target, 26.3ms\n",
      "video 1/1 (frame 602/2731) c:\\Users\\thoma\\Documents\\GitHub\\follow_target\\videos\\testvideo_1_640x360.mp4: 224x384 1 Target, 27.5ms\n",
      "video 1/1 (frame 603/2731) c:\\Users\\thoma\\Documents\\GitHub\\follow_target\\videos\\testvideo_1_640x360.mp4: 224x384 1 Target, 32.3ms\n",
      "video 1/1 (frame 604/2731) c:\\Users\\thoma\\Documents\\GitHub\\follow_target\\videos\\testvideo_1_640x360.mp4: 224x384 1 Target, 28.4ms\n",
      "video 1/1 (frame 605/2731) c:\\Users\\thoma\\Documents\\GitHub\\follow_target\\videos\\testvideo_1_640x360.mp4: 224x384 1 Target, 28.9ms\n",
      "video 1/1 (frame 606/2731) c:\\Users\\thoma\\Documents\\GitHub\\follow_target\\videos\\testvideo_1_640x360.mp4: 224x384 1 Target, 30.2ms\n",
      "video 1/1 (frame 607/2731) c:\\Users\\thoma\\Documents\\GitHub\\follow_target\\videos\\testvideo_1_640x360.mp4: 224x384 1 Target, 29.8ms\n",
      "video 1/1 (frame 608/2731) c:\\Users\\thoma\\Documents\\GitHub\\follow_target\\videos\\testvideo_1_640x360.mp4: 224x384 1 Target, 30.0ms\n",
      "video 1/1 (frame 609/2731) c:\\Users\\thoma\\Documents\\GitHub\\follow_target\\videos\\testvideo_1_640x360.mp4: 224x384 1 Target, 30.6ms\n",
      "video 1/1 (frame 610/2731) c:\\Users\\thoma\\Documents\\GitHub\\follow_target\\videos\\testvideo_1_640x360.mp4: 224x384 1 Target, 30.5ms\n",
      "video 1/1 (frame 611/2731) c:\\Users\\thoma\\Documents\\GitHub\\follow_target\\videos\\testvideo_1_640x360.mp4: 224x384 1 Target, 32.8ms\n",
      "video 1/1 (frame 612/2731) c:\\Users\\thoma\\Documents\\GitHub\\follow_target\\videos\\testvideo_1_640x360.mp4: 224x384 1 Target, 27.5ms\n",
      "video 1/1 (frame 613/2731) c:\\Users\\thoma\\Documents\\GitHub\\follow_target\\videos\\testvideo_1_640x360.mp4: 224x384 1 Target, 27.7ms\n",
      "video 1/1 (frame 614/2731) c:\\Users\\thoma\\Documents\\GitHub\\follow_target\\videos\\testvideo_1_640x360.mp4: 224x384 1 Target, 26.7ms\n",
      "video 1/1 (frame 615/2731) c:\\Users\\thoma\\Documents\\GitHub\\follow_target\\videos\\testvideo_1_640x360.mp4: 224x384 1 Target, 26.9ms\n",
      "video 1/1 (frame 616/2731) c:\\Users\\thoma\\Documents\\GitHub\\follow_target\\videos\\testvideo_1_640x360.mp4: 224x384 1 Target, 25.8ms\n",
      "video 1/1 (frame 617/2731) c:\\Users\\thoma\\Documents\\GitHub\\follow_target\\videos\\testvideo_1_640x360.mp4: 224x384 1 Target, 27.4ms\n",
      "video 1/1 (frame 618/2731) c:\\Users\\thoma\\Documents\\GitHub\\follow_target\\videos\\testvideo_1_640x360.mp4: 224x384 1 Target, 26.6ms\n",
      "video 1/1 (frame 619/2731) c:\\Users\\thoma\\Documents\\GitHub\\follow_target\\videos\\testvideo_1_640x360.mp4: 224x384 1 Target, 28.4ms\n",
      "video 1/1 (frame 620/2731) c:\\Users\\thoma\\Documents\\GitHub\\follow_target\\videos\\testvideo_1_640x360.mp4: 224x384 1 Target, 32.4ms\n",
      "video 1/1 (frame 621/2731) c:\\Users\\thoma\\Documents\\GitHub\\follow_target\\videos\\testvideo_1_640x360.mp4: 224x384 1 Target, 31.4ms\n",
      "video 1/1 (frame 622/2731) c:\\Users\\thoma\\Documents\\GitHub\\follow_target\\videos\\testvideo_1_640x360.mp4: 224x384 1 Target, 29.6ms\n",
      "video 1/1 (frame 623/2731) c:\\Users\\thoma\\Documents\\GitHub\\follow_target\\videos\\testvideo_1_640x360.mp4: 224x384 1 Target, 27.9ms\n",
      "video 1/1 (frame 624/2731) c:\\Users\\thoma\\Documents\\GitHub\\follow_target\\videos\\testvideo_1_640x360.mp4: 224x384 1 Target, 28.0ms\n",
      "video 1/1 (frame 625/2731) c:\\Users\\thoma\\Documents\\GitHub\\follow_target\\videos\\testvideo_1_640x360.mp4: 224x384 1 Target, 26.9ms\n",
      "video 1/1 (frame 626/2731) c:\\Users\\thoma\\Documents\\GitHub\\follow_target\\videos\\testvideo_1_640x360.mp4: 224x384 1 Target, 27.7ms\n",
      "video 1/1 (frame 627/2731) c:\\Users\\thoma\\Documents\\GitHub\\follow_target\\videos\\testvideo_1_640x360.mp4: 224x384 1 Target, 27.4ms\n",
      "video 1/1 (frame 628/2731) c:\\Users\\thoma\\Documents\\GitHub\\follow_target\\videos\\testvideo_1_640x360.mp4: 224x384 1 Target, 30.8ms\n",
      "video 1/1 (frame 629/2731) c:\\Users\\thoma\\Documents\\GitHub\\follow_target\\videos\\testvideo_1_640x360.mp4: 224x384 1 Target, 30.4ms\n",
      "video 1/1 (frame 630/2731) c:\\Users\\thoma\\Documents\\GitHub\\follow_target\\videos\\testvideo_1_640x360.mp4: 224x384 1 Target, 31.7ms\n",
      "video 1/1 (frame 631/2731) c:\\Users\\thoma\\Documents\\GitHub\\follow_target\\videos\\testvideo_1_640x360.mp4: 224x384 1 Target, 30.3ms\n",
      "video 1/1 (frame 632/2731) c:\\Users\\thoma\\Documents\\GitHub\\follow_target\\videos\\testvideo_1_640x360.mp4: 224x384 1 Target, 34.6ms\n",
      "video 1/1 (frame 633/2731) c:\\Users\\thoma\\Documents\\GitHub\\follow_target\\videos\\testvideo_1_640x360.mp4: 224x384 1 Target, 27.1ms\n",
      "video 1/1 (frame 634/2731) c:\\Users\\thoma\\Documents\\GitHub\\follow_target\\videos\\testvideo_1_640x360.mp4: 224x384 1 Target, 27.4ms\n",
      "video 1/1 (frame 635/2731) c:\\Users\\thoma\\Documents\\GitHub\\follow_target\\videos\\testvideo_1_640x360.mp4: 224x384 1 Target, 26.3ms\n",
      "video 1/1 (frame 636/2731) c:\\Users\\thoma\\Documents\\GitHub\\follow_target\\videos\\testvideo_1_640x360.mp4: 224x384 1 Target, 28.8ms\n",
      "video 1/1 (frame 637/2731) c:\\Users\\thoma\\Documents\\GitHub\\follow_target\\videos\\testvideo_1_640x360.mp4: 224x384 1 Target, 27.6ms\n",
      "video 1/1 (frame 638/2731) c:\\Users\\thoma\\Documents\\GitHub\\follow_target\\videos\\testvideo_1_640x360.mp4: 224x384 1 Target, 28.5ms\n",
      "video 1/1 (frame 639/2731) c:\\Users\\thoma\\Documents\\GitHub\\follow_target\\videos\\testvideo_1_640x360.mp4: 224x384 1 Target, 30.3ms\n",
      "video 1/1 (frame 640/2731) c:\\Users\\thoma\\Documents\\GitHub\\follow_target\\videos\\testvideo_1_640x360.mp4: 224x384 1 Target, 30.9ms\n",
      "video 1/1 (frame 641/2731) c:\\Users\\thoma\\Documents\\GitHub\\follow_target\\videos\\testvideo_1_640x360.mp4: 224x384 1 Target, 27.6ms\n",
      "video 1/1 (frame 642/2731) c:\\Users\\thoma\\Documents\\GitHub\\follow_target\\videos\\testvideo_1_640x360.mp4: 224x384 1 Target, 29.0ms\n",
      "video 1/1 (frame 643/2731) c:\\Users\\thoma\\Documents\\GitHub\\follow_target\\videos\\testvideo_1_640x360.mp4: 224x384 1 Target, 25.9ms\n",
      "video 1/1 (frame 644/2731) c:\\Users\\thoma\\Documents\\GitHub\\follow_target\\videos\\testvideo_1_640x360.mp4: 224x384 1 Target, 29.9ms\n",
      "video 1/1 (frame 645/2731) c:\\Users\\thoma\\Documents\\GitHub\\follow_target\\videos\\testvideo_1_640x360.mp4: 224x384 1 Target, 27.9ms\n",
      "video 1/1 (frame 646/2731) c:\\Users\\thoma\\Documents\\GitHub\\follow_target\\videos\\testvideo_1_640x360.mp4: 224x384 1 Target, 26.9ms\n",
      "video 1/1 (frame 647/2731) c:\\Users\\thoma\\Documents\\GitHub\\follow_target\\videos\\testvideo_1_640x360.mp4: 224x384 1 Target, 27.4ms\n",
      "video 1/1 (frame 648/2731) c:\\Users\\thoma\\Documents\\GitHub\\follow_target\\videos\\testvideo_1_640x360.mp4: 224x384 1 Target, 29.4ms\n",
      "video 1/1 (frame 649/2731) c:\\Users\\thoma\\Documents\\GitHub\\follow_target\\videos\\testvideo_1_640x360.mp4: 224x384 1 Target, 30.4ms\n",
      "video 1/1 (frame 650/2731) c:\\Users\\thoma\\Documents\\GitHub\\follow_target\\videos\\testvideo_1_640x360.mp4: 224x384 1 Target, 29.2ms\n",
      "video 1/1 (frame 651/2731) c:\\Users\\thoma\\Documents\\GitHub\\follow_target\\videos\\testvideo_1_640x360.mp4: 224x384 1 Target, 29.2ms\n",
      "video 1/1 (frame 652/2731) c:\\Users\\thoma\\Documents\\GitHub\\follow_target\\videos\\testvideo_1_640x360.mp4: 224x384 1 Target, 31.0ms\n",
      "video 1/1 (frame 653/2731) c:\\Users\\thoma\\Documents\\GitHub\\follow_target\\videos\\testvideo_1_640x360.mp4: 224x384 1 Target, 36.2ms\n",
      "video 1/1 (frame 654/2731) c:\\Users\\thoma\\Documents\\GitHub\\follow_target\\videos\\testvideo_1_640x360.mp4: 224x384 1 Target, 31.3ms\n",
      "video 1/1 (frame 655/2731) c:\\Users\\thoma\\Documents\\GitHub\\follow_target\\videos\\testvideo_1_640x360.mp4: 224x384 1 Target, 30.7ms\n",
      "video 1/1 (frame 656/2731) c:\\Users\\thoma\\Documents\\GitHub\\follow_target\\videos\\testvideo_1_640x360.mp4: 224x384 1 Target, 27.6ms\n",
      "video 1/1 (frame 657/2731) c:\\Users\\thoma\\Documents\\GitHub\\follow_target\\videos\\testvideo_1_640x360.mp4: 224x384 1 Target, 28.0ms\n",
      "video 1/1 (frame 658/2731) c:\\Users\\thoma\\Documents\\GitHub\\follow_target\\videos\\testvideo_1_640x360.mp4: 224x384 1 Target, 28.1ms\n",
      "video 1/1 (frame 659/2731) c:\\Users\\thoma\\Documents\\GitHub\\follow_target\\videos\\testvideo_1_640x360.mp4: 224x384 1 Target, 26.5ms\n",
      "video 1/1 (frame 660/2731) c:\\Users\\thoma\\Documents\\GitHub\\follow_target\\videos\\testvideo_1_640x360.mp4: 224x384 1 Target, 26.3ms\n",
      "video 1/1 (frame 661/2731) c:\\Users\\thoma\\Documents\\GitHub\\follow_target\\videos\\testvideo_1_640x360.mp4: 224x384 1 Target, 27.3ms\n",
      "video 1/1 (frame 662/2731) c:\\Users\\thoma\\Documents\\GitHub\\follow_target\\videos\\testvideo_1_640x360.mp4: 224x384 (no detections), 26.1ms\n",
      "video 1/1 (frame 663/2731) c:\\Users\\thoma\\Documents\\GitHub\\follow_target\\videos\\testvideo_1_640x360.mp4: 224x384 1 Target, 27.7ms\n",
      "video 1/1 (frame 664/2731) c:\\Users\\thoma\\Documents\\GitHub\\follow_target\\videos\\testvideo_1_640x360.mp4: 224x384 1 Target, 25.7ms\n",
      "video 1/1 (frame 665/2731) c:\\Users\\thoma\\Documents\\GitHub\\follow_target\\videos\\testvideo_1_640x360.mp4: 224x384 1 Target, 25.9ms\n",
      "video 1/1 (frame 666/2731) c:\\Users\\thoma\\Documents\\GitHub\\follow_target\\videos\\testvideo_1_640x360.mp4: 224x384 1 Target, 25.2ms\n",
      "video 1/1 (frame 667/2731) c:\\Users\\thoma\\Documents\\GitHub\\follow_target\\videos\\testvideo_1_640x360.mp4: 224x384 1 Target, 26.3ms\n",
      "video 1/1 (frame 668/2731) c:\\Users\\thoma\\Documents\\GitHub\\follow_target\\videos\\testvideo_1_640x360.mp4: 224x384 1 Target, 27.3ms\n",
      "video 1/1 (frame 669/2731) c:\\Users\\thoma\\Documents\\GitHub\\follow_target\\videos\\testvideo_1_640x360.mp4: 224x384 1 Target, 26.7ms\n",
      "video 1/1 (frame 670/2731) c:\\Users\\thoma\\Documents\\GitHub\\follow_target\\videos\\testvideo_1_640x360.mp4: 224x384 (no detections), 32.4ms\n",
      "video 1/1 (frame 671/2731) c:\\Users\\thoma\\Documents\\GitHub\\follow_target\\videos\\testvideo_1_640x360.mp4: 224x384 1 Target, 26.0ms\n",
      "video 1/1 (frame 672/2731) c:\\Users\\thoma\\Documents\\GitHub\\follow_target\\videos\\testvideo_1_640x360.mp4: 224x384 1 Target, 25.4ms\n",
      "video 1/1 (frame 673/2731) c:\\Users\\thoma\\Documents\\GitHub\\follow_target\\videos\\testvideo_1_640x360.mp4: 224x384 1 Target, 29.3ms\n",
      "video 1/1 (frame 674/2731) c:\\Users\\thoma\\Documents\\GitHub\\follow_target\\videos\\testvideo_1_640x360.mp4: 224x384 1 Target, 29.0ms\n",
      "video 1/1 (frame 675/2731) c:\\Users\\thoma\\Documents\\GitHub\\follow_target\\videos\\testvideo_1_640x360.mp4: 224x384 1 Target, 31.4ms\n",
      "video 1/1 (frame 676/2731) c:\\Users\\thoma\\Documents\\GitHub\\follow_target\\videos\\testvideo_1_640x360.mp4: 224x384 (no detections), 31.7ms\n",
      "video 1/1 (frame 677/2731) c:\\Users\\thoma\\Documents\\GitHub\\follow_target\\videos\\testvideo_1_640x360.mp4: 224x384 1 Target, 28.3ms\n",
      "video 1/1 (frame 678/2731) c:\\Users\\thoma\\Documents\\GitHub\\follow_target\\videos\\testvideo_1_640x360.mp4: 224x384 1 Target, 28.2ms\n",
      "video 1/1 (frame 679/2731) c:\\Users\\thoma\\Documents\\GitHub\\follow_target\\videos\\testvideo_1_640x360.mp4: 224x384 1 Target, 29.2ms\n",
      "video 1/1 (frame 680/2731) c:\\Users\\thoma\\Documents\\GitHub\\follow_target\\videos\\testvideo_1_640x360.mp4: 224x384 1 Target, 31.0ms\n",
      "video 1/1 (frame 681/2731) c:\\Users\\thoma\\Documents\\GitHub\\follow_target\\videos\\testvideo_1_640x360.mp4: 224x384 1 Target, 24.4ms\n",
      "video 1/1 (frame 682/2731) c:\\Users\\thoma\\Documents\\GitHub\\follow_target\\videos\\testvideo_1_640x360.mp4: 224x384 1 Target, 26.2ms\n",
      "video 1/1 (frame 683/2731) c:\\Users\\thoma\\Documents\\GitHub\\follow_target\\videos\\testvideo_1_640x360.mp4: 224x384 1 Target, 38.0ms\n",
      "video 1/1 (frame 684/2731) c:\\Users\\thoma\\Documents\\GitHub\\follow_target\\videos\\testvideo_1_640x360.mp4: 224x384 1 Target, 29.9ms\n",
      "video 1/1 (frame 685/2731) c:\\Users\\thoma\\Documents\\GitHub\\follow_target\\videos\\testvideo_1_640x360.mp4: 224x384 1 Target, 26.8ms\n",
      "video 1/1 (frame 686/2731) c:\\Users\\thoma\\Documents\\GitHub\\follow_target\\videos\\testvideo_1_640x360.mp4: 224x384 1 Target, 24.4ms\n",
      "video 1/1 (frame 687/2731) c:\\Users\\thoma\\Documents\\GitHub\\follow_target\\videos\\testvideo_1_640x360.mp4: 224x384 1 Target, 28.9ms\n",
      "video 1/1 (frame 688/2731) c:\\Users\\thoma\\Documents\\GitHub\\follow_target\\videos\\testvideo_1_640x360.mp4: 224x384 1 Target, 30.7ms\n",
      "video 1/1 (frame 689/2731) c:\\Users\\thoma\\Documents\\GitHub\\follow_target\\videos\\testvideo_1_640x360.mp4: 224x384 1 Target, 27.8ms\n",
      "video 1/1 (frame 690/2731) c:\\Users\\thoma\\Documents\\GitHub\\follow_target\\videos\\testvideo_1_640x360.mp4: 224x384 1 Target, 27.3ms\n",
      "video 1/1 (frame 691/2731) c:\\Users\\thoma\\Documents\\GitHub\\follow_target\\videos\\testvideo_1_640x360.mp4: 224x384 1 Target, 30.5ms\n",
      "video 1/1 (frame 692/2731) c:\\Users\\thoma\\Documents\\GitHub\\follow_target\\videos\\testvideo_1_640x360.mp4: 224x384 1 Target, 35.9ms\n",
      "video 1/1 (frame 693/2731) c:\\Users\\thoma\\Documents\\GitHub\\follow_target\\videos\\testvideo_1_640x360.mp4: 224x384 1 Target, 31.4ms\n",
      "video 1/1 (frame 694/2731) c:\\Users\\thoma\\Documents\\GitHub\\follow_target\\videos\\testvideo_1_640x360.mp4: 224x384 1 Target, 28.3ms\n",
      "video 1/1 (frame 695/2731) c:\\Users\\thoma\\Documents\\GitHub\\follow_target\\videos\\testvideo_1_640x360.mp4: 224x384 1 Target, 26.8ms\n",
      "video 1/1 (frame 696/2731) c:\\Users\\thoma\\Documents\\GitHub\\follow_target\\videos\\testvideo_1_640x360.mp4: 224x384 1 Target, 27.1ms\n",
      "video 1/1 (frame 697/2731) c:\\Users\\thoma\\Documents\\GitHub\\follow_target\\videos\\testvideo_1_640x360.mp4: 224x384 1 Target, 29.1ms\n",
      "video 1/1 (frame 698/2731) c:\\Users\\thoma\\Documents\\GitHub\\follow_target\\videos\\testvideo_1_640x360.mp4: 224x384 1 Target, 30.1ms\n",
      "video 1/1 (frame 699/2731) c:\\Users\\thoma\\Documents\\GitHub\\follow_target\\videos\\testvideo_1_640x360.mp4: 224x384 1 Target, 29.1ms\n",
      "video 1/1 (frame 700/2731) c:\\Users\\thoma\\Documents\\GitHub\\follow_target\\videos\\testvideo_1_640x360.mp4: 224x384 1 Target, 29.4ms\n",
      "video 1/1 (frame 701/2731) c:\\Users\\thoma\\Documents\\GitHub\\follow_target\\videos\\testvideo_1_640x360.mp4: 224x384 1 Target, 31.1ms\n",
      "video 1/1 (frame 702/2731) c:\\Users\\thoma\\Documents\\GitHub\\follow_target\\videos\\testvideo_1_640x360.mp4: 224x384 1 Target, 28.1ms\n",
      "video 1/1 (frame 703/2731) c:\\Users\\thoma\\Documents\\GitHub\\follow_target\\videos\\testvideo_1_640x360.mp4: 224x384 1 Target, 30.9ms\n",
      "video 1/1 (frame 704/2731) c:\\Users\\thoma\\Documents\\GitHub\\follow_target\\videos\\testvideo_1_640x360.mp4: 224x384 1 Target, 31.3ms\n",
      "video 1/1 (frame 705/2731) c:\\Users\\thoma\\Documents\\GitHub\\follow_target\\videos\\testvideo_1_640x360.mp4: 224x384 1 Target, 27.3ms\n",
      "video 1/1 (frame 706/2731) c:\\Users\\thoma\\Documents\\GitHub\\follow_target\\videos\\testvideo_1_640x360.mp4: 224x384 1 Target, 27.2ms\n",
      "video 1/1 (frame 707/2731) c:\\Users\\thoma\\Documents\\GitHub\\follow_target\\videos\\testvideo_1_640x360.mp4: 224x384 1 Target, 27.6ms\n",
      "video 1/1 (frame 708/2731) c:\\Users\\thoma\\Documents\\GitHub\\follow_target\\videos\\testvideo_1_640x360.mp4: 224x384 1 Target, 26.8ms\n",
      "video 1/1 (frame 709/2731) c:\\Users\\thoma\\Documents\\GitHub\\follow_target\\videos\\testvideo_1_640x360.mp4: 224x384 1 Target, 25.8ms\n",
      "video 1/1 (frame 710/2731) c:\\Users\\thoma\\Documents\\GitHub\\follow_target\\videos\\testvideo_1_640x360.mp4: 224x384 1 Target, 26.1ms\n",
      "video 1/1 (frame 711/2731) c:\\Users\\thoma\\Documents\\GitHub\\follow_target\\videos\\testvideo_1_640x360.mp4: 224x384 1 Target, 27.9ms\n",
      "video 1/1 (frame 712/2731) c:\\Users\\thoma\\Documents\\GitHub\\follow_target\\videos\\testvideo_1_640x360.mp4: 224x384 1 Target, 26.5ms\n",
      "video 1/1 (frame 713/2731) c:\\Users\\thoma\\Documents\\GitHub\\follow_target\\videos\\testvideo_1_640x360.mp4: 224x384 1 Target, 29.5ms\n",
      "video 1/1 (frame 714/2731) c:\\Users\\thoma\\Documents\\GitHub\\follow_target\\videos\\testvideo_1_640x360.mp4: 224x384 1 Target, 25.4ms\n",
      "video 1/1 (frame 715/2731) c:\\Users\\thoma\\Documents\\GitHub\\follow_target\\videos\\testvideo_1_640x360.mp4: 224x384 1 Target, 27.4ms\n",
      "video 1/1 (frame 716/2731) c:\\Users\\thoma\\Documents\\GitHub\\follow_target\\videos\\testvideo_1_640x360.mp4: 224x384 1 Target, 25.4ms\n",
      "video 1/1 (frame 717/2731) c:\\Users\\thoma\\Documents\\GitHub\\follow_target\\videos\\testvideo_1_640x360.mp4: 224x384 1 Target, 29.6ms\n",
      "video 1/1 (frame 718/2731) c:\\Users\\thoma\\Documents\\GitHub\\follow_target\\videos\\testvideo_1_640x360.mp4: 224x384 1 Target, 30.2ms\n",
      "video 1/1 (frame 719/2731) c:\\Users\\thoma\\Documents\\GitHub\\follow_target\\videos\\testvideo_1_640x360.mp4: 224x384 1 Target, 25.3ms\n",
      "video 1/1 (frame 720/2731) c:\\Users\\thoma\\Documents\\GitHub\\follow_target\\videos\\testvideo_1_640x360.mp4: 224x384 1 Target, 30.7ms\n",
      "video 1/1 (frame 721/2731) c:\\Users\\thoma\\Documents\\GitHub\\follow_target\\videos\\testvideo_1_640x360.mp4: 224x384 1 Target, 29.8ms\n",
      "video 1/1 (frame 722/2731) c:\\Users\\thoma\\Documents\\GitHub\\follow_target\\videos\\testvideo_1_640x360.mp4: 224x384 1 Target, 28.6ms\n",
      "video 1/1 (frame 723/2731) c:\\Users\\thoma\\Documents\\GitHub\\follow_target\\videos\\testvideo_1_640x360.mp4: 224x384 1 Target, 26.0ms\n",
      "video 1/1 (frame 724/2731) c:\\Users\\thoma\\Documents\\GitHub\\follow_target\\videos\\testvideo_1_640x360.mp4: 224x384 1 Target, 27.5ms\n",
      "video 1/1 (frame 725/2731) c:\\Users\\thoma\\Documents\\GitHub\\follow_target\\videos\\testvideo_1_640x360.mp4: 224x384 1 Target, 29.2ms\n",
      "video 1/1 (frame 726/2731) c:\\Users\\thoma\\Documents\\GitHub\\follow_target\\videos\\testvideo_1_640x360.mp4: 224x384 1 Target, 27.7ms\n",
      "video 1/1 (frame 727/2731) c:\\Users\\thoma\\Documents\\GitHub\\follow_target\\videos\\testvideo_1_640x360.mp4: 224x384 1 Target, 30.0ms\n",
      "video 1/1 (frame 728/2731) c:\\Users\\thoma\\Documents\\GitHub\\follow_target\\videos\\testvideo_1_640x360.mp4: 224x384 1 Target, 32.5ms\n",
      "video 1/1 (frame 729/2731) c:\\Users\\thoma\\Documents\\GitHub\\follow_target\\videos\\testvideo_1_640x360.mp4: 224x384 1 Target, 37.2ms\n",
      "video 1/1 (frame 730/2731) c:\\Users\\thoma\\Documents\\GitHub\\follow_target\\videos\\testvideo_1_640x360.mp4: 224x384 1 Target, 30.3ms\n",
      "video 1/1 (frame 731/2731) c:\\Users\\thoma\\Documents\\GitHub\\follow_target\\videos\\testvideo_1_640x360.mp4: 224x384 1 Target, 30.2ms\n",
      "video 1/1 (frame 732/2731) c:\\Users\\thoma\\Documents\\GitHub\\follow_target\\videos\\testvideo_1_640x360.mp4: 224x384 1 Target, 28.6ms\n",
      "video 1/1 (frame 733/2731) c:\\Users\\thoma\\Documents\\GitHub\\follow_target\\videos\\testvideo_1_640x360.mp4: 224x384 1 Target, 30.2ms\n",
      "video 1/1 (frame 734/2731) c:\\Users\\thoma\\Documents\\GitHub\\follow_target\\videos\\testvideo_1_640x360.mp4: 224x384 1 Target, 29.1ms\n",
      "video 1/1 (frame 735/2731) c:\\Users\\thoma\\Documents\\GitHub\\follow_target\\videos\\testvideo_1_640x360.mp4: 224x384 1 Target, 28.0ms\n",
      "video 1/1 (frame 736/2731) c:\\Users\\thoma\\Documents\\GitHub\\follow_target\\videos\\testvideo_1_640x360.mp4: 224x384 1 Target, 28.4ms\n",
      "video 1/1 (frame 737/2731) c:\\Users\\thoma\\Documents\\GitHub\\follow_target\\videos\\testvideo_1_640x360.mp4: 224x384 1 Target, 33.1ms\n",
      "video 1/1 (frame 738/2731) c:\\Users\\thoma\\Documents\\GitHub\\follow_target\\videos\\testvideo_1_640x360.mp4: 224x384 1 Target, 32.8ms\n",
      "video 1/1 (frame 739/2731) c:\\Users\\thoma\\Documents\\GitHub\\follow_target\\videos\\testvideo_1_640x360.mp4: 224x384 1 Target, 28.7ms\n",
      "video 1/1 (frame 740/2731) c:\\Users\\thoma\\Documents\\GitHub\\follow_target\\videos\\testvideo_1_640x360.mp4: 224x384 1 Target, 27.4ms\n",
      "video 1/1 (frame 741/2731) c:\\Users\\thoma\\Documents\\GitHub\\follow_target\\videos\\testvideo_1_640x360.mp4: 224x384 1 Target, 35.5ms\n",
      "video 1/1 (frame 742/2731) c:\\Users\\thoma\\Documents\\GitHub\\follow_target\\videos\\testvideo_1_640x360.mp4: 224x384 1 Target, 57.7ms\n",
      "video 1/1 (frame 743/2731) c:\\Users\\thoma\\Documents\\GitHub\\follow_target\\videos\\testvideo_1_640x360.mp4: 224x384 1 Target, 33.4ms\n",
      "video 1/1 (frame 744/2731) c:\\Users\\thoma\\Documents\\GitHub\\follow_target\\videos\\testvideo_1_640x360.mp4: 224x384 1 Target, 29.0ms\n",
      "video 1/1 (frame 745/2731) c:\\Users\\thoma\\Documents\\GitHub\\follow_target\\videos\\testvideo_1_640x360.mp4: 224x384 1 Target, 28.2ms\n",
      "video 1/1 (frame 746/2731) c:\\Users\\thoma\\Documents\\GitHub\\follow_target\\videos\\testvideo_1_640x360.mp4: 224x384 1 Target, 27.4ms\n",
      "video 1/1 (frame 747/2731) c:\\Users\\thoma\\Documents\\GitHub\\follow_target\\videos\\testvideo_1_640x360.mp4: 224x384 1 Target, 36.5ms\n",
      "video 1/1 (frame 748/2731) c:\\Users\\thoma\\Documents\\GitHub\\follow_target\\videos\\testvideo_1_640x360.mp4: 224x384 1 Target, 29.0ms\n",
      "video 1/1 (frame 749/2731) c:\\Users\\thoma\\Documents\\GitHub\\follow_target\\videos\\testvideo_1_640x360.mp4: 224x384 1 Target, 29.3ms\n",
      "video 1/1 (frame 750/2731) c:\\Users\\thoma\\Documents\\GitHub\\follow_target\\videos\\testvideo_1_640x360.mp4: 224x384 1 Target, 27.6ms\n",
      "video 1/1 (frame 751/2731) c:\\Users\\thoma\\Documents\\GitHub\\follow_target\\videos\\testvideo_1_640x360.mp4: 224x384 1 Target, 27.0ms\n",
      "video 1/1 (frame 752/2731) c:\\Users\\thoma\\Documents\\GitHub\\follow_target\\videos\\testvideo_1_640x360.mp4: 224x384 1 Target, 28.0ms\n",
      "video 1/1 (frame 753/2731) c:\\Users\\thoma\\Documents\\GitHub\\follow_target\\videos\\testvideo_1_640x360.mp4: 224x384 1 Target, 26.7ms\n",
      "video 1/1 (frame 754/2731) c:\\Users\\thoma\\Documents\\GitHub\\follow_target\\videos\\testvideo_1_640x360.mp4: 224x384 1 Target, 25.9ms\n",
      "video 1/1 (frame 755/2731) c:\\Users\\thoma\\Documents\\GitHub\\follow_target\\videos\\testvideo_1_640x360.mp4: 224x384 1 Target, 27.0ms\n",
      "video 1/1 (frame 756/2731) c:\\Users\\thoma\\Documents\\GitHub\\follow_target\\videos\\testvideo_1_640x360.mp4: 224x384 1 Target, 26.9ms\n",
      "video 1/1 (frame 757/2731) c:\\Users\\thoma\\Documents\\GitHub\\follow_target\\videos\\testvideo_1_640x360.mp4: 224x384 1 Target, 27.6ms\n",
      "video 1/1 (frame 758/2731) c:\\Users\\thoma\\Documents\\GitHub\\follow_target\\videos\\testvideo_1_640x360.mp4: 224x384 1 Target, 27.9ms\n",
      "video 1/1 (frame 759/2731) c:\\Users\\thoma\\Documents\\GitHub\\follow_target\\videos\\testvideo_1_640x360.mp4: 224x384 1 Target, 29.6ms\n",
      "video 1/1 (frame 760/2731) c:\\Users\\thoma\\Documents\\GitHub\\follow_target\\videos\\testvideo_1_640x360.mp4: 224x384 1 Target, 30.3ms\n",
      "video 1/1 (frame 761/2731) c:\\Users\\thoma\\Documents\\GitHub\\follow_target\\videos\\testvideo_1_640x360.mp4: 224x384 1 Target, 28.9ms\n",
      "video 1/1 (frame 762/2731) c:\\Users\\thoma\\Documents\\GitHub\\follow_target\\videos\\testvideo_1_640x360.mp4: 224x384 1 Target, 28.6ms\n",
      "video 1/1 (frame 763/2731) c:\\Users\\thoma\\Documents\\GitHub\\follow_target\\videos\\testvideo_1_640x360.mp4: 224x384 1 Target, 28.5ms\n",
      "video 1/1 (frame 764/2731) c:\\Users\\thoma\\Documents\\GitHub\\follow_target\\videos\\testvideo_1_640x360.mp4: 224x384 1 Target, 27.4ms\n",
      "video 1/1 (frame 765/2731) c:\\Users\\thoma\\Documents\\GitHub\\follow_target\\videos\\testvideo_1_640x360.mp4: 224x384 1 Target, 31.1ms\n",
      "video 1/1 (frame 766/2731) c:\\Users\\thoma\\Documents\\GitHub\\follow_target\\videos\\testvideo_1_640x360.mp4: 224x384 1 Target, 30.1ms\n",
      "video 1/1 (frame 767/2731) c:\\Users\\thoma\\Documents\\GitHub\\follow_target\\videos\\testvideo_1_640x360.mp4: 224x384 1 Target, 32.2ms\n",
      "video 1/1 (frame 768/2731) c:\\Users\\thoma\\Documents\\GitHub\\follow_target\\videos\\testvideo_1_640x360.mp4: 224x384 1 Target, 28.7ms\n",
      "video 1/1 (frame 769/2731) c:\\Users\\thoma\\Documents\\GitHub\\follow_target\\videos\\testvideo_1_640x360.mp4: 224x384 1 Target, 29.4ms\n",
      "video 1/1 (frame 770/2731) c:\\Users\\thoma\\Documents\\GitHub\\follow_target\\videos\\testvideo_1_640x360.mp4: 224x384 1 Target, 27.3ms\n",
      "video 1/1 (frame 771/2731) c:\\Users\\thoma\\Documents\\GitHub\\follow_target\\videos\\testvideo_1_640x360.mp4: 224x384 1 Target, 26.6ms\n",
      "video 1/1 (frame 772/2731) c:\\Users\\thoma\\Documents\\GitHub\\follow_target\\videos\\testvideo_1_640x360.mp4: 224x384 1 Target, 27.5ms\n",
      "video 1/1 (frame 773/2731) c:\\Users\\thoma\\Documents\\GitHub\\follow_target\\videos\\testvideo_1_640x360.mp4: 224x384 1 Target, 27.8ms\n",
      "video 1/1 (frame 774/2731) c:\\Users\\thoma\\Documents\\GitHub\\follow_target\\videos\\testvideo_1_640x360.mp4: 224x384 1 Target, 24.5ms\n",
      "video 1/1 (frame 775/2731) c:\\Users\\thoma\\Documents\\GitHub\\follow_target\\videos\\testvideo_1_640x360.mp4: 224x384 1 Target, 27.3ms\n",
      "video 1/1 (frame 776/2731) c:\\Users\\thoma\\Documents\\GitHub\\follow_target\\videos\\testvideo_1_640x360.mp4: 224x384 1 Target, 26.3ms\n",
      "video 1/1 (frame 777/2731) c:\\Users\\thoma\\Documents\\GitHub\\follow_target\\videos\\testvideo_1_640x360.mp4: 224x384 1 Target, 26.4ms\n",
      "video 1/1 (frame 778/2731) c:\\Users\\thoma\\Documents\\GitHub\\follow_target\\videos\\testvideo_1_640x360.mp4: 224x384 1 Target, 27.2ms\n",
      "video 1/1 (frame 779/2731) c:\\Users\\thoma\\Documents\\GitHub\\follow_target\\videos\\testvideo_1_640x360.mp4: 224x384 1 Target, 30.1ms\n",
      "video 1/1 (frame 780/2731) c:\\Users\\thoma\\Documents\\GitHub\\follow_target\\videos\\testvideo_1_640x360.mp4: 224x384 1 Target, 25.5ms\n",
      "video 1/1 (frame 781/2731) c:\\Users\\thoma\\Documents\\GitHub\\follow_target\\videos\\testvideo_1_640x360.mp4: 224x384 1 Target, 29.0ms\n",
      "video 1/1 (frame 782/2731) c:\\Users\\thoma\\Documents\\GitHub\\follow_target\\videos\\testvideo_1_640x360.mp4: 224x384 1 Target, 32.1ms\n",
      "video 1/1 (frame 783/2731) c:\\Users\\thoma\\Documents\\GitHub\\follow_target\\videos\\testvideo_1_640x360.mp4: 224x384 1 Target, 28.7ms\n",
      "video 1/1 (frame 784/2731) c:\\Users\\thoma\\Documents\\GitHub\\follow_target\\videos\\testvideo_1_640x360.mp4: 224x384 1 Target, 28.2ms\n",
      "video 1/1 (frame 785/2731) c:\\Users\\thoma\\Documents\\GitHub\\follow_target\\videos\\testvideo_1_640x360.mp4: 224x384 1 Target, 28.9ms\n",
      "video 1/1 (frame 786/2731) c:\\Users\\thoma\\Documents\\GitHub\\follow_target\\videos\\testvideo_1_640x360.mp4: 224x384 1 Target, 27.9ms\n",
      "video 1/1 (frame 787/2731) c:\\Users\\thoma\\Documents\\GitHub\\follow_target\\videos\\testvideo_1_640x360.mp4: 224x384 1 Target, 26.2ms\n",
      "video 1/1 (frame 788/2731) c:\\Users\\thoma\\Documents\\GitHub\\follow_target\\videos\\testvideo_1_640x360.mp4: 224x384 1 Target, 28.0ms\n",
      "video 1/1 (frame 789/2731) c:\\Users\\thoma\\Documents\\GitHub\\follow_target\\videos\\testvideo_1_640x360.mp4: 224x384 1 Target, 31.6ms\n",
      "video 1/1 (frame 790/2731) c:\\Users\\thoma\\Documents\\GitHub\\follow_target\\videos\\testvideo_1_640x360.mp4: 224x384 1 Target, 29.7ms\n",
      "video 1/1 (frame 791/2731) c:\\Users\\thoma\\Documents\\GitHub\\follow_target\\videos\\testvideo_1_640x360.mp4: 224x384 1 Target, 28.4ms\n",
      "video 1/1 (frame 792/2731) c:\\Users\\thoma\\Documents\\GitHub\\follow_target\\videos\\testvideo_1_640x360.mp4: 224x384 (no detections), 30.0ms\n",
      "video 1/1 (frame 793/2731) c:\\Users\\thoma\\Documents\\GitHub\\follow_target\\videos\\testvideo_1_640x360.mp4: 224x384 1 Target, 27.7ms\n",
      "video 1/1 (frame 794/2731) c:\\Users\\thoma\\Documents\\GitHub\\follow_target\\videos\\testvideo_1_640x360.mp4: 224x384 1 Target, 29.3ms\n",
      "video 1/1 (frame 795/2731) c:\\Users\\thoma\\Documents\\GitHub\\follow_target\\videos\\testvideo_1_640x360.mp4: 224x384 1 Target, 31.5ms\n",
      "video 1/1 (frame 796/2731) c:\\Users\\thoma\\Documents\\GitHub\\follow_target\\videos\\testvideo_1_640x360.mp4: 224x384 (no detections), 28.9ms\n",
      "video 1/1 (frame 797/2731) c:\\Users\\thoma\\Documents\\GitHub\\follow_target\\videos\\testvideo_1_640x360.mp4: 224x384 (no detections), 27.6ms\n",
      "video 1/1 (frame 798/2731) c:\\Users\\thoma\\Documents\\GitHub\\follow_target\\videos\\testvideo_1_640x360.mp4: 224x384 (no detections), 26.2ms\n",
      "video 1/1 (frame 799/2731) c:\\Users\\thoma\\Documents\\GitHub\\follow_target\\videos\\testvideo_1_640x360.mp4: 224x384 1 Target, 30.9ms\n",
      "video 1/1 (frame 800/2731) c:\\Users\\thoma\\Documents\\GitHub\\follow_target\\videos\\testvideo_1_640x360.mp4: 224x384 1 Target, 26.7ms\n",
      "video 1/1 (frame 801/2731) c:\\Users\\thoma\\Documents\\GitHub\\follow_target\\videos\\testvideo_1_640x360.mp4: 224x384 1 Target, 26.5ms\n",
      "video 1/1 (frame 802/2731) c:\\Users\\thoma\\Documents\\GitHub\\follow_target\\videos\\testvideo_1_640x360.mp4: 224x384 1 Target, 28.2ms\n",
      "video 1/1 (frame 803/2731) c:\\Users\\thoma\\Documents\\GitHub\\follow_target\\videos\\testvideo_1_640x360.mp4: 224x384 1 Target, 27.6ms\n",
      "video 1/1 (frame 804/2731) c:\\Users\\thoma\\Documents\\GitHub\\follow_target\\videos\\testvideo_1_640x360.mp4: 224x384 1 Target, 27.1ms\n",
      "video 1/1 (frame 805/2731) c:\\Users\\thoma\\Documents\\GitHub\\follow_target\\videos\\testvideo_1_640x360.mp4: 224x384 1 Target, 27.1ms\n",
      "video 1/1 (frame 806/2731) c:\\Users\\thoma\\Documents\\GitHub\\follow_target\\videos\\testvideo_1_640x360.mp4: 224x384 1 Target, 26.5ms\n",
      "video 1/1 (frame 807/2731) c:\\Users\\thoma\\Documents\\GitHub\\follow_target\\videos\\testvideo_1_640x360.mp4: 224x384 1 Target, 27.0ms\n",
      "video 1/1 (frame 808/2731) c:\\Users\\thoma\\Documents\\GitHub\\follow_target\\videos\\testvideo_1_640x360.mp4: 224x384 1 Target, 26.8ms\n",
      "video 1/1 (frame 809/2731) c:\\Users\\thoma\\Documents\\GitHub\\follow_target\\videos\\testvideo_1_640x360.mp4: 224x384 (no detections), 31.0ms\n",
      "video 1/1 (frame 810/2731) c:\\Users\\thoma\\Documents\\GitHub\\follow_target\\videos\\testvideo_1_640x360.mp4: 224x384 1 Target, 26.2ms\n",
      "video 1/1 (frame 811/2731) c:\\Users\\thoma\\Documents\\GitHub\\follow_target\\videos\\testvideo_1_640x360.mp4: 224x384 1 Target, 28.7ms\n",
      "video 1/1 (frame 812/2731) c:\\Users\\thoma\\Documents\\GitHub\\follow_target\\videos\\testvideo_1_640x360.mp4: 224x384 1 Target, 26.6ms\n",
      "video 1/1 (frame 813/2731) c:\\Users\\thoma\\Documents\\GitHub\\follow_target\\videos\\testvideo_1_640x360.mp4: 224x384 1 Target, 25.4ms\n",
      "video 1/1 (frame 814/2731) c:\\Users\\thoma\\Documents\\GitHub\\follow_target\\videos\\testvideo_1_640x360.mp4: 224x384 1 Target, 27.5ms\n",
      "video 1/1 (frame 815/2731) c:\\Users\\thoma\\Documents\\GitHub\\follow_target\\videos\\testvideo_1_640x360.mp4: 224x384 1 Target, 27.1ms\n",
      "video 1/1 (frame 816/2731) c:\\Users\\thoma\\Documents\\GitHub\\follow_target\\videos\\testvideo_1_640x360.mp4: 224x384 1 Target, 27.3ms\n",
      "video 1/1 (frame 817/2731) c:\\Users\\thoma\\Documents\\GitHub\\follow_target\\videos\\testvideo_1_640x360.mp4: 224x384 1 Target, 28.1ms\n",
      "video 1/1 (frame 818/2731) c:\\Users\\thoma\\Documents\\GitHub\\follow_target\\videos\\testvideo_1_640x360.mp4: 224x384 1 Target, 27.1ms\n",
      "video 1/1 (frame 819/2731) c:\\Users\\thoma\\Documents\\GitHub\\follow_target\\videos\\testvideo_1_640x360.mp4: 224x384 1 Target, 29.1ms\n",
      "video 1/1 (frame 820/2731) c:\\Users\\thoma\\Documents\\GitHub\\follow_target\\videos\\testvideo_1_640x360.mp4: 224x384 1 Target, 28.2ms\n",
      "video 1/1 (frame 821/2731) c:\\Users\\thoma\\Documents\\GitHub\\follow_target\\videos\\testvideo_1_640x360.mp4: 224x384 1 Target, 27.3ms\n",
      "video 1/1 (frame 822/2731) c:\\Users\\thoma\\Documents\\GitHub\\follow_target\\videos\\testvideo_1_640x360.mp4: 224x384 1 Target, 26.1ms\n",
      "video 1/1 (frame 823/2731) c:\\Users\\thoma\\Documents\\GitHub\\follow_target\\videos\\testvideo_1_640x360.mp4: 224x384 (no detections), 28.4ms\n",
      "video 1/1 (frame 824/2731) c:\\Users\\thoma\\Documents\\GitHub\\follow_target\\videos\\testvideo_1_640x360.mp4: 224x384 (no detections), 29.6ms\n",
      "video 1/1 (frame 825/2731) c:\\Users\\thoma\\Documents\\GitHub\\follow_target\\videos\\testvideo_1_640x360.mp4: 224x384 (no detections), 25.8ms\n",
      "video 1/1 (frame 826/2731) c:\\Users\\thoma\\Documents\\GitHub\\follow_target\\videos\\testvideo_1_640x360.mp4: 224x384 1 Target, 28.1ms\n",
      "video 1/1 (frame 827/2731) c:\\Users\\thoma\\Documents\\GitHub\\follow_target\\videos\\testvideo_1_640x360.mp4: 224x384 1 Target, 27.9ms\n",
      "video 1/1 (frame 828/2731) c:\\Users\\thoma\\Documents\\GitHub\\follow_target\\videos\\testvideo_1_640x360.mp4: 224x384 1 Target, 27.1ms\n",
      "video 1/1 (frame 829/2731) c:\\Users\\thoma\\Documents\\GitHub\\follow_target\\videos\\testvideo_1_640x360.mp4: 224x384 1 Target, 24.7ms\n",
      "video 1/1 (frame 830/2731) c:\\Users\\thoma\\Documents\\GitHub\\follow_target\\videos\\testvideo_1_640x360.mp4: 224x384 1 Target, 25.2ms\n",
      "video 1/1 (frame 831/2731) c:\\Users\\thoma\\Documents\\GitHub\\follow_target\\videos\\testvideo_1_640x360.mp4: 224x384 1 Target, 29.4ms\n",
      "video 1/1 (frame 832/2731) c:\\Users\\thoma\\Documents\\GitHub\\follow_target\\videos\\testvideo_1_640x360.mp4: 224x384 1 Target, 29.9ms\n",
      "video 1/1 (frame 833/2731) c:\\Users\\thoma\\Documents\\GitHub\\follow_target\\videos\\testvideo_1_640x360.mp4: 224x384 1 Target, 29.6ms\n",
      "video 1/1 (frame 834/2731) c:\\Users\\thoma\\Documents\\GitHub\\follow_target\\videos\\testvideo_1_640x360.mp4: 224x384 1 Target, 29.4ms\n",
      "video 1/1 (frame 835/2731) c:\\Users\\thoma\\Documents\\GitHub\\follow_target\\videos\\testvideo_1_640x360.mp4: 224x384 1 Target, 27.2ms\n",
      "video 1/1 (frame 836/2731) c:\\Users\\thoma\\Documents\\GitHub\\follow_target\\videos\\testvideo_1_640x360.mp4: 224x384 1 Target, 27.0ms\n",
      "video 1/1 (frame 837/2731) c:\\Users\\thoma\\Documents\\GitHub\\follow_target\\videos\\testvideo_1_640x360.mp4: 224x384 1 Target, 28.9ms\n",
      "video 1/1 (frame 838/2731) c:\\Users\\thoma\\Documents\\GitHub\\follow_target\\videos\\testvideo_1_640x360.mp4: 224x384 1 Target, 29.3ms\n",
      "video 1/1 (frame 839/2731) c:\\Users\\thoma\\Documents\\GitHub\\follow_target\\videos\\testvideo_1_640x360.mp4: 224x384 1 Target, 31.0ms\n",
      "video 1/1 (frame 840/2731) c:\\Users\\thoma\\Documents\\GitHub\\follow_target\\videos\\testvideo_1_640x360.mp4: 224x384 1 Target, 26.7ms\n",
      "video 1/1 (frame 841/2731) c:\\Users\\thoma\\Documents\\GitHub\\follow_target\\videos\\testvideo_1_640x360.mp4: 224x384 1 Target, 26.7ms\n",
      "video 1/1 (frame 842/2731) c:\\Users\\thoma\\Documents\\GitHub\\follow_target\\videos\\testvideo_1_640x360.mp4: 224x384 1 Target, 27.5ms\n",
      "video 1/1 (frame 843/2731) c:\\Users\\thoma\\Documents\\GitHub\\follow_target\\videos\\testvideo_1_640x360.mp4: 224x384 1 Target, 28.1ms\n",
      "video 1/1 (frame 844/2731) c:\\Users\\thoma\\Documents\\GitHub\\follow_target\\videos\\testvideo_1_640x360.mp4: 224x384 1 Target, 27.9ms\n",
      "video 1/1 (frame 845/2731) c:\\Users\\thoma\\Documents\\GitHub\\follow_target\\videos\\testvideo_1_640x360.mp4: 224x384 1 Target, 28.0ms\n",
      "video 1/1 (frame 846/2731) c:\\Users\\thoma\\Documents\\GitHub\\follow_target\\videos\\testvideo_1_640x360.mp4: 224x384 1 Target, 31.8ms\n",
      "video 1/1 (frame 847/2731) c:\\Users\\thoma\\Documents\\GitHub\\follow_target\\videos\\testvideo_1_640x360.mp4: 224x384 1 Target, 27.5ms\n",
      "video 1/1 (frame 848/2731) c:\\Users\\thoma\\Documents\\GitHub\\follow_target\\videos\\testvideo_1_640x360.mp4: 224x384 1 Target, 26.2ms\n",
      "video 1/1 (frame 849/2731) c:\\Users\\thoma\\Documents\\GitHub\\follow_target\\videos\\testvideo_1_640x360.mp4: 224x384 1 Target, 28.1ms\n",
      "video 1/1 (frame 850/2731) c:\\Users\\thoma\\Documents\\GitHub\\follow_target\\videos\\testvideo_1_640x360.mp4: 224x384 1 Target, 27.1ms\n",
      "video 1/1 (frame 851/2731) c:\\Users\\thoma\\Documents\\GitHub\\follow_target\\videos\\testvideo_1_640x360.mp4: 224x384 1 Target, 27.6ms\n",
      "video 1/1 (frame 852/2731) c:\\Users\\thoma\\Documents\\GitHub\\follow_target\\videos\\testvideo_1_640x360.mp4: 224x384 1 Target, 25.4ms\n",
      "video 1/1 (frame 853/2731) c:\\Users\\thoma\\Documents\\GitHub\\follow_target\\videos\\testvideo_1_640x360.mp4: 224x384 1 Target, 25.5ms\n",
      "video 1/1 (frame 854/2731) c:\\Users\\thoma\\Documents\\GitHub\\follow_target\\videos\\testvideo_1_640x360.mp4: 224x384 1 Target, 27.9ms\n",
      "video 1/1 (frame 855/2731) c:\\Users\\thoma\\Documents\\GitHub\\follow_target\\videos\\testvideo_1_640x360.mp4: 224x384 1 Target, 26.3ms\n",
      "video 1/1 (frame 856/2731) c:\\Users\\thoma\\Documents\\GitHub\\follow_target\\videos\\testvideo_1_640x360.mp4: 224x384 1 Target, 28.3ms\n",
      "video 1/1 (frame 857/2731) c:\\Users\\thoma\\Documents\\GitHub\\follow_target\\videos\\testvideo_1_640x360.mp4: 224x384 1 Target, 24.8ms\n",
      "video 1/1 (frame 858/2731) c:\\Users\\thoma\\Documents\\GitHub\\follow_target\\videos\\testvideo_1_640x360.mp4: 224x384 1 Target, 26.4ms\n",
      "video 1/1 (frame 859/2731) c:\\Users\\thoma\\Documents\\GitHub\\follow_target\\videos\\testvideo_1_640x360.mp4: 224x384 1 Target, 27.4ms\n",
      "video 1/1 (frame 860/2731) c:\\Users\\thoma\\Documents\\GitHub\\follow_target\\videos\\testvideo_1_640x360.mp4: 224x384 1 Target, 27.1ms\n",
      "video 1/1 (frame 861/2731) c:\\Users\\thoma\\Documents\\GitHub\\follow_target\\videos\\testvideo_1_640x360.mp4: 224x384 1 Target, 27.1ms\n",
      "video 1/1 (frame 862/2731) c:\\Users\\thoma\\Documents\\GitHub\\follow_target\\videos\\testvideo_1_640x360.mp4: 224x384 1 Target, 36.6ms\n",
      "video 1/1 (frame 863/2731) c:\\Users\\thoma\\Documents\\GitHub\\follow_target\\videos\\testvideo_1_640x360.mp4: 224x384 1 Target, 31.0ms\n",
      "video 1/1 (frame 864/2731) c:\\Users\\thoma\\Documents\\GitHub\\follow_target\\videos\\testvideo_1_640x360.mp4: 224x384 1 Target, 36.5ms\n",
      "video 1/1 (frame 865/2731) c:\\Users\\thoma\\Documents\\GitHub\\follow_target\\videos\\testvideo_1_640x360.mp4: 224x384 1 Target, 25.1ms\n",
      "video 1/1 (frame 866/2731) c:\\Users\\thoma\\Documents\\GitHub\\follow_target\\videos\\testvideo_1_640x360.mp4: 224x384 1 Target, 28.0ms\n",
      "video 1/1 (frame 867/2731) c:\\Users\\thoma\\Documents\\GitHub\\follow_target\\videos\\testvideo_1_640x360.mp4: 224x384 1 Target, 26.5ms\n",
      "video 1/1 (frame 868/2731) c:\\Users\\thoma\\Documents\\GitHub\\follow_target\\videos\\testvideo_1_640x360.mp4: 224x384 1 Target, 28.2ms\n",
      "video 1/1 (frame 869/2731) c:\\Users\\thoma\\Documents\\GitHub\\follow_target\\videos\\testvideo_1_640x360.mp4: 224x384 1 Target, 27.8ms\n",
      "video 1/1 (frame 870/2731) c:\\Users\\thoma\\Documents\\GitHub\\follow_target\\videos\\testvideo_1_640x360.mp4: 224x384 1 Target, 29.9ms\n",
      "video 1/1 (frame 871/2731) c:\\Users\\thoma\\Documents\\GitHub\\follow_target\\videos\\testvideo_1_640x360.mp4: 224x384 1 Target, 28.3ms\n",
      "video 1/1 (frame 872/2731) c:\\Users\\thoma\\Documents\\GitHub\\follow_target\\videos\\testvideo_1_640x360.mp4: 224x384 1 Target, 26.7ms\n",
      "video 1/1 (frame 873/2731) c:\\Users\\thoma\\Documents\\GitHub\\follow_target\\videos\\testvideo_1_640x360.mp4: 224x384 1 Target, 27.1ms\n",
      "video 1/1 (frame 874/2731) c:\\Users\\thoma\\Documents\\GitHub\\follow_target\\videos\\testvideo_1_640x360.mp4: 224x384 1 Target, 27.5ms\n",
      "video 1/1 (frame 875/2731) c:\\Users\\thoma\\Documents\\GitHub\\follow_target\\videos\\testvideo_1_640x360.mp4: 224x384 1 Target, 29.0ms\n",
      "video 1/1 (frame 876/2731) c:\\Users\\thoma\\Documents\\GitHub\\follow_target\\videos\\testvideo_1_640x360.mp4: 224x384 1 Target, 29.9ms\n",
      "video 1/1 (frame 877/2731) c:\\Users\\thoma\\Documents\\GitHub\\follow_target\\videos\\testvideo_1_640x360.mp4: 224x384 1 Target, 36.3ms\n",
      "video 1/1 (frame 878/2731) c:\\Users\\thoma\\Documents\\GitHub\\follow_target\\videos\\testvideo_1_640x360.mp4: 224x384 1 Target, 28.7ms\n",
      "video 1/1 (frame 879/2731) c:\\Users\\thoma\\Documents\\GitHub\\follow_target\\videos\\testvideo_1_640x360.mp4: 224x384 1 Target, 25.5ms\n",
      "video 1/1 (frame 880/2731) c:\\Users\\thoma\\Documents\\GitHub\\follow_target\\videos\\testvideo_1_640x360.mp4: 224x384 1 Target, 27.0ms\n",
      "video 1/1 (frame 881/2731) c:\\Users\\thoma\\Documents\\GitHub\\follow_target\\videos\\testvideo_1_640x360.mp4: 224x384 1 Target, 29.7ms\n",
      "video 1/1 (frame 882/2731) c:\\Users\\thoma\\Documents\\GitHub\\follow_target\\videos\\testvideo_1_640x360.mp4: 224x384 1 Target, 32.9ms\n",
      "video 1/1 (frame 883/2731) c:\\Users\\thoma\\Documents\\GitHub\\follow_target\\videos\\testvideo_1_640x360.mp4: 224x384 1 Target, 30.6ms\n",
      "video 1/1 (frame 884/2731) c:\\Users\\thoma\\Documents\\GitHub\\follow_target\\videos\\testvideo_1_640x360.mp4: 224x384 1 Target, 32.2ms\n",
      "video 1/1 (frame 885/2731) c:\\Users\\thoma\\Documents\\GitHub\\follow_target\\videos\\testvideo_1_640x360.mp4: 224x384 1 Target, 30.2ms\n",
      "video 1/1 (frame 886/2731) c:\\Users\\thoma\\Documents\\GitHub\\follow_target\\videos\\testvideo_1_640x360.mp4: 224x384 1 Target, 29.4ms\n",
      "video 1/1 (frame 887/2731) c:\\Users\\thoma\\Documents\\GitHub\\follow_target\\videos\\testvideo_1_640x360.mp4: 224x384 1 Target, 27.8ms\n",
      "video 1/1 (frame 888/2731) c:\\Users\\thoma\\Documents\\GitHub\\follow_target\\videos\\testvideo_1_640x360.mp4: 224x384 1 Target, 27.2ms\n",
      "video 1/1 (frame 889/2731) c:\\Users\\thoma\\Documents\\GitHub\\follow_target\\videos\\testvideo_1_640x360.mp4: 224x384 1 Target, 30.8ms\n",
      "video 1/1 (frame 890/2731) c:\\Users\\thoma\\Documents\\GitHub\\follow_target\\videos\\testvideo_1_640x360.mp4: 224x384 1 Target, 26.1ms\n",
      "video 1/1 (frame 891/2731) c:\\Users\\thoma\\Documents\\GitHub\\follow_target\\videos\\testvideo_1_640x360.mp4: 224x384 1 Target, 25.1ms\n",
      "video 1/1 (frame 892/2731) c:\\Users\\thoma\\Documents\\GitHub\\follow_target\\videos\\testvideo_1_640x360.mp4: 224x384 1 Target, 31.8ms\n",
      "video 1/1 (frame 893/2731) c:\\Users\\thoma\\Documents\\GitHub\\follow_target\\videos\\testvideo_1_640x360.mp4: 224x384 1 Target, 25.5ms\n",
      "video 1/1 (frame 894/2731) c:\\Users\\thoma\\Documents\\GitHub\\follow_target\\videos\\testvideo_1_640x360.mp4: 224x384 1 Target, 27.6ms\n",
      "video 1/1 (frame 895/2731) c:\\Users\\thoma\\Documents\\GitHub\\follow_target\\videos\\testvideo_1_640x360.mp4: 224x384 1 Target, 29.9ms\n",
      "video 1/1 (frame 896/2731) c:\\Users\\thoma\\Documents\\GitHub\\follow_target\\videos\\testvideo_1_640x360.mp4: 224x384 1 Target, 30.5ms\n",
      "video 1/1 (frame 897/2731) c:\\Users\\thoma\\Documents\\GitHub\\follow_target\\videos\\testvideo_1_640x360.mp4: 224x384 1 Target, 29.4ms\n",
      "video 1/1 (frame 898/2731) c:\\Users\\thoma\\Documents\\GitHub\\follow_target\\videos\\testvideo_1_640x360.mp4: 224x384 1 Target, 27.3ms\n",
      "video 1/1 (frame 899/2731) c:\\Users\\thoma\\Documents\\GitHub\\follow_target\\videos\\testvideo_1_640x360.mp4: 224x384 1 Target, 27.6ms\n",
      "video 1/1 (frame 900/2731) c:\\Users\\thoma\\Documents\\GitHub\\follow_target\\videos\\testvideo_1_640x360.mp4: 224x384 1 Target, 28.9ms\n",
      "video 1/1 (frame 901/2731) c:\\Users\\thoma\\Documents\\GitHub\\follow_target\\videos\\testvideo_1_640x360.mp4: 224x384 1 Target, 27.3ms\n",
      "video 1/1 (frame 902/2731) c:\\Users\\thoma\\Documents\\GitHub\\follow_target\\videos\\testvideo_1_640x360.mp4: 224x384 1 Target, 30.6ms\n",
      "video 1/1 (frame 903/2731) c:\\Users\\thoma\\Documents\\GitHub\\follow_target\\videos\\testvideo_1_640x360.mp4: 224x384 1 Target, 29.4ms\n",
      "video 1/1 (frame 904/2731) c:\\Users\\thoma\\Documents\\GitHub\\follow_target\\videos\\testvideo_1_640x360.mp4: 224x384 1 Target, 27.8ms\n",
      "video 1/1 (frame 905/2731) c:\\Users\\thoma\\Documents\\GitHub\\follow_target\\videos\\testvideo_1_640x360.mp4: 224x384 1 Target, 27.0ms\n",
      "video 1/1 (frame 906/2731) c:\\Users\\thoma\\Documents\\GitHub\\follow_target\\videos\\testvideo_1_640x360.mp4: 224x384 1 Target, 29.3ms\n",
      "video 1/1 (frame 907/2731) c:\\Users\\thoma\\Documents\\GitHub\\follow_target\\videos\\testvideo_1_640x360.mp4: 224x384 1 Target, 27.9ms\n",
      "video 1/1 (frame 908/2731) c:\\Users\\thoma\\Documents\\GitHub\\follow_target\\videos\\testvideo_1_640x360.mp4: 224x384 1 Target, 28.6ms\n",
      "video 1/1 (frame 909/2731) c:\\Users\\thoma\\Documents\\GitHub\\follow_target\\videos\\testvideo_1_640x360.mp4: 224x384 1 Target, 28.2ms\n",
      "video 1/1 (frame 910/2731) c:\\Users\\thoma\\Documents\\GitHub\\follow_target\\videos\\testvideo_1_640x360.mp4: 224x384 1 Target, 26.8ms\n",
      "video 1/1 (frame 911/2731) c:\\Users\\thoma\\Documents\\GitHub\\follow_target\\videos\\testvideo_1_640x360.mp4: 224x384 1 Target, 25.3ms\n",
      "video 1/1 (frame 912/2731) c:\\Users\\thoma\\Documents\\GitHub\\follow_target\\videos\\testvideo_1_640x360.mp4: 224x384 1 Target, 24.7ms\n",
      "video 1/1 (frame 913/2731) c:\\Users\\thoma\\Documents\\GitHub\\follow_target\\videos\\testvideo_1_640x360.mp4: 224x384 1 Target, 23.4ms\n",
      "video 1/1 (frame 914/2731) c:\\Users\\thoma\\Documents\\GitHub\\follow_target\\videos\\testvideo_1_640x360.mp4: 224x384 1 Target, 26.6ms\n",
      "video 1/1 (frame 915/2731) c:\\Users\\thoma\\Documents\\GitHub\\follow_target\\videos\\testvideo_1_640x360.mp4: 224x384 1 Target, 26.8ms\n",
      "video 1/1 (frame 916/2731) c:\\Users\\thoma\\Documents\\GitHub\\follow_target\\videos\\testvideo_1_640x360.mp4: 224x384 1 Target, 30.0ms\n",
      "video 1/1 (frame 917/2731) c:\\Users\\thoma\\Documents\\GitHub\\follow_target\\videos\\testvideo_1_640x360.mp4: 224x384 1 Target, 28.0ms\n",
      "video 1/1 (frame 918/2731) c:\\Users\\thoma\\Documents\\GitHub\\follow_target\\videos\\testvideo_1_640x360.mp4: 224x384 1 Target, 24.9ms\n",
      "video 1/1 (frame 919/2731) c:\\Users\\thoma\\Documents\\GitHub\\follow_target\\videos\\testvideo_1_640x360.mp4: 224x384 1 Target, 29.4ms\n",
      "video 1/1 (frame 920/2731) c:\\Users\\thoma\\Documents\\GitHub\\follow_target\\videos\\testvideo_1_640x360.mp4: 224x384 1 Target, 28.1ms\n",
      "video 1/1 (frame 921/2731) c:\\Users\\thoma\\Documents\\GitHub\\follow_target\\videos\\testvideo_1_640x360.mp4: 224x384 1 Target, 30.1ms\n",
      "video 1/1 (frame 922/2731) c:\\Users\\thoma\\Documents\\GitHub\\follow_target\\videos\\testvideo_1_640x360.mp4: 224x384 1 Target, 33.8ms\n",
      "video 1/1 (frame 923/2731) c:\\Users\\thoma\\Documents\\GitHub\\follow_target\\videos\\testvideo_1_640x360.mp4: 224x384 1 Target, 28.8ms\n",
      "video 1/1 (frame 924/2731) c:\\Users\\thoma\\Documents\\GitHub\\follow_target\\videos\\testvideo_1_640x360.mp4: 224x384 1 Target, 28.3ms\n",
      "video 1/1 (frame 925/2731) c:\\Users\\thoma\\Documents\\GitHub\\follow_target\\videos\\testvideo_1_640x360.mp4: 224x384 1 Target, 28.9ms\n",
      "video 1/1 (frame 926/2731) c:\\Users\\thoma\\Documents\\GitHub\\follow_target\\videos\\testvideo_1_640x360.mp4: 224x384 1 Target, 28.5ms\n",
      "video 1/1 (frame 927/2731) c:\\Users\\thoma\\Documents\\GitHub\\follow_target\\videos\\testvideo_1_640x360.mp4: 224x384 1 Target, 30.6ms\n",
      "video 1/1 (frame 928/2731) c:\\Users\\thoma\\Documents\\GitHub\\follow_target\\videos\\testvideo_1_640x360.mp4: 224x384 1 Target, 27.5ms\n",
      "video 1/1 (frame 929/2731) c:\\Users\\thoma\\Documents\\GitHub\\follow_target\\videos\\testvideo_1_640x360.mp4: 224x384 1 Target, 30.1ms\n",
      "video 1/1 (frame 930/2731) c:\\Users\\thoma\\Documents\\GitHub\\follow_target\\videos\\testvideo_1_640x360.mp4: 224x384 1 Target, 25.0ms\n",
      "video 1/1 (frame 931/2731) c:\\Users\\thoma\\Documents\\GitHub\\follow_target\\videos\\testvideo_1_640x360.mp4: 224x384 1 Target, 26.5ms\n",
      "video 1/1 (frame 932/2731) c:\\Users\\thoma\\Documents\\GitHub\\follow_target\\videos\\testvideo_1_640x360.mp4: 224x384 1 Target, 28.1ms\n",
      "video 1/1 (frame 933/2731) c:\\Users\\thoma\\Documents\\GitHub\\follow_target\\videos\\testvideo_1_640x360.mp4: 224x384 1 Target, 26.4ms\n",
      "video 1/1 (frame 934/2731) c:\\Users\\thoma\\Documents\\GitHub\\follow_target\\videos\\testvideo_1_640x360.mp4: 224x384 1 Target, 23.9ms\n",
      "video 1/1 (frame 935/2731) c:\\Users\\thoma\\Documents\\GitHub\\follow_target\\videos\\testvideo_1_640x360.mp4: 224x384 1 Target, 26.9ms\n",
      "video 1/1 (frame 936/2731) c:\\Users\\thoma\\Documents\\GitHub\\follow_target\\videos\\testvideo_1_640x360.mp4: 224x384 1 Target, 31.3ms\n",
      "video 1/1 (frame 937/2731) c:\\Users\\thoma\\Documents\\GitHub\\follow_target\\videos\\testvideo_1_640x360.mp4: 224x384 1 Target, 24.7ms\n",
      "video 1/1 (frame 938/2731) c:\\Users\\thoma\\Documents\\GitHub\\follow_target\\videos\\testvideo_1_640x360.mp4: 224x384 1 Target, 29.8ms\n",
      "video 1/1 (frame 939/2731) c:\\Users\\thoma\\Documents\\GitHub\\follow_target\\videos\\testvideo_1_640x360.mp4: 224x384 1 Target, 27.6ms\n",
      "video 1/1 (frame 940/2731) c:\\Users\\thoma\\Documents\\GitHub\\follow_target\\videos\\testvideo_1_640x360.mp4: 224x384 1 Target, 28.5ms\n",
      "video 1/1 (frame 941/2731) c:\\Users\\thoma\\Documents\\GitHub\\follow_target\\videos\\testvideo_1_640x360.mp4: 224x384 1 Target, 25.2ms\n",
      "video 1/1 (frame 942/2731) c:\\Users\\thoma\\Documents\\GitHub\\follow_target\\videos\\testvideo_1_640x360.mp4: 224x384 1 Target, 26.8ms\n",
      "video 1/1 (frame 943/2731) c:\\Users\\thoma\\Documents\\GitHub\\follow_target\\videos\\testvideo_1_640x360.mp4: 224x384 1 Target, 26.7ms\n",
      "video 1/1 (frame 944/2731) c:\\Users\\thoma\\Documents\\GitHub\\follow_target\\videos\\testvideo_1_640x360.mp4: 224x384 1 Target, 27.5ms\n",
      "video 1/1 (frame 945/2731) c:\\Users\\thoma\\Documents\\GitHub\\follow_target\\videos\\testvideo_1_640x360.mp4: 224x384 1 Target, 26.5ms\n",
      "video 1/1 (frame 946/2731) c:\\Users\\thoma\\Documents\\GitHub\\follow_target\\videos\\testvideo_1_640x360.mp4: 224x384 1 Target, 29.8ms\n",
      "video 1/1 (frame 947/2731) c:\\Users\\thoma\\Documents\\GitHub\\follow_target\\videos\\testvideo_1_640x360.mp4: 224x384 1 Target, 29.5ms\n",
      "video 1/1 (frame 948/2731) c:\\Users\\thoma\\Documents\\GitHub\\follow_target\\videos\\testvideo_1_640x360.mp4: 224x384 1 Target, 27.6ms\n",
      "video 1/1 (frame 949/2731) c:\\Users\\thoma\\Documents\\GitHub\\follow_target\\videos\\testvideo_1_640x360.mp4: 224x384 1 Target, 30.9ms\n",
      "video 1/1 (frame 950/2731) c:\\Users\\thoma\\Documents\\GitHub\\follow_target\\videos\\testvideo_1_640x360.mp4: 224x384 1 Target, 36.0ms\n",
      "video 1/1 (frame 951/2731) c:\\Users\\thoma\\Documents\\GitHub\\follow_target\\videos\\testvideo_1_640x360.mp4: 224x384 (no detections), 30.2ms\n",
      "video 1/1 (frame 952/2731) c:\\Users\\thoma\\Documents\\GitHub\\follow_target\\videos\\testvideo_1_640x360.mp4: 224x384 (no detections), 29.5ms\n",
      "video 1/1 (frame 953/2731) c:\\Users\\thoma\\Documents\\GitHub\\follow_target\\videos\\testvideo_1_640x360.mp4: 224x384 (no detections), 54.7ms\n",
      "video 1/1 (frame 954/2731) c:\\Users\\thoma\\Documents\\GitHub\\follow_target\\videos\\testvideo_1_640x360.mp4: 224x384 (no detections), 27.9ms\n",
      "video 1/1 (frame 955/2731) c:\\Users\\thoma\\Documents\\GitHub\\follow_target\\videos\\testvideo_1_640x360.mp4: 224x384 (no detections), 29.3ms\n",
      "video 1/1 (frame 956/2731) c:\\Users\\thoma\\Documents\\GitHub\\follow_target\\videos\\testvideo_1_640x360.mp4: 224x384 (no detections), 29.6ms\n",
      "video 1/1 (frame 957/2731) c:\\Users\\thoma\\Documents\\GitHub\\follow_target\\videos\\testvideo_1_640x360.mp4: 224x384 1 Target, 29.7ms\n",
      "video 1/1 (frame 958/2731) c:\\Users\\thoma\\Documents\\GitHub\\follow_target\\videos\\testvideo_1_640x360.mp4: 224x384 1 Target, 28.9ms\n",
      "video 1/1 (frame 959/2731) c:\\Users\\thoma\\Documents\\GitHub\\follow_target\\videos\\testvideo_1_640x360.mp4: 224x384 1 Target, 31.5ms\n",
      "video 1/1 (frame 960/2731) c:\\Users\\thoma\\Documents\\GitHub\\follow_target\\videos\\testvideo_1_640x360.mp4: 224x384 1 Target, 25.7ms\n",
      "video 1/1 (frame 961/2731) c:\\Users\\thoma\\Documents\\GitHub\\follow_target\\videos\\testvideo_1_640x360.mp4: 224x384 1 Target, 27.1ms\n",
      "video 1/1 (frame 962/2731) c:\\Users\\thoma\\Documents\\GitHub\\follow_target\\videos\\testvideo_1_640x360.mp4: 224x384 1 Target, 28.2ms\n",
      "video 1/1 (frame 963/2731) c:\\Users\\thoma\\Documents\\GitHub\\follow_target\\videos\\testvideo_1_640x360.mp4: 224x384 1 Target, 25.2ms\n",
      "video 1/1 (frame 964/2731) c:\\Users\\thoma\\Documents\\GitHub\\follow_target\\videos\\testvideo_1_640x360.mp4: 224x384 1 Target, 32.9ms\n",
      "video 1/1 (frame 965/2731) c:\\Users\\thoma\\Documents\\GitHub\\follow_target\\videos\\testvideo_1_640x360.mp4: 224x384 1 Target, 27.5ms\n",
      "video 1/1 (frame 966/2731) c:\\Users\\thoma\\Documents\\GitHub\\follow_target\\videos\\testvideo_1_640x360.mp4: 224x384 1 Target, 25.6ms\n",
      "video 1/1 (frame 967/2731) c:\\Users\\thoma\\Documents\\GitHub\\follow_target\\videos\\testvideo_1_640x360.mp4: 224x384 1 Target, 27.0ms\n",
      "video 1/1 (frame 968/2731) c:\\Users\\thoma\\Documents\\GitHub\\follow_target\\videos\\testvideo_1_640x360.mp4: 224x384 1 Target, 27.6ms\n",
      "video 1/1 (frame 969/2731) c:\\Users\\thoma\\Documents\\GitHub\\follow_target\\videos\\testvideo_1_640x360.mp4: 224x384 1 Target, 28.1ms\n",
      "video 1/1 (frame 970/2731) c:\\Users\\thoma\\Documents\\GitHub\\follow_target\\videos\\testvideo_1_640x360.mp4: 224x384 1 Target, 29.4ms\n",
      "video 1/1 (frame 971/2731) c:\\Users\\thoma\\Documents\\GitHub\\follow_target\\videos\\testvideo_1_640x360.mp4: 224x384 1 Target, 28.5ms\n",
      "video 1/1 (frame 972/2731) c:\\Users\\thoma\\Documents\\GitHub\\follow_target\\videos\\testvideo_1_640x360.mp4: 224x384 1 Target, 25.8ms\n",
      "video 1/1 (frame 973/2731) c:\\Users\\thoma\\Documents\\GitHub\\follow_target\\videos\\testvideo_1_640x360.mp4: 224x384 1 Target, 30.1ms\n",
      "video 1/1 (frame 974/2731) c:\\Users\\thoma\\Documents\\GitHub\\follow_target\\videos\\testvideo_1_640x360.mp4: 224x384 1 Target, 30.0ms\n",
      "video 1/1 (frame 975/2731) c:\\Users\\thoma\\Documents\\GitHub\\follow_target\\videos\\testvideo_1_640x360.mp4: 224x384 1 Target, 28.0ms\n",
      "video 1/1 (frame 976/2731) c:\\Users\\thoma\\Documents\\GitHub\\follow_target\\videos\\testvideo_1_640x360.mp4: 224x384 1 Target, 30.9ms\n",
      "video 1/1 (frame 977/2731) c:\\Users\\thoma\\Documents\\GitHub\\follow_target\\videos\\testvideo_1_640x360.mp4: 224x384 1 Target, 30.1ms\n",
      "video 1/1 (frame 978/2731) c:\\Users\\thoma\\Documents\\GitHub\\follow_target\\videos\\testvideo_1_640x360.mp4: 224x384 1 Target, 32.7ms\n",
      "video 1/1 (frame 979/2731) c:\\Users\\thoma\\Documents\\GitHub\\follow_target\\videos\\testvideo_1_640x360.mp4: 224x384 1 Target, 30.4ms\n",
      "video 1/1 (frame 980/2731) c:\\Users\\thoma\\Documents\\GitHub\\follow_target\\videos\\testvideo_1_640x360.mp4: 224x384 1 Target, 30.8ms\n",
      "video 1/1 (frame 981/2731) c:\\Users\\thoma\\Documents\\GitHub\\follow_target\\videos\\testvideo_1_640x360.mp4: 224x384 1 Target, 27.2ms\n",
      "video 1/1 (frame 982/2731) c:\\Users\\thoma\\Documents\\GitHub\\follow_target\\videos\\testvideo_1_640x360.mp4: 224x384 1 Target, 28.5ms\n",
      "video 1/1 (frame 983/2731) c:\\Users\\thoma\\Documents\\GitHub\\follow_target\\videos\\testvideo_1_640x360.mp4: 224x384 1 Target, 31.2ms\n",
      "video 1/1 (frame 984/2731) c:\\Users\\thoma\\Documents\\GitHub\\follow_target\\videos\\testvideo_1_640x360.mp4: 224x384 1 Target, 30.8ms\n",
      "video 1/1 (frame 985/2731) c:\\Users\\thoma\\Documents\\GitHub\\follow_target\\videos\\testvideo_1_640x360.mp4: 224x384 1 Target, 29.1ms\n",
      "video 1/1 (frame 986/2731) c:\\Users\\thoma\\Documents\\GitHub\\follow_target\\videos\\testvideo_1_640x360.mp4: 224x384 1 Target, 30.4ms\n",
      "video 1/1 (frame 987/2731) c:\\Users\\thoma\\Documents\\GitHub\\follow_target\\videos\\testvideo_1_640x360.mp4: 224x384 1 Target, 28.5ms\n",
      "video 1/1 (frame 988/2731) c:\\Users\\thoma\\Documents\\GitHub\\follow_target\\videos\\testvideo_1_640x360.mp4: 224x384 1 Target, 29.6ms\n",
      "video 1/1 (frame 989/2731) c:\\Users\\thoma\\Documents\\GitHub\\follow_target\\videos\\testvideo_1_640x360.mp4: 224x384 1 Target, 27.2ms\n",
      "video 1/1 (frame 990/2731) c:\\Users\\thoma\\Documents\\GitHub\\follow_target\\videos\\testvideo_1_640x360.mp4: 224x384 1 Target, 28.8ms\n",
      "video 1/1 (frame 991/2731) c:\\Users\\thoma\\Documents\\GitHub\\follow_target\\videos\\testvideo_1_640x360.mp4: 224x384 1 Target, 30.7ms\n",
      "video 1/1 (frame 992/2731) c:\\Users\\thoma\\Documents\\GitHub\\follow_target\\videos\\testvideo_1_640x360.mp4: 224x384 1 Target, 32.1ms\n",
      "video 1/1 (frame 993/2731) c:\\Users\\thoma\\Documents\\GitHub\\follow_target\\videos\\testvideo_1_640x360.mp4: 224x384 1 Target, 29.8ms\n",
      "video 1/1 (frame 994/2731) c:\\Users\\thoma\\Documents\\GitHub\\follow_target\\videos\\testvideo_1_640x360.mp4: 224x384 1 Target, 31.1ms\n",
      "video 1/1 (frame 995/2731) c:\\Users\\thoma\\Documents\\GitHub\\follow_target\\videos\\testvideo_1_640x360.mp4: 224x384 1 Target, 26.5ms\n",
      "video 1/1 (frame 996/2731) c:\\Users\\thoma\\Documents\\GitHub\\follow_target\\videos\\testvideo_1_640x360.mp4: 224x384 1 Target, 27.2ms\n",
      "video 1/1 (frame 997/2731) c:\\Users\\thoma\\Documents\\GitHub\\follow_target\\videos\\testvideo_1_640x360.mp4: 224x384 1 Target, 28.3ms\n",
      "video 1/1 (frame 998/2731) c:\\Users\\thoma\\Documents\\GitHub\\follow_target\\videos\\testvideo_1_640x360.mp4: 224x384 1 Target, 27.4ms\n",
      "video 1/1 (frame 999/2731) c:\\Users\\thoma\\Documents\\GitHub\\follow_target\\videos\\testvideo_1_640x360.mp4: 224x384 1 Target, 29.5ms\n",
      "video 1/1 (frame 1000/2731) c:\\Users\\thoma\\Documents\\GitHub\\follow_target\\videos\\testvideo_1_640x360.mp4: 224x384 1 Target, 27.8ms\n",
      "video 1/1 (frame 1001/2731) c:\\Users\\thoma\\Documents\\GitHub\\follow_target\\videos\\testvideo_1_640x360.mp4: 224x384 1 Target, 30.4ms\n",
      "video 1/1 (frame 1002/2731) c:\\Users\\thoma\\Documents\\GitHub\\follow_target\\videos\\testvideo_1_640x360.mp4: 224x384 1 Target, 33.1ms\n",
      "video 1/1 (frame 1003/2731) c:\\Users\\thoma\\Documents\\GitHub\\follow_target\\videos\\testvideo_1_640x360.mp4: 224x384 1 Target, 29.0ms\n",
      "video 1/1 (frame 1004/2731) c:\\Users\\thoma\\Documents\\GitHub\\follow_target\\videos\\testvideo_1_640x360.mp4: 224x384 1 Target, 37.4ms\n",
      "video 1/1 (frame 1005/2731) c:\\Users\\thoma\\Documents\\GitHub\\follow_target\\videos\\testvideo_1_640x360.mp4: 224x384 1 Target, 28.2ms\n",
      "video 1/1 (frame 1006/2731) c:\\Users\\thoma\\Documents\\GitHub\\follow_target\\videos\\testvideo_1_640x360.mp4: 224x384 1 Target, 29.8ms\n",
      "video 1/1 (frame 1007/2731) c:\\Users\\thoma\\Documents\\GitHub\\follow_target\\videos\\testvideo_1_640x360.mp4: 224x384 1 Target, 25.8ms\n",
      "video 1/1 (frame 1008/2731) c:\\Users\\thoma\\Documents\\GitHub\\follow_target\\videos\\testvideo_1_640x360.mp4: 224x384 1 Target, 27.8ms\n",
      "video 1/1 (frame 1009/2731) c:\\Users\\thoma\\Documents\\GitHub\\follow_target\\videos\\testvideo_1_640x360.mp4: 224x384 1 Target, 26.2ms\n",
      "video 1/1 (frame 1010/2731) c:\\Users\\thoma\\Documents\\GitHub\\follow_target\\videos\\testvideo_1_640x360.mp4: 224x384 1 Target, 27.7ms\n",
      "video 1/1 (frame 1011/2731) c:\\Users\\thoma\\Documents\\GitHub\\follow_target\\videos\\testvideo_1_640x360.mp4: 224x384 1 Target, 27.7ms\n",
      "video 1/1 (frame 1012/2731) c:\\Users\\thoma\\Documents\\GitHub\\follow_target\\videos\\testvideo_1_640x360.mp4: 224x384 1 Target, 30.2ms\n",
      "video 1/1 (frame 1013/2731) c:\\Users\\thoma\\Documents\\GitHub\\follow_target\\videos\\testvideo_1_640x360.mp4: 224x384 1 Target, 30.9ms\n",
      "video 1/1 (frame 1014/2731) c:\\Users\\thoma\\Documents\\GitHub\\follow_target\\videos\\testvideo_1_640x360.mp4: 224x384 1 Target, 30.6ms\n",
      "video 1/1 (frame 1015/2731) c:\\Users\\thoma\\Documents\\GitHub\\follow_target\\videos\\testvideo_1_640x360.mp4: 224x384 1 Target, 29.0ms\n",
      "video 1/1 (frame 1016/2731) c:\\Users\\thoma\\Documents\\GitHub\\follow_target\\videos\\testvideo_1_640x360.mp4: 224x384 1 Target, 27.3ms\n",
      "video 1/1 (frame 1017/2731) c:\\Users\\thoma\\Documents\\GitHub\\follow_target\\videos\\testvideo_1_640x360.mp4: 224x384 1 Target, 30.6ms\n",
      "video 1/1 (frame 1018/2731) c:\\Users\\thoma\\Documents\\GitHub\\follow_target\\videos\\testvideo_1_640x360.mp4: 224x384 1 Target, 26.6ms\n",
      "video 1/1 (frame 1019/2731) c:\\Users\\thoma\\Documents\\GitHub\\follow_target\\videos\\testvideo_1_640x360.mp4: 224x384 1 Target, 28.1ms\n",
      "video 1/1 (frame 1020/2731) c:\\Users\\thoma\\Documents\\GitHub\\follow_target\\videos\\testvideo_1_640x360.mp4: 224x384 1 Target, 31.9ms\n",
      "video 1/1 (frame 1021/2731) c:\\Users\\thoma\\Documents\\GitHub\\follow_target\\videos\\testvideo_1_640x360.mp4: 224x384 1 Target, 32.1ms\n",
      "video 1/1 (frame 1022/2731) c:\\Users\\thoma\\Documents\\GitHub\\follow_target\\videos\\testvideo_1_640x360.mp4: 224x384 1 Target, 29.8ms\n",
      "video 1/1 (frame 1023/2731) c:\\Users\\thoma\\Documents\\GitHub\\follow_target\\videos\\testvideo_1_640x360.mp4: 224x384 1 Target, 28.4ms\n",
      "video 1/1 (frame 1024/2731) c:\\Users\\thoma\\Documents\\GitHub\\follow_target\\videos\\testvideo_1_640x360.mp4: 224x384 1 Target, 31.7ms\n",
      "video 1/1 (frame 1025/2731) c:\\Users\\thoma\\Documents\\GitHub\\follow_target\\videos\\testvideo_1_640x360.mp4: 224x384 1 Target, 27.8ms\n",
      "video 1/1 (frame 1026/2731) c:\\Users\\thoma\\Documents\\GitHub\\follow_target\\videos\\testvideo_1_640x360.mp4: 224x384 1 Target, 27.5ms\n",
      "video 1/1 (frame 1027/2731) c:\\Users\\thoma\\Documents\\GitHub\\follow_target\\videos\\testvideo_1_640x360.mp4: 224x384 1 Target, 29.7ms\n",
      "video 1/1 (frame 1028/2731) c:\\Users\\thoma\\Documents\\GitHub\\follow_target\\videos\\testvideo_1_640x360.mp4: 224x384 1 Target, 27.7ms\n",
      "video 1/1 (frame 1029/2731) c:\\Users\\thoma\\Documents\\GitHub\\follow_target\\videos\\testvideo_1_640x360.mp4: 224x384 1 Target, 28.9ms\n",
      "video 1/1 (frame 1030/2731) c:\\Users\\thoma\\Documents\\GitHub\\follow_target\\videos\\testvideo_1_640x360.mp4: 224x384 1 Target, 27.5ms\n",
      "video 1/1 (frame 1031/2731) c:\\Users\\thoma\\Documents\\GitHub\\follow_target\\videos\\testvideo_1_640x360.mp4: 224x384 1 Target, 28.6ms\n",
      "video 1/1 (frame 1032/2731) c:\\Users\\thoma\\Documents\\GitHub\\follow_target\\videos\\testvideo_1_640x360.mp4: 224x384 1 Target, 27.8ms\n",
      "video 1/1 (frame 1033/2731) c:\\Users\\thoma\\Documents\\GitHub\\follow_target\\videos\\testvideo_1_640x360.mp4: 224x384 1 Target, 27.4ms\n",
      "video 1/1 (frame 1034/2731) c:\\Users\\thoma\\Documents\\GitHub\\follow_target\\videos\\testvideo_1_640x360.mp4: 224x384 1 Target, 25.8ms\n",
      "video 1/1 (frame 1035/2731) c:\\Users\\thoma\\Documents\\GitHub\\follow_target\\videos\\testvideo_1_640x360.mp4: 224x384 1 Target, 27.4ms\n",
      "video 1/1 (frame 1036/2731) c:\\Users\\thoma\\Documents\\GitHub\\follow_target\\videos\\testvideo_1_640x360.mp4: 224x384 1 Target, 27.3ms\n",
      "video 1/1 (frame 1037/2731) c:\\Users\\thoma\\Documents\\GitHub\\follow_target\\videos\\testvideo_1_640x360.mp4: 224x384 1 Target, 26.7ms\n",
      "video 1/1 (frame 1038/2731) c:\\Users\\thoma\\Documents\\GitHub\\follow_target\\videos\\testvideo_1_640x360.mp4: 224x384 1 Target, 27.6ms\n",
      "video 1/1 (frame 1039/2731) c:\\Users\\thoma\\Documents\\GitHub\\follow_target\\videos\\testvideo_1_640x360.mp4: 224x384 1 Target, 27.6ms\n",
      "video 1/1 (frame 1040/2731) c:\\Users\\thoma\\Documents\\GitHub\\follow_target\\videos\\testvideo_1_640x360.mp4: 224x384 1 Target, 25.5ms\n",
      "video 1/1 (frame 1041/2731) c:\\Users\\thoma\\Documents\\GitHub\\follow_target\\videos\\testvideo_1_640x360.mp4: 224x384 1 Target, 27.0ms\n",
      "video 1/1 (frame 1042/2731) c:\\Users\\thoma\\Documents\\GitHub\\follow_target\\videos\\testvideo_1_640x360.mp4: 224x384 1 Target, 30.2ms\n",
      "video 1/1 (frame 1043/2731) c:\\Users\\thoma\\Documents\\GitHub\\follow_target\\videos\\testvideo_1_640x360.mp4: 224x384 1 Target, 29.1ms\n",
      "video 1/1 (frame 1044/2731) c:\\Users\\thoma\\Documents\\GitHub\\follow_target\\videos\\testvideo_1_640x360.mp4: 224x384 1 Target, 48.4ms\n",
      "video 1/1 (frame 1045/2731) c:\\Users\\thoma\\Documents\\GitHub\\follow_target\\videos\\testvideo_1_640x360.mp4: 224x384 1 Target, 29.5ms\n",
      "video 1/1 (frame 1046/2731) c:\\Users\\thoma\\Documents\\GitHub\\follow_target\\videos\\testvideo_1_640x360.mp4: 224x384 1 Target, 27.4ms\n",
      "video 1/1 (frame 1047/2731) c:\\Users\\thoma\\Documents\\GitHub\\follow_target\\videos\\testvideo_1_640x360.mp4: 224x384 1 Target, 30.1ms\n",
      "video 1/1 (frame 1048/2731) c:\\Users\\thoma\\Documents\\GitHub\\follow_target\\videos\\testvideo_1_640x360.mp4: 224x384 1 Target, 28.5ms\n",
      "video 1/1 (frame 1049/2731) c:\\Users\\thoma\\Documents\\GitHub\\follow_target\\videos\\testvideo_1_640x360.mp4: 224x384 1 Target, 29.5ms\n",
      "video 1/1 (frame 1050/2731) c:\\Users\\thoma\\Documents\\GitHub\\follow_target\\videos\\testvideo_1_640x360.mp4: 224x384 1 Target, 26.2ms\n",
      "video 1/1 (frame 1051/2731) c:\\Users\\thoma\\Documents\\GitHub\\follow_target\\videos\\testvideo_1_640x360.mp4: 224x384 1 Target, 27.7ms\n",
      "video 1/1 (frame 1052/2731) c:\\Users\\thoma\\Documents\\GitHub\\follow_target\\videos\\testvideo_1_640x360.mp4: 224x384 1 Target, 30.7ms\n",
      "video 1/1 (frame 1053/2731) c:\\Users\\thoma\\Documents\\GitHub\\follow_target\\videos\\testvideo_1_640x360.mp4: 224x384 1 Target, 30.4ms\n",
      "video 1/1 (frame 1054/2731) c:\\Users\\thoma\\Documents\\GitHub\\follow_target\\videos\\testvideo_1_640x360.mp4: 224x384 1 Target, 30.7ms\n",
      "video 1/1 (frame 1055/2731) c:\\Users\\thoma\\Documents\\GitHub\\follow_target\\videos\\testvideo_1_640x360.mp4: 224x384 1 Target, 30.8ms\n",
      "video 1/1 (frame 1056/2731) c:\\Users\\thoma\\Documents\\GitHub\\follow_target\\videos\\testvideo_1_640x360.mp4: 224x384 1 Target, 29.9ms\n",
      "video 1/1 (frame 1057/2731) c:\\Users\\thoma\\Documents\\GitHub\\follow_target\\videos\\testvideo_1_640x360.mp4: 224x384 1 Target, 31.4ms\n",
      "video 1/1 (frame 1058/2731) c:\\Users\\thoma\\Documents\\GitHub\\follow_target\\videos\\testvideo_1_640x360.mp4: 224x384 1 Target, 28.0ms\n",
      "video 1/1 (frame 1059/2731) c:\\Users\\thoma\\Documents\\GitHub\\follow_target\\videos\\testvideo_1_640x360.mp4: 224x384 1 Target, 26.8ms\n",
      "video 1/1 (frame 1060/2731) c:\\Users\\thoma\\Documents\\GitHub\\follow_target\\videos\\testvideo_1_640x360.mp4: 224x384 1 Target, 29.0ms\n",
      "video 1/1 (frame 1061/2731) c:\\Users\\thoma\\Documents\\GitHub\\follow_target\\videos\\testvideo_1_640x360.mp4: 224x384 1 Target, 28.6ms\n",
      "video 1/1 (frame 1062/2731) c:\\Users\\thoma\\Documents\\GitHub\\follow_target\\videos\\testvideo_1_640x360.mp4: 224x384 1 Target, 30.7ms\n",
      "video 1/1 (frame 1063/2731) c:\\Users\\thoma\\Documents\\GitHub\\follow_target\\videos\\testvideo_1_640x360.mp4: 224x384 1 Target, 28.0ms\n",
      "video 1/1 (frame 1064/2731) c:\\Users\\thoma\\Documents\\GitHub\\follow_target\\videos\\testvideo_1_640x360.mp4: 224x384 1 Target, 28.9ms\n",
      "video 1/1 (frame 1065/2731) c:\\Users\\thoma\\Documents\\GitHub\\follow_target\\videos\\testvideo_1_640x360.mp4: 224x384 1 Target, 25.6ms\n",
      "video 1/1 (frame 1066/2731) c:\\Users\\thoma\\Documents\\GitHub\\follow_target\\videos\\testvideo_1_640x360.mp4: 224x384 1 Target, 27.5ms\n",
      "video 1/1 (frame 1067/2731) c:\\Users\\thoma\\Documents\\GitHub\\follow_target\\videos\\testvideo_1_640x360.mp4: 224x384 1 Target, 28.2ms\n",
      "video 1/1 (frame 1068/2731) c:\\Users\\thoma\\Documents\\GitHub\\follow_target\\videos\\testvideo_1_640x360.mp4: 224x384 1 Target, 30.6ms\n",
      "video 1/1 (frame 1069/2731) c:\\Users\\thoma\\Documents\\GitHub\\follow_target\\videos\\testvideo_1_640x360.mp4: 224x384 1 Target, 29.6ms\n",
      "video 1/1 (frame 1070/2731) c:\\Users\\thoma\\Documents\\GitHub\\follow_target\\videos\\testvideo_1_640x360.mp4: 224x384 1 Target, 34.1ms\n",
      "video 1/1 (frame 1071/2731) c:\\Users\\thoma\\Documents\\GitHub\\follow_target\\videos\\testvideo_1_640x360.mp4: 224x384 (no detections), 30.0ms\n",
      "video 1/1 (frame 1072/2731) c:\\Users\\thoma\\Documents\\GitHub\\follow_target\\videos\\testvideo_1_640x360.mp4: 224x384 1 Target, 30.5ms\n",
      "video 1/1 (frame 1073/2731) c:\\Users\\thoma\\Documents\\GitHub\\follow_target\\videos\\testvideo_1_640x360.mp4: 224x384 1 Target, 29.6ms\n",
      "video 1/1 (frame 1074/2731) c:\\Users\\thoma\\Documents\\GitHub\\follow_target\\videos\\testvideo_1_640x360.mp4: 224x384 (no detections), 29.7ms\n",
      "video 1/1 (frame 1075/2731) c:\\Users\\thoma\\Documents\\GitHub\\follow_target\\videos\\testvideo_1_640x360.mp4: 224x384 1 Target, 28.2ms\n",
      "video 1/1 (frame 1076/2731) c:\\Users\\thoma\\Documents\\GitHub\\follow_target\\videos\\testvideo_1_640x360.mp4: 224x384 1 Target, 29.8ms\n",
      "video 1/1 (frame 1077/2731) c:\\Users\\thoma\\Documents\\GitHub\\follow_target\\videos\\testvideo_1_640x360.mp4: 224x384 1 Target, 30.1ms\n",
      "video 1/1 (frame 1078/2731) c:\\Users\\thoma\\Documents\\GitHub\\follow_target\\videos\\testvideo_1_640x360.mp4: 224x384 1 Target, 29.8ms\n",
      "video 1/1 (frame 1079/2731) c:\\Users\\thoma\\Documents\\GitHub\\follow_target\\videos\\testvideo_1_640x360.mp4: 224x384 1 Target, 28.0ms\n",
      "video 1/1 (frame 1080/2731) c:\\Users\\thoma\\Documents\\GitHub\\follow_target\\videos\\testvideo_1_640x360.mp4: 224x384 1 Target, 29.4ms\n",
      "video 1/1 (frame 1081/2731) c:\\Users\\thoma\\Documents\\GitHub\\follow_target\\videos\\testvideo_1_640x360.mp4: 224x384 1 Target, 29.5ms\n",
      "video 1/1 (frame 1082/2731) c:\\Users\\thoma\\Documents\\GitHub\\follow_target\\videos\\testvideo_1_640x360.mp4: 224x384 1 Target, 30.9ms\n",
      "video 1/1 (frame 1083/2731) c:\\Users\\thoma\\Documents\\GitHub\\follow_target\\videos\\testvideo_1_640x360.mp4: 224x384 1 Target, 27.2ms\n",
      "video 1/1 (frame 1084/2731) c:\\Users\\thoma\\Documents\\GitHub\\follow_target\\videos\\testvideo_1_640x360.mp4: 224x384 1 Target, 28.5ms\n",
      "video 1/1 (frame 1085/2731) c:\\Users\\thoma\\Documents\\GitHub\\follow_target\\videos\\testvideo_1_640x360.mp4: 224x384 1 Target, 24.9ms\n",
      "video 1/1 (frame 1086/2731) c:\\Users\\thoma\\Documents\\GitHub\\follow_target\\videos\\testvideo_1_640x360.mp4: 224x384 1 Target, 27.7ms\n",
      "video 1/1 (frame 1087/2731) c:\\Users\\thoma\\Documents\\GitHub\\follow_target\\videos\\testvideo_1_640x360.mp4: 224x384 1 Target, 26.3ms\n",
      "video 1/1 (frame 1088/2731) c:\\Users\\thoma\\Documents\\GitHub\\follow_target\\videos\\testvideo_1_640x360.mp4: 224x384 1 Target, 27.1ms\n",
      "video 1/1 (frame 1089/2731) c:\\Users\\thoma\\Documents\\GitHub\\follow_target\\videos\\testvideo_1_640x360.mp4: 224x384 1 Target, 27.3ms\n",
      "video 1/1 (frame 1090/2731) c:\\Users\\thoma\\Documents\\GitHub\\follow_target\\videos\\testvideo_1_640x360.mp4: 224x384 1 Target, 26.5ms\n",
      "video 1/1 (frame 1091/2731) c:\\Users\\thoma\\Documents\\GitHub\\follow_target\\videos\\testvideo_1_640x360.mp4: 224x384 1 Target, 29.6ms\n",
      "video 1/1 (frame 1092/2731) c:\\Users\\thoma\\Documents\\GitHub\\follow_target\\videos\\testvideo_1_640x360.mp4: 224x384 1 Target, 25.0ms\n",
      "video 1/1 (frame 1093/2731) c:\\Users\\thoma\\Documents\\GitHub\\follow_target\\videos\\testvideo_1_640x360.mp4: 224x384 1 Target, 28.7ms\n",
      "video 1/1 (frame 1094/2731) c:\\Users\\thoma\\Documents\\GitHub\\follow_target\\videos\\testvideo_1_640x360.mp4: 224x384 1 Target, 31.8ms\n",
      "video 1/1 (frame 1095/2731) c:\\Users\\thoma\\Documents\\GitHub\\follow_target\\videos\\testvideo_1_640x360.mp4: 224x384 1 Target, 27.4ms\n",
      "video 1/1 (frame 1096/2731) c:\\Users\\thoma\\Documents\\GitHub\\follow_target\\videos\\testvideo_1_640x360.mp4: 224x384 1 Target, 27.0ms\n",
      "video 1/1 (frame 1097/2731) c:\\Users\\thoma\\Documents\\GitHub\\follow_target\\videos\\testvideo_1_640x360.mp4: 224x384 1 Target, 27.3ms\n",
      "video 1/1 (frame 1098/2731) c:\\Users\\thoma\\Documents\\GitHub\\follow_target\\videos\\testvideo_1_640x360.mp4: 224x384 1 Target, 27.5ms\n",
      "video 1/1 (frame 1099/2731) c:\\Users\\thoma\\Documents\\GitHub\\follow_target\\videos\\testvideo_1_640x360.mp4: 224x384 1 Target, 29.3ms\n",
      "video 1/1 (frame 1100/2731) c:\\Users\\thoma\\Documents\\GitHub\\follow_target\\videos\\testvideo_1_640x360.mp4: 224x384 1 Target, 28.0ms\n",
      "video 1/1 (frame 1101/2731) c:\\Users\\thoma\\Documents\\GitHub\\follow_target\\videos\\testvideo_1_640x360.mp4: 224x384 1 Target, 28.1ms\n",
      "video 1/1 (frame 1102/2731) c:\\Users\\thoma\\Documents\\GitHub\\follow_target\\videos\\testvideo_1_640x360.mp4: 224x384 1 Target, 26.3ms\n",
      "video 1/1 (frame 1103/2731) c:\\Users\\thoma\\Documents\\GitHub\\follow_target\\videos\\testvideo_1_640x360.mp4: 224x384 1 Target, 28.6ms\n",
      "video 1/1 (frame 1104/2731) c:\\Users\\thoma\\Documents\\GitHub\\follow_target\\videos\\testvideo_1_640x360.mp4: 224x384 1 Target, 28.0ms\n",
      "video 1/1 (frame 1105/2731) c:\\Users\\thoma\\Documents\\GitHub\\follow_target\\videos\\testvideo_1_640x360.mp4: 224x384 1 Target, 28.7ms\n",
      "video 1/1 (frame 1106/2731) c:\\Users\\thoma\\Documents\\GitHub\\follow_target\\videos\\testvideo_1_640x360.mp4: 224x384 1 Target, 30.2ms\n",
      "video 1/1 (frame 1107/2731) c:\\Users\\thoma\\Documents\\GitHub\\follow_target\\videos\\testvideo_1_640x360.mp4: 224x384 1 Target, 28.3ms\n",
      "video 1/1 (frame 1108/2731) c:\\Users\\thoma\\Documents\\GitHub\\follow_target\\videos\\testvideo_1_640x360.mp4: 224x384 1 Target, 27.4ms\n",
      "video 1/1 (frame 1109/2731) c:\\Users\\thoma\\Documents\\GitHub\\follow_target\\videos\\testvideo_1_640x360.mp4: 224x384 1 Target, 27.7ms\n",
      "video 1/1 (frame 1110/2731) c:\\Users\\thoma\\Documents\\GitHub\\follow_target\\videos\\testvideo_1_640x360.mp4: 224x384 1 Target, 28.2ms\n",
      "video 1/1 (frame 1111/2731) c:\\Users\\thoma\\Documents\\GitHub\\follow_target\\videos\\testvideo_1_640x360.mp4: 224x384 1 Target, 28.4ms\n",
      "video 1/1 (frame 1112/2731) c:\\Users\\thoma\\Documents\\GitHub\\follow_target\\videos\\testvideo_1_640x360.mp4: 224x384 (no detections), 27.6ms\n",
      "video 1/1 (frame 1113/2731) c:\\Users\\thoma\\Documents\\GitHub\\follow_target\\videos\\testvideo_1_640x360.mp4: 224x384 1 Target, 25.1ms\n",
      "video 1/1 (frame 1114/2731) c:\\Users\\thoma\\Documents\\GitHub\\follow_target\\videos\\testvideo_1_640x360.mp4: 224x384 (no detections), 28.2ms\n",
      "video 1/1 (frame 1115/2731) c:\\Users\\thoma\\Documents\\GitHub\\follow_target\\videos\\testvideo_1_640x360.mp4: 224x384 (no detections), 24.5ms\n",
      "video 1/1 (frame 1116/2731) c:\\Users\\thoma\\Documents\\GitHub\\follow_target\\videos\\testvideo_1_640x360.mp4: 224x384 (no detections), 27.6ms\n",
      "video 1/1 (frame 1117/2731) c:\\Users\\thoma\\Documents\\GitHub\\follow_target\\videos\\testvideo_1_640x360.mp4: 224x384 (no detections), 26.4ms\n",
      "video 1/1 (frame 1118/2731) c:\\Users\\thoma\\Documents\\GitHub\\follow_target\\videos\\testvideo_1_640x360.mp4: 224x384 (no detections), 28.4ms\n",
      "video 1/1 (frame 1119/2731) c:\\Users\\thoma\\Documents\\GitHub\\follow_target\\videos\\testvideo_1_640x360.mp4: 224x384 1 Target, 27.2ms\n",
      "video 1/1 (frame 1120/2731) c:\\Users\\thoma\\Documents\\GitHub\\follow_target\\videos\\testvideo_1_640x360.mp4: 224x384 (no detections), 26.4ms\n",
      "video 1/1 (frame 1121/2731) c:\\Users\\thoma\\Documents\\GitHub\\follow_target\\videos\\testvideo_1_640x360.mp4: 224x384 1 Target, 25.9ms\n",
      "video 1/1 (frame 1122/2731) c:\\Users\\thoma\\Documents\\GitHub\\follow_target\\videos\\testvideo_1_640x360.mp4: 224x384 1 Target, 27.5ms\n",
      "video 1/1 (frame 1123/2731) c:\\Users\\thoma\\Documents\\GitHub\\follow_target\\videos\\testvideo_1_640x360.mp4: 224x384 1 Target, 29.9ms\n",
      "video 1/1 (frame 1124/2731) c:\\Users\\thoma\\Documents\\GitHub\\follow_target\\videos\\testvideo_1_640x360.mp4: 224x384 1 Target, 26.9ms\n",
      "video 1/1 (frame 1125/2731) c:\\Users\\thoma\\Documents\\GitHub\\follow_target\\videos\\testvideo_1_640x360.mp4: 224x384 1 Target, 25.8ms\n",
      "video 1/1 (frame 1126/2731) c:\\Users\\thoma\\Documents\\GitHub\\follow_target\\videos\\testvideo_1_640x360.mp4: 224x384 1 Target, 27.9ms\n",
      "video 1/1 (frame 1127/2731) c:\\Users\\thoma\\Documents\\GitHub\\follow_target\\videos\\testvideo_1_640x360.mp4: 224x384 1 Target, 27.2ms\n",
      "video 1/1 (frame 1128/2731) c:\\Users\\thoma\\Documents\\GitHub\\follow_target\\videos\\testvideo_1_640x360.mp4: 224x384 (no detections), 29.5ms\n",
      "video 1/1 (frame 1129/2731) c:\\Users\\thoma\\Documents\\GitHub\\follow_target\\videos\\testvideo_1_640x360.mp4: 224x384 (no detections), 27.4ms\n",
      "video 1/1 (frame 1130/2731) c:\\Users\\thoma\\Documents\\GitHub\\follow_target\\videos\\testvideo_1_640x360.mp4: 224x384 (no detections), 28.9ms\n",
      "video 1/1 (frame 1131/2731) c:\\Users\\thoma\\Documents\\GitHub\\follow_target\\videos\\testvideo_1_640x360.mp4: 224x384 (no detections), 27.7ms\n",
      "video 1/1 (frame 1132/2731) c:\\Users\\thoma\\Documents\\GitHub\\follow_target\\videos\\testvideo_1_640x360.mp4: 224x384 (no detections), 25.7ms\n",
      "video 1/1 (frame 1133/2731) c:\\Users\\thoma\\Documents\\GitHub\\follow_target\\videos\\testvideo_1_640x360.mp4: 224x384 1 Target, 24.9ms\n",
      "video 1/1 (frame 1134/2731) c:\\Users\\thoma\\Documents\\GitHub\\follow_target\\videos\\testvideo_1_640x360.mp4: 224x384 1 Target, 26.4ms\n",
      "video 1/1 (frame 1135/2731) c:\\Users\\thoma\\Documents\\GitHub\\follow_target\\videos\\testvideo_1_640x360.mp4: 224x384 (no detections), 26.3ms\n",
      "video 1/1 (frame 1136/2731) c:\\Users\\thoma\\Documents\\GitHub\\follow_target\\videos\\testvideo_1_640x360.mp4: 224x384 1 Target, 27.9ms\n",
      "video 1/1 (frame 1137/2731) c:\\Users\\thoma\\Documents\\GitHub\\follow_target\\videos\\testvideo_1_640x360.mp4: 224x384 (no detections), 57.7ms\n",
      "video 1/1 (frame 1138/2731) c:\\Users\\thoma\\Documents\\GitHub\\follow_target\\videos\\testvideo_1_640x360.mp4: 224x384 1 Target, 30.2ms\n",
      "video 1/1 (frame 1139/2731) c:\\Users\\thoma\\Documents\\GitHub\\follow_target\\videos\\testvideo_1_640x360.mp4: 224x384 (no detections), 27.9ms\n",
      "video 1/1 (frame 1140/2731) c:\\Users\\thoma\\Documents\\GitHub\\follow_target\\videos\\testvideo_1_640x360.mp4: 224x384 (no detections), 27.5ms\n",
      "video 1/1 (frame 1141/2731) c:\\Users\\thoma\\Documents\\GitHub\\follow_target\\videos\\testvideo_1_640x360.mp4: 224x384 1 Target, 26.9ms\n",
      "video 1/1 (frame 1142/2731) c:\\Users\\thoma\\Documents\\GitHub\\follow_target\\videos\\testvideo_1_640x360.mp4: 224x384 1 Target, 30.3ms\n",
      "video 1/1 (frame 1143/2731) c:\\Users\\thoma\\Documents\\GitHub\\follow_target\\videos\\testvideo_1_640x360.mp4: 224x384 1 Target, 25.1ms\n",
      "video 1/1 (frame 1144/2731) c:\\Users\\thoma\\Documents\\GitHub\\follow_target\\videos\\testvideo_1_640x360.mp4: 224x384 1 Target, 28.3ms\n",
      "video 1/1 (frame 1145/2731) c:\\Users\\thoma\\Documents\\GitHub\\follow_target\\videos\\testvideo_1_640x360.mp4: 224x384 1 Target, 28.0ms\n",
      "video 1/1 (frame 1146/2731) c:\\Users\\thoma\\Documents\\GitHub\\follow_target\\videos\\testvideo_1_640x360.mp4: 224x384 1 Target, 27.4ms\n",
      "video 1/1 (frame 1147/2731) c:\\Users\\thoma\\Documents\\GitHub\\follow_target\\videos\\testvideo_1_640x360.mp4: 224x384 1 Target, 25.0ms\n",
      "video 1/1 (frame 1148/2731) c:\\Users\\thoma\\Documents\\GitHub\\follow_target\\videos\\testvideo_1_640x360.mp4: 224x384 1 Target, 27.3ms\n",
      "video 1/1 (frame 1149/2731) c:\\Users\\thoma\\Documents\\GitHub\\follow_target\\videos\\testvideo_1_640x360.mp4: 224x384 1 Target, 27.5ms\n",
      "video 1/1 (frame 1150/2731) c:\\Users\\thoma\\Documents\\GitHub\\follow_target\\videos\\testvideo_1_640x360.mp4: 224x384 1 Target, 25.5ms\n",
      "video 1/1 (frame 1151/2731) c:\\Users\\thoma\\Documents\\GitHub\\follow_target\\videos\\testvideo_1_640x360.mp4: 224x384 1 Target, 29.3ms\n",
      "video 1/1 (frame 1152/2731) c:\\Users\\thoma\\Documents\\GitHub\\follow_target\\videos\\testvideo_1_640x360.mp4: 224x384 1 Target, 28.4ms\n",
      "video 1/1 (frame 1153/2731) c:\\Users\\thoma\\Documents\\GitHub\\follow_target\\videos\\testvideo_1_640x360.mp4: 224x384 1 Target, 26.0ms\n",
      "video 1/1 (frame 1154/2731) c:\\Users\\thoma\\Documents\\GitHub\\follow_target\\videos\\testvideo_1_640x360.mp4: 224x384 1 Target, 31.6ms\n",
      "video 1/1 (frame 1155/2731) c:\\Users\\thoma\\Documents\\GitHub\\follow_target\\videos\\testvideo_1_640x360.mp4: 224x384 1 Target, 25.7ms\n",
      "video 1/1 (frame 1156/2731) c:\\Users\\thoma\\Documents\\GitHub\\follow_target\\videos\\testvideo_1_640x360.mp4: 224x384 1 Target, 27.0ms\n",
      "video 1/1 (frame 1157/2731) c:\\Users\\thoma\\Documents\\GitHub\\follow_target\\videos\\testvideo_1_640x360.mp4: 224x384 1 Target, 26.5ms\n",
      "video 1/1 (frame 1158/2731) c:\\Users\\thoma\\Documents\\GitHub\\follow_target\\videos\\testvideo_1_640x360.mp4: 224x384 1 Target, 27.2ms\n",
      "video 1/1 (frame 1159/2731) c:\\Users\\thoma\\Documents\\GitHub\\follow_target\\videos\\testvideo_1_640x360.mp4: 224x384 1 Target, 28.5ms\n",
      "video 1/1 (frame 1160/2731) c:\\Users\\thoma\\Documents\\GitHub\\follow_target\\videos\\testvideo_1_640x360.mp4: 224x384 1 Target, 26.9ms\n",
      "video 1/1 (frame 1161/2731) c:\\Users\\thoma\\Documents\\GitHub\\follow_target\\videos\\testvideo_1_640x360.mp4: 224x384 1 Target, 26.9ms\n",
      "video 1/1 (frame 1162/2731) c:\\Users\\thoma\\Documents\\GitHub\\follow_target\\videos\\testvideo_1_640x360.mp4: 224x384 1 Target, 27.8ms\n",
      "video 1/1 (frame 1163/2731) c:\\Users\\thoma\\Documents\\GitHub\\follow_target\\videos\\testvideo_1_640x360.mp4: 224x384 1 Target, 26.6ms\n",
      "video 1/1 (frame 1164/2731) c:\\Users\\thoma\\Documents\\GitHub\\follow_target\\videos\\testvideo_1_640x360.mp4: 224x384 1 Target, 25.7ms\n",
      "video 1/1 (frame 1165/2731) c:\\Users\\thoma\\Documents\\GitHub\\follow_target\\videos\\testvideo_1_640x360.mp4: 224x384 1 Target, 28.4ms\n",
      "video 1/1 (frame 1166/2731) c:\\Users\\thoma\\Documents\\GitHub\\follow_target\\videos\\testvideo_1_640x360.mp4: 224x384 1 Target, 31.0ms\n",
      "video 1/1 (frame 1167/2731) c:\\Users\\thoma\\Documents\\GitHub\\follow_target\\videos\\testvideo_1_640x360.mp4: 224x384 1 Target, 26.4ms\n",
      "video 1/1 (frame 1168/2731) c:\\Users\\thoma\\Documents\\GitHub\\follow_target\\videos\\testvideo_1_640x360.mp4: 224x384 1 Target, 30.0ms\n",
      "video 1/1 (frame 1169/2731) c:\\Users\\thoma\\Documents\\GitHub\\follow_target\\videos\\testvideo_1_640x360.mp4: 224x384 1 Target, 27.2ms\n",
      "video 1/1 (frame 1170/2731) c:\\Users\\thoma\\Documents\\GitHub\\follow_target\\videos\\testvideo_1_640x360.mp4: 224x384 1 Target, 27.5ms\n",
      "video 1/1 (frame 1171/2731) c:\\Users\\thoma\\Documents\\GitHub\\follow_target\\videos\\testvideo_1_640x360.mp4: 224x384 1 Target, 27.5ms\n",
      "video 1/1 (frame 1172/2731) c:\\Users\\thoma\\Documents\\GitHub\\follow_target\\videos\\testvideo_1_640x360.mp4: 224x384 1 Target, 28.4ms\n",
      "video 1/1 (frame 1173/2731) c:\\Users\\thoma\\Documents\\GitHub\\follow_target\\videos\\testvideo_1_640x360.mp4: 224x384 1 Target, 26.0ms\n",
      "video 1/1 (frame 1174/2731) c:\\Users\\thoma\\Documents\\GitHub\\follow_target\\videos\\testvideo_1_640x360.mp4: 224x384 1 Target, 28.0ms\n",
      "video 1/1 (frame 1175/2731) c:\\Users\\thoma\\Documents\\GitHub\\follow_target\\videos\\testvideo_1_640x360.mp4: 224x384 1 Target, 27.0ms\n",
      "video 1/1 (frame 1176/2731) c:\\Users\\thoma\\Documents\\GitHub\\follow_target\\videos\\testvideo_1_640x360.mp4: 224x384 1 Target, 27.2ms\n",
      "video 1/1 (frame 1177/2731) c:\\Users\\thoma\\Documents\\GitHub\\follow_target\\videos\\testvideo_1_640x360.mp4: 224x384 1 Target, 32.7ms\n",
      "video 1/1 (frame 1178/2731) c:\\Users\\thoma\\Documents\\GitHub\\follow_target\\videos\\testvideo_1_640x360.mp4: 224x384 1 Target, 27.2ms\n",
      "video 1/1 (frame 1179/2731) c:\\Users\\thoma\\Documents\\GitHub\\follow_target\\videos\\testvideo_1_640x360.mp4: 224x384 1 Target, 28.4ms\n",
      "video 1/1 (frame 1180/2731) c:\\Users\\thoma\\Documents\\GitHub\\follow_target\\videos\\testvideo_1_640x360.mp4: 224x384 1 Target, 28.7ms\n",
      "video 1/1 (frame 1181/2731) c:\\Users\\thoma\\Documents\\GitHub\\follow_target\\videos\\testvideo_1_640x360.mp4: 224x384 1 Target, 28.1ms\n",
      "video 1/1 (frame 1182/2731) c:\\Users\\thoma\\Documents\\GitHub\\follow_target\\videos\\testvideo_1_640x360.mp4: 224x384 1 Target, 26.8ms\n",
      "video 1/1 (frame 1183/2731) c:\\Users\\thoma\\Documents\\GitHub\\follow_target\\videos\\testvideo_1_640x360.mp4: 224x384 1 Target, 27.5ms\n",
      "video 1/1 (frame 1184/2731) c:\\Users\\thoma\\Documents\\GitHub\\follow_target\\videos\\testvideo_1_640x360.mp4: 224x384 1 Target, 26.1ms\n",
      "video 1/1 (frame 1185/2731) c:\\Users\\thoma\\Documents\\GitHub\\follow_target\\videos\\testvideo_1_640x360.mp4: 224x384 1 Target, 28.0ms\n",
      "video 1/1 (frame 1186/2731) c:\\Users\\thoma\\Documents\\GitHub\\follow_target\\videos\\testvideo_1_640x360.mp4: 224x384 1 Target, 26.6ms\n",
      "video 1/1 (frame 1187/2731) c:\\Users\\thoma\\Documents\\GitHub\\follow_target\\videos\\testvideo_1_640x360.mp4: 224x384 1 Target, 27.8ms\n",
      "video 1/1 (frame 1188/2731) c:\\Users\\thoma\\Documents\\GitHub\\follow_target\\videos\\testvideo_1_640x360.mp4: 224x384 1 Target, 27.8ms\n",
      "video 1/1 (frame 1189/2731) c:\\Users\\thoma\\Documents\\GitHub\\follow_target\\videos\\testvideo_1_640x360.mp4: 224x384 1 Target, 29.6ms\n",
      "video 1/1 (frame 1190/2731) c:\\Users\\thoma\\Documents\\GitHub\\follow_target\\videos\\testvideo_1_640x360.mp4: 224x384 1 Target, 26.5ms\n",
      "video 1/1 (frame 1191/2731) c:\\Users\\thoma\\Documents\\GitHub\\follow_target\\videos\\testvideo_1_640x360.mp4: 224x384 1 Target, 27.8ms\n",
      "video 1/1 (frame 1192/2731) c:\\Users\\thoma\\Documents\\GitHub\\follow_target\\videos\\testvideo_1_640x360.mp4: 224x384 1 Target, 27.1ms\n",
      "video 1/1 (frame 1193/2731) c:\\Users\\thoma\\Documents\\GitHub\\follow_target\\videos\\testvideo_1_640x360.mp4: 224x384 1 Target, 27.7ms\n",
      "video 1/1 (frame 1194/2731) c:\\Users\\thoma\\Documents\\GitHub\\follow_target\\videos\\testvideo_1_640x360.mp4: 224x384 1 Target, 28.9ms\n",
      "video 1/1 (frame 1195/2731) c:\\Users\\thoma\\Documents\\GitHub\\follow_target\\videos\\testvideo_1_640x360.mp4: 224x384 1 Target, 29.4ms\n",
      "video 1/1 (frame 1196/2731) c:\\Users\\thoma\\Documents\\GitHub\\follow_target\\videos\\testvideo_1_640x360.mp4: 224x384 1 Target, 25.8ms\n",
      "video 1/1 (frame 1197/2731) c:\\Users\\thoma\\Documents\\GitHub\\follow_target\\videos\\testvideo_1_640x360.mp4: 224x384 1 Target, 28.9ms\n",
      "video 1/1 (frame 1198/2731) c:\\Users\\thoma\\Documents\\GitHub\\follow_target\\videos\\testvideo_1_640x360.mp4: 224x384 1 Target, 25.8ms\n",
      "video 1/1 (frame 1199/2731) c:\\Users\\thoma\\Documents\\GitHub\\follow_target\\videos\\testvideo_1_640x360.mp4: 224x384 1 Target, 24.9ms\n",
      "video 1/1 (frame 1200/2731) c:\\Users\\thoma\\Documents\\GitHub\\follow_target\\videos\\testvideo_1_640x360.mp4: 224x384 1 Target, 26.5ms\n",
      "video 1/1 (frame 1201/2731) c:\\Users\\thoma\\Documents\\GitHub\\follow_target\\videos\\testvideo_1_640x360.mp4: 224x384 1 Target, 28.1ms\n",
      "video 1/1 (frame 1202/2731) c:\\Users\\thoma\\Documents\\GitHub\\follow_target\\videos\\testvideo_1_640x360.mp4: 224x384 1 Target, 22.7ms\n",
      "video 1/1 (frame 1203/2731) c:\\Users\\thoma\\Documents\\GitHub\\follow_target\\videos\\testvideo_1_640x360.mp4: 224x384 1 Target, 26.2ms\n",
      "video 1/1 (frame 1204/2731) c:\\Users\\thoma\\Documents\\GitHub\\follow_target\\videos\\testvideo_1_640x360.mp4: 224x384 1 Target, 25.7ms\n",
      "video 1/1 (frame 1205/2731) c:\\Users\\thoma\\Documents\\GitHub\\follow_target\\videos\\testvideo_1_640x360.mp4: 224x384 1 Target, 27.9ms\n",
      "video 1/1 (frame 1206/2731) c:\\Users\\thoma\\Documents\\GitHub\\follow_target\\videos\\testvideo_1_640x360.mp4: 224x384 1 Target, 25.6ms\n",
      "video 1/1 (frame 1207/2731) c:\\Users\\thoma\\Documents\\GitHub\\follow_target\\videos\\testvideo_1_640x360.mp4: 224x384 1 Target, 26.9ms\n",
      "video 1/1 (frame 1208/2731) c:\\Users\\thoma\\Documents\\GitHub\\follow_target\\videos\\testvideo_1_640x360.mp4: 224x384 1 Target, 24.2ms\n",
      "video 1/1 (frame 1209/2731) c:\\Users\\thoma\\Documents\\GitHub\\follow_target\\videos\\testvideo_1_640x360.mp4: 224x384 1 Target, 26.1ms\n",
      "video 1/1 (frame 1210/2731) c:\\Users\\thoma\\Documents\\GitHub\\follow_target\\videos\\testvideo_1_640x360.mp4: 224x384 1 Target, 25.5ms\n",
      "video 1/1 (frame 1211/2731) c:\\Users\\thoma\\Documents\\GitHub\\follow_target\\videos\\testvideo_1_640x360.mp4: 224x384 1 Target, 27.7ms\n",
      "video 1/1 (frame 1212/2731) c:\\Users\\thoma\\Documents\\GitHub\\follow_target\\videos\\testvideo_1_640x360.mp4: 224x384 1 Target, 27.0ms\n",
      "video 1/1 (frame 1213/2731) c:\\Users\\thoma\\Documents\\GitHub\\follow_target\\videos\\testvideo_1_640x360.mp4: 224x384 (no detections), 24.9ms\n",
      "video 1/1 (frame 1214/2731) c:\\Users\\thoma\\Documents\\GitHub\\follow_target\\videos\\testvideo_1_640x360.mp4: 224x384 (no detections), 28.3ms\n",
      "video 1/1 (frame 1215/2731) c:\\Users\\thoma\\Documents\\GitHub\\follow_target\\videos\\testvideo_1_640x360.mp4: 224x384 1 Target, 27.2ms\n",
      "video 1/1 (frame 1216/2731) c:\\Users\\thoma\\Documents\\GitHub\\follow_target\\videos\\testvideo_1_640x360.mp4: 224x384 1 Target, 25.6ms\n",
      "video 1/1 (frame 1217/2731) c:\\Users\\thoma\\Documents\\GitHub\\follow_target\\videos\\testvideo_1_640x360.mp4: 224x384 1 Target, 26.6ms\n",
      "video 1/1 (frame 1218/2731) c:\\Users\\thoma\\Documents\\GitHub\\follow_target\\videos\\testvideo_1_640x360.mp4: 224x384 1 Target, 27.3ms\n",
      "video 1/1 (frame 1219/2731) c:\\Users\\thoma\\Documents\\GitHub\\follow_target\\videos\\testvideo_1_640x360.mp4: 224x384 1 Target, 28.4ms\n",
      "video 1/1 (frame 1220/2731) c:\\Users\\thoma\\Documents\\GitHub\\follow_target\\videos\\testvideo_1_640x360.mp4: 224x384 1 Target, 29.2ms\n",
      "video 1/1 (frame 1221/2731) c:\\Users\\thoma\\Documents\\GitHub\\follow_target\\videos\\testvideo_1_640x360.mp4: 224x384 1 Target, 27.2ms\n",
      "video 1/1 (frame 1222/2731) c:\\Users\\thoma\\Documents\\GitHub\\follow_target\\videos\\testvideo_1_640x360.mp4: 224x384 1 Target, 30.0ms\n",
      "video 1/1 (frame 1223/2731) c:\\Users\\thoma\\Documents\\GitHub\\follow_target\\videos\\testvideo_1_640x360.mp4: 224x384 1 Target, 42.9ms\n",
      "video 1/1 (frame 1224/2731) c:\\Users\\thoma\\Documents\\GitHub\\follow_target\\videos\\testvideo_1_640x360.mp4: 224x384 1 Target, 28.1ms\n",
      "video 1/1 (frame 1225/2731) c:\\Users\\thoma\\Documents\\GitHub\\follow_target\\videos\\testvideo_1_640x360.mp4: 224x384 1 Target, 25.9ms\n",
      "video 1/1 (frame 1226/2731) c:\\Users\\thoma\\Documents\\GitHub\\follow_target\\videos\\testvideo_1_640x360.mp4: 224x384 1 Target, 26.2ms\n",
      "video 1/1 (frame 1227/2731) c:\\Users\\thoma\\Documents\\GitHub\\follow_target\\videos\\testvideo_1_640x360.mp4: 224x384 1 Target, 25.7ms\n",
      "video 1/1 (frame 1228/2731) c:\\Users\\thoma\\Documents\\GitHub\\follow_target\\videos\\testvideo_1_640x360.mp4: 224x384 1 Target, 27.2ms\n",
      "video 1/1 (frame 1229/2731) c:\\Users\\thoma\\Documents\\GitHub\\follow_target\\videos\\testvideo_1_640x360.mp4: 224x384 1 Target, 25.4ms\n",
      "video 1/1 (frame 1230/2731) c:\\Users\\thoma\\Documents\\GitHub\\follow_target\\videos\\testvideo_1_640x360.mp4: 224x384 1 Target, 25.4ms\n",
      "video 1/1 (frame 1231/2731) c:\\Users\\thoma\\Documents\\GitHub\\follow_target\\videos\\testvideo_1_640x360.mp4: 224x384 1 Target, 27.1ms\n",
      "video 1/1 (frame 1232/2731) c:\\Users\\thoma\\Documents\\GitHub\\follow_target\\videos\\testvideo_1_640x360.mp4: 224x384 1 Target, 19.6ms\n",
      "video 1/1 (frame 1233/2731) c:\\Users\\thoma\\Documents\\GitHub\\follow_target\\videos\\testvideo_1_640x360.mp4: 224x384 1 Target, 28.0ms\n",
      "video 1/1 (frame 1234/2731) c:\\Users\\thoma\\Documents\\GitHub\\follow_target\\videos\\testvideo_1_640x360.mp4: 224x384 1 Target, 28.4ms\n",
      "video 1/1 (frame 1235/2731) c:\\Users\\thoma\\Documents\\GitHub\\follow_target\\videos\\testvideo_1_640x360.mp4: 224x384 1 Target, 25.6ms\n",
      "video 1/1 (frame 1236/2731) c:\\Users\\thoma\\Documents\\GitHub\\follow_target\\videos\\testvideo_1_640x360.mp4: 224x384 1 Target, 28.5ms\n",
      "video 1/1 (frame 1237/2731) c:\\Users\\thoma\\Documents\\GitHub\\follow_target\\videos\\testvideo_1_640x360.mp4: 224x384 1 Target, 26.3ms\n",
      "video 1/1 (frame 1238/2731) c:\\Users\\thoma\\Documents\\GitHub\\follow_target\\videos\\testvideo_1_640x360.mp4: 224x384 1 Target, 25.3ms\n",
      "video 1/1 (frame 1239/2731) c:\\Users\\thoma\\Documents\\GitHub\\follow_target\\videos\\testvideo_1_640x360.mp4: 224x384 1 Target, 26.9ms\n",
      "video 1/1 (frame 1240/2731) c:\\Users\\thoma\\Documents\\GitHub\\follow_target\\videos\\testvideo_1_640x360.mp4: 224x384 1 Target, 25.2ms\n",
      "video 1/1 (frame 1241/2731) c:\\Users\\thoma\\Documents\\GitHub\\follow_target\\videos\\testvideo_1_640x360.mp4: 224x384 1 Target, 26.7ms\n",
      "video 1/1 (frame 1242/2731) c:\\Users\\thoma\\Documents\\GitHub\\follow_target\\videos\\testvideo_1_640x360.mp4: 224x384 1 Target, 26.9ms\n",
      "video 1/1 (frame 1243/2731) c:\\Users\\thoma\\Documents\\GitHub\\follow_target\\videos\\testvideo_1_640x360.mp4: 224x384 1 Target, 28.0ms\n",
      "video 1/1 (frame 1244/2731) c:\\Users\\thoma\\Documents\\GitHub\\follow_target\\videos\\testvideo_1_640x360.mp4: 224x384 1 Target, 28.0ms\n",
      "video 1/1 (frame 1245/2731) c:\\Users\\thoma\\Documents\\GitHub\\follow_target\\videos\\testvideo_1_640x360.mp4: 224x384 1 Target, 27.4ms\n",
      "video 1/1 (frame 1246/2731) c:\\Users\\thoma\\Documents\\GitHub\\follow_target\\videos\\testvideo_1_640x360.mp4: 224x384 1 Target, 22.7ms\n",
      "video 1/1 (frame 1247/2731) c:\\Users\\thoma\\Documents\\GitHub\\follow_target\\videos\\testvideo_1_640x360.mp4: 224x384 1 Target, 26.6ms\n",
      "video 1/1 (frame 1248/2731) c:\\Users\\thoma\\Documents\\GitHub\\follow_target\\videos\\testvideo_1_640x360.mp4: 224x384 1 Target, 26.9ms\n",
      "video 1/1 (frame 1249/2731) c:\\Users\\thoma\\Documents\\GitHub\\follow_target\\videos\\testvideo_1_640x360.mp4: 224x384 1 Target, 27.7ms\n",
      "video 1/1 (frame 1250/2731) c:\\Users\\thoma\\Documents\\GitHub\\follow_target\\videos\\testvideo_1_640x360.mp4: 224x384 1 Target, 27.2ms\n",
      "video 1/1 (frame 1251/2731) c:\\Users\\thoma\\Documents\\GitHub\\follow_target\\videos\\testvideo_1_640x360.mp4: 224x384 1 Target, 27.0ms\n",
      "video 1/1 (frame 1252/2731) c:\\Users\\thoma\\Documents\\GitHub\\follow_target\\videos\\testvideo_1_640x360.mp4: 224x384 1 Target, 24.3ms\n",
      "video 1/1 (frame 1253/2731) c:\\Users\\thoma\\Documents\\GitHub\\follow_target\\videos\\testvideo_1_640x360.mp4: 224x384 1 Target, 25.5ms\n",
      "video 1/1 (frame 1254/2731) c:\\Users\\thoma\\Documents\\GitHub\\follow_target\\videos\\testvideo_1_640x360.mp4: 224x384 1 Target, 25.7ms\n",
      "video 1/1 (frame 1255/2731) c:\\Users\\thoma\\Documents\\GitHub\\follow_target\\videos\\testvideo_1_640x360.mp4: 224x384 1 Target, 29.0ms\n",
      "video 1/1 (frame 1256/2731) c:\\Users\\thoma\\Documents\\GitHub\\follow_target\\videos\\testvideo_1_640x360.mp4: 224x384 1 Target, 24.6ms\n",
      "video 1/1 (frame 1257/2731) c:\\Users\\thoma\\Documents\\GitHub\\follow_target\\videos\\testvideo_1_640x360.mp4: 224x384 1 Target, 26.9ms\n",
      "video 1/1 (frame 1258/2731) c:\\Users\\thoma\\Documents\\GitHub\\follow_target\\videos\\testvideo_1_640x360.mp4: 224x384 1 Target, 25.0ms\n",
      "video 1/1 (frame 1259/2731) c:\\Users\\thoma\\Documents\\GitHub\\follow_target\\videos\\testvideo_1_640x360.mp4: 224x384 1 Target, 25.4ms\n",
      "video 1/1 (frame 1260/2731) c:\\Users\\thoma\\Documents\\GitHub\\follow_target\\videos\\testvideo_1_640x360.mp4: 224x384 1 Target, 26.0ms\n",
      "video 1/1 (frame 1261/2731) c:\\Users\\thoma\\Documents\\GitHub\\follow_target\\videos\\testvideo_1_640x360.mp4: 224x384 1 Target, 27.0ms\n",
      "video 1/1 (frame 1262/2731) c:\\Users\\thoma\\Documents\\GitHub\\follow_target\\videos\\testvideo_1_640x360.mp4: 224x384 1 Target, 25.8ms\n",
      "video 1/1 (frame 1263/2731) c:\\Users\\thoma\\Documents\\GitHub\\follow_target\\videos\\testvideo_1_640x360.mp4: 224x384 1 Target, 30.3ms\n",
      "video 1/1 (frame 1264/2731) c:\\Users\\thoma\\Documents\\GitHub\\follow_target\\videos\\testvideo_1_640x360.mp4: 224x384 1 Target, 26.2ms\n",
      "video 1/1 (frame 1265/2731) c:\\Users\\thoma\\Documents\\GitHub\\follow_target\\videos\\testvideo_1_640x360.mp4: 224x384 1 Target, 22.0ms\n",
      "video 1/1 (frame 1266/2731) c:\\Users\\thoma\\Documents\\GitHub\\follow_target\\videos\\testvideo_1_640x360.mp4: 224x384 1 Target, 28.4ms\n",
      "video 1/1 (frame 1267/2731) c:\\Users\\thoma\\Documents\\GitHub\\follow_target\\videos\\testvideo_1_640x360.mp4: 224x384 1 Target, 27.1ms\n",
      "video 1/1 (frame 1268/2731) c:\\Users\\thoma\\Documents\\GitHub\\follow_target\\videos\\testvideo_1_640x360.mp4: 224x384 1 Target, 25.2ms\n",
      "video 1/1 (frame 1269/2731) c:\\Users\\thoma\\Documents\\GitHub\\follow_target\\videos\\testvideo_1_640x360.mp4: 224x384 1 Target, 24.3ms\n",
      "video 1/1 (frame 1270/2731) c:\\Users\\thoma\\Documents\\GitHub\\follow_target\\videos\\testvideo_1_640x360.mp4: 224x384 1 Target, 26.6ms\n",
      "video 1/1 (frame 1271/2731) c:\\Users\\thoma\\Documents\\GitHub\\follow_target\\videos\\testvideo_1_640x360.mp4: 224x384 1 Target, 27.1ms\n",
      "video 1/1 (frame 1272/2731) c:\\Users\\thoma\\Documents\\GitHub\\follow_target\\videos\\testvideo_1_640x360.mp4: 224x384 1 Target, 27.2ms\n",
      "video 1/1 (frame 1273/2731) c:\\Users\\thoma\\Documents\\GitHub\\follow_target\\videos\\testvideo_1_640x360.mp4: 224x384 1 Target, 24.4ms\n",
      "video 1/1 (frame 1274/2731) c:\\Users\\thoma\\Documents\\GitHub\\follow_target\\videos\\testvideo_1_640x360.mp4: 224x384 1 Target, 24.9ms\n",
      "video 1/1 (frame 1275/2731) c:\\Users\\thoma\\Documents\\GitHub\\follow_target\\videos\\testvideo_1_640x360.mp4: 224x384 1 Target, 19.9ms\n",
      "video 1/1 (frame 1276/2731) c:\\Users\\thoma\\Documents\\GitHub\\follow_target\\videos\\testvideo_1_640x360.mp4: 224x384 1 Target, 24.6ms\n",
      "video 1/1 (frame 1277/2731) c:\\Users\\thoma\\Documents\\GitHub\\follow_target\\videos\\testvideo_1_640x360.mp4: 224x384 1 Target, 28.4ms\n",
      "video 1/1 (frame 1278/2731) c:\\Users\\thoma\\Documents\\GitHub\\follow_target\\videos\\testvideo_1_640x360.mp4: 224x384 1 Target, 27.3ms\n",
      "video 1/1 (frame 1279/2731) c:\\Users\\thoma\\Documents\\GitHub\\follow_target\\videos\\testvideo_1_640x360.mp4: 224x384 1 Target, 27.5ms\n",
      "video 1/1 (frame 1280/2731) c:\\Users\\thoma\\Documents\\GitHub\\follow_target\\videos\\testvideo_1_640x360.mp4: 224x384 1 Target, 25.4ms\n",
      "video 1/1 (frame 1281/2731) c:\\Users\\thoma\\Documents\\GitHub\\follow_target\\videos\\testvideo_1_640x360.mp4: 224x384 1 Target, 27.2ms\n",
      "video 1/1 (frame 1282/2731) c:\\Users\\thoma\\Documents\\GitHub\\follow_target\\videos\\testvideo_1_640x360.mp4: 224x384 1 Target, 26.5ms\n",
      "video 1/1 (frame 1283/2731) c:\\Users\\thoma\\Documents\\GitHub\\follow_target\\videos\\testvideo_1_640x360.mp4: 224x384 1 Target, 26.8ms\n",
      "video 1/1 (frame 1284/2731) c:\\Users\\thoma\\Documents\\GitHub\\follow_target\\videos\\testvideo_1_640x360.mp4: 224x384 1 Target, 28.6ms\n",
      "video 1/1 (frame 1285/2731) c:\\Users\\thoma\\Documents\\GitHub\\follow_target\\videos\\testvideo_1_640x360.mp4: 224x384 1 Target, 26.5ms\n",
      "video 1/1 (frame 1286/2731) c:\\Users\\thoma\\Documents\\GitHub\\follow_target\\videos\\testvideo_1_640x360.mp4: 224x384 1 Target, 23.7ms\n",
      "video 1/1 (frame 1287/2731) c:\\Users\\thoma\\Documents\\GitHub\\follow_target\\videos\\testvideo_1_640x360.mp4: 224x384 1 Target, 23.9ms\n",
      "video 1/1 (frame 1288/2731) c:\\Users\\thoma\\Documents\\GitHub\\follow_target\\videos\\testvideo_1_640x360.mp4: 224x384 1 Target, 31.4ms\n",
      "video 1/1 (frame 1289/2731) c:\\Users\\thoma\\Documents\\GitHub\\follow_target\\videos\\testvideo_1_640x360.mp4: 224x384 1 Target, 25.5ms\n",
      "video 1/1 (frame 1290/2731) c:\\Users\\thoma\\Documents\\GitHub\\follow_target\\videos\\testvideo_1_640x360.mp4: 224x384 1 Target, 25.4ms\n",
      "video 1/1 (frame 1291/2731) c:\\Users\\thoma\\Documents\\GitHub\\follow_target\\videos\\testvideo_1_640x360.mp4: 224x384 1 Target, 31.5ms\n",
      "video 1/1 (frame 1292/2731) c:\\Users\\thoma\\Documents\\GitHub\\follow_target\\videos\\testvideo_1_640x360.mp4: 224x384 1 Target, 25.1ms\n",
      "video 1/1 (frame 1293/2731) c:\\Users\\thoma\\Documents\\GitHub\\follow_target\\videos\\testvideo_1_640x360.mp4: 224x384 1 Target, 26.2ms\n",
      "video 1/1 (frame 1294/2731) c:\\Users\\thoma\\Documents\\GitHub\\follow_target\\videos\\testvideo_1_640x360.mp4: 224x384 1 Target, 24.7ms\n",
      "video 1/1 (frame 1295/2731) c:\\Users\\thoma\\Documents\\GitHub\\follow_target\\videos\\testvideo_1_640x360.mp4: 224x384 1 Target, 23.3ms\n",
      "video 1/1 (frame 1296/2731) c:\\Users\\thoma\\Documents\\GitHub\\follow_target\\videos\\testvideo_1_640x360.mp4: 224x384 1 Target, 25.4ms\n",
      "video 1/1 (frame 1297/2731) c:\\Users\\thoma\\Documents\\GitHub\\follow_target\\videos\\testvideo_1_640x360.mp4: 224x384 1 Target, 24.7ms\n",
      "video 1/1 (frame 1298/2731) c:\\Users\\thoma\\Documents\\GitHub\\follow_target\\videos\\testvideo_1_640x360.mp4: 224x384 1 Target, 30.3ms\n",
      "video 1/1 (frame 1299/2731) c:\\Users\\thoma\\Documents\\GitHub\\follow_target\\videos\\testvideo_1_640x360.mp4: 224x384 1 Target, 27.2ms\n",
      "video 1/1 (frame 1300/2731) c:\\Users\\thoma\\Documents\\GitHub\\follow_target\\videos\\testvideo_1_640x360.mp4: 224x384 1 Target, 25.3ms\n",
      "video 1/1 (frame 1301/2731) c:\\Users\\thoma\\Documents\\GitHub\\follow_target\\videos\\testvideo_1_640x360.mp4: 224x384 1 Target, 24.7ms\n",
      "video 1/1 (frame 1302/2731) c:\\Users\\thoma\\Documents\\GitHub\\follow_target\\videos\\testvideo_1_640x360.mp4: 224x384 1 Target, 27.0ms\n",
      "video 1/1 (frame 1303/2731) c:\\Users\\thoma\\Documents\\GitHub\\follow_target\\videos\\testvideo_1_640x360.mp4: 224x384 1 Target, 27.6ms\n",
      "video 1/1 (frame 1304/2731) c:\\Users\\thoma\\Documents\\GitHub\\follow_target\\videos\\testvideo_1_640x360.mp4: 224x384 1 Target, 23.3ms\n",
      "video 1/1 (frame 1305/2731) c:\\Users\\thoma\\Documents\\GitHub\\follow_target\\videos\\testvideo_1_640x360.mp4: 224x384 1 Target, 27.2ms\n",
      "video 1/1 (frame 1306/2731) c:\\Users\\thoma\\Documents\\GitHub\\follow_target\\videos\\testvideo_1_640x360.mp4: 224x384 1 Target, 37.1ms\n",
      "video 1/1 (frame 1307/2731) c:\\Users\\thoma\\Documents\\GitHub\\follow_target\\videos\\testvideo_1_640x360.mp4: 224x384 1 Target, 31.6ms\n",
      "video 1/1 (frame 1308/2731) c:\\Users\\thoma\\Documents\\GitHub\\follow_target\\videos\\testvideo_1_640x360.mp4: 224x384 1 Target, 24.3ms\n",
      "video 1/1 (frame 1309/2731) c:\\Users\\thoma\\Documents\\GitHub\\follow_target\\videos\\testvideo_1_640x360.mp4: 224x384 1 Target, 27.0ms\n",
      "video 1/1 (frame 1310/2731) c:\\Users\\thoma\\Documents\\GitHub\\follow_target\\videos\\testvideo_1_640x360.mp4: 224x384 1 Target, 26.9ms\n",
      "video 1/1 (frame 1311/2731) c:\\Users\\thoma\\Documents\\GitHub\\follow_target\\videos\\testvideo_1_640x360.mp4: 224x384 1 Target, 25.7ms\n",
      "video 1/1 (frame 1312/2731) c:\\Users\\thoma\\Documents\\GitHub\\follow_target\\videos\\testvideo_1_640x360.mp4: 224x384 1 Target, 23.6ms\n",
      "video 1/1 (frame 1313/2731) c:\\Users\\thoma\\Documents\\GitHub\\follow_target\\videos\\testvideo_1_640x360.mp4: 224x384 1 Target, 24.6ms\n",
      "video 1/1 (frame 1314/2731) c:\\Users\\thoma\\Documents\\GitHub\\follow_target\\videos\\testvideo_1_640x360.mp4: 224x384 1 Target, 24.2ms\n",
      "video 1/1 (frame 1315/2731) c:\\Users\\thoma\\Documents\\GitHub\\follow_target\\videos\\testvideo_1_640x360.mp4: 224x384 1 Target, 24.2ms\n",
      "video 1/1 (frame 1316/2731) c:\\Users\\thoma\\Documents\\GitHub\\follow_target\\videos\\testvideo_1_640x360.mp4: 224x384 1 Target, 25.0ms\n",
      "video 1/1 (frame 1317/2731) c:\\Users\\thoma\\Documents\\GitHub\\follow_target\\videos\\testvideo_1_640x360.mp4: 224x384 1 Target, 26.7ms\n",
      "video 1/1 (frame 1318/2731) c:\\Users\\thoma\\Documents\\GitHub\\follow_target\\videos\\testvideo_1_640x360.mp4: 224x384 1 Target, 26.2ms\n",
      "video 1/1 (frame 1319/2731) c:\\Users\\thoma\\Documents\\GitHub\\follow_target\\videos\\testvideo_1_640x360.mp4: 224x384 1 Target, 25.6ms\n",
      "video 1/1 (frame 1320/2731) c:\\Users\\thoma\\Documents\\GitHub\\follow_target\\videos\\testvideo_1_640x360.mp4: 224x384 1 Target, 26.5ms\n",
      "video 1/1 (frame 1321/2731) c:\\Users\\thoma\\Documents\\GitHub\\follow_target\\videos\\testvideo_1_640x360.mp4: 224x384 1 Target, 30.2ms\n",
      "video 1/1 (frame 1322/2731) c:\\Users\\thoma\\Documents\\GitHub\\follow_target\\videos\\testvideo_1_640x360.mp4: 224x384 1 Target, 26.0ms\n",
      "video 1/1 (frame 1323/2731) c:\\Users\\thoma\\Documents\\GitHub\\follow_target\\videos\\testvideo_1_640x360.mp4: 224x384 1 Target, 28.9ms\n",
      "video 1/1 (frame 1324/2731) c:\\Users\\thoma\\Documents\\GitHub\\follow_target\\videos\\testvideo_1_640x360.mp4: 224x384 1 Target, 24.5ms\n",
      "video 1/1 (frame 1325/2731) c:\\Users\\thoma\\Documents\\GitHub\\follow_target\\videos\\testvideo_1_640x360.mp4: 224x384 1 Target, 29.5ms\n",
      "video 1/1 (frame 1326/2731) c:\\Users\\thoma\\Documents\\GitHub\\follow_target\\videos\\testvideo_1_640x360.mp4: 224x384 1 Target, 26.3ms\n",
      "video 1/1 (frame 1327/2731) c:\\Users\\thoma\\Documents\\GitHub\\follow_target\\videos\\testvideo_1_640x360.mp4: 224x384 1 Target, 26.8ms\n",
      "video 1/1 (frame 1328/2731) c:\\Users\\thoma\\Documents\\GitHub\\follow_target\\videos\\testvideo_1_640x360.mp4: 224x384 1 Target, 24.1ms\n",
      "video 1/1 (frame 1329/2731) c:\\Users\\thoma\\Documents\\GitHub\\follow_target\\videos\\testvideo_1_640x360.mp4: 224x384 1 Target, 33.0ms\n",
      "video 1/1 (frame 1330/2731) c:\\Users\\thoma\\Documents\\GitHub\\follow_target\\videos\\testvideo_1_640x360.mp4: 224x384 1 Target, 27.8ms\n",
      "video 1/1 (frame 1331/2731) c:\\Users\\thoma\\Documents\\GitHub\\follow_target\\videos\\testvideo_1_640x360.mp4: 224x384 1 Target, 24.6ms\n",
      "video 1/1 (frame 1332/2731) c:\\Users\\thoma\\Documents\\GitHub\\follow_target\\videos\\testvideo_1_640x360.mp4: 224x384 1 Target, 27.0ms\n",
      "video 1/1 (frame 1333/2731) c:\\Users\\thoma\\Documents\\GitHub\\follow_target\\videos\\testvideo_1_640x360.mp4: 224x384 1 Target, 26.7ms\n",
      "video 1/1 (frame 1334/2731) c:\\Users\\thoma\\Documents\\GitHub\\follow_target\\videos\\testvideo_1_640x360.mp4: 224x384 1 Target, 24.2ms\n",
      "video 1/1 (frame 1335/2731) c:\\Users\\thoma\\Documents\\GitHub\\follow_target\\videos\\testvideo_1_640x360.mp4: 224x384 1 Target, 28.4ms\n",
      "video 1/1 (frame 1336/2731) c:\\Users\\thoma\\Documents\\GitHub\\follow_target\\videos\\testvideo_1_640x360.mp4: 224x384 1 Target, 24.4ms\n",
      "video 1/1 (frame 1337/2731) c:\\Users\\thoma\\Documents\\GitHub\\follow_target\\videos\\testvideo_1_640x360.mp4: 224x384 1 Target, 27.1ms\n",
      "video 1/1 (frame 1338/2731) c:\\Users\\thoma\\Documents\\GitHub\\follow_target\\videos\\testvideo_1_640x360.mp4: 224x384 1 Target, 26.3ms\n",
      "video 1/1 (frame 1339/2731) c:\\Users\\thoma\\Documents\\GitHub\\follow_target\\videos\\testvideo_1_640x360.mp4: 224x384 1 Target, 31.3ms\n",
      "video 1/1 (frame 1340/2731) c:\\Users\\thoma\\Documents\\GitHub\\follow_target\\videos\\testvideo_1_640x360.mp4: 224x384 1 Target, 26.1ms\n",
      "video 1/1 (frame 1341/2731) c:\\Users\\thoma\\Documents\\GitHub\\follow_target\\videos\\testvideo_1_640x360.mp4: 224x384 1 Target, 27.2ms\n",
      "video 1/1 (frame 1342/2731) c:\\Users\\thoma\\Documents\\GitHub\\follow_target\\videos\\testvideo_1_640x360.mp4: 224x384 1 Target, 26.9ms\n",
      "video 1/1 (frame 1343/2731) c:\\Users\\thoma\\Documents\\GitHub\\follow_target\\videos\\testvideo_1_640x360.mp4: 224x384 1 Target, 26.8ms\n",
      "video 1/1 (frame 1344/2731) c:\\Users\\thoma\\Documents\\GitHub\\follow_target\\videos\\testvideo_1_640x360.mp4: 224x384 1 Target, 24.8ms\n",
      "video 1/1 (frame 1345/2731) c:\\Users\\thoma\\Documents\\GitHub\\follow_target\\videos\\testvideo_1_640x360.mp4: 224x384 1 Target, 25.5ms\n",
      "video 1/1 (frame 1346/2731) c:\\Users\\thoma\\Documents\\GitHub\\follow_target\\videos\\testvideo_1_640x360.mp4: 224x384 1 Target, 28.6ms\n",
      "video 1/1 (frame 1347/2731) c:\\Users\\thoma\\Documents\\GitHub\\follow_target\\videos\\testvideo_1_640x360.mp4: 224x384 1 Target, 28.8ms\n",
      "video 1/1 (frame 1348/2731) c:\\Users\\thoma\\Documents\\GitHub\\follow_target\\videos\\testvideo_1_640x360.mp4: 224x384 1 Target, 24.0ms\n",
      "video 1/1 (frame 1349/2731) c:\\Users\\thoma\\Documents\\GitHub\\follow_target\\videos\\testvideo_1_640x360.mp4: 224x384 1 Target, 34.2ms\n",
      "video 1/1 (frame 1350/2731) c:\\Users\\thoma\\Documents\\GitHub\\follow_target\\videos\\testvideo_1_640x360.mp4: 224x384 1 Target, 26.8ms\n",
      "video 1/1 (frame 1351/2731) c:\\Users\\thoma\\Documents\\GitHub\\follow_target\\videos\\testvideo_1_640x360.mp4: 224x384 1 Target, 25.7ms\n",
      "video 1/1 (frame 1352/2731) c:\\Users\\thoma\\Documents\\GitHub\\follow_target\\videos\\testvideo_1_640x360.mp4: 224x384 1 Target, 28.8ms\n",
      "video 1/1 (frame 1353/2731) c:\\Users\\thoma\\Documents\\GitHub\\follow_target\\videos\\testvideo_1_640x360.mp4: 224x384 1 Target, 25.1ms\n",
      "video 1/1 (frame 1354/2731) c:\\Users\\thoma\\Documents\\GitHub\\follow_target\\videos\\testvideo_1_640x360.mp4: 224x384 1 Target, 25.5ms\n",
      "video 1/1 (frame 1355/2731) c:\\Users\\thoma\\Documents\\GitHub\\follow_target\\videos\\testvideo_1_640x360.mp4: 224x384 1 Target, 23.0ms\n",
      "video 1/1 (frame 1356/2731) c:\\Users\\thoma\\Documents\\GitHub\\follow_target\\videos\\testvideo_1_640x360.mp4: 224x384 1 Target, 26.2ms\n",
      "video 1/1 (frame 1357/2731) c:\\Users\\thoma\\Documents\\GitHub\\follow_target\\videos\\testvideo_1_640x360.mp4: 224x384 1 Target, 25.3ms\n",
      "video 1/1 (frame 1358/2731) c:\\Users\\thoma\\Documents\\GitHub\\follow_target\\videos\\testvideo_1_640x360.mp4: 224x384 1 Target, 24.6ms\n",
      "video 1/1 (frame 1359/2731) c:\\Users\\thoma\\Documents\\GitHub\\follow_target\\videos\\testvideo_1_640x360.mp4: 224x384 1 Target, 25.4ms\n",
      "video 1/1 (frame 1360/2731) c:\\Users\\thoma\\Documents\\GitHub\\follow_target\\videos\\testvideo_1_640x360.mp4: 224x384 1 Target, 27.5ms\n",
      "video 1/1 (frame 1361/2731) c:\\Users\\thoma\\Documents\\GitHub\\follow_target\\videos\\testvideo_1_640x360.mp4: 224x384 1 Target, 25.4ms\n",
      "video 1/1 (frame 1362/2731) c:\\Users\\thoma\\Documents\\GitHub\\follow_target\\videos\\testvideo_1_640x360.mp4: 224x384 1 Target, 28.2ms\n",
      "video 1/1 (frame 1363/2731) c:\\Users\\thoma\\Documents\\GitHub\\follow_target\\videos\\testvideo_1_640x360.mp4: 224x384 1 Target, 26.1ms\n",
      "video 1/1 (frame 1364/2731) c:\\Users\\thoma\\Documents\\GitHub\\follow_target\\videos\\testvideo_1_640x360.mp4: 224x384 1 Target, 29.2ms\n",
      "video 1/1 (frame 1365/2731) c:\\Users\\thoma\\Documents\\GitHub\\follow_target\\videos\\testvideo_1_640x360.mp4: 224x384 1 Target, 25.9ms\n",
      "video 1/1 (frame 1366/2731) c:\\Users\\thoma\\Documents\\GitHub\\follow_target\\videos\\testvideo_1_640x360.mp4: 224x384 1 Target, 25.4ms\n",
      "video 1/1 (frame 1367/2731) c:\\Users\\thoma\\Documents\\GitHub\\follow_target\\videos\\testvideo_1_640x360.mp4: 224x384 1 Target, 25.7ms\n",
      "video 1/1 (frame 1368/2731) c:\\Users\\thoma\\Documents\\GitHub\\follow_target\\videos\\testvideo_1_640x360.mp4: 224x384 1 Target, 27.8ms\n",
      "video 1/1 (frame 1369/2731) c:\\Users\\thoma\\Documents\\GitHub\\follow_target\\videos\\testvideo_1_640x360.mp4: 224x384 1 Target, 21.8ms\n",
      "video 1/1 (frame 1370/2731) c:\\Users\\thoma\\Documents\\GitHub\\follow_target\\videos\\testvideo_1_640x360.mp4: 224x384 1 Target, 28.4ms\n",
      "video 1/1 (frame 1371/2731) c:\\Users\\thoma\\Documents\\GitHub\\follow_target\\videos\\testvideo_1_640x360.mp4: 224x384 1 Target, 25.8ms\n",
      "video 1/1 (frame 1372/2731) c:\\Users\\thoma\\Documents\\GitHub\\follow_target\\videos\\testvideo_1_640x360.mp4: 224x384 1 Target, 24.6ms\n",
      "video 1/1 (frame 1373/2731) c:\\Users\\thoma\\Documents\\GitHub\\follow_target\\videos\\testvideo_1_640x360.mp4: 224x384 1 Target, 28.4ms\n",
      "video 1/1 (frame 1374/2731) c:\\Users\\thoma\\Documents\\GitHub\\follow_target\\videos\\testvideo_1_640x360.mp4: 224x384 1 Target, 27.6ms\n",
      "video 1/1 (frame 1375/2731) c:\\Users\\thoma\\Documents\\GitHub\\follow_target\\videos\\testvideo_1_640x360.mp4: 224x384 1 Target, 25.2ms\n",
      "video 1/1 (frame 1376/2731) c:\\Users\\thoma\\Documents\\GitHub\\follow_target\\videos\\testvideo_1_640x360.mp4: 224x384 1 Target, 27.0ms\n",
      "video 1/1 (frame 1377/2731) c:\\Users\\thoma\\Documents\\GitHub\\follow_target\\videos\\testvideo_1_640x360.mp4: 224x384 1 Target, 22.9ms\n",
      "video 1/1 (frame 1378/2731) c:\\Users\\thoma\\Documents\\GitHub\\follow_target\\videos\\testvideo_1_640x360.mp4: 224x384 1 Target, 27.4ms\n",
      "video 1/1 (frame 1379/2731) c:\\Users\\thoma\\Documents\\GitHub\\follow_target\\videos\\testvideo_1_640x360.mp4: 224x384 1 Target, 26.3ms\n",
      "video 1/1 (frame 1380/2731) c:\\Users\\thoma\\Documents\\GitHub\\follow_target\\videos\\testvideo_1_640x360.mp4: 224x384 1 Target, 30.6ms\n",
      "video 1/1 (frame 1381/2731) c:\\Users\\thoma\\Documents\\GitHub\\follow_target\\videos\\testvideo_1_640x360.mp4: 224x384 1 Target, 24.6ms\n",
      "video 1/1 (frame 1382/2731) c:\\Users\\thoma\\Documents\\GitHub\\follow_target\\videos\\testvideo_1_640x360.mp4: 224x384 1 Target, 27.0ms\n",
      "video 1/1 (frame 1383/2731) c:\\Users\\thoma\\Documents\\GitHub\\follow_target\\videos\\testvideo_1_640x360.mp4: 224x384 1 Target, 26.1ms\n",
      "video 1/1 (frame 1384/2731) c:\\Users\\thoma\\Documents\\GitHub\\follow_target\\videos\\testvideo_1_640x360.mp4: 224x384 1 Target, 37.9ms\n",
      "video 1/1 (frame 1385/2731) c:\\Users\\thoma\\Documents\\GitHub\\follow_target\\videos\\testvideo_1_640x360.mp4: 224x384 1 Target, 31.1ms\n",
      "video 1/1 (frame 1386/2731) c:\\Users\\thoma\\Documents\\GitHub\\follow_target\\videos\\testvideo_1_640x360.mp4: 224x384 1 Target, 26.5ms\n",
      "video 1/1 (frame 1387/2731) c:\\Users\\thoma\\Documents\\GitHub\\follow_target\\videos\\testvideo_1_640x360.mp4: 224x384 1 Target, 26.5ms\n",
      "video 1/1 (frame 1388/2731) c:\\Users\\thoma\\Documents\\GitHub\\follow_target\\videos\\testvideo_1_640x360.mp4: 224x384 1 Target, 24.3ms\n",
      "video 1/1 (frame 1389/2731) c:\\Users\\thoma\\Documents\\GitHub\\follow_target\\videos\\testvideo_1_640x360.mp4: 224x384 1 Target, 27.2ms\n",
      "video 1/1 (frame 1390/2731) c:\\Users\\thoma\\Documents\\GitHub\\follow_target\\videos\\testvideo_1_640x360.mp4: 224x384 1 Target, 25.1ms\n",
      "video 1/1 (frame 1391/2731) c:\\Users\\thoma\\Documents\\GitHub\\follow_target\\videos\\testvideo_1_640x360.mp4: 224x384 1 Target, 25.8ms\n",
      "video 1/1 (frame 1392/2731) c:\\Users\\thoma\\Documents\\GitHub\\follow_target\\videos\\testvideo_1_640x360.mp4: 224x384 1 Target, 26.9ms\n",
      "video 1/1 (frame 1393/2731) c:\\Users\\thoma\\Documents\\GitHub\\follow_target\\videos\\testvideo_1_640x360.mp4: 224x384 1 Target, 26.3ms\n",
      "video 1/1 (frame 1394/2731) c:\\Users\\thoma\\Documents\\GitHub\\follow_target\\videos\\testvideo_1_640x360.mp4: 224x384 1 Target, 24.1ms\n",
      "video 1/1 (frame 1395/2731) c:\\Users\\thoma\\Documents\\GitHub\\follow_target\\videos\\testvideo_1_640x360.mp4: 224x384 1 Target, 27.3ms\n",
      "video 1/1 (frame 1396/2731) c:\\Users\\thoma\\Documents\\GitHub\\follow_target\\videos\\testvideo_1_640x360.mp4: 224x384 1 Target, 23.9ms\n",
      "video 1/1 (frame 1397/2731) c:\\Users\\thoma\\Documents\\GitHub\\follow_target\\videos\\testvideo_1_640x360.mp4: 224x384 1 Target, 25.5ms\n",
      "video 1/1 (frame 1398/2731) c:\\Users\\thoma\\Documents\\GitHub\\follow_target\\videos\\testvideo_1_640x360.mp4: 224x384 1 Target, 25.6ms\n",
      "video 1/1 (frame 1399/2731) c:\\Users\\thoma\\Documents\\GitHub\\follow_target\\videos\\testvideo_1_640x360.mp4: 224x384 1 Target, 24.6ms\n",
      "video 1/1 (frame 1400/2731) c:\\Users\\thoma\\Documents\\GitHub\\follow_target\\videos\\testvideo_1_640x360.mp4: 224x384 1 Target, 25.3ms\n",
      "video 1/1 (frame 1401/2731) c:\\Users\\thoma\\Documents\\GitHub\\follow_target\\videos\\testvideo_1_640x360.mp4: 224x384 1 Target, 23.5ms\n",
      "video 1/1 (frame 1402/2731) c:\\Users\\thoma\\Documents\\GitHub\\follow_target\\videos\\testvideo_1_640x360.mp4: 224x384 1 Target, 24.5ms\n",
      "video 1/1 (frame 1403/2731) c:\\Users\\thoma\\Documents\\GitHub\\follow_target\\videos\\testvideo_1_640x360.mp4: 224x384 1 Target, 27.2ms\n",
      "video 1/1 (frame 1404/2731) c:\\Users\\thoma\\Documents\\GitHub\\follow_target\\videos\\testvideo_1_640x360.mp4: 224x384 1 Target, 25.0ms\n",
      "video 1/1 (frame 1405/2731) c:\\Users\\thoma\\Documents\\GitHub\\follow_target\\videos\\testvideo_1_640x360.mp4: 224x384 1 Target, 24.3ms\n",
      "video 1/1 (frame 1406/2731) c:\\Users\\thoma\\Documents\\GitHub\\follow_target\\videos\\testvideo_1_640x360.mp4: 224x384 (no detections), 26.9ms\n",
      "video 1/1 (frame 1407/2731) c:\\Users\\thoma\\Documents\\GitHub\\follow_target\\videos\\testvideo_1_640x360.mp4: 224x384 1 Target, 28.2ms\n",
      "video 1/1 (frame 1408/2731) c:\\Users\\thoma\\Documents\\GitHub\\follow_target\\videos\\testvideo_1_640x360.mp4: 224x384 1 Target, 24.9ms\n",
      "video 1/1 (frame 1409/2731) c:\\Users\\thoma\\Documents\\GitHub\\follow_target\\videos\\testvideo_1_640x360.mp4: 224x384 1 Target, 28.1ms\n",
      "video 1/1 (frame 1410/2731) c:\\Users\\thoma\\Documents\\GitHub\\follow_target\\videos\\testvideo_1_640x360.mp4: 224x384 1 Target, 25.6ms\n",
      "video 1/1 (frame 1411/2731) c:\\Users\\thoma\\Documents\\GitHub\\follow_target\\videos\\testvideo_1_640x360.mp4: 224x384 1 Target, 25.7ms\n",
      "video 1/1 (frame 1412/2731) c:\\Users\\thoma\\Documents\\GitHub\\follow_target\\videos\\testvideo_1_640x360.mp4: 224x384 1 Target, 23.7ms\n",
      "video 1/1 (frame 1413/2731) c:\\Users\\thoma\\Documents\\GitHub\\follow_target\\videos\\testvideo_1_640x360.mp4: 224x384 1 Target, 26.0ms\n",
      "video 1/1 (frame 1414/2731) c:\\Users\\thoma\\Documents\\GitHub\\follow_target\\videos\\testvideo_1_640x360.mp4: 224x384 1 Target, 26.7ms\n",
      "video 1/1 (frame 1415/2731) c:\\Users\\thoma\\Documents\\GitHub\\follow_target\\videos\\testvideo_1_640x360.mp4: 224x384 1 Target, 25.0ms\n",
      "video 1/1 (frame 1416/2731) c:\\Users\\thoma\\Documents\\GitHub\\follow_target\\videos\\testvideo_1_640x360.mp4: 224x384 1 Target, 24.5ms\n",
      "video 1/1 (frame 1417/2731) c:\\Users\\thoma\\Documents\\GitHub\\follow_target\\videos\\testvideo_1_640x360.mp4: 224x384 1 Target, 24.9ms\n",
      "video 1/1 (frame 1418/2731) c:\\Users\\thoma\\Documents\\GitHub\\follow_target\\videos\\testvideo_1_640x360.mp4: 224x384 1 Target, 25.7ms\n",
      "video 1/1 (frame 1419/2731) c:\\Users\\thoma\\Documents\\GitHub\\follow_target\\videos\\testvideo_1_640x360.mp4: 224x384 1 Target, 27.4ms\n",
      "video 1/1 (frame 1420/2731) c:\\Users\\thoma\\Documents\\GitHub\\follow_target\\videos\\testvideo_1_640x360.mp4: 224x384 1 Target, 24.9ms\n",
      "video 1/1 (frame 1421/2731) c:\\Users\\thoma\\Documents\\GitHub\\follow_target\\videos\\testvideo_1_640x360.mp4: 224x384 1 Target, 25.9ms\n",
      "video 1/1 (frame 1422/2731) c:\\Users\\thoma\\Documents\\GitHub\\follow_target\\videos\\testvideo_1_640x360.mp4: 224x384 1 Target, 29.2ms\n",
      "video 1/1 (frame 1423/2731) c:\\Users\\thoma\\Documents\\GitHub\\follow_target\\videos\\testvideo_1_640x360.mp4: 224x384 1 Target, 27.9ms\n",
      "video 1/1 (frame 1424/2731) c:\\Users\\thoma\\Documents\\GitHub\\follow_target\\videos\\testvideo_1_640x360.mp4: 224x384 1 Target, 26.4ms\n",
      "video 1/1 (frame 1425/2731) c:\\Users\\thoma\\Documents\\GitHub\\follow_target\\videos\\testvideo_1_640x360.mp4: 224x384 1 Target, 28.1ms\n",
      "video 1/1 (frame 1426/2731) c:\\Users\\thoma\\Documents\\GitHub\\follow_target\\videos\\testvideo_1_640x360.mp4: 224x384 1 Target, 26.9ms\n",
      "video 1/1 (frame 1427/2731) c:\\Users\\thoma\\Documents\\GitHub\\follow_target\\videos\\testvideo_1_640x360.mp4: 224x384 1 Target, 24.5ms\n",
      "video 1/1 (frame 1428/2731) c:\\Users\\thoma\\Documents\\GitHub\\follow_target\\videos\\testvideo_1_640x360.mp4: 224x384 1 Target, 28.0ms\n",
      "video 1/1 (frame 1429/2731) c:\\Users\\thoma\\Documents\\GitHub\\follow_target\\videos\\testvideo_1_640x360.mp4: 224x384 1 Target, 27.9ms\n",
      "video 1/1 (frame 1430/2731) c:\\Users\\thoma\\Documents\\GitHub\\follow_target\\videos\\testvideo_1_640x360.mp4: 224x384 1 Target, 24.8ms\n",
      "video 1/1 (frame 1431/2731) c:\\Users\\thoma\\Documents\\GitHub\\follow_target\\videos\\testvideo_1_640x360.mp4: 224x384 1 Target, 27.6ms\n",
      "video 1/1 (frame 1432/2731) c:\\Users\\thoma\\Documents\\GitHub\\follow_target\\videos\\testvideo_1_640x360.mp4: 224x384 1 Target, 27.5ms\n",
      "video 1/1 (frame 1433/2731) c:\\Users\\thoma\\Documents\\GitHub\\follow_target\\videos\\testvideo_1_640x360.mp4: 224x384 1 Target, 26.0ms\n",
      "video 1/1 (frame 1434/2731) c:\\Users\\thoma\\Documents\\GitHub\\follow_target\\videos\\testvideo_1_640x360.mp4: 224x384 1 Target, 24.5ms\n",
      "video 1/1 (frame 1435/2731) c:\\Users\\thoma\\Documents\\GitHub\\follow_target\\videos\\testvideo_1_640x360.mp4: 224x384 1 Target, 28.7ms\n",
      "video 1/1 (frame 1436/2731) c:\\Users\\thoma\\Documents\\GitHub\\follow_target\\videos\\testvideo_1_640x360.mp4: 224x384 1 Target, 24.9ms\n",
      "video 1/1 (frame 1437/2731) c:\\Users\\thoma\\Documents\\GitHub\\follow_target\\videos\\testvideo_1_640x360.mp4: 224x384 1 Target, 26.6ms\n",
      "video 1/1 (frame 1438/2731) c:\\Users\\thoma\\Documents\\GitHub\\follow_target\\videos\\testvideo_1_640x360.mp4: 224x384 1 Target, 25.8ms\n",
      "video 1/1 (frame 1439/2731) c:\\Users\\thoma\\Documents\\GitHub\\follow_target\\videos\\testvideo_1_640x360.mp4: 224x384 1 Target, 28.2ms\n",
      "video 1/1 (frame 1440/2731) c:\\Users\\thoma\\Documents\\GitHub\\follow_target\\videos\\testvideo_1_640x360.mp4: 224x384 1 Target, 25.9ms\n",
      "video 1/1 (frame 1441/2731) c:\\Users\\thoma\\Documents\\GitHub\\follow_target\\videos\\testvideo_1_640x360.mp4: 224x384 1 Target, 24.5ms\n",
      "video 1/1 (frame 1442/2731) c:\\Users\\thoma\\Documents\\GitHub\\follow_target\\videos\\testvideo_1_640x360.mp4: 224x384 1 Target, 24.8ms\n",
      "video 1/1 (frame 1443/2731) c:\\Users\\thoma\\Documents\\GitHub\\follow_target\\videos\\testvideo_1_640x360.mp4: 224x384 1 Target, 26.4ms\n",
      "video 1/1 (frame 1444/2731) c:\\Users\\thoma\\Documents\\GitHub\\follow_target\\videos\\testvideo_1_640x360.mp4: 224x384 1 Target, 24.3ms\n",
      "video 1/1 (frame 1445/2731) c:\\Users\\thoma\\Documents\\GitHub\\follow_target\\videos\\testvideo_1_640x360.mp4: 224x384 1 Target, 25.0ms\n",
      "video 1/1 (frame 1446/2731) c:\\Users\\thoma\\Documents\\GitHub\\follow_target\\videos\\testvideo_1_640x360.mp4: 224x384 1 Target, 26.6ms\n",
      "video 1/1 (frame 1447/2731) c:\\Users\\thoma\\Documents\\GitHub\\follow_target\\videos\\testvideo_1_640x360.mp4: 224x384 1 Target, 25.9ms\n",
      "video 1/1 (frame 1448/2731) c:\\Users\\thoma\\Documents\\GitHub\\follow_target\\videos\\testvideo_1_640x360.mp4: 224x384 1 Target, 29.7ms\n",
      "video 1/1 (frame 1449/2731) c:\\Users\\thoma\\Documents\\GitHub\\follow_target\\videos\\testvideo_1_640x360.mp4: 224x384 1 Target, 24.6ms\n",
      "video 1/1 (frame 1450/2731) c:\\Users\\thoma\\Documents\\GitHub\\follow_target\\videos\\testvideo_1_640x360.mp4: 224x384 (no detections), 28.7ms\n",
      "video 1/1 (frame 1451/2731) c:\\Users\\thoma\\Documents\\GitHub\\follow_target\\videos\\testvideo_1_640x360.mp4: 224x384 1 Target, 24.3ms\n",
      "video 1/1 (frame 1452/2731) c:\\Users\\thoma\\Documents\\GitHub\\follow_target\\videos\\testvideo_1_640x360.mp4: 224x384 (no detections), 24.7ms\n",
      "video 1/1 (frame 1453/2731) c:\\Users\\thoma\\Documents\\GitHub\\follow_target\\videos\\testvideo_1_640x360.mp4: 224x384 1 Target, 24.3ms\n",
      "video 1/1 (frame 1454/2731) c:\\Users\\thoma\\Documents\\GitHub\\follow_target\\videos\\testvideo_1_640x360.mp4: 224x384 1 Target, 25.8ms\n",
      "video 1/1 (frame 1455/2731) c:\\Users\\thoma\\Documents\\GitHub\\follow_target\\videos\\testvideo_1_640x360.mp4: 224x384 1 Target, 24.9ms\n",
      "video 1/1 (frame 1456/2731) c:\\Users\\thoma\\Documents\\GitHub\\follow_target\\videos\\testvideo_1_640x360.mp4: 224x384 1 Target, 24.9ms\n",
      "video 1/1 (frame 1457/2731) c:\\Users\\thoma\\Documents\\GitHub\\follow_target\\videos\\testvideo_1_640x360.mp4: 224x384 1 Target, 29.5ms\n",
      "video 1/1 (frame 1458/2731) c:\\Users\\thoma\\Documents\\GitHub\\follow_target\\videos\\testvideo_1_640x360.mp4: 224x384 1 Target, 25.3ms\n",
      "video 1/1 (frame 1459/2731) c:\\Users\\thoma\\Documents\\GitHub\\follow_target\\videos\\testvideo_1_640x360.mp4: 224x384 1 Target, 25.6ms\n",
      "video 1/1 (frame 1460/2731) c:\\Users\\thoma\\Documents\\GitHub\\follow_target\\videos\\testvideo_1_640x360.mp4: 224x384 1 Target, 24.8ms\n",
      "video 1/1 (frame 1461/2731) c:\\Users\\thoma\\Documents\\GitHub\\follow_target\\videos\\testvideo_1_640x360.mp4: 224x384 1 Target, 27.0ms\n",
      "video 1/1 (frame 1462/2731) c:\\Users\\thoma\\Documents\\GitHub\\follow_target\\videos\\testvideo_1_640x360.mp4: 224x384 1 Target, 25.3ms\n",
      "video 1/1 (frame 1463/2731) c:\\Users\\thoma\\Documents\\GitHub\\follow_target\\videos\\testvideo_1_640x360.mp4: 224x384 1 Target, 28.2ms\n",
      "video 1/1 (frame 1464/2731) c:\\Users\\thoma\\Documents\\GitHub\\follow_target\\videos\\testvideo_1_640x360.mp4: 224x384 1 Target, 25.9ms\n",
      "video 1/1 (frame 1465/2731) c:\\Users\\thoma\\Documents\\GitHub\\follow_target\\videos\\testvideo_1_640x360.mp4: 224x384 1 Target, 25.3ms\n",
      "video 1/1 (frame 1466/2731) c:\\Users\\thoma\\Documents\\GitHub\\follow_target\\videos\\testvideo_1_640x360.mp4: 224x384 1 Target, 50.3ms\n",
      "video 1/1 (frame 1467/2731) c:\\Users\\thoma\\Documents\\GitHub\\follow_target\\videos\\testvideo_1_640x360.mp4: 224x384 1 Target, 23.7ms\n",
      "video 1/1 (frame 1468/2731) c:\\Users\\thoma\\Documents\\GitHub\\follow_target\\videos\\testvideo_1_640x360.mp4: 224x384 1 Target, 25.3ms\n",
      "video 1/1 (frame 1469/2731) c:\\Users\\thoma\\Documents\\GitHub\\follow_target\\videos\\testvideo_1_640x360.mp4: 224x384 1 Target, 24.0ms\n",
      "video 1/1 (frame 1470/2731) c:\\Users\\thoma\\Documents\\GitHub\\follow_target\\videos\\testvideo_1_640x360.mp4: 224x384 1 Target, 26.0ms\n",
      "video 1/1 (frame 1471/2731) c:\\Users\\thoma\\Documents\\GitHub\\follow_target\\videos\\testvideo_1_640x360.mp4: 224x384 1 Target, 26.6ms\n",
      "video 1/1 (frame 1472/2731) c:\\Users\\thoma\\Documents\\GitHub\\follow_target\\videos\\testvideo_1_640x360.mp4: 224x384 1 Target, 27.5ms\n",
      "video 1/1 (frame 1473/2731) c:\\Users\\thoma\\Documents\\GitHub\\follow_target\\videos\\testvideo_1_640x360.mp4: 224x384 1 Target, 26.7ms\n",
      "video 1/1 (frame 1474/2731) c:\\Users\\thoma\\Documents\\GitHub\\follow_target\\videos\\testvideo_1_640x360.mp4: 224x384 1 Target, 25.9ms\n",
      "video 1/1 (frame 1475/2731) c:\\Users\\thoma\\Documents\\GitHub\\follow_target\\videos\\testvideo_1_640x360.mp4: 224x384 1 Target, 26.5ms\n",
      "video 1/1 (frame 1476/2731) c:\\Users\\thoma\\Documents\\GitHub\\follow_target\\videos\\testvideo_1_640x360.mp4: 224x384 1 Target, 26.9ms\n",
      "video 1/1 (frame 1477/2731) c:\\Users\\thoma\\Documents\\GitHub\\follow_target\\videos\\testvideo_1_640x360.mp4: 224x384 1 Target, 23.8ms\n",
      "video 1/1 (frame 1478/2731) c:\\Users\\thoma\\Documents\\GitHub\\follow_target\\videos\\testvideo_1_640x360.mp4: 224x384 1 Target, 27.0ms\n",
      "video 1/1 (frame 1479/2731) c:\\Users\\thoma\\Documents\\GitHub\\follow_target\\videos\\testvideo_1_640x360.mp4: 224x384 1 Target, 28.2ms\n",
      "video 1/1 (frame 1480/2731) c:\\Users\\thoma\\Documents\\GitHub\\follow_target\\videos\\testvideo_1_640x360.mp4: 224x384 1 Target, 26.6ms\n",
      "video 1/1 (frame 1481/2731) c:\\Users\\thoma\\Documents\\GitHub\\follow_target\\videos\\testvideo_1_640x360.mp4: 224x384 1 Target, 28.3ms\n",
      "video 1/1 (frame 1482/2731) c:\\Users\\thoma\\Documents\\GitHub\\follow_target\\videos\\testvideo_1_640x360.mp4: 224x384 1 Target, 22.3ms\n",
      "video 1/1 (frame 1483/2731) c:\\Users\\thoma\\Documents\\GitHub\\follow_target\\videos\\testvideo_1_640x360.mp4: 224x384 1 Target, 27.3ms\n",
      "video 1/1 (frame 1484/2731) c:\\Users\\thoma\\Documents\\GitHub\\follow_target\\videos\\testvideo_1_640x360.mp4: 224x384 1 Target, 30.4ms\n",
      "video 1/1 (frame 1485/2731) c:\\Users\\thoma\\Documents\\GitHub\\follow_target\\videos\\testvideo_1_640x360.mp4: 224x384 1 Target, 25.4ms\n",
      "video 1/1 (frame 1486/2731) c:\\Users\\thoma\\Documents\\GitHub\\follow_target\\videos\\testvideo_1_640x360.mp4: 224x384 1 Target, 27.0ms\n",
      "video 1/1 (frame 1487/2731) c:\\Users\\thoma\\Documents\\GitHub\\follow_target\\videos\\testvideo_1_640x360.mp4: 224x384 1 Target, 25.5ms\n",
      "video 1/1 (frame 1488/2731) c:\\Users\\thoma\\Documents\\GitHub\\follow_target\\videos\\testvideo_1_640x360.mp4: 224x384 1 Target, 26.6ms\n",
      "video 1/1 (frame 1489/2731) c:\\Users\\thoma\\Documents\\GitHub\\follow_target\\videos\\testvideo_1_640x360.mp4: 224x384 1 Target, 25.0ms\n",
      "video 1/1 (frame 1490/2731) c:\\Users\\thoma\\Documents\\GitHub\\follow_target\\videos\\testvideo_1_640x360.mp4: 224x384 1 Target, 23.6ms\n",
      "video 1/1 (frame 1491/2731) c:\\Users\\thoma\\Documents\\GitHub\\follow_target\\videos\\testvideo_1_640x360.mp4: 224x384 1 Target, 26.8ms\n",
      "video 1/1 (frame 1492/2731) c:\\Users\\thoma\\Documents\\GitHub\\follow_target\\videos\\testvideo_1_640x360.mp4: 224x384 1 Target, 26.9ms\n",
      "video 1/1 (frame 1493/2731) c:\\Users\\thoma\\Documents\\GitHub\\follow_target\\videos\\testvideo_1_640x360.mp4: 224x384 1 Target, 23.2ms\n",
      "video 1/1 (frame 1494/2731) c:\\Users\\thoma\\Documents\\GitHub\\follow_target\\videos\\testvideo_1_640x360.mp4: 224x384 1 Target, 32.8ms\n",
      "video 1/1 (frame 1495/2731) c:\\Users\\thoma\\Documents\\GitHub\\follow_target\\videos\\testvideo_1_640x360.mp4: 224x384 1 Target, 23.4ms\n",
      "video 1/1 (frame 1496/2731) c:\\Users\\thoma\\Documents\\GitHub\\follow_target\\videos\\testvideo_1_640x360.mp4: 224x384 1 Target, 24.5ms\n",
      "video 1/1 (frame 1497/2731) c:\\Users\\thoma\\Documents\\GitHub\\follow_target\\videos\\testvideo_1_640x360.mp4: 224x384 1 Target, 25.0ms\n",
      "video 1/1 (frame 1498/2731) c:\\Users\\thoma\\Documents\\GitHub\\follow_target\\videos\\testvideo_1_640x360.mp4: 224x384 1 Target, 24.3ms\n",
      "video 1/1 (frame 1499/2731) c:\\Users\\thoma\\Documents\\GitHub\\follow_target\\videos\\testvideo_1_640x360.mp4: 224x384 1 Target, 26.5ms\n",
      "video 1/1 (frame 1500/2731) c:\\Users\\thoma\\Documents\\GitHub\\follow_target\\videos\\testvideo_1_640x360.mp4: 224x384 1 Target, 26.4ms\n",
      "video 1/1 (frame 1501/2731) c:\\Users\\thoma\\Documents\\GitHub\\follow_target\\videos\\testvideo_1_640x360.mp4: 224x384 1 Target, 25.2ms\n",
      "video 1/1 (frame 1502/2731) c:\\Users\\thoma\\Documents\\GitHub\\follow_target\\videos\\testvideo_1_640x360.mp4: 224x384 1 Target, 24.9ms\n",
      "video 1/1 (frame 1503/2731) c:\\Users\\thoma\\Documents\\GitHub\\follow_target\\videos\\testvideo_1_640x360.mp4: 224x384 1 Target, 29.5ms\n",
      "video 1/1 (frame 1504/2731) c:\\Users\\thoma\\Documents\\GitHub\\follow_target\\videos\\testvideo_1_640x360.mp4: 224x384 1 Target, 26.9ms\n",
      "video 1/1 (frame 1505/2731) c:\\Users\\thoma\\Documents\\GitHub\\follow_target\\videos\\testvideo_1_640x360.mp4: 224x384 1 Target, 25.0ms\n",
      "video 1/1 (frame 1506/2731) c:\\Users\\thoma\\Documents\\GitHub\\follow_target\\videos\\testvideo_1_640x360.mp4: 224x384 1 Target, 25.2ms\n",
      "video 1/1 (frame 1507/2731) c:\\Users\\thoma\\Documents\\GitHub\\follow_target\\videos\\testvideo_1_640x360.mp4: 224x384 1 Target, 27.7ms\n",
      "video 1/1 (frame 1508/2731) c:\\Users\\thoma\\Documents\\GitHub\\follow_target\\videos\\testvideo_1_640x360.mp4: 224x384 1 Target, 28.2ms\n",
      "video 1/1 (frame 1509/2731) c:\\Users\\thoma\\Documents\\GitHub\\follow_target\\videos\\testvideo_1_640x360.mp4: 224x384 1 Target, 24.8ms\n",
      "video 1/1 (frame 1510/2731) c:\\Users\\thoma\\Documents\\GitHub\\follow_target\\videos\\testvideo_1_640x360.mp4: 224x384 1 Target, 26.1ms\n",
      "video 1/1 (frame 1511/2731) c:\\Users\\thoma\\Documents\\GitHub\\follow_target\\videos\\testvideo_1_640x360.mp4: 224x384 1 Target, 26.5ms\n",
      "video 1/1 (frame 1512/2731) c:\\Users\\thoma\\Documents\\GitHub\\follow_target\\videos\\testvideo_1_640x360.mp4: 224x384 1 Target, 52.4ms\n",
      "video 1/1 (frame 1513/2731) c:\\Users\\thoma\\Documents\\GitHub\\follow_target\\videos\\testvideo_1_640x360.mp4: 224x384 1 Target, 26.6ms\n",
      "video 1/1 (frame 1514/2731) c:\\Users\\thoma\\Documents\\GitHub\\follow_target\\videos\\testvideo_1_640x360.mp4: 224x384 1 Target, 25.9ms\n",
      "video 1/1 (frame 1515/2731) c:\\Users\\thoma\\Documents\\GitHub\\follow_target\\videos\\testvideo_1_640x360.mp4: 224x384 1 Target, 26.7ms\n",
      "video 1/1 (frame 1516/2731) c:\\Users\\thoma\\Documents\\GitHub\\follow_target\\videos\\testvideo_1_640x360.mp4: 224x384 1 Target, 23.7ms\n",
      "video 1/1 (frame 1517/2731) c:\\Users\\thoma\\Documents\\GitHub\\follow_target\\videos\\testvideo_1_640x360.mp4: 224x384 1 Target, 27.9ms\n",
      "video 1/1 (frame 1518/2731) c:\\Users\\thoma\\Documents\\GitHub\\follow_target\\videos\\testvideo_1_640x360.mp4: 224x384 1 Target, 27.5ms\n",
      "video 1/1 (frame 1519/2731) c:\\Users\\thoma\\Documents\\GitHub\\follow_target\\videos\\testvideo_1_640x360.mp4: 224x384 1 Target, 25.4ms\n",
      "video 1/1 (frame 1520/2731) c:\\Users\\thoma\\Documents\\GitHub\\follow_target\\videos\\testvideo_1_640x360.mp4: 224x384 1 Target, 23.7ms\n",
      "video 1/1 (frame 1521/2731) c:\\Users\\thoma\\Documents\\GitHub\\follow_target\\videos\\testvideo_1_640x360.mp4: 224x384 1 Target, 29.7ms\n",
      "video 1/1 (frame 1522/2731) c:\\Users\\thoma\\Documents\\GitHub\\follow_target\\videos\\testvideo_1_640x360.mp4: 224x384 1 Target, 27.5ms\n",
      "video 1/1 (frame 1523/2731) c:\\Users\\thoma\\Documents\\GitHub\\follow_target\\videos\\testvideo_1_640x360.mp4: 224x384 1 Target, 28.2ms\n",
      "video 1/1 (frame 1524/2731) c:\\Users\\thoma\\Documents\\GitHub\\follow_target\\videos\\testvideo_1_640x360.mp4: 224x384 1 Target, 25.7ms\n",
      "video 1/1 (frame 1525/2731) c:\\Users\\thoma\\Documents\\GitHub\\follow_target\\videos\\testvideo_1_640x360.mp4: 224x384 1 Target, 25.4ms\n",
      "video 1/1 (frame 1526/2731) c:\\Users\\thoma\\Documents\\GitHub\\follow_target\\videos\\testvideo_1_640x360.mp4: 224x384 1 Target, 24.3ms\n",
      "video 1/1 (frame 1527/2731) c:\\Users\\thoma\\Documents\\GitHub\\follow_target\\videos\\testvideo_1_640x360.mp4: 224x384 1 Target, 25.8ms\n",
      "video 1/1 (frame 1528/2731) c:\\Users\\thoma\\Documents\\GitHub\\follow_target\\videos\\testvideo_1_640x360.mp4: 224x384 1 Target, 24.2ms\n",
      "video 1/1 (frame 1529/2731) c:\\Users\\thoma\\Documents\\GitHub\\follow_target\\videos\\testvideo_1_640x360.mp4: 224x384 1 Target, 25.1ms\n",
      "video 1/1 (frame 1530/2731) c:\\Users\\thoma\\Documents\\GitHub\\follow_target\\videos\\testvideo_1_640x360.mp4: 224x384 1 Target, 24.2ms\n",
      "video 1/1 (frame 1531/2731) c:\\Users\\thoma\\Documents\\GitHub\\follow_target\\videos\\testvideo_1_640x360.mp4: 224x384 1 Target, 25.3ms\n",
      "video 1/1 (frame 1532/2731) c:\\Users\\thoma\\Documents\\GitHub\\follow_target\\videos\\testvideo_1_640x360.mp4: 224x384 1 Target, 24.3ms\n",
      "video 1/1 (frame 1533/2731) c:\\Users\\thoma\\Documents\\GitHub\\follow_target\\videos\\testvideo_1_640x360.mp4: 224x384 1 Target, 26.3ms\n",
      "video 1/1 (frame 1534/2731) c:\\Users\\thoma\\Documents\\GitHub\\follow_target\\videos\\testvideo_1_640x360.mp4: 224x384 1 Target, 23.6ms\n",
      "video 1/1 (frame 1535/2731) c:\\Users\\thoma\\Documents\\GitHub\\follow_target\\videos\\testvideo_1_640x360.mp4: 224x384 1 Target, 24.2ms\n",
      "video 1/1 (frame 1536/2731) c:\\Users\\thoma\\Documents\\GitHub\\follow_target\\videos\\testvideo_1_640x360.mp4: 224x384 1 Target, 26.6ms\n",
      "video 1/1 (frame 1537/2731) c:\\Users\\thoma\\Documents\\GitHub\\follow_target\\videos\\testvideo_1_640x360.mp4: 224x384 1 Target, 28.1ms\n",
      "video 1/1 (frame 1538/2731) c:\\Users\\thoma\\Documents\\GitHub\\follow_target\\videos\\testvideo_1_640x360.mp4: 224x384 1 Target, 27.1ms\n",
      "video 1/1 (frame 1539/2731) c:\\Users\\thoma\\Documents\\GitHub\\follow_target\\videos\\testvideo_1_640x360.mp4: 224x384 1 Target, 27.6ms\n",
      "video 1/1 (frame 1540/2731) c:\\Users\\thoma\\Documents\\GitHub\\follow_target\\videos\\testvideo_1_640x360.mp4: 224x384 1 Target, 26.6ms\n",
      "video 1/1 (frame 1541/2731) c:\\Users\\thoma\\Documents\\GitHub\\follow_target\\videos\\testvideo_1_640x360.mp4: 224x384 1 Target, 23.3ms\n",
      "video 1/1 (frame 1542/2731) c:\\Users\\thoma\\Documents\\GitHub\\follow_target\\videos\\testvideo_1_640x360.mp4: 224x384 1 Target, 25.2ms\n",
      "video 1/1 (frame 1543/2731) c:\\Users\\thoma\\Documents\\GitHub\\follow_target\\videos\\testvideo_1_640x360.mp4: 224x384 1 Target, 26.8ms\n",
      "video 1/1 (frame 1544/2731) c:\\Users\\thoma\\Documents\\GitHub\\follow_target\\videos\\testvideo_1_640x360.mp4: 224x384 1 Target, 27.7ms\n",
      "video 1/1 (frame 1545/2731) c:\\Users\\thoma\\Documents\\GitHub\\follow_target\\videos\\testvideo_1_640x360.mp4: 224x384 1 Target, 26.7ms\n",
      "video 1/1 (frame 1546/2731) c:\\Users\\thoma\\Documents\\GitHub\\follow_target\\videos\\testvideo_1_640x360.mp4: 224x384 1 Target, 27.5ms\n",
      "video 1/1 (frame 1547/2731) c:\\Users\\thoma\\Documents\\GitHub\\follow_target\\videos\\testvideo_1_640x360.mp4: 224x384 1 Target, 25.6ms\n",
      "video 1/1 (frame 1548/2731) c:\\Users\\thoma\\Documents\\GitHub\\follow_target\\videos\\testvideo_1_640x360.mp4: 224x384 1 Target, 23.8ms\n",
      "video 1/1 (frame 1549/2731) c:\\Users\\thoma\\Documents\\GitHub\\follow_target\\videos\\testvideo_1_640x360.mp4: 224x384 1 Target, 26.4ms\n",
      "video 1/1 (frame 1550/2731) c:\\Users\\thoma\\Documents\\GitHub\\follow_target\\videos\\testvideo_1_640x360.mp4: 224x384 1 Target, 23.7ms\n",
      "video 1/1 (frame 1551/2731) c:\\Users\\thoma\\Documents\\GitHub\\follow_target\\videos\\testvideo_1_640x360.mp4: 224x384 1 Target, 24.5ms\n",
      "video 1/1 (frame 1552/2731) c:\\Users\\thoma\\Documents\\GitHub\\follow_target\\videos\\testvideo_1_640x360.mp4: 224x384 1 Target, 25.9ms\n",
      "video 1/1 (frame 1553/2731) c:\\Users\\thoma\\Documents\\GitHub\\follow_target\\videos\\testvideo_1_640x360.mp4: 224x384 1 Target, 23.8ms\n",
      "video 1/1 (frame 1554/2731) c:\\Users\\thoma\\Documents\\GitHub\\follow_target\\videos\\testvideo_1_640x360.mp4: 224x384 1 Target, 25.1ms\n",
      "video 1/1 (frame 1555/2731) c:\\Users\\thoma\\Documents\\GitHub\\follow_target\\videos\\testvideo_1_640x360.mp4: 224x384 1 Target, 25.6ms\n",
      "video 1/1 (frame 1556/2731) c:\\Users\\thoma\\Documents\\GitHub\\follow_target\\videos\\testvideo_1_640x360.mp4: 224x384 1 Target, 30.4ms\n",
      "video 1/1 (frame 1557/2731) c:\\Users\\thoma\\Documents\\GitHub\\follow_target\\videos\\testvideo_1_640x360.mp4: 224x384 1 Target, 41.3ms\n",
      "video 1/1 (frame 1558/2731) c:\\Users\\thoma\\Documents\\GitHub\\follow_target\\videos\\testvideo_1_640x360.mp4: 224x384 1 Target, 25.8ms\n",
      "video 1/1 (frame 1559/2731) c:\\Users\\thoma\\Documents\\GitHub\\follow_target\\videos\\testvideo_1_640x360.mp4: 224x384 1 Target, 25.8ms\n",
      "video 1/1 (frame 1560/2731) c:\\Users\\thoma\\Documents\\GitHub\\follow_target\\videos\\testvideo_1_640x360.mp4: 224x384 1 Target, 27.4ms\n",
      "video 1/1 (frame 1561/2731) c:\\Users\\thoma\\Documents\\GitHub\\follow_target\\videos\\testvideo_1_640x360.mp4: 224x384 1 Target, 24.2ms\n",
      "video 1/1 (frame 1562/2731) c:\\Users\\thoma\\Documents\\GitHub\\follow_target\\videos\\testvideo_1_640x360.mp4: 224x384 1 Target, 24.9ms\n",
      "video 1/1 (frame 1563/2731) c:\\Users\\thoma\\Documents\\GitHub\\follow_target\\videos\\testvideo_1_640x360.mp4: 224x384 1 Target, 25.5ms\n",
      "video 1/1 (frame 1564/2731) c:\\Users\\thoma\\Documents\\GitHub\\follow_target\\videos\\testvideo_1_640x360.mp4: 224x384 1 Target, 27.0ms\n",
      "video 1/1 (frame 1565/2731) c:\\Users\\thoma\\Documents\\GitHub\\follow_target\\videos\\testvideo_1_640x360.mp4: 224x384 1 Target, 26.2ms\n",
      "video 1/1 (frame 1566/2731) c:\\Users\\thoma\\Documents\\GitHub\\follow_target\\videos\\testvideo_1_640x360.mp4: 224x384 1 Target, 33.1ms\n",
      "video 1/1 (frame 1567/2731) c:\\Users\\thoma\\Documents\\GitHub\\follow_target\\videos\\testvideo_1_640x360.mp4: 224x384 1 Target, 25.8ms\n",
      "video 1/1 (frame 1568/2731) c:\\Users\\thoma\\Documents\\GitHub\\follow_target\\videos\\testvideo_1_640x360.mp4: 224x384 1 Target, 27.3ms\n",
      "video 1/1 (frame 1569/2731) c:\\Users\\thoma\\Documents\\GitHub\\follow_target\\videos\\testvideo_1_640x360.mp4: 224x384 1 Target, 26.8ms\n",
      "video 1/1 (frame 1570/2731) c:\\Users\\thoma\\Documents\\GitHub\\follow_target\\videos\\testvideo_1_640x360.mp4: 224x384 1 Target, 29.0ms\n",
      "video 1/1 (frame 1571/2731) c:\\Users\\thoma\\Documents\\GitHub\\follow_target\\videos\\testvideo_1_640x360.mp4: 224x384 1 Target, 26.6ms\n",
      "video 1/1 (frame 1572/2731) c:\\Users\\thoma\\Documents\\GitHub\\follow_target\\videos\\testvideo_1_640x360.mp4: 224x384 1 Target, 24.4ms\n",
      "video 1/1 (frame 1573/2731) c:\\Users\\thoma\\Documents\\GitHub\\follow_target\\videos\\testvideo_1_640x360.mp4: 224x384 1 Target, 26.0ms\n",
      "video 1/1 (frame 1574/2731) c:\\Users\\thoma\\Documents\\GitHub\\follow_target\\videos\\testvideo_1_640x360.mp4: 224x384 1 Target, 24.1ms\n",
      "video 1/1 (frame 1575/2731) c:\\Users\\thoma\\Documents\\GitHub\\follow_target\\videos\\testvideo_1_640x360.mp4: 224x384 1 Target, 26.6ms\n",
      "video 1/1 (frame 1576/2731) c:\\Users\\thoma\\Documents\\GitHub\\follow_target\\videos\\testvideo_1_640x360.mp4: 224x384 1 Target, 24.0ms\n",
      "video 1/1 (frame 1577/2731) c:\\Users\\thoma\\Documents\\GitHub\\follow_target\\videos\\testvideo_1_640x360.mp4: 224x384 1 Target, 25.7ms\n",
      "video 1/1 (frame 1578/2731) c:\\Users\\thoma\\Documents\\GitHub\\follow_target\\videos\\testvideo_1_640x360.mp4: 224x384 1 Target, 26.3ms\n",
      "video 1/1 (frame 1579/2731) c:\\Users\\thoma\\Documents\\GitHub\\follow_target\\videos\\testvideo_1_640x360.mp4: 224x384 1 Target, 28.3ms\n",
      "video 1/1 (frame 1580/2731) c:\\Users\\thoma\\Documents\\GitHub\\follow_target\\videos\\testvideo_1_640x360.mp4: 224x384 1 Target, 29.0ms\n",
      "video 1/1 (frame 1581/2731) c:\\Users\\thoma\\Documents\\GitHub\\follow_target\\videos\\testvideo_1_640x360.mp4: 224x384 1 Target, 24.5ms\n",
      "video 1/1 (frame 1582/2731) c:\\Users\\thoma\\Documents\\GitHub\\follow_target\\videos\\testvideo_1_640x360.mp4: 224x384 1 Target, 25.8ms\n",
      "video 1/1 (frame 1583/2731) c:\\Users\\thoma\\Documents\\GitHub\\follow_target\\videos\\testvideo_1_640x360.mp4: 224x384 1 Target, 25.1ms\n",
      "video 1/1 (frame 1584/2731) c:\\Users\\thoma\\Documents\\GitHub\\follow_target\\videos\\testvideo_1_640x360.mp4: 224x384 1 Target, 21.1ms\n",
      "video 1/1 (frame 1585/2731) c:\\Users\\thoma\\Documents\\GitHub\\follow_target\\videos\\testvideo_1_640x360.mp4: 224x384 1 Target, 27.2ms\n",
      "video 1/1 (frame 1586/2731) c:\\Users\\thoma\\Documents\\GitHub\\follow_target\\videos\\testvideo_1_640x360.mp4: 224x384 1 Target, 27.2ms\n",
      "video 1/1 (frame 1587/2731) c:\\Users\\thoma\\Documents\\GitHub\\follow_target\\videos\\testvideo_1_640x360.mp4: 224x384 1 Target, 25.1ms\n",
      "video 1/1 (frame 1588/2731) c:\\Users\\thoma\\Documents\\GitHub\\follow_target\\videos\\testvideo_1_640x360.mp4: 224x384 1 Target, 25.9ms\n",
      "video 1/1 (frame 1589/2731) c:\\Users\\thoma\\Documents\\GitHub\\follow_target\\videos\\testvideo_1_640x360.mp4: 224x384 1 Target, 21.4ms\n",
      "video 1/1 (frame 1590/2731) c:\\Users\\thoma\\Documents\\GitHub\\follow_target\\videos\\testvideo_1_640x360.mp4: 224x384 1 Target, 26.0ms\n",
      "video 1/1 (frame 1591/2731) c:\\Users\\thoma\\Documents\\GitHub\\follow_target\\videos\\testvideo_1_640x360.mp4: 224x384 1 Target, 23.5ms\n",
      "video 1/1 (frame 1592/2731) c:\\Users\\thoma\\Documents\\GitHub\\follow_target\\videos\\testvideo_1_640x360.mp4: 224x384 1 Target, 24.2ms\n",
      "video 1/1 (frame 1593/2731) c:\\Users\\thoma\\Documents\\GitHub\\follow_target\\videos\\testvideo_1_640x360.mp4: 224x384 1 Target, 26.0ms\n",
      "video 1/1 (frame 1594/2731) c:\\Users\\thoma\\Documents\\GitHub\\follow_target\\videos\\testvideo_1_640x360.mp4: 224x384 1 Target, 28.6ms\n",
      "video 1/1 (frame 1595/2731) c:\\Users\\thoma\\Documents\\GitHub\\follow_target\\videos\\testvideo_1_640x360.mp4: 224x384 1 Target, 27.9ms\n",
      "video 1/1 (frame 1596/2731) c:\\Users\\thoma\\Documents\\GitHub\\follow_target\\videos\\testvideo_1_640x360.mp4: 224x384 1 Target, 24.3ms\n",
      "video 1/1 (frame 1597/2731) c:\\Users\\thoma\\Documents\\GitHub\\follow_target\\videos\\testvideo_1_640x360.mp4: 224x384 1 Target, 27.0ms\n",
      "video 1/1 (frame 1598/2731) c:\\Users\\thoma\\Documents\\GitHub\\follow_target\\videos\\testvideo_1_640x360.mp4: 224x384 (no detections), 26.4ms\n",
      "video 1/1 (frame 1599/2731) c:\\Users\\thoma\\Documents\\GitHub\\follow_target\\videos\\testvideo_1_640x360.mp4: 224x384 1 Target, 25.3ms\n",
      "video 1/1 (frame 1600/2731) c:\\Users\\thoma\\Documents\\GitHub\\follow_target\\videos\\testvideo_1_640x360.mp4: 224x384 1 Target, 25.6ms\n",
      "video 1/1 (frame 1601/2731) c:\\Users\\thoma\\Documents\\GitHub\\follow_target\\videos\\testvideo_1_640x360.mp4: 224x384 1 Target, 39.0ms\n",
      "video 1/1 (frame 1602/2731) c:\\Users\\thoma\\Documents\\GitHub\\follow_target\\videos\\testvideo_1_640x360.mp4: 224x384 1 Target, 33.7ms\n",
      "video 1/1 (frame 1603/2731) c:\\Users\\thoma\\Documents\\GitHub\\follow_target\\videos\\testvideo_1_640x360.mp4: 224x384 1 Target, 25.8ms\n",
      "video 1/1 (frame 1604/2731) c:\\Users\\thoma\\Documents\\GitHub\\follow_target\\videos\\testvideo_1_640x360.mp4: 224x384 1 Target, 26.8ms\n",
      "video 1/1 (frame 1605/2731) c:\\Users\\thoma\\Documents\\GitHub\\follow_target\\videos\\testvideo_1_640x360.mp4: 224x384 1 Target, 24.3ms\n",
      "video 1/1 (frame 1606/2731) c:\\Users\\thoma\\Documents\\GitHub\\follow_target\\videos\\testvideo_1_640x360.mp4: 224x384 1 Target, 26.4ms\n",
      "video 1/1 (frame 1607/2731) c:\\Users\\thoma\\Documents\\GitHub\\follow_target\\videos\\testvideo_1_640x360.mp4: 224x384 1 Target, 27.5ms\n",
      "video 1/1 (frame 1608/2731) c:\\Users\\thoma\\Documents\\GitHub\\follow_target\\videos\\testvideo_1_640x360.mp4: 224x384 1 Target, 26.6ms\n",
      "video 1/1 (frame 1609/2731) c:\\Users\\thoma\\Documents\\GitHub\\follow_target\\videos\\testvideo_1_640x360.mp4: 224x384 1 Target, 26.1ms\n",
      "video 1/1 (frame 1610/2731) c:\\Users\\thoma\\Documents\\GitHub\\follow_target\\videos\\testvideo_1_640x360.mp4: 224x384 1 Target, 27.3ms\n",
      "video 1/1 (frame 1611/2731) c:\\Users\\thoma\\Documents\\GitHub\\follow_target\\videos\\testvideo_1_640x360.mp4: 224x384 1 Target, 27.0ms\n",
      "video 1/1 (frame 1612/2731) c:\\Users\\thoma\\Documents\\GitHub\\follow_target\\videos\\testvideo_1_640x360.mp4: 224x384 1 Target, 24.0ms\n",
      "video 1/1 (frame 1613/2731) c:\\Users\\thoma\\Documents\\GitHub\\follow_target\\videos\\testvideo_1_640x360.mp4: 224x384 1 Target, 30.5ms\n",
      "video 1/1 (frame 1614/2731) c:\\Users\\thoma\\Documents\\GitHub\\follow_target\\videos\\testvideo_1_640x360.mp4: 224x384 1 Target, 26.8ms\n",
      "video 1/1 (frame 1615/2731) c:\\Users\\thoma\\Documents\\GitHub\\follow_target\\videos\\testvideo_1_640x360.mp4: 224x384 1 Target, 26.5ms\n",
      "video 1/1 (frame 1616/2731) c:\\Users\\thoma\\Documents\\GitHub\\follow_target\\videos\\testvideo_1_640x360.mp4: 224x384 1 Target, 28.4ms\n",
      "video 1/1 (frame 1617/2731) c:\\Users\\thoma\\Documents\\GitHub\\follow_target\\videos\\testvideo_1_640x360.mp4: 224x384 1 Target, 25.4ms\n",
      "video 1/1 (frame 1618/2731) c:\\Users\\thoma\\Documents\\GitHub\\follow_target\\videos\\testvideo_1_640x360.mp4: 224x384 1 Target, 26.4ms\n",
      "video 1/1 (frame 1619/2731) c:\\Users\\thoma\\Documents\\GitHub\\follow_target\\videos\\testvideo_1_640x360.mp4: 224x384 1 Target, 30.0ms\n",
      "video 1/1 (frame 1620/2731) c:\\Users\\thoma\\Documents\\GitHub\\follow_target\\videos\\testvideo_1_640x360.mp4: 224x384 1 Target, 25.2ms\n",
      "video 1/1 (frame 1621/2731) c:\\Users\\thoma\\Documents\\GitHub\\follow_target\\videos\\testvideo_1_640x360.mp4: 224x384 1 Target, 25.8ms\n",
      "video 1/1 (frame 1622/2731) c:\\Users\\thoma\\Documents\\GitHub\\follow_target\\videos\\testvideo_1_640x360.mp4: 224x384 1 Target, 25.3ms\n",
      "video 1/1 (frame 1623/2731) c:\\Users\\thoma\\Documents\\GitHub\\follow_target\\videos\\testvideo_1_640x360.mp4: 224x384 1 Target, 26.7ms\n",
      "video 1/1 (frame 1624/2731) c:\\Users\\thoma\\Documents\\GitHub\\follow_target\\videos\\testvideo_1_640x360.mp4: 224x384 1 Target, 20.6ms\n",
      "video 1/1 (frame 1625/2731) c:\\Users\\thoma\\Documents\\GitHub\\follow_target\\videos\\testvideo_1_640x360.mp4: 224x384 1 Target, 26.7ms\n",
      "video 1/1 (frame 1626/2731) c:\\Users\\thoma\\Documents\\GitHub\\follow_target\\videos\\testvideo_1_640x360.mp4: 224x384 1 Target, 25.4ms\n",
      "video 1/1 (frame 1627/2731) c:\\Users\\thoma\\Documents\\GitHub\\follow_target\\videos\\testvideo_1_640x360.mp4: 224x384 1 Target, 27.1ms\n",
      "video 1/1 (frame 1628/2731) c:\\Users\\thoma\\Documents\\GitHub\\follow_target\\videos\\testvideo_1_640x360.mp4: 224x384 1 Target, 27.5ms\n",
      "video 1/1 (frame 1629/2731) c:\\Users\\thoma\\Documents\\GitHub\\follow_target\\videos\\testvideo_1_640x360.mp4: 224x384 1 Target, 29.8ms\n",
      "video 1/1 (frame 1630/2731) c:\\Users\\thoma\\Documents\\GitHub\\follow_target\\videos\\testvideo_1_640x360.mp4: 224x384 1 Target, 26.2ms\n",
      "video 1/1 (frame 1631/2731) c:\\Users\\thoma\\Documents\\GitHub\\follow_target\\videos\\testvideo_1_640x360.mp4: 224x384 1 Target, 24.6ms\n",
      "video 1/1 (frame 1632/2731) c:\\Users\\thoma\\Documents\\GitHub\\follow_target\\videos\\testvideo_1_640x360.mp4: 224x384 1 Target, 26.6ms\n",
      "video 1/1 (frame 1633/2731) c:\\Users\\thoma\\Documents\\GitHub\\follow_target\\videos\\testvideo_1_640x360.mp4: 224x384 1 Target, 24.5ms\n",
      "video 1/1 (frame 1634/2731) c:\\Users\\thoma\\Documents\\GitHub\\follow_target\\videos\\testvideo_1_640x360.mp4: 224x384 1 Target, 26.0ms\n",
      "video 1/1 (frame 1635/2731) c:\\Users\\thoma\\Documents\\GitHub\\follow_target\\videos\\testvideo_1_640x360.mp4: 224x384 1 Target, 26.9ms\n",
      "video 1/1 (frame 1636/2731) c:\\Users\\thoma\\Documents\\GitHub\\follow_target\\videos\\testvideo_1_640x360.mp4: 224x384 1 Target, 28.9ms\n",
      "video 1/1 (frame 1637/2731) c:\\Users\\thoma\\Documents\\GitHub\\follow_target\\videos\\testvideo_1_640x360.mp4: 224x384 1 Target, 24.6ms\n",
      "video 1/1 (frame 1638/2731) c:\\Users\\thoma\\Documents\\GitHub\\follow_target\\videos\\testvideo_1_640x360.mp4: 224x384 1 Target, 27.9ms\n",
      "video 1/1 (frame 1639/2731) c:\\Users\\thoma\\Documents\\GitHub\\follow_target\\videos\\testvideo_1_640x360.mp4: 224x384 1 Target, 24.6ms\n",
      "video 1/1 (frame 1640/2731) c:\\Users\\thoma\\Documents\\GitHub\\follow_target\\videos\\testvideo_1_640x360.mp4: 224x384 1 Target, 26.2ms\n",
      "video 1/1 (frame 1641/2731) c:\\Users\\thoma\\Documents\\GitHub\\follow_target\\videos\\testvideo_1_640x360.mp4: 224x384 1 Target, 29.4ms\n",
      "video 1/1 (frame 1642/2731) c:\\Users\\thoma\\Documents\\GitHub\\follow_target\\videos\\testvideo_1_640x360.mp4: 224x384 1 Target, 28.6ms\n",
      "video 1/1 (frame 1643/2731) c:\\Users\\thoma\\Documents\\GitHub\\follow_target\\videos\\testvideo_1_640x360.mp4: 224x384 1 Target, 24.9ms\n",
      "video 1/1 (frame 1644/2731) c:\\Users\\thoma\\Documents\\GitHub\\follow_target\\videos\\testvideo_1_640x360.mp4: 224x384 1 Target, 38.5ms\n",
      "video 1/1 (frame 1645/2731) c:\\Users\\thoma\\Documents\\GitHub\\follow_target\\videos\\testvideo_1_640x360.mp4: 224x384 1 Target, 32.3ms\n",
      "video 1/1 (frame 1646/2731) c:\\Users\\thoma\\Documents\\GitHub\\follow_target\\videos\\testvideo_1_640x360.mp4: 224x384 1 Target, 22.7ms\n",
      "video 1/1 (frame 1647/2731) c:\\Users\\thoma\\Documents\\GitHub\\follow_target\\videos\\testvideo_1_640x360.mp4: 224x384 1 Target, 26.0ms\n",
      "video 1/1 (frame 1648/2731) c:\\Users\\thoma\\Documents\\GitHub\\follow_target\\videos\\testvideo_1_640x360.mp4: 224x384 1 Target, 22.0ms\n",
      "video 1/1 (frame 1649/2731) c:\\Users\\thoma\\Documents\\GitHub\\follow_target\\videos\\testvideo_1_640x360.mp4: 224x384 1 Target, 26.2ms\n",
      "video 1/1 (frame 1650/2731) c:\\Users\\thoma\\Documents\\GitHub\\follow_target\\videos\\testvideo_1_640x360.mp4: 224x384 1 Target, 24.8ms\n",
      "video 1/1 (frame 1651/2731) c:\\Users\\thoma\\Documents\\GitHub\\follow_target\\videos\\testvideo_1_640x360.mp4: 224x384 1 Target, 24.5ms\n",
      "video 1/1 (frame 1652/2731) c:\\Users\\thoma\\Documents\\GitHub\\follow_target\\videos\\testvideo_1_640x360.mp4: 224x384 1 Target, 27.5ms\n",
      "video 1/1 (frame 1653/2731) c:\\Users\\thoma\\Documents\\GitHub\\follow_target\\videos\\testvideo_1_640x360.mp4: 224x384 1 Target, 24.5ms\n",
      "video 1/1 (frame 1654/2731) c:\\Users\\thoma\\Documents\\GitHub\\follow_target\\videos\\testvideo_1_640x360.mp4: 224x384 1 Target, 25.7ms\n",
      "video 1/1 (frame 1655/2731) c:\\Users\\thoma\\Documents\\GitHub\\follow_target\\videos\\testvideo_1_640x360.mp4: 224x384 1 Target, 30.1ms\n",
      "video 1/1 (frame 1656/2731) c:\\Users\\thoma\\Documents\\GitHub\\follow_target\\videos\\testvideo_1_640x360.mp4: 224x384 1 Target, 26.0ms\n",
      "video 1/1 (frame 1657/2731) c:\\Users\\thoma\\Documents\\GitHub\\follow_target\\videos\\testvideo_1_640x360.mp4: 224x384 1 Target, 23.5ms\n",
      "video 1/1 (frame 1658/2731) c:\\Users\\thoma\\Documents\\GitHub\\follow_target\\videos\\testvideo_1_640x360.mp4: 224x384 1 Target, 24.4ms\n",
      "video 1/1 (frame 1659/2731) c:\\Users\\thoma\\Documents\\GitHub\\follow_target\\videos\\testvideo_1_640x360.mp4: 224x384 1 Target, 29.4ms\n",
      "video 1/1 (frame 1660/2731) c:\\Users\\thoma\\Documents\\GitHub\\follow_target\\videos\\testvideo_1_640x360.mp4: 224x384 1 Target, 25.9ms\n",
      "video 1/1 (frame 1661/2731) c:\\Users\\thoma\\Documents\\GitHub\\follow_target\\videos\\testvideo_1_640x360.mp4: 224x384 1 Target, 25.8ms\n",
      "video 1/1 (frame 1662/2731) c:\\Users\\thoma\\Documents\\GitHub\\follow_target\\videos\\testvideo_1_640x360.mp4: 224x384 1 Target, 25.0ms\n",
      "video 1/1 (frame 1663/2731) c:\\Users\\thoma\\Documents\\GitHub\\follow_target\\videos\\testvideo_1_640x360.mp4: 224x384 1 Target, 26.0ms\n",
      "video 1/1 (frame 1664/2731) c:\\Users\\thoma\\Documents\\GitHub\\follow_target\\videos\\testvideo_1_640x360.mp4: 224x384 1 Target, 30.5ms\n",
      "video 1/1 (frame 1665/2731) c:\\Users\\thoma\\Documents\\GitHub\\follow_target\\videos\\testvideo_1_640x360.mp4: 224x384 1 Target, 24.5ms\n",
      "video 1/1 (frame 1666/2731) c:\\Users\\thoma\\Documents\\GitHub\\follow_target\\videos\\testvideo_1_640x360.mp4: 224x384 1 Target, 26.8ms\n",
      "video 1/1 (frame 1667/2731) c:\\Users\\thoma\\Documents\\GitHub\\follow_target\\videos\\testvideo_1_640x360.mp4: 224x384 1 Target, 24.6ms\n",
      "video 1/1 (frame 1668/2731) c:\\Users\\thoma\\Documents\\GitHub\\follow_target\\videos\\testvideo_1_640x360.mp4: 224x384 1 Target, 26.7ms\n",
      "video 1/1 (frame 1669/2731) c:\\Users\\thoma\\Documents\\GitHub\\follow_target\\videos\\testvideo_1_640x360.mp4: 224x384 1 Target, 24.9ms\n",
      "video 1/1 (frame 1670/2731) c:\\Users\\thoma\\Documents\\GitHub\\follow_target\\videos\\testvideo_1_640x360.mp4: 224x384 1 Target, 29.1ms\n",
      "video 1/1 (frame 1671/2731) c:\\Users\\thoma\\Documents\\GitHub\\follow_target\\videos\\testvideo_1_640x360.mp4: 224x384 1 Target, 27.1ms\n",
      "video 1/1 (frame 1672/2731) c:\\Users\\thoma\\Documents\\GitHub\\follow_target\\videos\\testvideo_1_640x360.mp4: 224x384 1 Target, 27.8ms\n",
      "video 1/1 (frame 1673/2731) c:\\Users\\thoma\\Documents\\GitHub\\follow_target\\videos\\testvideo_1_640x360.mp4: 224x384 1 Target, 24.7ms\n",
      "video 1/1 (frame 1674/2731) c:\\Users\\thoma\\Documents\\GitHub\\follow_target\\videos\\testvideo_1_640x360.mp4: 224x384 1 Target, 26.3ms\n",
      "video 1/1 (frame 1675/2731) c:\\Users\\thoma\\Documents\\GitHub\\follow_target\\videos\\testvideo_1_640x360.mp4: 224x384 1 Target, 27.4ms\n",
      "video 1/1 (frame 1676/2731) c:\\Users\\thoma\\Documents\\GitHub\\follow_target\\videos\\testvideo_1_640x360.mp4: 224x384 1 Target, 27.1ms\n",
      "video 1/1 (frame 1677/2731) c:\\Users\\thoma\\Documents\\GitHub\\follow_target\\videos\\testvideo_1_640x360.mp4: 224x384 1 Target, 24.8ms\n",
      "video 1/1 (frame 1678/2731) c:\\Users\\thoma\\Documents\\GitHub\\follow_target\\videos\\testvideo_1_640x360.mp4: 224x384 1 Target, 25.8ms\n",
      "video 1/1 (frame 1679/2731) c:\\Users\\thoma\\Documents\\GitHub\\follow_target\\videos\\testvideo_1_640x360.mp4: 224x384 1 Target, 25.8ms\n",
      "video 1/1 (frame 1680/2731) c:\\Users\\thoma\\Documents\\GitHub\\follow_target\\videos\\testvideo_1_640x360.mp4: 224x384 1 Target, 23.6ms\n",
      "video 1/1 (frame 1681/2731) c:\\Users\\thoma\\Documents\\GitHub\\follow_target\\videos\\testvideo_1_640x360.mp4: 224x384 1 Target, 25.0ms\n",
      "video 1/1 (frame 1682/2731) c:\\Users\\thoma\\Documents\\GitHub\\follow_target\\videos\\testvideo_1_640x360.mp4: 224x384 1 Target, 25.5ms\n",
      "video 1/1 (frame 1683/2731) c:\\Users\\thoma\\Documents\\GitHub\\follow_target\\videos\\testvideo_1_640x360.mp4: 224x384 1 Target, 27.6ms\n",
      "video 1/1 (frame 1684/2731) c:\\Users\\thoma\\Documents\\GitHub\\follow_target\\videos\\testvideo_1_640x360.mp4: 224x384 1 Target, 27.4ms\n",
      "video 1/1 (frame 1685/2731) c:\\Users\\thoma\\Documents\\GitHub\\follow_target\\videos\\testvideo_1_640x360.mp4: 224x384 1 Target, 27.2ms\n",
      "video 1/1 (frame 1686/2731) c:\\Users\\thoma\\Documents\\GitHub\\follow_target\\videos\\testvideo_1_640x360.mp4: 224x384 1 Target, 23.6ms\n",
      "video 1/1 (frame 1687/2731) c:\\Users\\thoma\\Documents\\GitHub\\follow_target\\videos\\testvideo_1_640x360.mp4: 224x384 1 Target, 27.0ms\n",
      "video 1/1 (frame 1688/2731) c:\\Users\\thoma\\Documents\\GitHub\\follow_target\\videos\\testvideo_1_640x360.mp4: 224x384 1 Target, 26.2ms\n",
      "video 1/1 (frame 1689/2731) c:\\Users\\thoma\\Documents\\GitHub\\follow_target\\videos\\testvideo_1_640x360.mp4: 224x384 1 Target, 52.0ms\n",
      "video 1/1 (frame 1690/2731) c:\\Users\\thoma\\Documents\\GitHub\\follow_target\\videos\\testvideo_1_640x360.mp4: 224x384 1 Target, 26.3ms\n",
      "video 1/1 (frame 1691/2731) c:\\Users\\thoma\\Documents\\GitHub\\follow_target\\videos\\testvideo_1_640x360.mp4: 224x384 1 Target, 26.9ms\n",
      "video 1/1 (frame 1692/2731) c:\\Users\\thoma\\Documents\\GitHub\\follow_target\\videos\\testvideo_1_640x360.mp4: 224x384 1 Target, 24.7ms\n",
      "video 1/1 (frame 1693/2731) c:\\Users\\thoma\\Documents\\GitHub\\follow_target\\videos\\testvideo_1_640x360.mp4: 224x384 1 Target, 26.0ms\n",
      "video 1/1 (frame 1694/2731) c:\\Users\\thoma\\Documents\\GitHub\\follow_target\\videos\\testvideo_1_640x360.mp4: 224x384 1 Target, 26.7ms\n",
      "video 1/1 (frame 1695/2731) c:\\Users\\thoma\\Documents\\GitHub\\follow_target\\videos\\testvideo_1_640x360.mp4: 224x384 1 Target, 26.1ms\n",
      "video 1/1 (frame 1696/2731) c:\\Users\\thoma\\Documents\\GitHub\\follow_target\\videos\\testvideo_1_640x360.mp4: 224x384 1 Target, 25.3ms\n",
      "video 1/1 (frame 1697/2731) c:\\Users\\thoma\\Documents\\GitHub\\follow_target\\videos\\testvideo_1_640x360.mp4: 224x384 1 Target, 28.1ms\n",
      "video 1/1 (frame 1698/2731) c:\\Users\\thoma\\Documents\\GitHub\\follow_target\\videos\\testvideo_1_640x360.mp4: 224x384 1 Target, 28.3ms\n",
      "video 1/1 (frame 1699/2731) c:\\Users\\thoma\\Documents\\GitHub\\follow_target\\videos\\testvideo_1_640x360.mp4: 224x384 1 Target, 26.2ms\n",
      "video 1/1 (frame 1700/2731) c:\\Users\\thoma\\Documents\\GitHub\\follow_target\\videos\\testvideo_1_640x360.mp4: 224x384 1 Target, 25.9ms\n",
      "video 1/1 (frame 1701/2731) c:\\Users\\thoma\\Documents\\GitHub\\follow_target\\videos\\testvideo_1_640x360.mp4: 224x384 1 Target, 25.2ms\n",
      "video 1/1 (frame 1702/2731) c:\\Users\\thoma\\Documents\\GitHub\\follow_target\\videos\\testvideo_1_640x360.mp4: 224x384 1 Target, 26.7ms\n",
      "video 1/1 (frame 1703/2731) c:\\Users\\thoma\\Documents\\GitHub\\follow_target\\videos\\testvideo_1_640x360.mp4: 224x384 1 Target, 28.9ms\n",
      "video 1/1 (frame 1704/2731) c:\\Users\\thoma\\Documents\\GitHub\\follow_target\\videos\\testvideo_1_640x360.mp4: 224x384 1 Target, 22.0ms\n",
      "video 1/1 (frame 1705/2731) c:\\Users\\thoma\\Documents\\GitHub\\follow_target\\videos\\testvideo_1_640x360.mp4: 224x384 1 Target, 25.4ms\n",
      "video 1/1 (frame 1706/2731) c:\\Users\\thoma\\Documents\\GitHub\\follow_target\\videos\\testvideo_1_640x360.mp4: 224x384 1 Target, 25.0ms\n",
      "video 1/1 (frame 1707/2731) c:\\Users\\thoma\\Documents\\GitHub\\follow_target\\videos\\testvideo_1_640x360.mp4: 224x384 1 Target, 24.0ms\n",
      "video 1/1 (frame 1708/2731) c:\\Users\\thoma\\Documents\\GitHub\\follow_target\\videos\\testvideo_1_640x360.mp4: 224x384 1 Target, 26.3ms\n",
      "video 1/1 (frame 1709/2731) c:\\Users\\thoma\\Documents\\GitHub\\follow_target\\videos\\testvideo_1_640x360.mp4: 224x384 1 Target, 27.1ms\n",
      "video 1/1 (frame 1710/2731) c:\\Users\\thoma\\Documents\\GitHub\\follow_target\\videos\\testvideo_1_640x360.mp4: 224x384 1 Target, 23.6ms\n",
      "video 1/1 (frame 1711/2731) c:\\Users\\thoma\\Documents\\GitHub\\follow_target\\videos\\testvideo_1_640x360.mp4: 224x384 1 Target, 26.3ms\n",
      "video 1/1 (frame 1712/2731) c:\\Users\\thoma\\Documents\\GitHub\\follow_target\\videos\\testvideo_1_640x360.mp4: 224x384 1 Target, 26.5ms\n",
      "video 1/1 (frame 1713/2731) c:\\Users\\thoma\\Documents\\GitHub\\follow_target\\videos\\testvideo_1_640x360.mp4: 224x384 1 Target, 31.4ms\n",
      "video 1/1 (frame 1714/2731) c:\\Users\\thoma\\Documents\\GitHub\\follow_target\\videos\\testvideo_1_640x360.mp4: 224x384 1 Target, 27.1ms\n",
      "video 1/1 (frame 1715/2731) c:\\Users\\thoma\\Documents\\GitHub\\follow_target\\videos\\testvideo_1_640x360.mp4: 224x384 1 Target, 27.1ms\n",
      "video 1/1 (frame 1716/2731) c:\\Users\\thoma\\Documents\\GitHub\\follow_target\\videos\\testvideo_1_640x360.mp4: 224x384 1 Target, 26.5ms\n",
      "video 1/1 (frame 1717/2731) c:\\Users\\thoma\\Documents\\GitHub\\follow_target\\videos\\testvideo_1_640x360.mp4: 224x384 1 Target, 24.4ms\n",
      "video 1/1 (frame 1718/2731) c:\\Users\\thoma\\Documents\\GitHub\\follow_target\\videos\\testvideo_1_640x360.mp4: 224x384 1 Target, 26.8ms\n",
      "video 1/1 (frame 1719/2731) c:\\Users\\thoma\\Documents\\GitHub\\follow_target\\videos\\testvideo_1_640x360.mp4: 224x384 1 Target, 24.3ms\n",
      "video 1/1 (frame 1720/2731) c:\\Users\\thoma\\Documents\\GitHub\\follow_target\\videos\\testvideo_1_640x360.mp4: 224x384 1 Target, 26.7ms\n",
      "video 1/1 (frame 1721/2731) c:\\Users\\thoma\\Documents\\GitHub\\follow_target\\videos\\testvideo_1_640x360.mp4: 224x384 1 Target, 29.4ms\n",
      "video 1/1 (frame 1722/2731) c:\\Users\\thoma\\Documents\\GitHub\\follow_target\\videos\\testvideo_1_640x360.mp4: 224x384 1 Target, 27.6ms\n",
      "video 1/1 (frame 1723/2731) c:\\Users\\thoma\\Documents\\GitHub\\follow_target\\videos\\testvideo_1_640x360.mp4: 224x384 1 Target, 25.2ms\n",
      "video 1/1 (frame 1724/2731) c:\\Users\\thoma\\Documents\\GitHub\\follow_target\\videos\\testvideo_1_640x360.mp4: 224x384 1 Target, 25.8ms\n",
      "video 1/1 (frame 1725/2731) c:\\Users\\thoma\\Documents\\GitHub\\follow_target\\videos\\testvideo_1_640x360.mp4: 224x384 1 Target, 22.6ms\n",
      "video 1/1 (frame 1726/2731) c:\\Users\\thoma\\Documents\\GitHub\\follow_target\\videos\\testvideo_1_640x360.mp4: 224x384 1 Target, 24.0ms\n",
      "video 1/1 (frame 1727/2731) c:\\Users\\thoma\\Documents\\GitHub\\follow_target\\videos\\testvideo_1_640x360.mp4: 224x384 1 Target, 30.6ms\n",
      "video 1/1 (frame 1728/2731) c:\\Users\\thoma\\Documents\\GitHub\\follow_target\\videos\\testvideo_1_640x360.mp4: 224x384 1 Target, 24.6ms\n",
      "video 1/1 (frame 1729/2731) c:\\Users\\thoma\\Documents\\GitHub\\follow_target\\videos\\testvideo_1_640x360.mp4: 224x384 1 Target, 25.6ms\n",
      "video 1/1 (frame 1730/2731) c:\\Users\\thoma\\Documents\\GitHub\\follow_target\\videos\\testvideo_1_640x360.mp4: 224x384 1 Target, 28.3ms\n",
      "video 1/1 (frame 1731/2731) c:\\Users\\thoma\\Documents\\GitHub\\follow_target\\videos\\testvideo_1_640x360.mp4: 224x384 1 Target, 27.7ms\n",
      "video 1/1 (frame 1732/2731) c:\\Users\\thoma\\Documents\\GitHub\\follow_target\\videos\\testvideo_1_640x360.mp4: 224x384 1 Target, 25.5ms\n",
      "video 1/1 (frame 1733/2731) c:\\Users\\thoma\\Documents\\GitHub\\follow_target\\videos\\testvideo_1_640x360.mp4: 224x384 1 Target, 43.5ms\n",
      "video 1/1 (frame 1734/2731) c:\\Users\\thoma\\Documents\\GitHub\\follow_target\\videos\\testvideo_1_640x360.mp4: 224x384 1 Target, 27.3ms\n",
      "video 1/1 (frame 1735/2731) c:\\Users\\thoma\\Documents\\GitHub\\follow_target\\videos\\testvideo_1_640x360.mp4: 224x384 1 Target, 20.1ms\n",
      "video 1/1 (frame 1736/2731) c:\\Users\\thoma\\Documents\\GitHub\\follow_target\\videos\\testvideo_1_640x360.mp4: 224x384 1 Target, 26.6ms\n",
      "video 1/1 (frame 1737/2731) c:\\Users\\thoma\\Documents\\GitHub\\follow_target\\videos\\testvideo_1_640x360.mp4: 224x384 1 Target, 24.9ms\n",
      "video 1/1 (frame 1738/2731) c:\\Users\\thoma\\Documents\\GitHub\\follow_target\\videos\\testvideo_1_640x360.mp4: 224x384 1 Target, 26.5ms\n",
      "video 1/1 (frame 1739/2731) c:\\Users\\thoma\\Documents\\GitHub\\follow_target\\videos\\testvideo_1_640x360.mp4: 224x384 (no detections), 23.2ms\n",
      "video 1/1 (frame 1740/2731) c:\\Users\\thoma\\Documents\\GitHub\\follow_target\\videos\\testvideo_1_640x360.mp4: 224x384 1 Target, 28.8ms\n",
      "video 1/1 (frame 1741/2731) c:\\Users\\thoma\\Documents\\GitHub\\follow_target\\videos\\testvideo_1_640x360.mp4: 224x384 1 Target, 24.8ms\n",
      "video 1/1 (frame 1742/2731) c:\\Users\\thoma\\Documents\\GitHub\\follow_target\\videos\\testvideo_1_640x360.mp4: 224x384 1 Target, 28.6ms\n",
      "video 1/1 (frame 1743/2731) c:\\Users\\thoma\\Documents\\GitHub\\follow_target\\videos\\testvideo_1_640x360.mp4: 224x384 1 Target, 26.1ms\n",
      "video 1/1 (frame 1744/2731) c:\\Users\\thoma\\Documents\\GitHub\\follow_target\\videos\\testvideo_1_640x360.mp4: 224x384 1 Target, 26.4ms\n",
      "video 1/1 (frame 1745/2731) c:\\Users\\thoma\\Documents\\GitHub\\follow_target\\videos\\testvideo_1_640x360.mp4: 224x384 1 Target, 26.9ms\n",
      "video 1/1 (frame 1746/2731) c:\\Users\\thoma\\Documents\\GitHub\\follow_target\\videos\\testvideo_1_640x360.mp4: 224x384 1 Target, 25.8ms\n",
      "video 1/1 (frame 1747/2731) c:\\Users\\thoma\\Documents\\GitHub\\follow_target\\videos\\testvideo_1_640x360.mp4: 224x384 1 Target, 30.6ms\n",
      "video 1/1 (frame 1748/2731) c:\\Users\\thoma\\Documents\\GitHub\\follow_target\\videos\\testvideo_1_640x360.mp4: 224x384 1 Target, 25.3ms\n",
      "video 1/1 (frame 1749/2731) c:\\Users\\thoma\\Documents\\GitHub\\follow_target\\videos\\testvideo_1_640x360.mp4: 224x384 1 Target, 26.8ms\n",
      "video 1/1 (frame 1750/2731) c:\\Users\\thoma\\Documents\\GitHub\\follow_target\\videos\\testvideo_1_640x360.mp4: 224x384 1 Target, 24.7ms\n",
      "video 1/1 (frame 1751/2731) c:\\Users\\thoma\\Documents\\GitHub\\follow_target\\videos\\testvideo_1_640x360.mp4: 224x384 1 Target, 25.5ms\n",
      "video 1/1 (frame 1752/2731) c:\\Users\\thoma\\Documents\\GitHub\\follow_target\\videos\\testvideo_1_640x360.mp4: 224x384 1 Target, 23.7ms\n",
      "video 1/1 (frame 1753/2731) c:\\Users\\thoma\\Documents\\GitHub\\follow_target\\videos\\testvideo_1_640x360.mp4: 224x384 1 Target, 24.5ms\n",
      "video 1/1 (frame 1754/2731) c:\\Users\\thoma\\Documents\\GitHub\\follow_target\\videos\\testvideo_1_640x360.mp4: 224x384 1 Target, 24.1ms\n",
      "video 1/1 (frame 1755/2731) c:\\Users\\thoma\\Documents\\GitHub\\follow_target\\videos\\testvideo_1_640x360.mp4: 224x384 1 Target, 29.0ms\n",
      "video 1/1 (frame 1756/2731) c:\\Users\\thoma\\Documents\\GitHub\\follow_target\\videos\\testvideo_1_640x360.mp4: 224x384 1 Target, 27.0ms\n",
      "video 1/1 (frame 1757/2731) c:\\Users\\thoma\\Documents\\GitHub\\follow_target\\videos\\testvideo_1_640x360.mp4: 224x384 1 Target, 28.7ms\n",
      "video 1/1 (frame 1758/2731) c:\\Users\\thoma\\Documents\\GitHub\\follow_target\\videos\\testvideo_1_640x360.mp4: 224x384 1 Target, 25.6ms\n",
      "video 1/1 (frame 1759/2731) c:\\Users\\thoma\\Documents\\GitHub\\follow_target\\videos\\testvideo_1_640x360.mp4: 224x384 1 Target, 25.6ms\n",
      "video 1/1 (frame 1760/2731) c:\\Users\\thoma\\Documents\\GitHub\\follow_target\\videos\\testvideo_1_640x360.mp4: 224x384 1 Target, 26.0ms\n",
      "video 1/1 (frame 1761/2731) c:\\Users\\thoma\\Documents\\GitHub\\follow_target\\videos\\testvideo_1_640x360.mp4: 224x384 1 Target, 24.6ms\n",
      "video 1/1 (frame 1762/2731) c:\\Users\\thoma\\Documents\\GitHub\\follow_target\\videos\\testvideo_1_640x360.mp4: 224x384 1 Target, 27.6ms\n",
      "video 1/1 (frame 1763/2731) c:\\Users\\thoma\\Documents\\GitHub\\follow_target\\videos\\testvideo_1_640x360.mp4: 224x384 1 Target, 23.4ms\n",
      "video 1/1 (frame 1764/2731) c:\\Users\\thoma\\Documents\\GitHub\\follow_target\\videos\\testvideo_1_640x360.mp4: 224x384 1 Target, 26.9ms\n",
      "video 1/1 (frame 1765/2731) c:\\Users\\thoma\\Documents\\GitHub\\follow_target\\videos\\testvideo_1_640x360.mp4: 224x384 1 Target, 26.2ms\n",
      "video 1/1 (frame 1766/2731) c:\\Users\\thoma\\Documents\\GitHub\\follow_target\\videos\\testvideo_1_640x360.mp4: 224x384 1 Target, 25.0ms\n",
      "video 1/1 (frame 1767/2731) c:\\Users\\thoma\\Documents\\GitHub\\follow_target\\videos\\testvideo_1_640x360.mp4: 224x384 1 Target, 26.5ms\n",
      "video 1/1 (frame 1768/2731) c:\\Users\\thoma\\Documents\\GitHub\\follow_target\\videos\\testvideo_1_640x360.mp4: 224x384 1 Target, 27.1ms\n",
      "video 1/1 (frame 1769/2731) c:\\Users\\thoma\\Documents\\GitHub\\follow_target\\videos\\testvideo_1_640x360.mp4: 224x384 1 Target, 27.1ms\n",
      "video 1/1 (frame 1770/2731) c:\\Users\\thoma\\Documents\\GitHub\\follow_target\\videos\\testvideo_1_640x360.mp4: 224x384 1 Target, 24.3ms\n",
      "video 1/1 (frame 1771/2731) c:\\Users\\thoma\\Documents\\GitHub\\follow_target\\videos\\testvideo_1_640x360.mp4: 224x384 1 Target, 28.0ms\n",
      "video 1/1 (frame 1772/2731) c:\\Users\\thoma\\Documents\\GitHub\\follow_target\\videos\\testvideo_1_640x360.mp4: 224x384 1 Target, 27.0ms\n",
      "video 1/1 (frame 1773/2731) c:\\Users\\thoma\\Documents\\GitHub\\follow_target\\videos\\testvideo_1_640x360.mp4: 224x384 1 Target, 24.7ms\n",
      "video 1/1 (frame 1774/2731) c:\\Users\\thoma\\Documents\\GitHub\\follow_target\\videos\\testvideo_1_640x360.mp4: 224x384 1 Target, 25.3ms\n",
      "video 1/1 (frame 1775/2731) c:\\Users\\thoma\\Documents\\GitHub\\follow_target\\videos\\testvideo_1_640x360.mp4: 224x384 1 Target, 25.4ms\n",
      "video 1/1 (frame 1776/2731) c:\\Users\\thoma\\Documents\\GitHub\\follow_target\\videos\\testvideo_1_640x360.mp4: 224x384 1 Target, 36.9ms\n",
      "video 1/1 (frame 1777/2731) c:\\Users\\thoma\\Documents\\GitHub\\follow_target\\videos\\testvideo_1_640x360.mp4: 224x384 1 Target, 30.0ms\n",
      "video 1/1 (frame 1778/2731) c:\\Users\\thoma\\Documents\\GitHub\\follow_target\\videos\\testvideo_1_640x360.mp4: 224x384 1 Target, 26.9ms\n",
      "video 1/1 (frame 1779/2731) c:\\Users\\thoma\\Documents\\GitHub\\follow_target\\videos\\testvideo_1_640x360.mp4: 224x384 1 Target, 27.2ms\n",
      "video 1/1 (frame 1780/2731) c:\\Users\\thoma\\Documents\\GitHub\\follow_target\\videos\\testvideo_1_640x360.mp4: 224x384 1 Target, 25.8ms\n",
      "video 1/1 (frame 1781/2731) c:\\Users\\thoma\\Documents\\GitHub\\follow_target\\videos\\testvideo_1_640x360.mp4: 224x384 1 Target, 27.7ms\n",
      "video 1/1 (frame 1782/2731) c:\\Users\\thoma\\Documents\\GitHub\\follow_target\\videos\\testvideo_1_640x360.mp4: 224x384 1 Target, 26.6ms\n",
      "video 1/1 (frame 1783/2731) c:\\Users\\thoma\\Documents\\GitHub\\follow_target\\videos\\testvideo_1_640x360.mp4: 224x384 1 Target, 25.7ms\n",
      "video 1/1 (frame 1784/2731) c:\\Users\\thoma\\Documents\\GitHub\\follow_target\\videos\\testvideo_1_640x360.mp4: 224x384 1 Target, 27.0ms\n",
      "video 1/1 (frame 1785/2731) c:\\Users\\thoma\\Documents\\GitHub\\follow_target\\videos\\testvideo_1_640x360.mp4: 224x384 1 Target, 28.5ms\n",
      "video 1/1 (frame 1786/2731) c:\\Users\\thoma\\Documents\\GitHub\\follow_target\\videos\\testvideo_1_640x360.mp4: 224x384 1 Target, 24.7ms\n",
      "video 1/1 (frame 1787/2731) c:\\Users\\thoma\\Documents\\GitHub\\follow_target\\videos\\testvideo_1_640x360.mp4: 224x384 1 Target, 24.8ms\n",
      "video 1/1 (frame 1788/2731) c:\\Users\\thoma\\Documents\\GitHub\\follow_target\\videos\\testvideo_1_640x360.mp4: 224x384 1 Target, 29.9ms\n",
      "video 1/1 (frame 1789/2731) c:\\Users\\thoma\\Documents\\GitHub\\follow_target\\videos\\testvideo_1_640x360.mp4: 224x384 1 Target, 25.4ms\n",
      "video 1/1 (frame 1790/2731) c:\\Users\\thoma\\Documents\\GitHub\\follow_target\\videos\\testvideo_1_640x360.mp4: 224x384 1 Target, 26.3ms\n",
      "video 1/1 (frame 1791/2731) c:\\Users\\thoma\\Documents\\GitHub\\follow_target\\videos\\testvideo_1_640x360.mp4: 224x384 1 Target, 26.4ms\n",
      "video 1/1 (frame 1792/2731) c:\\Users\\thoma\\Documents\\GitHub\\follow_target\\videos\\testvideo_1_640x360.mp4: 224x384 1 Target, 24.2ms\n",
      "video 1/1 (frame 1793/2731) c:\\Users\\thoma\\Documents\\GitHub\\follow_target\\videos\\testvideo_1_640x360.mp4: 224x384 1 Target, 26.8ms\n",
      "video 1/1 (frame 1794/2731) c:\\Users\\thoma\\Documents\\GitHub\\follow_target\\videos\\testvideo_1_640x360.mp4: 224x384 1 Target, 24.5ms\n",
      "video 1/1 (frame 1795/2731) c:\\Users\\thoma\\Documents\\GitHub\\follow_target\\videos\\testvideo_1_640x360.mp4: 224x384 1 Target, 28.7ms\n",
      "video 1/1 (frame 1796/2731) c:\\Users\\thoma\\Documents\\GitHub\\follow_target\\videos\\testvideo_1_640x360.mp4: 224x384 1 Target, 27.7ms\n",
      "video 1/1 (frame 1797/2731) c:\\Users\\thoma\\Documents\\GitHub\\follow_target\\videos\\testvideo_1_640x360.mp4: 224x384 1 Target, 22.9ms\n",
      "video 1/1 (frame 1798/2731) c:\\Users\\thoma\\Documents\\GitHub\\follow_target\\videos\\testvideo_1_640x360.mp4: 224x384 1 Target, 25.2ms\n",
      "video 1/1 (frame 1799/2731) c:\\Users\\thoma\\Documents\\GitHub\\follow_target\\videos\\testvideo_1_640x360.mp4: 224x384 1 Target, 30.3ms\n",
      "video 1/1 (frame 1800/2731) c:\\Users\\thoma\\Documents\\GitHub\\follow_target\\videos\\testvideo_1_640x360.mp4: 224x384 1 Target, 26.6ms\n",
      "video 1/1 (frame 1801/2731) c:\\Users\\thoma\\Documents\\GitHub\\follow_target\\videos\\testvideo_1_640x360.mp4: 224x384 1 Target, 24.1ms\n",
      "video 1/1 (frame 1802/2731) c:\\Users\\thoma\\Documents\\GitHub\\follow_target\\videos\\testvideo_1_640x360.mp4: 224x384 1 Target, 23.5ms\n",
      "video 1/1 (frame 1803/2731) c:\\Users\\thoma\\Documents\\GitHub\\follow_target\\videos\\testvideo_1_640x360.mp4: 224x384 1 Target, 31.1ms\n",
      "video 1/1 (frame 1804/2731) c:\\Users\\thoma\\Documents\\GitHub\\follow_target\\videos\\testvideo_1_640x360.mp4: 224x384 1 Target, 26.5ms\n",
      "video 1/1 (frame 1805/2731) c:\\Users\\thoma\\Documents\\GitHub\\follow_target\\videos\\testvideo_1_640x360.mp4: 224x384 1 Target, 25.7ms\n",
      "video 1/1 (frame 1806/2731) c:\\Users\\thoma\\Documents\\GitHub\\follow_target\\videos\\testvideo_1_640x360.mp4: 224x384 1 Target, 26.8ms\n",
      "video 1/1 (frame 1807/2731) c:\\Users\\thoma\\Documents\\GitHub\\follow_target\\videos\\testvideo_1_640x360.mp4: 224x384 1 Target, 24.9ms\n",
      "video 1/1 (frame 1808/2731) c:\\Users\\thoma\\Documents\\GitHub\\follow_target\\videos\\testvideo_1_640x360.mp4: 224x384 (no detections), 26.3ms\n",
      "video 1/1 (frame 1809/2731) c:\\Users\\thoma\\Documents\\GitHub\\follow_target\\videos\\testvideo_1_640x360.mp4: 224x384 (no detections), 25.9ms\n",
      "video 1/1 (frame 1810/2731) c:\\Users\\thoma\\Documents\\GitHub\\follow_target\\videos\\testvideo_1_640x360.mp4: 224x384 1 Target, 27.2ms\n",
      "video 1/1 (frame 1811/2731) c:\\Users\\thoma\\Documents\\GitHub\\follow_target\\videos\\testvideo_1_640x360.mp4: 224x384 (no detections), 27.8ms\n",
      "video 1/1 (frame 1812/2731) c:\\Users\\thoma\\Documents\\GitHub\\follow_target\\videos\\testvideo_1_640x360.mp4: 224x384 1 Target, 24.9ms\n",
      "video 1/1 (frame 1813/2731) c:\\Users\\thoma\\Documents\\GitHub\\follow_target\\videos\\testvideo_1_640x360.mp4: 224x384 1 Target, 26.5ms\n",
      "video 1/1 (frame 1814/2731) c:\\Users\\thoma\\Documents\\GitHub\\follow_target\\videos\\testvideo_1_640x360.mp4: 224x384 1 Target, 24.1ms\n",
      "video 1/1 (frame 1815/2731) c:\\Users\\thoma\\Documents\\GitHub\\follow_target\\videos\\testvideo_1_640x360.mp4: 224x384 1 Target, 26.0ms\n",
      "video 1/1 (frame 1816/2731) c:\\Users\\thoma\\Documents\\GitHub\\follow_target\\videos\\testvideo_1_640x360.mp4: 224x384 1 Target, 27.3ms\n",
      "video 1/1 (frame 1817/2731) c:\\Users\\thoma\\Documents\\GitHub\\follow_target\\videos\\testvideo_1_640x360.mp4: 224x384 1 Target, 41.2ms\n",
      "video 1/1 (frame 1818/2731) c:\\Users\\thoma\\Documents\\GitHub\\follow_target\\videos\\testvideo_1_640x360.mp4: 224x384 1 Target, 30.3ms\n",
      "video 1/1 (frame 1819/2731) c:\\Users\\thoma\\Documents\\GitHub\\follow_target\\videos\\testvideo_1_640x360.mp4: 224x384 1 Target, 29.1ms\n",
      "video 1/1 (frame 1820/2731) c:\\Users\\thoma\\Documents\\GitHub\\follow_target\\videos\\testvideo_1_640x360.mp4: 224x384 1 Target, 25.5ms\n",
      "video 1/1 (frame 1821/2731) c:\\Users\\thoma\\Documents\\GitHub\\follow_target\\videos\\testvideo_1_640x360.mp4: 224x384 1 Target, 24.8ms\n",
      "video 1/1 (frame 1822/2731) c:\\Users\\thoma\\Documents\\GitHub\\follow_target\\videos\\testvideo_1_640x360.mp4: 224x384 1 Target, 25.4ms\n",
      "video 1/1 (frame 1823/2731) c:\\Users\\thoma\\Documents\\GitHub\\follow_target\\videos\\testvideo_1_640x360.mp4: 224x384 1 Target, 21.7ms\n",
      "video 1/1 (frame 1824/2731) c:\\Users\\thoma\\Documents\\GitHub\\follow_target\\videos\\testvideo_1_640x360.mp4: 224x384 1 Target, 26.1ms\n",
      "video 1/1 (frame 1825/2731) c:\\Users\\thoma\\Documents\\GitHub\\follow_target\\videos\\testvideo_1_640x360.mp4: 224x384 1 Target, 20.7ms\n",
      "video 1/1 (frame 1826/2731) c:\\Users\\thoma\\Documents\\GitHub\\follow_target\\videos\\testvideo_1_640x360.mp4: 224x384 1 Target, 25.4ms\n",
      "video 1/1 (frame 1827/2731) c:\\Users\\thoma\\Documents\\GitHub\\follow_target\\videos\\testvideo_1_640x360.mp4: 224x384 1 Target, 32.1ms\n",
      "video 1/1 (frame 1828/2731) c:\\Users\\thoma\\Documents\\GitHub\\follow_target\\videos\\testvideo_1_640x360.mp4: 224x384 1 Target, 25.6ms\n",
      "video 1/1 (frame 1829/2731) c:\\Users\\thoma\\Documents\\GitHub\\follow_target\\videos\\testvideo_1_640x360.mp4: 224x384 1 Target, 26.9ms\n",
      "video 1/1 (frame 1830/2731) c:\\Users\\thoma\\Documents\\GitHub\\follow_target\\videos\\testvideo_1_640x360.mp4: 224x384 1 Target, 27.7ms\n",
      "video 1/1 (frame 1831/2731) c:\\Users\\thoma\\Documents\\GitHub\\follow_target\\videos\\testvideo_1_640x360.mp4: 224x384 1 Target, 25.5ms\n",
      "video 1/1 (frame 1832/2731) c:\\Users\\thoma\\Documents\\GitHub\\follow_target\\videos\\testvideo_1_640x360.mp4: 224x384 (no detections), 26.6ms\n",
      "video 1/1 (frame 1833/2731) c:\\Users\\thoma\\Documents\\GitHub\\follow_target\\videos\\testvideo_1_640x360.mp4: 224x384 (no detections), 27.1ms\n",
      "video 1/1 (frame 1834/2731) c:\\Users\\thoma\\Documents\\GitHub\\follow_target\\videos\\testvideo_1_640x360.mp4: 224x384 1 Target, 24.8ms\n",
      "video 1/1 (frame 1835/2731) c:\\Users\\thoma\\Documents\\GitHub\\follow_target\\videos\\testvideo_1_640x360.mp4: 224x384 1 Target, 30.9ms\n",
      "video 1/1 (frame 1836/2731) c:\\Users\\thoma\\Documents\\GitHub\\follow_target\\videos\\testvideo_1_640x360.mp4: 224x384 1 Target, 24.0ms\n",
      "video 1/1 (frame 1837/2731) c:\\Users\\thoma\\Documents\\GitHub\\follow_target\\videos\\testvideo_1_640x360.mp4: 224x384 1 Target, 25.0ms\n",
      "video 1/1 (frame 1838/2731) c:\\Users\\thoma\\Documents\\GitHub\\follow_target\\videos\\testvideo_1_640x360.mp4: 224x384 1 Target, 24.9ms\n",
      "video 1/1 (frame 1839/2731) c:\\Users\\thoma\\Documents\\GitHub\\follow_target\\videos\\testvideo_1_640x360.mp4: 224x384 1 Target, 22.4ms\n",
      "video 1/1 (frame 1840/2731) c:\\Users\\thoma\\Documents\\GitHub\\follow_target\\videos\\testvideo_1_640x360.mp4: 224x384 1 Target, 25.7ms\n",
      "video 1/1 (frame 1841/2731) c:\\Users\\thoma\\Documents\\GitHub\\follow_target\\videos\\testvideo_1_640x360.mp4: 224x384 (no detections), 26.4ms\n",
      "video 1/1 (frame 1842/2731) c:\\Users\\thoma\\Documents\\GitHub\\follow_target\\videos\\testvideo_1_640x360.mp4: 224x384 (no detections), 27.7ms\n",
      "video 1/1 (frame 1843/2731) c:\\Users\\thoma\\Documents\\GitHub\\follow_target\\videos\\testvideo_1_640x360.mp4: 224x384 (no detections), 29.0ms\n",
      "video 1/1 (frame 1844/2731) c:\\Users\\thoma\\Documents\\GitHub\\follow_target\\videos\\testvideo_1_640x360.mp4: 224x384 1 Target, 25.4ms\n",
      "video 1/1 (frame 1845/2731) c:\\Users\\thoma\\Documents\\GitHub\\follow_target\\videos\\testvideo_1_640x360.mp4: 224x384 1 Target, 25.0ms\n",
      "video 1/1 (frame 1846/2731) c:\\Users\\thoma\\Documents\\GitHub\\follow_target\\videos\\testvideo_1_640x360.mp4: 224x384 1 Target, 26.3ms\n",
      "video 1/1 (frame 1847/2731) c:\\Users\\thoma\\Documents\\GitHub\\follow_target\\videos\\testvideo_1_640x360.mp4: 224x384 1 Target, 22.9ms\n",
      "video 1/1 (frame 1848/2731) c:\\Users\\thoma\\Documents\\GitHub\\follow_target\\videos\\testvideo_1_640x360.mp4: 224x384 1 Target, 26.4ms\n",
      "video 1/1 (frame 1849/2731) c:\\Users\\thoma\\Documents\\GitHub\\follow_target\\videos\\testvideo_1_640x360.mp4: 224x384 1 Target, 25.4ms\n",
      "video 1/1 (frame 1850/2731) c:\\Users\\thoma\\Documents\\GitHub\\follow_target\\videos\\testvideo_1_640x360.mp4: 224x384 1 Target, 26.2ms\n",
      "video 1/1 (frame 1851/2731) c:\\Users\\thoma\\Documents\\GitHub\\follow_target\\videos\\testvideo_1_640x360.mp4: 224x384 1 Target, 25.8ms\n",
      "video 1/1 (frame 1852/2731) c:\\Users\\thoma\\Documents\\GitHub\\follow_target\\videos\\testvideo_1_640x360.mp4: 224x384 1 Target, 24.4ms\n",
      "video 1/1 (frame 1853/2731) c:\\Users\\thoma\\Documents\\GitHub\\follow_target\\videos\\testvideo_1_640x360.mp4: 224x384 1 Target, 26.4ms\n",
      "video 1/1 (frame 1854/2731) c:\\Users\\thoma\\Documents\\GitHub\\follow_target\\videos\\testvideo_1_640x360.mp4: 224x384 1 Target, 23.8ms\n",
      "video 1/1 (frame 1855/2731) c:\\Users\\thoma\\Documents\\GitHub\\follow_target\\videos\\testvideo_1_640x360.mp4: 224x384 1 Target, 25.5ms\n",
      "video 1/1 (frame 1856/2731) c:\\Users\\thoma\\Documents\\GitHub\\follow_target\\videos\\testvideo_1_640x360.mp4: 224x384 1 Target, 24.5ms\n",
      "video 1/1 (frame 1857/2731) c:\\Users\\thoma\\Documents\\GitHub\\follow_target\\videos\\testvideo_1_640x360.mp4: 224x384 1 Target, 29.5ms\n",
      "video 1/1 (frame 1858/2731) c:\\Users\\thoma\\Documents\\GitHub\\follow_target\\videos\\testvideo_1_640x360.mp4: 224x384 1 Target, 26.9ms\n",
      "video 1/1 (frame 1859/2731) c:\\Users\\thoma\\Documents\\GitHub\\follow_target\\videos\\testvideo_1_640x360.mp4: 224x384 1 Target, 41.5ms\n",
      "video 1/1 (frame 1860/2731) c:\\Users\\thoma\\Documents\\GitHub\\follow_target\\videos\\testvideo_1_640x360.mp4: 224x384 1 Target, 24.2ms\n",
      "video 1/1 (frame 1861/2731) c:\\Users\\thoma\\Documents\\GitHub\\follow_target\\videos\\testvideo_1_640x360.mp4: 224x384 1 Target, 24.3ms\n",
      "video 1/1 (frame 1862/2731) c:\\Users\\thoma\\Documents\\GitHub\\follow_target\\videos\\testvideo_1_640x360.mp4: 224x384 1 Target, 25.3ms\n",
      "video 1/1 (frame 1863/2731) c:\\Users\\thoma\\Documents\\GitHub\\follow_target\\videos\\testvideo_1_640x360.mp4: 224x384 1 Target, 25.7ms\n",
      "video 1/1 (frame 1864/2731) c:\\Users\\thoma\\Documents\\GitHub\\follow_target\\videos\\testvideo_1_640x360.mp4: 224x384 1 Target, 26.7ms\n",
      "video 1/1 (frame 1865/2731) c:\\Users\\thoma\\Documents\\GitHub\\follow_target\\videos\\testvideo_1_640x360.mp4: 224x384 1 Target, 24.5ms\n",
      "video 1/1 (frame 1866/2731) c:\\Users\\thoma\\Documents\\GitHub\\follow_target\\videos\\testvideo_1_640x360.mp4: 224x384 1 Target, 27.1ms\n",
      "video 1/1 (frame 1867/2731) c:\\Users\\thoma\\Documents\\GitHub\\follow_target\\videos\\testvideo_1_640x360.mp4: 224x384 1 Target, 28.0ms\n",
      "video 1/1 (frame 1868/2731) c:\\Users\\thoma\\Documents\\GitHub\\follow_target\\videos\\testvideo_1_640x360.mp4: 224x384 1 Target, 26.0ms\n",
      "video 1/1 (frame 1869/2731) c:\\Users\\thoma\\Documents\\GitHub\\follow_target\\videos\\testvideo_1_640x360.mp4: 224x384 1 Target, 25.0ms\n",
      "video 1/1 (frame 1870/2731) c:\\Users\\thoma\\Documents\\GitHub\\follow_target\\videos\\testvideo_1_640x360.mp4: 224x384 1 Target, 24.2ms\n",
      "video 1/1 (frame 1871/2731) c:\\Users\\thoma\\Documents\\GitHub\\follow_target\\videos\\testvideo_1_640x360.mp4: 224x384 1 Target, 30.5ms\n",
      "video 1/1 (frame 1872/2731) c:\\Users\\thoma\\Documents\\GitHub\\follow_target\\videos\\testvideo_1_640x360.mp4: 224x384 1 Target, 26.6ms\n",
      "video 1/1 (frame 1873/2731) c:\\Users\\thoma\\Documents\\GitHub\\follow_target\\videos\\testvideo_1_640x360.mp4: 224x384 1 Target, 20.8ms\n",
      "video 1/1 (frame 1874/2731) c:\\Users\\thoma\\Documents\\GitHub\\follow_target\\videos\\testvideo_1_640x360.mp4: 224x384 1 Target, 30.1ms\n",
      "video 1/1 (frame 1875/2731) c:\\Users\\thoma\\Documents\\GitHub\\follow_target\\videos\\testvideo_1_640x360.mp4: 224x384 1 Target, 26.3ms\n",
      "video 1/1 (frame 1876/2731) c:\\Users\\thoma\\Documents\\GitHub\\follow_target\\videos\\testvideo_1_640x360.mp4: 224x384 1 Target, 22.9ms\n",
      "video 1/1 (frame 1877/2731) c:\\Users\\thoma\\Documents\\GitHub\\follow_target\\videos\\testvideo_1_640x360.mp4: 224x384 1 Target, 27.6ms\n",
      "video 1/1 (frame 1878/2731) c:\\Users\\thoma\\Documents\\GitHub\\follow_target\\videos\\testvideo_1_640x360.mp4: 224x384 1 Target, 26.7ms\n",
      "video 1/1 (frame 1879/2731) c:\\Users\\thoma\\Documents\\GitHub\\follow_target\\videos\\testvideo_1_640x360.mp4: 224x384 1 Target, 24.2ms\n",
      "video 1/1 (frame 1880/2731) c:\\Users\\thoma\\Documents\\GitHub\\follow_target\\videos\\testvideo_1_640x360.mp4: 224x384 1 Target, 24.9ms\n",
      "video 1/1 (frame 1881/2731) c:\\Users\\thoma\\Documents\\GitHub\\follow_target\\videos\\testvideo_1_640x360.mp4: 224x384 1 Target, 29.4ms\n",
      "video 1/1 (frame 1882/2731) c:\\Users\\thoma\\Documents\\GitHub\\follow_target\\videos\\testvideo_1_640x360.mp4: 224x384 1 Target, 25.9ms\n",
      "video 1/1 (frame 1883/2731) c:\\Users\\thoma\\Documents\\GitHub\\follow_target\\videos\\testvideo_1_640x360.mp4: 224x384 1 Target, 25.3ms\n",
      "video 1/1 (frame 1884/2731) c:\\Users\\thoma\\Documents\\GitHub\\follow_target\\videos\\testvideo_1_640x360.mp4: 224x384 1 Target, 27.1ms\n",
      "video 1/1 (frame 1885/2731) c:\\Users\\thoma\\Documents\\GitHub\\follow_target\\videos\\testvideo_1_640x360.mp4: 224x384 1 Target, 29.2ms\n",
      "video 1/1 (frame 1886/2731) c:\\Users\\thoma\\Documents\\GitHub\\follow_target\\videos\\testvideo_1_640x360.mp4: 224x384 1 Target, 25.9ms\n",
      "video 1/1 (frame 1887/2731) c:\\Users\\thoma\\Documents\\GitHub\\follow_target\\videos\\testvideo_1_640x360.mp4: 224x384 1 Target, 27.4ms\n",
      "video 1/1 (frame 1888/2731) c:\\Users\\thoma\\Documents\\GitHub\\follow_target\\videos\\testvideo_1_640x360.mp4: 224x384 1 Target, 29.1ms\n",
      "video 1/1 (frame 1889/2731) c:\\Users\\thoma\\Documents\\GitHub\\follow_target\\videos\\testvideo_1_640x360.mp4: 224x384 1 Target, 26.2ms\n",
      "video 1/1 (frame 1890/2731) c:\\Users\\thoma\\Documents\\GitHub\\follow_target\\videos\\testvideo_1_640x360.mp4: 224x384 1 Target, 25.3ms\n",
      "video 1/1 (frame 1891/2731) c:\\Users\\thoma\\Documents\\GitHub\\follow_target\\videos\\testvideo_1_640x360.mp4: 224x384 1 Target, 25.0ms\n",
      "video 1/1 (frame 1892/2731) c:\\Users\\thoma\\Documents\\GitHub\\follow_target\\videos\\testvideo_1_640x360.mp4: 224x384 1 Target, 29.8ms\n",
      "video 1/1 (frame 1893/2731) c:\\Users\\thoma\\Documents\\GitHub\\follow_target\\videos\\testvideo_1_640x360.mp4: 224x384 1 Target, 25.6ms\n",
      "video 1/1 (frame 1894/2731) c:\\Users\\thoma\\Documents\\GitHub\\follow_target\\videos\\testvideo_1_640x360.mp4: 224x384 1 Target, 27.1ms\n",
      "video 1/1 (frame 1895/2731) c:\\Users\\thoma\\Documents\\GitHub\\follow_target\\videos\\testvideo_1_640x360.mp4: 224x384 1 Target, 25.1ms\n",
      "video 1/1 (frame 1896/2731) c:\\Users\\thoma\\Documents\\GitHub\\follow_target\\videos\\testvideo_1_640x360.mp4: 224x384 1 Target, 43.3ms\n",
      "video 1/1 (frame 1897/2731) c:\\Users\\thoma\\Documents\\GitHub\\follow_target\\videos\\testvideo_1_640x360.mp4: 224x384 1 Target, 30.9ms\n",
      "video 1/1 (frame 1898/2731) c:\\Users\\thoma\\Documents\\GitHub\\follow_target\\videos\\testvideo_1_640x360.mp4: 224x384 1 Target, 28.0ms\n",
      "video 1/1 (frame 1899/2731) c:\\Users\\thoma\\Documents\\GitHub\\follow_target\\videos\\testvideo_1_640x360.mp4: 224x384 1 Target, 26.6ms\n",
      "video 1/1 (frame 1900/2731) c:\\Users\\thoma\\Documents\\GitHub\\follow_target\\videos\\testvideo_1_640x360.mp4: 224x384 1 Target, 25.3ms\n",
      "video 1/1 (frame 1901/2731) c:\\Users\\thoma\\Documents\\GitHub\\follow_target\\videos\\testvideo_1_640x360.mp4: 224x384 1 Target, 25.7ms\n",
      "video 1/1 (frame 1902/2731) c:\\Users\\thoma\\Documents\\GitHub\\follow_target\\videos\\testvideo_1_640x360.mp4: 224x384 1 Target, 29.7ms\n",
      "video 1/1 (frame 1903/2731) c:\\Users\\thoma\\Documents\\GitHub\\follow_target\\videos\\testvideo_1_640x360.mp4: 224x384 1 Target, 25.0ms\n",
      "video 1/1 (frame 1904/2731) c:\\Users\\thoma\\Documents\\GitHub\\follow_target\\videos\\testvideo_1_640x360.mp4: 224x384 1 Target, 27.9ms\n",
      "video 1/1 (frame 1905/2731) c:\\Users\\thoma\\Documents\\GitHub\\follow_target\\videos\\testvideo_1_640x360.mp4: 224x384 1 Target, 26.9ms\n",
      "video 1/1 (frame 1906/2731) c:\\Users\\thoma\\Documents\\GitHub\\follow_target\\videos\\testvideo_1_640x360.mp4: 224x384 1 Target, 25.0ms\n",
      "video 1/1 (frame 1907/2731) c:\\Users\\thoma\\Documents\\GitHub\\follow_target\\videos\\testvideo_1_640x360.mp4: 224x384 1 Target, 27.5ms\n",
      "video 1/1 (frame 1908/2731) c:\\Users\\thoma\\Documents\\GitHub\\follow_target\\videos\\testvideo_1_640x360.mp4: 224x384 1 Target, 26.7ms\n",
      "video 1/1 (frame 1909/2731) c:\\Users\\thoma\\Documents\\GitHub\\follow_target\\videos\\testvideo_1_640x360.mp4: 224x384 1 Target, 28.1ms\n",
      "video 1/1 (frame 1910/2731) c:\\Users\\thoma\\Documents\\GitHub\\follow_target\\videos\\testvideo_1_640x360.mp4: 224x384 1 Target, 24.2ms\n",
      "video 1/1 (frame 1911/2731) c:\\Users\\thoma\\Documents\\GitHub\\follow_target\\videos\\testvideo_1_640x360.mp4: 224x384 1 Target, 24.9ms\n",
      "video 1/1 (frame 1912/2731) c:\\Users\\thoma\\Documents\\GitHub\\follow_target\\videos\\testvideo_1_640x360.mp4: 224x384 1 Target, 26.7ms\n",
      "video 1/1 (frame 1913/2731) c:\\Users\\thoma\\Documents\\GitHub\\follow_target\\videos\\testvideo_1_640x360.mp4: 224x384 1 Target, 28.4ms\n",
      "video 1/1 (frame 1914/2731) c:\\Users\\thoma\\Documents\\GitHub\\follow_target\\videos\\testvideo_1_640x360.mp4: 224x384 1 Target, 27.0ms\n",
      "video 1/1 (frame 1915/2731) c:\\Users\\thoma\\Documents\\GitHub\\follow_target\\videos\\testvideo_1_640x360.mp4: 224x384 1 Target, 24.2ms\n",
      "video 1/1 (frame 1916/2731) c:\\Users\\thoma\\Documents\\GitHub\\follow_target\\videos\\testvideo_1_640x360.mp4: 224x384 1 Target, 26.1ms\n",
      "video 1/1 (frame 1917/2731) c:\\Users\\thoma\\Documents\\GitHub\\follow_target\\videos\\testvideo_1_640x360.mp4: 224x384 1 Target, 28.6ms\n",
      "video 1/1 (frame 1918/2731) c:\\Users\\thoma\\Documents\\GitHub\\follow_target\\videos\\testvideo_1_640x360.mp4: 224x384 1 Target, 25.3ms\n",
      "video 1/1 (frame 1919/2731) c:\\Users\\thoma\\Documents\\GitHub\\follow_target\\videos\\testvideo_1_640x360.mp4: 224x384 1 Target, 24.5ms\n",
      "video 1/1 (frame 1920/2731) c:\\Users\\thoma\\Documents\\GitHub\\follow_target\\videos\\testvideo_1_640x360.mp4: 224x384 1 Target, 27.9ms\n",
      "video 1/1 (frame 1921/2731) c:\\Users\\thoma\\Documents\\GitHub\\follow_target\\videos\\testvideo_1_640x360.mp4: 224x384 1 Target, 25.5ms\n",
      "video 1/1 (frame 1922/2731) c:\\Users\\thoma\\Documents\\GitHub\\follow_target\\videos\\testvideo_1_640x360.mp4: 224x384 1 Target, 25.0ms\n",
      "video 1/1 (frame 1923/2731) c:\\Users\\thoma\\Documents\\GitHub\\follow_target\\videos\\testvideo_1_640x360.mp4: 224x384 1 Target, 29.8ms\n",
      "video 1/1 (frame 1924/2731) c:\\Users\\thoma\\Documents\\GitHub\\follow_target\\videos\\testvideo_1_640x360.mp4: 224x384 1 Target, 26.3ms\n",
      "video 1/1 (frame 1925/2731) c:\\Users\\thoma\\Documents\\GitHub\\follow_target\\videos\\testvideo_1_640x360.mp4: 224x384 1 Target, 27.1ms\n",
      "video 1/1 (frame 1926/2731) c:\\Users\\thoma\\Documents\\GitHub\\follow_target\\videos\\testvideo_1_640x360.mp4: 224x384 1 Target, 27.8ms\n",
      "video 1/1 (frame 1927/2731) c:\\Users\\thoma\\Documents\\GitHub\\follow_target\\videos\\testvideo_1_640x360.mp4: 224x384 1 Target, 25.9ms\n",
      "video 1/1 (frame 1928/2731) c:\\Users\\thoma\\Documents\\GitHub\\follow_target\\videos\\testvideo_1_640x360.mp4: 224x384 1 Target, 30.2ms\n",
      "video 1/1 (frame 1929/2731) c:\\Users\\thoma\\Documents\\GitHub\\follow_target\\videos\\testvideo_1_640x360.mp4: 224x384 1 Target, 26.1ms\n",
      "video 1/1 (frame 1930/2731) c:\\Users\\thoma\\Documents\\GitHub\\follow_target\\videos\\testvideo_1_640x360.mp4: 224x384 1 Target, 30.3ms\n",
      "video 1/1 (frame 1931/2731) c:\\Users\\thoma\\Documents\\GitHub\\follow_target\\videos\\testvideo_1_640x360.mp4: 224x384 1 Target, 26.1ms\n",
      "video 1/1 (frame 1932/2731) c:\\Users\\thoma\\Documents\\GitHub\\follow_target\\videos\\testvideo_1_640x360.mp4: 224x384 1 Target, 27.1ms\n",
      "video 1/1 (frame 1933/2731) c:\\Users\\thoma\\Documents\\GitHub\\follow_target\\videos\\testvideo_1_640x360.mp4: 224x384 1 Target, 25.7ms\n",
      "video 1/1 (frame 1934/2731) c:\\Users\\thoma\\Documents\\GitHub\\follow_target\\videos\\testvideo_1_640x360.mp4: 224x384 1 Target, 26.7ms\n",
      "video 1/1 (frame 1935/2731) c:\\Users\\thoma\\Documents\\GitHub\\follow_target\\videos\\testvideo_1_640x360.mp4: 224x384 1 Target, 22.6ms\n",
      "video 1/1 (frame 1936/2731) c:\\Users\\thoma\\Documents\\GitHub\\follow_target\\videos\\testvideo_1_640x360.mp4: 224x384 1 Target, 35.3ms\n",
      "video 1/1 (frame 1937/2731) c:\\Users\\thoma\\Documents\\GitHub\\follow_target\\videos\\testvideo_1_640x360.mp4: 224x384 1 Target, 35.6ms\n",
      "video 1/1 (frame 1938/2731) c:\\Users\\thoma\\Documents\\GitHub\\follow_target\\videos\\testvideo_1_640x360.mp4: 224x384 1 Target, 26.2ms\n",
      "video 1/1 (frame 1939/2731) c:\\Users\\thoma\\Documents\\GitHub\\follow_target\\videos\\testvideo_1_640x360.mp4: 224x384 1 Target, 24.9ms\n",
      "video 1/1 (frame 1940/2731) c:\\Users\\thoma\\Documents\\GitHub\\follow_target\\videos\\testvideo_1_640x360.mp4: 224x384 1 Target, 24.2ms\n",
      "video 1/1 (frame 1941/2731) c:\\Users\\thoma\\Documents\\GitHub\\follow_target\\videos\\testvideo_1_640x360.mp4: 224x384 1 Target, 27.8ms\n",
      "video 1/1 (frame 1942/2731) c:\\Users\\thoma\\Documents\\GitHub\\follow_target\\videos\\testvideo_1_640x360.mp4: 224x384 1 Target, 28.2ms\n",
      "video 1/1 (frame 1943/2731) c:\\Users\\thoma\\Documents\\GitHub\\follow_target\\videos\\testvideo_1_640x360.mp4: 224x384 1 Target, 25.4ms\n",
      "video 1/1 (frame 1944/2731) c:\\Users\\thoma\\Documents\\GitHub\\follow_target\\videos\\testvideo_1_640x360.mp4: 224x384 1 Target, 29.4ms\n",
      "video 1/1 (frame 1945/2731) c:\\Users\\thoma\\Documents\\GitHub\\follow_target\\videos\\testvideo_1_640x360.mp4: 224x384 1 Target, 27.1ms\n",
      "video 1/1 (frame 1946/2731) c:\\Users\\thoma\\Documents\\GitHub\\follow_target\\videos\\testvideo_1_640x360.mp4: 224x384 1 Target, 27.9ms\n",
      "video 1/1 (frame 1947/2731) c:\\Users\\thoma\\Documents\\GitHub\\follow_target\\videos\\testvideo_1_640x360.mp4: 224x384 1 Target, 27.2ms\n",
      "video 1/1 (frame 1948/2731) c:\\Users\\thoma\\Documents\\GitHub\\follow_target\\videos\\testvideo_1_640x360.mp4: 224x384 1 Target, 26.4ms\n",
      "video 1/1 (frame 1949/2731) c:\\Users\\thoma\\Documents\\GitHub\\follow_target\\videos\\testvideo_1_640x360.mp4: 224x384 1 Target, 25.9ms\n",
      "video 1/1 (frame 1950/2731) c:\\Users\\thoma\\Documents\\GitHub\\follow_target\\videos\\testvideo_1_640x360.mp4: 224x384 1 Target, 28.1ms\n",
      "video 1/1 (frame 1951/2731) c:\\Users\\thoma\\Documents\\GitHub\\follow_target\\videos\\testvideo_1_640x360.mp4: 224x384 1 Target, 30.5ms\n",
      "video 1/1 (frame 1952/2731) c:\\Users\\thoma\\Documents\\GitHub\\follow_target\\videos\\testvideo_1_640x360.mp4: 224x384 1 Target, 24.2ms\n",
      "video 1/1 (frame 1953/2731) c:\\Users\\thoma\\Documents\\GitHub\\follow_target\\videos\\testvideo_1_640x360.mp4: 224x384 1 Target, 24.8ms\n",
      "video 1/1 (frame 1954/2731) c:\\Users\\thoma\\Documents\\GitHub\\follow_target\\videos\\testvideo_1_640x360.mp4: 224x384 1 Target, 26.9ms\n",
      "video 1/1 (frame 1955/2731) c:\\Users\\thoma\\Documents\\GitHub\\follow_target\\videos\\testvideo_1_640x360.mp4: 224x384 1 Target, 30.2ms\n",
      "video 1/1 (frame 1956/2731) c:\\Users\\thoma\\Documents\\GitHub\\follow_target\\videos\\testvideo_1_640x360.mp4: 224x384 1 Target, 26.1ms\n",
      "video 1/1 (frame 1957/2731) c:\\Users\\thoma\\Documents\\GitHub\\follow_target\\videos\\testvideo_1_640x360.mp4: 224x384 1 Target, 24.3ms\n",
      "video 1/1 (frame 1958/2731) c:\\Users\\thoma\\Documents\\GitHub\\follow_target\\videos\\testvideo_1_640x360.mp4: 224x384 1 Target, 23.7ms\n",
      "video 1/1 (frame 1959/2731) c:\\Users\\thoma\\Documents\\GitHub\\follow_target\\videos\\testvideo_1_640x360.mp4: 224x384 1 Target, 29.1ms\n",
      "video 1/1 (frame 1960/2731) c:\\Users\\thoma\\Documents\\GitHub\\follow_target\\videos\\testvideo_1_640x360.mp4: 224x384 1 Target, 26.7ms\n",
      "video 1/1 (frame 1961/2731) c:\\Users\\thoma\\Documents\\GitHub\\follow_target\\videos\\testvideo_1_640x360.mp4: 224x384 1 Target, 25.4ms\n",
      "video 1/1 (frame 1962/2731) c:\\Users\\thoma\\Documents\\GitHub\\follow_target\\videos\\testvideo_1_640x360.mp4: 224x384 1 Target, 29.9ms\n",
      "video 1/1 (frame 1963/2731) c:\\Users\\thoma\\Documents\\GitHub\\follow_target\\videos\\testvideo_1_640x360.mp4: 224x384 1 Target, 25.3ms\n",
      "video 1/1 (frame 1964/2731) c:\\Users\\thoma\\Documents\\GitHub\\follow_target\\videos\\testvideo_1_640x360.mp4: 224x384 (no detections), 25.8ms\n",
      "video 1/1 (frame 1965/2731) c:\\Users\\thoma\\Documents\\GitHub\\follow_target\\videos\\testvideo_1_640x360.mp4: 224x384 1 Target, 25.2ms\n",
      "video 1/1 (frame 1966/2731) c:\\Users\\thoma\\Documents\\GitHub\\follow_target\\videos\\testvideo_1_640x360.mp4: 224x384 (no detections), 22.5ms\n",
      "video 1/1 (frame 1967/2731) c:\\Users\\thoma\\Documents\\GitHub\\follow_target\\videos\\testvideo_1_640x360.mp4: 224x384 1 Target, 31.5ms\n",
      "video 1/1 (frame 1968/2731) c:\\Users\\thoma\\Documents\\GitHub\\follow_target\\videos\\testvideo_1_640x360.mp4: 224x384 (no detections), 25.9ms\n",
      "video 1/1 (frame 1969/2731) c:\\Users\\thoma\\Documents\\GitHub\\follow_target\\videos\\testvideo_1_640x360.mp4: 224x384 (no detections), 28.5ms\n",
      "video 1/1 (frame 1970/2731) c:\\Users\\thoma\\Documents\\GitHub\\follow_target\\videos\\testvideo_1_640x360.mp4: 224x384 1 Target, 27.6ms\n",
      "video 1/1 (frame 1971/2731) c:\\Users\\thoma\\Documents\\GitHub\\follow_target\\videos\\testvideo_1_640x360.mp4: 224x384 1 Target, 26.9ms\n",
      "video 1/1 (frame 1972/2731) c:\\Users\\thoma\\Documents\\GitHub\\follow_target\\videos\\testvideo_1_640x360.mp4: 224x384 1 Target, 26.2ms\n",
      "video 1/1 (frame 1973/2731) c:\\Users\\thoma\\Documents\\GitHub\\follow_target\\videos\\testvideo_1_640x360.mp4: 224x384 1 Target, 26.2ms\n",
      "video 1/1 (frame 1974/2731) c:\\Users\\thoma\\Documents\\GitHub\\follow_target\\videos\\testvideo_1_640x360.mp4: 224x384 1 Target, 26.5ms\n",
      "video 1/1 (frame 1975/2731) c:\\Users\\thoma\\Documents\\GitHub\\follow_target\\videos\\testvideo_1_640x360.mp4: 224x384 1 Target, 23.4ms\n",
      "video 1/1 (frame 1976/2731) c:\\Users\\thoma\\Documents\\GitHub\\follow_target\\videos\\testvideo_1_640x360.mp4: 224x384 1 Target, 36.9ms\n",
      "video 1/1 (frame 1977/2731) c:\\Users\\thoma\\Documents\\GitHub\\follow_target\\videos\\testvideo_1_640x360.mp4: 224x384 1 Target, 30.1ms\n",
      "video 1/1 (frame 1978/2731) c:\\Users\\thoma\\Documents\\GitHub\\follow_target\\videos\\testvideo_1_640x360.mp4: 224x384 1 Target, 24.7ms\n",
      "video 1/1 (frame 1979/2731) c:\\Users\\thoma\\Documents\\GitHub\\follow_target\\videos\\testvideo_1_640x360.mp4: 224x384 1 Target, 24.6ms\n",
      "video 1/1 (frame 1980/2731) c:\\Users\\thoma\\Documents\\GitHub\\follow_target\\videos\\testvideo_1_640x360.mp4: 224x384 1 Target, 28.7ms\n",
      "video 1/1 (frame 1981/2731) c:\\Users\\thoma\\Documents\\GitHub\\follow_target\\videos\\testvideo_1_640x360.mp4: 224x384 1 Target, 25.0ms\n",
      "video 1/1 (frame 1982/2731) c:\\Users\\thoma\\Documents\\GitHub\\follow_target\\videos\\testvideo_1_640x360.mp4: 224x384 1 Target, 27.6ms\n",
      "video 1/1 (frame 1983/2731) c:\\Users\\thoma\\Documents\\GitHub\\follow_target\\videos\\testvideo_1_640x360.mp4: 224x384 1 Target, 25.7ms\n",
      "video 1/1 (frame 1984/2731) c:\\Users\\thoma\\Documents\\GitHub\\follow_target\\videos\\testvideo_1_640x360.mp4: 224x384 1 Target, 27.9ms\n",
      "video 1/1 (frame 1985/2731) c:\\Users\\thoma\\Documents\\GitHub\\follow_target\\videos\\testvideo_1_640x360.mp4: 224x384 1 Target, 24.4ms\n",
      "video 1/1 (frame 1986/2731) c:\\Users\\thoma\\Documents\\GitHub\\follow_target\\videos\\testvideo_1_640x360.mp4: 224x384 1 Target, 24.2ms\n",
      "video 1/1 (frame 1987/2731) c:\\Users\\thoma\\Documents\\GitHub\\follow_target\\videos\\testvideo_1_640x360.mp4: 224x384 1 Target, 30.5ms\n",
      "video 1/1 (frame 1988/2731) c:\\Users\\thoma\\Documents\\GitHub\\follow_target\\videos\\testvideo_1_640x360.mp4: 224x384 1 Target, 24.7ms\n",
      "video 1/1 (frame 1989/2731) c:\\Users\\thoma\\Documents\\GitHub\\follow_target\\videos\\testvideo_1_640x360.mp4: 224x384 1 Target, 23.4ms\n",
      "video 1/1 (frame 1990/2731) c:\\Users\\thoma\\Documents\\GitHub\\follow_target\\videos\\testvideo_1_640x360.mp4: 224x384 1 Target, 23.3ms\n",
      "video 1/1 (frame 1991/2731) c:\\Users\\thoma\\Documents\\GitHub\\follow_target\\videos\\testvideo_1_640x360.mp4: 224x384 1 Target, 27.4ms\n",
      "video 1/1 (frame 1992/2731) c:\\Users\\thoma\\Documents\\GitHub\\follow_target\\videos\\testvideo_1_640x360.mp4: 224x384 1 Target, 25.7ms\n",
      "video 1/1 (frame 1993/2731) c:\\Users\\thoma\\Documents\\GitHub\\follow_target\\videos\\testvideo_1_640x360.mp4: 224x384 1 Target, 24.8ms\n",
      "video 1/1 (frame 1994/2731) c:\\Users\\thoma\\Documents\\GitHub\\follow_target\\videos\\testvideo_1_640x360.mp4: 224x384 1 Target, 30.3ms\n",
      "video 1/1 (frame 1995/2731) c:\\Users\\thoma\\Documents\\GitHub\\follow_target\\videos\\testvideo_1_640x360.mp4: 224x384 1 Target, 25.6ms\n",
      "video 1/1 (frame 1996/2731) c:\\Users\\thoma\\Documents\\GitHub\\follow_target\\videos\\testvideo_1_640x360.mp4: 224x384 1 Target, 27.3ms\n",
      "video 1/1 (frame 1997/2731) c:\\Users\\thoma\\Documents\\GitHub\\follow_target\\videos\\testvideo_1_640x360.mp4: 224x384 1 Target, 26.3ms\n",
      "video 1/1 (frame 1998/2731) c:\\Users\\thoma\\Documents\\GitHub\\follow_target\\videos\\testvideo_1_640x360.mp4: 224x384 1 Target, 29.3ms\n",
      "video 1/1 (frame 1999/2731) c:\\Users\\thoma\\Documents\\GitHub\\follow_target\\videos\\testvideo_1_640x360.mp4: 224x384 1 Target, 26.4ms\n",
      "video 1/1 (frame 2000/2731) c:\\Users\\thoma\\Documents\\GitHub\\follow_target\\videos\\testvideo_1_640x360.mp4: 224x384 1 Target, 24.1ms\n",
      "video 1/1 (frame 2001/2731) c:\\Users\\thoma\\Documents\\GitHub\\follow_target\\videos\\testvideo_1_640x360.mp4: 224x384 1 Target, 28.1ms\n",
      "video 1/1 (frame 2002/2731) c:\\Users\\thoma\\Documents\\GitHub\\follow_target\\videos\\testvideo_1_640x360.mp4: 224x384 1 Target, 26.0ms\n",
      "video 1/1 (frame 2003/2731) c:\\Users\\thoma\\Documents\\GitHub\\follow_target\\videos\\testvideo_1_640x360.mp4: 224x384 1 Target, 22.0ms\n",
      "video 1/1 (frame 2004/2731) c:\\Users\\thoma\\Documents\\GitHub\\follow_target\\videos\\testvideo_1_640x360.mp4: 224x384 1 Target, 24.9ms\n",
      "video 1/1 (frame 2005/2731) c:\\Users\\thoma\\Documents\\GitHub\\follow_target\\videos\\testvideo_1_640x360.mp4: 224x384 1 Target, 26.3ms\n",
      "video 1/1 (frame 2006/2731) c:\\Users\\thoma\\Documents\\GitHub\\follow_target\\videos\\testvideo_1_640x360.mp4: 224x384 1 Target, 27.0ms\n",
      "video 1/1 (frame 2007/2731) c:\\Users\\thoma\\Documents\\GitHub\\follow_target\\videos\\testvideo_1_640x360.mp4: 224x384 1 Target, 24.5ms\n",
      "video 1/1 (frame 2008/2731) c:\\Users\\thoma\\Documents\\GitHub\\follow_target\\videos\\testvideo_1_640x360.mp4: 224x384 1 Target, 28.3ms\n",
      "video 1/1 (frame 2009/2731) c:\\Users\\thoma\\Documents\\GitHub\\follow_target\\videos\\testvideo_1_640x360.mp4: 224x384 1 Target, 24.6ms\n",
      "video 1/1 (frame 2010/2731) c:\\Users\\thoma\\Documents\\GitHub\\follow_target\\videos\\testvideo_1_640x360.mp4: 224x384 (no detections), 26.6ms\n",
      "video 1/1 (frame 2011/2731) c:\\Users\\thoma\\Documents\\GitHub\\follow_target\\videos\\testvideo_1_640x360.mp4: 224x384 1 Target, 26.5ms\n",
      "video 1/1 (frame 2012/2731) c:\\Users\\thoma\\Documents\\GitHub\\follow_target\\videos\\testvideo_1_640x360.mp4: 224x384 1 Target, 27.0ms\n",
      "video 1/1 (frame 2013/2731) c:\\Users\\thoma\\Documents\\GitHub\\follow_target\\videos\\testvideo_1_640x360.mp4: 224x384 1 Target, 28.2ms\n",
      "video 1/1 (frame 2014/2731) c:\\Users\\thoma\\Documents\\GitHub\\follow_target\\videos\\testvideo_1_640x360.mp4: 224x384 1 Target, 27.0ms\n",
      "video 1/1 (frame 2015/2731) c:\\Users\\thoma\\Documents\\GitHub\\follow_target\\videos\\testvideo_1_640x360.mp4: 224x384 1 Target, 26.3ms\n",
      "video 1/1 (frame 2016/2731) c:\\Users\\thoma\\Documents\\GitHub\\follow_target\\videos\\testvideo_1_640x360.mp4: 224x384 1 Target, 26.1ms\n",
      "video 1/1 (frame 2017/2731) c:\\Users\\thoma\\Documents\\GitHub\\follow_target\\videos\\testvideo_1_640x360.mp4: 224x384 1 Target, 46.4ms\n",
      "video 1/1 (frame 2018/2731) c:\\Users\\thoma\\Documents\\GitHub\\follow_target\\videos\\testvideo_1_640x360.mp4: 224x384 1 Target, 28.9ms\n",
      "video 1/1 (frame 2019/2731) c:\\Users\\thoma\\Documents\\GitHub\\follow_target\\videos\\testvideo_1_640x360.mp4: 224x384 1 Target, 25.6ms\n",
      "video 1/1 (frame 2020/2731) c:\\Users\\thoma\\Documents\\GitHub\\follow_target\\videos\\testvideo_1_640x360.mp4: 224x384 1 Target, 26.7ms\n",
      "video 1/1 (frame 2021/2731) c:\\Users\\thoma\\Documents\\GitHub\\follow_target\\videos\\testvideo_1_640x360.mp4: 224x384 1 Target, 24.5ms\n",
      "video 1/1 (frame 2022/2731) c:\\Users\\thoma\\Documents\\GitHub\\follow_target\\videos\\testvideo_1_640x360.mp4: 224x384 1 Target, 30.8ms\n",
      "video 1/1 (frame 2023/2731) c:\\Users\\thoma\\Documents\\GitHub\\follow_target\\videos\\testvideo_1_640x360.mp4: 224x384 1 Target, 24.6ms\n",
      "video 1/1 (frame 2024/2731) c:\\Users\\thoma\\Documents\\GitHub\\follow_target\\videos\\testvideo_1_640x360.mp4: 224x384 1 Target, 24.5ms\n",
      "video 1/1 (frame 2025/2731) c:\\Users\\thoma\\Documents\\GitHub\\follow_target\\videos\\testvideo_1_640x360.mp4: 224x384 1 Target, 27.2ms\n",
      "video 1/1 (frame 2026/2731) c:\\Users\\thoma\\Documents\\GitHub\\follow_target\\videos\\testvideo_1_640x360.mp4: 224x384 1 Target, 25.7ms\n",
      "video 1/1 (frame 2027/2731) c:\\Users\\thoma\\Documents\\GitHub\\follow_target\\videos\\testvideo_1_640x360.mp4: 224x384 1 Target, 28.3ms\n",
      "video 1/1 (frame 2028/2731) c:\\Users\\thoma\\Documents\\GitHub\\follow_target\\videos\\testvideo_1_640x360.mp4: 224x384 (no detections), 26.1ms\n",
      "video 1/1 (frame 2029/2731) c:\\Users\\thoma\\Documents\\GitHub\\follow_target\\videos\\testvideo_1_640x360.mp4: 224x384 1 Target, 30.5ms\n",
      "video 1/1 (frame 2030/2731) c:\\Users\\thoma\\Documents\\GitHub\\follow_target\\videos\\testvideo_1_640x360.mp4: 224x384 1 Target, 25.3ms\n",
      "video 1/1 (frame 2031/2731) c:\\Users\\thoma\\Documents\\GitHub\\follow_target\\videos\\testvideo_1_640x360.mp4: 224x384 1 Target, 25.7ms\n",
      "video 1/1 (frame 2032/2731) c:\\Users\\thoma\\Documents\\GitHub\\follow_target\\videos\\testvideo_1_640x360.mp4: 224x384 1 Target, 30.4ms\n",
      "video 1/1 (frame 2033/2731) c:\\Users\\thoma\\Documents\\GitHub\\follow_target\\videos\\testvideo_1_640x360.mp4: 224x384 1 Target, 24.3ms\n",
      "video 1/1 (frame 2034/2731) c:\\Users\\thoma\\Documents\\GitHub\\follow_target\\videos\\testvideo_1_640x360.mp4: 224x384 (no detections), 24.8ms\n",
      "video 1/1 (frame 2035/2731) c:\\Users\\thoma\\Documents\\GitHub\\follow_target\\videos\\testvideo_1_640x360.mp4: 224x384 (no detections), 25.7ms\n",
      "video 1/1 (frame 2036/2731) c:\\Users\\thoma\\Documents\\GitHub\\follow_target\\videos\\testvideo_1_640x360.mp4: 224x384 (no detections), 23.4ms\n",
      "video 1/1 (frame 2037/2731) c:\\Users\\thoma\\Documents\\GitHub\\follow_target\\videos\\testvideo_1_640x360.mp4: 224x384 (no detections), 30.0ms\n",
      "video 1/1 (frame 2038/2731) c:\\Users\\thoma\\Documents\\GitHub\\follow_target\\videos\\testvideo_1_640x360.mp4: 224x384 (no detections), 25.0ms\n",
      "video 1/1 (frame 2039/2731) c:\\Users\\thoma\\Documents\\GitHub\\follow_target\\videos\\testvideo_1_640x360.mp4: 224x384 (no detections), 26.2ms\n",
      "video 1/1 (frame 2040/2731) c:\\Users\\thoma\\Documents\\GitHub\\follow_target\\videos\\testvideo_1_640x360.mp4: 224x384 (no detections), 27.7ms\n",
      "video 1/1 (frame 2041/2731) c:\\Users\\thoma\\Documents\\GitHub\\follow_target\\videos\\testvideo_1_640x360.mp4: 224x384 (no detections), 24.0ms\n",
      "video 1/1 (frame 2042/2731) c:\\Users\\thoma\\Documents\\GitHub\\follow_target\\videos\\testvideo_1_640x360.mp4: 224x384 (no detections), 29.6ms\n",
      "video 1/1 (frame 2043/2731) c:\\Users\\thoma\\Documents\\GitHub\\follow_target\\videos\\testvideo_1_640x360.mp4: 224x384 (no detections), 25.6ms\n",
      "video 1/1 (frame 2044/2731) c:\\Users\\thoma\\Documents\\GitHub\\follow_target\\videos\\testvideo_1_640x360.mp4: 224x384 (no detections), 28.2ms\n",
      "video 1/1 (frame 2045/2731) c:\\Users\\thoma\\Documents\\GitHub\\follow_target\\videos\\testvideo_1_640x360.mp4: 224x384 (no detections), 26.2ms\n",
      "video 1/1 (frame 2046/2731) c:\\Users\\thoma\\Documents\\GitHub\\follow_target\\videos\\testvideo_1_640x360.mp4: 224x384 (no detections), 26.7ms\n",
      "video 1/1 (frame 2047/2731) c:\\Users\\thoma\\Documents\\GitHub\\follow_target\\videos\\testvideo_1_640x360.mp4: 224x384 (no detections), 25.7ms\n",
      "video 1/1 (frame 2048/2731) c:\\Users\\thoma\\Documents\\GitHub\\follow_target\\videos\\testvideo_1_640x360.mp4: 224x384 (no detections), 26.9ms\n",
      "video 1/1 (frame 2049/2731) c:\\Users\\thoma\\Documents\\GitHub\\follow_target\\videos\\testvideo_1_640x360.mp4: 224x384 (no detections), 26.7ms\n",
      "video 1/1 (frame 2050/2731) c:\\Users\\thoma\\Documents\\GitHub\\follow_target\\videos\\testvideo_1_640x360.mp4: 224x384 (no detections), 24.1ms\n",
      "video 1/1 (frame 2051/2731) c:\\Users\\thoma\\Documents\\GitHub\\follow_target\\videos\\testvideo_1_640x360.mp4: 224x384 (no detections), 30.1ms\n",
      "video 1/1 (frame 2052/2731) c:\\Users\\thoma\\Documents\\GitHub\\follow_target\\videos\\testvideo_1_640x360.mp4: 224x384 (no detections), 26.1ms\n",
      "video 1/1 (frame 2053/2731) c:\\Users\\thoma\\Documents\\GitHub\\follow_target\\videos\\testvideo_1_640x360.mp4: 224x384 (no detections), 36.9ms\n",
      "video 1/1 (frame 2054/2731) c:\\Users\\thoma\\Documents\\GitHub\\follow_target\\videos\\testvideo_1_640x360.mp4: 224x384 (no detections), 34.3ms\n",
      "video 1/1 (frame 2055/2731) c:\\Users\\thoma\\Documents\\GitHub\\follow_target\\videos\\testvideo_1_640x360.mp4: 224x384 (no detections), 25.7ms\n",
      "video 1/1 (frame 2056/2731) c:\\Users\\thoma\\Documents\\GitHub\\follow_target\\videos\\testvideo_1_640x360.mp4: 224x384 (no detections), 25.8ms\n",
      "video 1/1 (frame 2057/2731) c:\\Users\\thoma\\Documents\\GitHub\\follow_target\\videos\\testvideo_1_640x360.mp4: 224x384 (no detections), 25.1ms\n",
      "video 1/1 (frame 2058/2731) c:\\Users\\thoma\\Documents\\GitHub\\follow_target\\videos\\testvideo_1_640x360.mp4: 224x384 (no detections), 31.3ms\n",
      "video 1/1 (frame 2059/2731) c:\\Users\\thoma\\Documents\\GitHub\\follow_target\\videos\\testvideo_1_640x360.mp4: 224x384 (no detections), 25.4ms\n",
      "video 1/1 (frame 2060/2731) c:\\Users\\thoma\\Documents\\GitHub\\follow_target\\videos\\testvideo_1_640x360.mp4: 224x384 (no detections), 27.9ms\n",
      "video 1/1 (frame 2061/2731) c:\\Users\\thoma\\Documents\\GitHub\\follow_target\\videos\\testvideo_1_640x360.mp4: 224x384 (no detections), 30.1ms\n",
      "video 1/1 (frame 2062/2731) c:\\Users\\thoma\\Documents\\GitHub\\follow_target\\videos\\testvideo_1_640x360.mp4: 224x384 (no detections), 31.0ms\n",
      "video 1/1 (frame 2063/2731) c:\\Users\\thoma\\Documents\\GitHub\\follow_target\\videos\\testvideo_1_640x360.mp4: 224x384 (no detections), 27.6ms\n",
      "video 1/1 (frame 2064/2731) c:\\Users\\thoma\\Documents\\GitHub\\follow_target\\videos\\testvideo_1_640x360.mp4: 224x384 (no detections), 29.6ms\n",
      "video 1/1 (frame 2065/2731) c:\\Users\\thoma\\Documents\\GitHub\\follow_target\\videos\\testvideo_1_640x360.mp4: 224x384 (no detections), 32.7ms\n",
      "video 1/1 (frame 2066/2731) c:\\Users\\thoma\\Documents\\GitHub\\follow_target\\videos\\testvideo_1_640x360.mp4: 224x384 (no detections), 27.2ms\n",
      "video 1/1 (frame 2067/2731) c:\\Users\\thoma\\Documents\\GitHub\\follow_target\\videos\\testvideo_1_640x360.mp4: 224x384 1 Target, 27.0ms\n",
      "video 1/1 (frame 2068/2731) c:\\Users\\thoma\\Documents\\GitHub\\follow_target\\videos\\testvideo_1_640x360.mp4: 224x384 1 Target, 25.9ms\n",
      "video 1/1 (frame 2069/2731) c:\\Users\\thoma\\Documents\\GitHub\\follow_target\\videos\\testvideo_1_640x360.mp4: 224x384 1 Target, 26.4ms\n",
      "video 1/1 (frame 2070/2731) c:\\Users\\thoma\\Documents\\GitHub\\follow_target\\videos\\testvideo_1_640x360.mp4: 224x384 1 Target, 28.3ms\n",
      "video 1/1 (frame 2071/2731) c:\\Users\\thoma\\Documents\\GitHub\\follow_target\\videos\\testvideo_1_640x360.mp4: 224x384 1 Target, 30.7ms\n",
      "video 1/1 (frame 2072/2731) c:\\Users\\thoma\\Documents\\GitHub\\follow_target\\videos\\testvideo_1_640x360.mp4: 224x384 1 Target, 24.1ms\n",
      "video 1/1 (frame 2073/2731) c:\\Users\\thoma\\Documents\\GitHub\\follow_target\\videos\\testvideo_1_640x360.mp4: 224x384 1 Target, 26.5ms\n",
      "video 1/1 (frame 2074/2731) c:\\Users\\thoma\\Documents\\GitHub\\follow_target\\videos\\testvideo_1_640x360.mp4: 224x384 1 Target, 26.3ms\n",
      "video 1/1 (frame 2075/2731) c:\\Users\\thoma\\Documents\\GitHub\\follow_target\\videos\\testvideo_1_640x360.mp4: 224x384 1 Target, 27.4ms\n",
      "video 1/1 (frame 2076/2731) c:\\Users\\thoma\\Documents\\GitHub\\follow_target\\videos\\testvideo_1_640x360.mp4: 224x384 1 Target, 25.8ms\n",
      "video 1/1 (frame 2077/2731) c:\\Users\\thoma\\Documents\\GitHub\\follow_target\\videos\\testvideo_1_640x360.mp4: 224x384 1 Target, 24.0ms\n",
      "video 1/1 (frame 2078/2731) c:\\Users\\thoma\\Documents\\GitHub\\follow_target\\videos\\testvideo_1_640x360.mp4: 224x384 1 Target, 25.3ms\n",
      "video 1/1 (frame 2079/2731) c:\\Users\\thoma\\Documents\\GitHub\\follow_target\\videos\\testvideo_1_640x360.mp4: 224x384 1 Target, 27.8ms\n",
      "video 1/1 (frame 2080/2731) c:\\Users\\thoma\\Documents\\GitHub\\follow_target\\videos\\testvideo_1_640x360.mp4: 224x384 1 Target, 25.1ms\n",
      "video 1/1 (frame 2081/2731) c:\\Users\\thoma\\Documents\\GitHub\\follow_target\\videos\\testvideo_1_640x360.mp4: 224x384 1 Target, 26.4ms\n",
      "video 1/1 (frame 2082/2731) c:\\Users\\thoma\\Documents\\GitHub\\follow_target\\videos\\testvideo_1_640x360.mp4: 224x384 1 Target, 26.1ms\n",
      "video 1/1 (frame 2083/2731) c:\\Users\\thoma\\Documents\\GitHub\\follow_target\\videos\\testvideo_1_640x360.mp4: 224x384 1 Target, 24.2ms\n",
      "video 1/1 (frame 2084/2731) c:\\Users\\thoma\\Documents\\GitHub\\follow_target\\videos\\testvideo_1_640x360.mp4: 224x384 1 Target, 26.2ms\n",
      "video 1/1 (frame 2085/2731) c:\\Users\\thoma\\Documents\\GitHub\\follow_target\\videos\\testvideo_1_640x360.mp4: 224x384 1 Target, 24.0ms\n",
      "video 1/1 (frame 2086/2731) c:\\Users\\thoma\\Documents\\GitHub\\follow_target\\videos\\testvideo_1_640x360.mp4: 224x384 1 Target, 30.4ms\n",
      "video 1/1 (frame 2087/2731) c:\\Users\\thoma\\Documents\\GitHub\\follow_target\\videos\\testvideo_1_640x360.mp4: 224x384 1 Target, 29.3ms\n",
      "video 1/1 (frame 2088/2731) c:\\Users\\thoma\\Documents\\GitHub\\follow_target\\videos\\testvideo_1_640x360.mp4: 224x384 1 Target, 26.6ms\n",
      "video 1/1 (frame 2089/2731) c:\\Users\\thoma\\Documents\\GitHub\\follow_target\\videos\\testvideo_1_640x360.mp4: 224x384 1 Target, 27.8ms\n",
      "video 1/1 (frame 2090/2731) c:\\Users\\thoma\\Documents\\GitHub\\follow_target\\videos\\testvideo_1_640x360.mp4: 224x384 1 Target, 25.4ms\n",
      "video 1/1 (frame 2091/2731) c:\\Users\\thoma\\Documents\\GitHub\\follow_target\\videos\\testvideo_1_640x360.mp4: 224x384 1 Target, 24.7ms\n",
      "video 1/1 (frame 2092/2731) c:\\Users\\thoma\\Documents\\GitHub\\follow_target\\videos\\testvideo_1_640x360.mp4: 224x384 1 Target, 43.9ms\n",
      "video 1/1 (frame 2093/2731) c:\\Users\\thoma\\Documents\\GitHub\\follow_target\\videos\\testvideo_1_640x360.mp4: 224x384 1 Target, 32.0ms\n",
      "video 1/1 (frame 2094/2731) c:\\Users\\thoma\\Documents\\GitHub\\follow_target\\videos\\testvideo_1_640x360.mp4: 224x384 1 Target, 25.6ms\n",
      "video 1/1 (frame 2095/2731) c:\\Users\\thoma\\Documents\\GitHub\\follow_target\\videos\\testvideo_1_640x360.mp4: 224x384 1 Target, 26.3ms\n",
      "video 1/1 (frame 2096/2731) c:\\Users\\thoma\\Documents\\GitHub\\follow_target\\videos\\testvideo_1_640x360.mp4: 224x384 1 Target, 25.6ms\n",
      "video 1/1 (frame 2097/2731) c:\\Users\\thoma\\Documents\\GitHub\\follow_target\\videos\\testvideo_1_640x360.mp4: 224x384 1 Target, 24.1ms\n",
      "video 1/1 (frame 2098/2731) c:\\Users\\thoma\\Documents\\GitHub\\follow_target\\videos\\testvideo_1_640x360.mp4: 224x384 1 Target, 27.3ms\n",
      "video 1/1 (frame 2099/2731) c:\\Users\\thoma\\Documents\\GitHub\\follow_target\\videos\\testvideo_1_640x360.mp4: 224x384 1 Target, 25.8ms\n",
      "video 1/1 (frame 2100/2731) c:\\Users\\thoma\\Documents\\GitHub\\follow_target\\videos\\testvideo_1_640x360.mp4: 224x384 1 Target, 29.8ms\n",
      "video 1/1 (frame 2101/2731) c:\\Users\\thoma\\Documents\\GitHub\\follow_target\\videos\\testvideo_1_640x360.mp4: 224x384 1 Target, 25.4ms\n",
      "video 1/1 (frame 2102/2731) c:\\Users\\thoma\\Documents\\GitHub\\follow_target\\videos\\testvideo_1_640x360.mp4: 224x384 1 Target, 24.6ms\n",
      "video 1/1 (frame 2103/2731) c:\\Users\\thoma\\Documents\\GitHub\\follow_target\\videos\\testvideo_1_640x360.mp4: 224x384 1 Target, 25.6ms\n",
      "video 1/1 (frame 2104/2731) c:\\Users\\thoma\\Documents\\GitHub\\follow_target\\videos\\testvideo_1_640x360.mp4: 224x384 1 Target, 23.4ms\n",
      "video 1/1 (frame 2105/2731) c:\\Users\\thoma\\Documents\\GitHub\\follow_target\\videos\\testvideo_1_640x360.mp4: 224x384 1 Target, 24.4ms\n",
      "video 1/1 (frame 2106/2731) c:\\Users\\thoma\\Documents\\GitHub\\follow_target\\videos\\testvideo_1_640x360.mp4: 224x384 1 Target, 27.0ms\n",
      "video 1/1 (frame 2107/2731) c:\\Users\\thoma\\Documents\\GitHub\\follow_target\\videos\\testvideo_1_640x360.mp4: 224x384 1 Target, 30.3ms\n",
      "video 1/1 (frame 2108/2731) c:\\Users\\thoma\\Documents\\GitHub\\follow_target\\videos\\testvideo_1_640x360.mp4: 224x384 1 Target, 25.0ms\n",
      "video 1/1 (frame 2109/2731) c:\\Users\\thoma\\Documents\\GitHub\\follow_target\\videos\\testvideo_1_640x360.mp4: 224x384 1 Target, 25.7ms\n",
      "video 1/1 (frame 2110/2731) c:\\Users\\thoma\\Documents\\GitHub\\follow_target\\videos\\testvideo_1_640x360.mp4: 224x384 1 Target, 27.7ms\n",
      "video 1/1 (frame 2111/2731) c:\\Users\\thoma\\Documents\\GitHub\\follow_target\\videos\\testvideo_1_640x360.mp4: 224x384 1 Target, 26.8ms\n",
      "video 1/1 (frame 2112/2731) c:\\Users\\thoma\\Documents\\GitHub\\follow_target\\videos\\testvideo_1_640x360.mp4: 224x384 1 Target, 25.8ms\n",
      "video 1/1 (frame 2113/2731) c:\\Users\\thoma\\Documents\\GitHub\\follow_target\\videos\\testvideo_1_640x360.mp4: 224x384 1 Target, 29.0ms\n",
      "video 1/1 (frame 2114/2731) c:\\Users\\thoma\\Documents\\GitHub\\follow_target\\videos\\testvideo_1_640x360.mp4: 224x384 1 Target, 31.4ms\n",
      "video 1/1 (frame 2115/2731) c:\\Users\\thoma\\Documents\\GitHub\\follow_target\\videos\\testvideo_1_640x360.mp4: 224x384 1 Target, 24.2ms\n",
      "video 1/1 (frame 2116/2731) c:\\Users\\thoma\\Documents\\GitHub\\follow_target\\videos\\testvideo_1_640x360.mp4: 224x384 1 Target, 26.9ms\n",
      "video 1/1 (frame 2117/2731) c:\\Users\\thoma\\Documents\\GitHub\\follow_target\\videos\\testvideo_1_640x360.mp4: 224x384 1 Target, 24.1ms\n",
      "video 1/1 (frame 2118/2731) c:\\Users\\thoma\\Documents\\GitHub\\follow_target\\videos\\testvideo_1_640x360.mp4: 224x384 1 Target, 25.8ms\n",
      "video 1/1 (frame 2119/2731) c:\\Users\\thoma\\Documents\\GitHub\\follow_target\\videos\\testvideo_1_640x360.mp4: 224x384 1 Target, 25.4ms\n",
      "video 1/1 (frame 2120/2731) c:\\Users\\thoma\\Documents\\GitHub\\follow_target\\videos\\testvideo_1_640x360.mp4: 224x384 1 Target, 24.1ms\n",
      "video 1/1 (frame 2121/2731) c:\\Users\\thoma\\Documents\\GitHub\\follow_target\\videos\\testvideo_1_640x360.mp4: 224x384 1 Target, 30.1ms\n",
      "video 1/1 (frame 2122/2731) c:\\Users\\thoma\\Documents\\GitHub\\follow_target\\videos\\testvideo_1_640x360.mp4: 224x384 (no detections), 25.2ms\n",
      "video 1/1 (frame 2123/2731) c:\\Users\\thoma\\Documents\\GitHub\\follow_target\\videos\\testvideo_1_640x360.mp4: 224x384 1 Target, 26.7ms\n",
      "video 1/1 (frame 2124/2731) c:\\Users\\thoma\\Documents\\GitHub\\follow_target\\videos\\testvideo_1_640x360.mp4: 224x384 1 Target, 26.2ms\n",
      "video 1/1 (frame 2125/2731) c:\\Users\\thoma\\Documents\\GitHub\\follow_target\\videos\\testvideo_1_640x360.mp4: 224x384 1 Target, 26.5ms\n",
      "video 1/1 (frame 2126/2731) c:\\Users\\thoma\\Documents\\GitHub\\follow_target\\videos\\testvideo_1_640x360.mp4: 224x384 1 Target, 26.6ms\n",
      "video 1/1 (frame 2127/2731) c:\\Users\\thoma\\Documents\\GitHub\\follow_target\\videos\\testvideo_1_640x360.mp4: 224x384 1 Target, 42.9ms\n",
      "video 1/1 (frame 2128/2731) c:\\Users\\thoma\\Documents\\GitHub\\follow_target\\videos\\testvideo_1_640x360.mp4: 224x384 1 Target, 32.3ms\n",
      "video 1/1 (frame 2129/2731) c:\\Users\\thoma\\Documents\\GitHub\\follow_target\\videos\\testvideo_1_640x360.mp4: 224x384 1 Target, 28.0ms\n",
      "video 1/1 (frame 2130/2731) c:\\Users\\thoma\\Documents\\GitHub\\follow_target\\videos\\testvideo_1_640x360.mp4: 224x384 1 Target, 23.5ms\n",
      "video 1/1 (frame 2131/2731) c:\\Users\\thoma\\Documents\\GitHub\\follow_target\\videos\\testvideo_1_640x360.mp4: 224x384 1 Target, 25.5ms\n",
      "video 1/1 (frame 2132/2731) c:\\Users\\thoma\\Documents\\GitHub\\follow_target\\videos\\testvideo_1_640x360.mp4: 224x384 1 Target, 24.1ms\n",
      "video 1/1 (frame 2133/2731) c:\\Users\\thoma\\Documents\\GitHub\\follow_target\\videos\\testvideo_1_640x360.mp4: 224x384 1 Target, 26.9ms\n",
      "video 1/1 (frame 2134/2731) c:\\Users\\thoma\\Documents\\GitHub\\follow_target\\videos\\testvideo_1_640x360.mp4: 224x384 1 Target, 26.5ms\n",
      "video 1/1 (frame 2135/2731) c:\\Users\\thoma\\Documents\\GitHub\\follow_target\\videos\\testvideo_1_640x360.mp4: 224x384 (no detections), 28.1ms\n",
      "video 1/1 (frame 2136/2731) c:\\Users\\thoma\\Documents\\GitHub\\follow_target\\videos\\testvideo_1_640x360.mp4: 224x384 1 Target, 27.2ms\n",
      "video 1/1 (frame 2137/2731) c:\\Users\\thoma\\Documents\\GitHub\\follow_target\\videos\\testvideo_1_640x360.mp4: 224x384 (no detections), 24.3ms\n",
      "video 1/1 (frame 2138/2731) c:\\Users\\thoma\\Documents\\GitHub\\follow_target\\videos\\testvideo_1_640x360.mp4: 224x384 1 Target, 25.8ms\n",
      "video 1/1 (frame 2139/2731) c:\\Users\\thoma\\Documents\\GitHub\\follow_target\\videos\\testvideo_1_640x360.mp4: 224x384 1 Target, 29.4ms\n",
      "video 1/1 (frame 2140/2731) c:\\Users\\thoma\\Documents\\GitHub\\follow_target\\videos\\testvideo_1_640x360.mp4: 224x384 1 Target, 24.3ms\n",
      "video 1/1 (frame 2141/2731) c:\\Users\\thoma\\Documents\\GitHub\\follow_target\\videos\\testvideo_1_640x360.mp4: 224x384 1 Target, 26.7ms\n",
      "video 1/1 (frame 2142/2731) c:\\Users\\thoma\\Documents\\GitHub\\follow_target\\videos\\testvideo_1_640x360.mp4: 224x384 1 Target, 30.1ms\n",
      "video 1/1 (frame 2143/2731) c:\\Users\\thoma\\Documents\\GitHub\\follow_target\\videos\\testvideo_1_640x360.mp4: 224x384 1 Target, 27.0ms\n",
      "video 1/1 (frame 2144/2731) c:\\Users\\thoma\\Documents\\GitHub\\follow_target\\videos\\testvideo_1_640x360.mp4: 224x384 1 Target, 25.8ms\n",
      "video 1/1 (frame 2145/2731) c:\\Users\\thoma\\Documents\\GitHub\\follow_target\\videos\\testvideo_1_640x360.mp4: 224x384 1 Target, 26.6ms\n",
      "video 1/1 (frame 2146/2731) c:\\Users\\thoma\\Documents\\GitHub\\follow_target\\videos\\testvideo_1_640x360.mp4: 224x384 1 Target, 25.2ms\n",
      "video 1/1 (frame 2147/2731) c:\\Users\\thoma\\Documents\\GitHub\\follow_target\\videos\\testvideo_1_640x360.mp4: 224x384 1 Target, 26.1ms\n",
      "video 1/1 (frame 2148/2731) c:\\Users\\thoma\\Documents\\GitHub\\follow_target\\videos\\testvideo_1_640x360.mp4: 224x384 1 Target, 24.9ms\n",
      "video 1/1 (frame 2149/2731) c:\\Users\\thoma\\Documents\\GitHub\\follow_target\\videos\\testvideo_1_640x360.mp4: 224x384 1 Target, 30.1ms\n",
      "video 1/1 (frame 2150/2731) c:\\Users\\thoma\\Documents\\GitHub\\follow_target\\videos\\testvideo_1_640x360.mp4: 224x384 1 Target, 25.5ms\n",
      "video 1/1 (frame 2151/2731) c:\\Users\\thoma\\Documents\\GitHub\\follow_target\\videos\\testvideo_1_640x360.mp4: 224x384 1 Target, 25.3ms\n",
      "video 1/1 (frame 2152/2731) c:\\Users\\thoma\\Documents\\GitHub\\follow_target\\videos\\testvideo_1_640x360.mp4: 224x384 1 Target, 26.3ms\n",
      "video 1/1 (frame 2153/2731) c:\\Users\\thoma\\Documents\\GitHub\\follow_target\\videos\\testvideo_1_640x360.mp4: 224x384 1 Target, 25.3ms\n",
      "video 1/1 (frame 2154/2731) c:\\Users\\thoma\\Documents\\GitHub\\follow_target\\videos\\testvideo_1_640x360.mp4: 224x384 1 Target, 25.5ms\n",
      "video 1/1 (frame 2155/2731) c:\\Users\\thoma\\Documents\\GitHub\\follow_target\\videos\\testvideo_1_640x360.mp4: 224x384 (no detections), 23.6ms\n",
      "video 1/1 (frame 2156/2731) c:\\Users\\thoma\\Documents\\GitHub\\follow_target\\videos\\testvideo_1_640x360.mp4: 224x384 (no detections), 28.0ms\n",
      "video 1/1 (frame 2157/2731) c:\\Users\\thoma\\Documents\\GitHub\\follow_target\\videos\\testvideo_1_640x360.mp4: 224x384 (no detections), 29.5ms\n",
      "video 1/1 (frame 2158/2731) c:\\Users\\thoma\\Documents\\GitHub\\follow_target\\videos\\testvideo_1_640x360.mp4: 224x384 (no detections), 28.1ms\n",
      "video 1/1 (frame 2159/2731) c:\\Users\\thoma\\Documents\\GitHub\\follow_target\\videos\\testvideo_1_640x360.mp4: 224x384 (no detections), 27.3ms\n",
      "video 1/1 (frame 2160/2731) c:\\Users\\thoma\\Documents\\GitHub\\follow_target\\videos\\testvideo_1_640x360.mp4: 224x384 1 Target, 24.8ms\n",
      "video 1/1 (frame 2161/2731) c:\\Users\\thoma\\Documents\\GitHub\\follow_target\\videos\\testvideo_1_640x360.mp4: 224x384 1 Target, 27.7ms\n",
      "video 1/1 (frame 2162/2731) c:\\Users\\thoma\\Documents\\GitHub\\follow_target\\videos\\testvideo_1_640x360.mp4: 224x384 1 Target, 26.6ms\n",
      "video 1/1 (frame 2163/2731) c:\\Users\\thoma\\Documents\\GitHub\\follow_target\\videos\\testvideo_1_640x360.mp4: 224x384 1 Target, 45.2ms\n",
      "video 1/1 (frame 2164/2731) c:\\Users\\thoma\\Documents\\GitHub\\follow_target\\videos\\testvideo_1_640x360.mp4: 224x384 1 Target, 31.0ms\n",
      "video 1/1 (frame 2165/2731) c:\\Users\\thoma\\Documents\\GitHub\\follow_target\\videos\\testvideo_1_640x360.mp4: 224x384 1 Target, 23.5ms\n",
      "video 1/1 (frame 2166/2731) c:\\Users\\thoma\\Documents\\GitHub\\follow_target\\videos\\testvideo_1_640x360.mp4: 224x384 1 Target, 24.3ms\n",
      "video 1/1 (frame 2167/2731) c:\\Users\\thoma\\Documents\\GitHub\\follow_target\\videos\\testvideo_1_640x360.mp4: 224x384 1 Target, 26.0ms\n",
      "video 1/1 (frame 2168/2731) c:\\Users\\thoma\\Documents\\GitHub\\follow_target\\videos\\testvideo_1_640x360.mp4: 224x384 1 Target, 24.1ms\n",
      "video 1/1 (frame 2169/2731) c:\\Users\\thoma\\Documents\\GitHub\\follow_target\\videos\\testvideo_1_640x360.mp4: 224x384 1 Target, 26.0ms\n",
      "video 1/1 (frame 2170/2731) c:\\Users\\thoma\\Documents\\GitHub\\follow_target\\videos\\testvideo_1_640x360.mp4: 224x384 (no detections), 30.6ms\n",
      "video 1/1 (frame 2171/2731) c:\\Users\\thoma\\Documents\\GitHub\\follow_target\\videos\\testvideo_1_640x360.mp4: 224x384 (no detections), 26.6ms\n",
      "video 1/1 (frame 2172/2731) c:\\Users\\thoma\\Documents\\GitHub\\follow_target\\videos\\testvideo_1_640x360.mp4: 224x384 (no detections), 26.5ms\n",
      "video 1/1 (frame 2173/2731) c:\\Users\\thoma\\Documents\\GitHub\\follow_target\\videos\\testvideo_1_640x360.mp4: 224x384 (no detections), 30.5ms\n",
      "video 1/1 (frame 2174/2731) c:\\Users\\thoma\\Documents\\GitHub\\follow_target\\videos\\testvideo_1_640x360.mp4: 224x384 (no detections), 29.7ms\n",
      "video 1/1 (frame 2175/2731) c:\\Users\\thoma\\Documents\\GitHub\\follow_target\\videos\\testvideo_1_640x360.mp4: 224x384 (no detections), 27.0ms\n",
      "video 1/1 (frame 2176/2731) c:\\Users\\thoma\\Documents\\GitHub\\follow_target\\videos\\testvideo_1_640x360.mp4: 224x384 (no detections), 25.2ms\n",
      "video 1/1 (frame 2177/2731) c:\\Users\\thoma\\Documents\\GitHub\\follow_target\\videos\\testvideo_1_640x360.mp4: 224x384 (no detections), 31.2ms\n",
      "video 1/1 (frame 2178/2731) c:\\Users\\thoma\\Documents\\GitHub\\follow_target\\videos\\testvideo_1_640x360.mp4: 224x384 1 Target, 26.8ms\n",
      "video 1/1 (frame 2179/2731) c:\\Users\\thoma\\Documents\\GitHub\\follow_target\\videos\\testvideo_1_640x360.mp4: 224x384 1 Target, 23.9ms\n",
      "video 1/1 (frame 2180/2731) c:\\Users\\thoma\\Documents\\GitHub\\follow_target\\videos\\testvideo_1_640x360.mp4: 224x384 1 Target, 22.2ms\n",
      "video 1/1 (frame 2181/2731) c:\\Users\\thoma\\Documents\\GitHub\\follow_target\\videos\\testvideo_1_640x360.mp4: 224x384 1 Target, 27.6ms\n",
      "video 1/1 (frame 2182/2731) c:\\Users\\thoma\\Documents\\GitHub\\follow_target\\videos\\testvideo_1_640x360.mp4: 224x384 1 Target, 25.7ms\n",
      "video 1/1 (frame 2183/2731) c:\\Users\\thoma\\Documents\\GitHub\\follow_target\\videos\\testvideo_1_640x360.mp4: 224x384 1 Target, 27.3ms\n",
      "video 1/1 (frame 2184/2731) c:\\Users\\thoma\\Documents\\GitHub\\follow_target\\videos\\testvideo_1_640x360.mp4: 224x384 1 Target, 26.0ms\n",
      "video 1/1 (frame 2185/2731) c:\\Users\\thoma\\Documents\\GitHub\\follow_target\\videos\\testvideo_1_640x360.mp4: 224x384 1 Target, 24.6ms\n",
      "video 1/1 (frame 2186/2731) c:\\Users\\thoma\\Documents\\GitHub\\follow_target\\videos\\testvideo_1_640x360.mp4: 224x384 1 Target, 24.4ms\n",
      "video 1/1 (frame 2187/2731) c:\\Users\\thoma\\Documents\\GitHub\\follow_target\\videos\\testvideo_1_640x360.mp4: 224x384 1 Target, 24.2ms\n",
      "video 1/1 (frame 2188/2731) c:\\Users\\thoma\\Documents\\GitHub\\follow_target\\videos\\testvideo_1_640x360.mp4: 224x384 1 Target, 28.7ms\n",
      "video 1/1 (frame 2189/2731) c:\\Users\\thoma\\Documents\\GitHub\\follow_target\\videos\\testvideo_1_640x360.mp4: 224x384 1 Target, 24.9ms\n",
      "video 1/1 (frame 2190/2731) c:\\Users\\thoma\\Documents\\GitHub\\follow_target\\videos\\testvideo_1_640x360.mp4: 224x384 1 Target, 23.4ms\n",
      "video 1/1 (frame 2191/2731) c:\\Users\\thoma\\Documents\\GitHub\\follow_target\\videos\\testvideo_1_640x360.mp4: 224x384 1 Target, 25.4ms\n",
      "video 1/1 (frame 2192/2731) c:\\Users\\thoma\\Documents\\GitHub\\follow_target\\videos\\testvideo_1_640x360.mp4: 224x384 1 Target, 24.0ms\n",
      "video 1/1 (frame 2193/2731) c:\\Users\\thoma\\Documents\\GitHub\\follow_target\\videos\\testvideo_1_640x360.mp4: 224x384 1 Target, 24.7ms\n",
      "video 1/1 (frame 2194/2731) c:\\Users\\thoma\\Documents\\GitHub\\follow_target\\videos\\testvideo_1_640x360.mp4: 224x384 1 Target, 24.7ms\n",
      "video 1/1 (frame 2195/2731) c:\\Users\\thoma\\Documents\\GitHub\\follow_target\\videos\\testvideo_1_640x360.mp4: 224x384 1 Target, 26.6ms\n",
      "video 1/1 (frame 2196/2731) c:\\Users\\thoma\\Documents\\GitHub\\follow_target\\videos\\testvideo_1_640x360.mp4: 224x384 1 Target, 26.9ms\n",
      "video 1/1 (frame 2197/2731) c:\\Users\\thoma\\Documents\\GitHub\\follow_target\\videos\\testvideo_1_640x360.mp4: 224x384 1 Target, 29.2ms\n",
      "video 1/1 (frame 2198/2731) c:\\Users\\thoma\\Documents\\GitHub\\follow_target\\videos\\testvideo_1_640x360.mp4: 224x384 1 Target, 26.6ms\n",
      "video 1/1 (frame 2199/2731) c:\\Users\\thoma\\Documents\\GitHub\\follow_target\\videos\\testvideo_1_640x360.mp4: 224x384 1 Target, 26.3ms\n",
      "video 1/1 (frame 2200/2731) c:\\Users\\thoma\\Documents\\GitHub\\follow_target\\videos\\testvideo_1_640x360.mp4: 224x384 1 Target, 25.0ms\n",
      "video 1/1 (frame 2201/2731) c:\\Users\\thoma\\Documents\\GitHub\\follow_target\\videos\\testvideo_1_640x360.mp4: 224x384 1 Target, 43.6ms\n",
      "video 1/1 (frame 2202/2731) c:\\Users\\thoma\\Documents\\GitHub\\follow_target\\videos\\testvideo_1_640x360.mp4: 224x384 1 Target, 30.0ms\n",
      "video 1/1 (frame 2203/2731) c:\\Users\\thoma\\Documents\\GitHub\\follow_target\\videos\\testvideo_1_640x360.mp4: 224x384 1 Target, 25.7ms\n",
      "video 1/1 (frame 2204/2731) c:\\Users\\thoma\\Documents\\GitHub\\follow_target\\videos\\testvideo_1_640x360.mp4: 224x384 1 Target, 29.9ms\n",
      "video 1/1 (frame 2205/2731) c:\\Users\\thoma\\Documents\\GitHub\\follow_target\\videos\\testvideo_1_640x360.mp4: 224x384 1 Target, 27.8ms\n",
      "video 1/1 (frame 2206/2731) c:\\Users\\thoma\\Documents\\GitHub\\follow_target\\videos\\testvideo_1_640x360.mp4: 224x384 1 Target, 25.2ms\n",
      "video 1/1 (frame 2207/2731) c:\\Users\\thoma\\Documents\\GitHub\\follow_target\\videos\\testvideo_1_640x360.mp4: 224x384 1 Target, 27.7ms\n",
      "video 1/1 (frame 2208/2731) c:\\Users\\thoma\\Documents\\GitHub\\follow_target\\videos\\testvideo_1_640x360.mp4: 224x384 1 Target, 24.1ms\n",
      "video 1/1 (frame 2209/2731) c:\\Users\\thoma\\Documents\\GitHub\\follow_target\\videos\\testvideo_1_640x360.mp4: 224x384 1 Target, 27.0ms\n",
      "video 1/1 (frame 2210/2731) c:\\Users\\thoma\\Documents\\GitHub\\follow_target\\videos\\testvideo_1_640x360.mp4: 224x384 1 Target, 27.9ms\n",
      "video 1/1 (frame 2211/2731) c:\\Users\\thoma\\Documents\\GitHub\\follow_target\\videos\\testvideo_1_640x360.mp4: 224x384 1 Target, 24.7ms\n",
      "video 1/1 (frame 2212/2731) c:\\Users\\thoma\\Documents\\GitHub\\follow_target\\videos\\testvideo_1_640x360.mp4: 224x384 1 Target, 27.0ms\n",
      "video 1/1 (frame 2213/2731) c:\\Users\\thoma\\Documents\\GitHub\\follow_target\\videos\\testvideo_1_640x360.mp4: 224x384 1 Target, 25.1ms\n",
      "video 1/1 (frame 2214/2731) c:\\Users\\thoma\\Documents\\GitHub\\follow_target\\videos\\testvideo_1_640x360.mp4: 224x384 1 Target, 25.2ms\n",
      "video 1/1 (frame 2215/2731) c:\\Users\\thoma\\Documents\\GitHub\\follow_target\\videos\\testvideo_1_640x360.mp4: 224x384 1 Target, 26.8ms\n",
      "video 1/1 (frame 2216/2731) c:\\Users\\thoma\\Documents\\GitHub\\follow_target\\videos\\testvideo_1_640x360.mp4: 224x384 1 Target, 28.8ms\n",
      "video 1/1 (frame 2217/2731) c:\\Users\\thoma\\Documents\\GitHub\\follow_target\\videos\\testvideo_1_640x360.mp4: 224x384 1 Target, 29.9ms\n",
      "video 1/1 (frame 2218/2731) c:\\Users\\thoma\\Documents\\GitHub\\follow_target\\videos\\testvideo_1_640x360.mp4: 224x384 1 Target, 24.4ms\n",
      "video 1/1 (frame 2219/2731) c:\\Users\\thoma\\Documents\\GitHub\\follow_target\\videos\\testvideo_1_640x360.mp4: 224x384 1 Target, 25.7ms\n",
      "video 1/1 (frame 2220/2731) c:\\Users\\thoma\\Documents\\GitHub\\follow_target\\videos\\testvideo_1_640x360.mp4: 224x384 1 Target, 24.3ms\n",
      "video 1/1 (frame 2221/2731) c:\\Users\\thoma\\Documents\\GitHub\\follow_target\\videos\\testvideo_1_640x360.mp4: 224x384 1 Target, 25.1ms\n",
      "video 1/1 (frame 2222/2731) c:\\Users\\thoma\\Documents\\GitHub\\follow_target\\videos\\testvideo_1_640x360.mp4: 224x384 1 Target, 29.5ms\n",
      "video 1/1 (frame 2223/2731) c:\\Users\\thoma\\Documents\\GitHub\\follow_target\\videos\\testvideo_1_640x360.mp4: 224x384 1 Target, 24.5ms\n",
      "video 1/1 (frame 2224/2731) c:\\Users\\thoma\\Documents\\GitHub\\follow_target\\videos\\testvideo_1_640x360.mp4: 224x384 1 Target, 24.5ms\n",
      "video 1/1 (frame 2225/2731) c:\\Users\\thoma\\Documents\\GitHub\\follow_target\\videos\\testvideo_1_640x360.mp4: 224x384 1 Target, 27.3ms\n",
      "video 1/1 (frame 2226/2731) c:\\Users\\thoma\\Documents\\GitHub\\follow_target\\videos\\testvideo_1_640x360.mp4: 224x384 1 Target, 24.1ms\n",
      "video 1/1 (frame 2227/2731) c:\\Users\\thoma\\Documents\\GitHub\\follow_target\\videos\\testvideo_1_640x360.mp4: 224x384 1 Target, 27.7ms\n",
      "video 1/1 (frame 2228/2731) c:\\Users\\thoma\\Documents\\GitHub\\follow_target\\videos\\testvideo_1_640x360.mp4: 224x384 1 Target, 26.4ms\n",
      "video 1/1 (frame 2229/2731) c:\\Users\\thoma\\Documents\\GitHub\\follow_target\\videos\\testvideo_1_640x360.mp4: 224x384 1 Target, 27.0ms\n",
      "video 1/1 (frame 2230/2731) c:\\Users\\thoma\\Documents\\GitHub\\follow_target\\videos\\testvideo_1_640x360.mp4: 224x384 1 Target, 28.3ms\n",
      "video 1/1 (frame 2231/2731) c:\\Users\\thoma\\Documents\\GitHub\\follow_target\\videos\\testvideo_1_640x360.mp4: 224x384 1 Target, 30.7ms\n",
      "video 1/1 (frame 2232/2731) c:\\Users\\thoma\\Documents\\GitHub\\follow_target\\videos\\testvideo_1_640x360.mp4: 224x384 1 Target, 27.6ms\n",
      "video 1/1 (frame 2233/2731) c:\\Users\\thoma\\Documents\\GitHub\\follow_target\\videos\\testvideo_1_640x360.mp4: 224x384 1 Target, 27.1ms\n",
      "video 1/1 (frame 2234/2731) c:\\Users\\thoma\\Documents\\GitHub\\follow_target\\videos\\testvideo_1_640x360.mp4: 224x384 1 Target, 31.2ms\n",
      "video 1/1 (frame 2235/2731) c:\\Users\\thoma\\Documents\\GitHub\\follow_target\\videos\\testvideo_1_640x360.mp4: 224x384 1 Target, 24.8ms\n",
      "video 1/1 (frame 2236/2731) c:\\Users\\thoma\\Documents\\GitHub\\follow_target\\videos\\testvideo_1_640x360.mp4: 224x384 1 Target, 31.9ms\n",
      "video 1/1 (frame 2237/2731) c:\\Users\\thoma\\Documents\\GitHub\\follow_target\\videos\\testvideo_1_640x360.mp4: 224x384 1 Target, 35.0ms\n",
      "video 1/1 (frame 2238/2731) c:\\Users\\thoma\\Documents\\GitHub\\follow_target\\videos\\testvideo_1_640x360.mp4: 224x384 1 Target, 24.8ms\n",
      "video 1/1 (frame 2239/2731) c:\\Users\\thoma\\Documents\\GitHub\\follow_target\\videos\\testvideo_1_640x360.mp4: 224x384 1 Target, 27.4ms\n",
      "video 1/1 (frame 2240/2731) c:\\Users\\thoma\\Documents\\GitHub\\follow_target\\videos\\testvideo_1_640x360.mp4: 224x384 1 Target, 28.3ms\n",
      "video 1/1 (frame 2241/2731) c:\\Users\\thoma\\Documents\\GitHub\\follow_target\\videos\\testvideo_1_640x360.mp4: 224x384 1 Target, 26.4ms\n",
      "video 1/1 (frame 2242/2731) c:\\Users\\thoma\\Documents\\GitHub\\follow_target\\videos\\testvideo_1_640x360.mp4: 224x384 1 Target, 24.4ms\n",
      "video 1/1 (frame 2243/2731) c:\\Users\\thoma\\Documents\\GitHub\\follow_target\\videos\\testvideo_1_640x360.mp4: 224x384 1 Target, 26.6ms\n",
      "video 1/1 (frame 2244/2731) c:\\Users\\thoma\\Documents\\GitHub\\follow_target\\videos\\testvideo_1_640x360.mp4: 224x384 1 Target, 27.4ms\n",
      "video 1/1 (frame 2245/2731) c:\\Users\\thoma\\Documents\\GitHub\\follow_target\\videos\\testvideo_1_640x360.mp4: 224x384 1 Target, 24.9ms\n",
      "video 1/1 (frame 2246/2731) c:\\Users\\thoma\\Documents\\GitHub\\follow_target\\videos\\testvideo_1_640x360.mp4: 224x384 1 Target, 29.3ms\n",
      "video 1/1 (frame 2247/2731) c:\\Users\\thoma\\Documents\\GitHub\\follow_target\\videos\\testvideo_1_640x360.mp4: 224x384 1 Target, 25.9ms\n",
      "video 1/1 (frame 2248/2731) c:\\Users\\thoma\\Documents\\GitHub\\follow_target\\videos\\testvideo_1_640x360.mp4: 224x384 1 Target, 27.2ms\n",
      "video 1/1 (frame 2249/2731) c:\\Users\\thoma\\Documents\\GitHub\\follow_target\\videos\\testvideo_1_640x360.mp4: 224x384 1 Target, 27.3ms\n",
      "video 1/1 (frame 2250/2731) c:\\Users\\thoma\\Documents\\GitHub\\follow_target\\videos\\testvideo_1_640x360.mp4: 224x384 1 Target, 24.4ms\n",
      "video 1/1 (frame 2251/2731) c:\\Users\\thoma\\Documents\\GitHub\\follow_target\\videos\\testvideo_1_640x360.mp4: 224x384 1 Target, 25.1ms\n",
      "video 1/1 (frame 2252/2731) c:\\Users\\thoma\\Documents\\GitHub\\follow_target\\videos\\testvideo_1_640x360.mp4: 224x384 1 Target, 31.4ms\n",
      "video 1/1 (frame 2253/2731) c:\\Users\\thoma\\Documents\\GitHub\\follow_target\\videos\\testvideo_1_640x360.mp4: 224x384 1 Target, 24.7ms\n",
      "video 1/1 (frame 2254/2731) c:\\Users\\thoma\\Documents\\GitHub\\follow_target\\videos\\testvideo_1_640x360.mp4: 224x384 1 Target, 26.9ms\n",
      "video 1/1 (frame 2255/2731) c:\\Users\\thoma\\Documents\\GitHub\\follow_target\\videos\\testvideo_1_640x360.mp4: 224x384 1 Target, 23.9ms\n",
      "video 1/1 (frame 2256/2731) c:\\Users\\thoma\\Documents\\GitHub\\follow_target\\videos\\testvideo_1_640x360.mp4: 224x384 1 Target, 22.7ms\n",
      "video 1/1 (frame 2257/2731) c:\\Users\\thoma\\Documents\\GitHub\\follow_target\\videos\\testvideo_1_640x360.mp4: 224x384 1 Target, 24.5ms\n",
      "video 1/1 (frame 2258/2731) c:\\Users\\thoma\\Documents\\GitHub\\follow_target\\videos\\testvideo_1_640x360.mp4: 224x384 1 Target, 30.0ms\n",
      "video 1/1 (frame 2259/2731) c:\\Users\\thoma\\Documents\\GitHub\\follow_target\\videos\\testvideo_1_640x360.mp4: 224x384 1 Target, 25.0ms\n",
      "video 1/1 (frame 2260/2731) c:\\Users\\thoma\\Documents\\GitHub\\follow_target\\videos\\testvideo_1_640x360.mp4: 224x384 1 Target, 26.8ms\n",
      "video 1/1 (frame 2261/2731) c:\\Users\\thoma\\Documents\\GitHub\\follow_target\\videos\\testvideo_1_640x360.mp4: 224x384 1 Target, 29.4ms\n",
      "video 1/1 (frame 2262/2731) c:\\Users\\thoma\\Documents\\GitHub\\follow_target\\videos\\testvideo_1_640x360.mp4: 224x384 1 Target, 25.0ms\n",
      "video 1/1 (frame 2263/2731) c:\\Users\\thoma\\Documents\\GitHub\\follow_target\\videos\\testvideo_1_640x360.mp4: 224x384 1 Target, 26.9ms\n",
      "video 1/1 (frame 2264/2731) c:\\Users\\thoma\\Documents\\GitHub\\follow_target\\videos\\testvideo_1_640x360.mp4: 224x384 1 Target, 32.7ms\n",
      "video 1/1 (frame 2265/2731) c:\\Users\\thoma\\Documents\\GitHub\\follow_target\\videos\\testvideo_1_640x360.mp4: 224x384 1 Target, 25.4ms\n",
      "video 1/1 (frame 2266/2731) c:\\Users\\thoma\\Documents\\GitHub\\follow_target\\videos\\testvideo_1_640x360.mp4: 224x384 1 Target, 26.9ms\n",
      "video 1/1 (frame 2267/2731) c:\\Users\\thoma\\Documents\\GitHub\\follow_target\\videos\\testvideo_1_640x360.mp4: 224x384 1 Target, 26.8ms\n",
      "video 1/1 (frame 2268/2731) c:\\Users\\thoma\\Documents\\GitHub\\follow_target\\videos\\testvideo_1_640x360.mp4: 224x384 1 Target, 25.9ms\n",
      "video 1/1 (frame 2269/2731) c:\\Users\\thoma\\Documents\\GitHub\\follow_target\\videos\\testvideo_1_640x360.mp4: 224x384 (no detections), 25.5ms\n",
      "video 1/1 (frame 2270/2731) c:\\Users\\thoma\\Documents\\GitHub\\follow_target\\videos\\testvideo_1_640x360.mp4: 224x384 (no detections), 29.5ms\n",
      "video 1/1 (frame 2271/2731) c:\\Users\\thoma\\Documents\\GitHub\\follow_target\\videos\\testvideo_1_640x360.mp4: 224x384 (no detections), 27.4ms\n",
      "video 1/1 (frame 2272/2731) c:\\Users\\thoma\\Documents\\GitHub\\follow_target\\videos\\testvideo_1_640x360.mp4: 224x384 (no detections), 43.4ms\n",
      "video 1/1 (frame 2273/2731) c:\\Users\\thoma\\Documents\\GitHub\\follow_target\\videos\\testvideo_1_640x360.mp4: 224x384 (no detections), 29.4ms\n",
      "video 1/1 (frame 2274/2731) c:\\Users\\thoma\\Documents\\GitHub\\follow_target\\videos\\testvideo_1_640x360.mp4: 224x384 (no detections), 27.4ms\n",
      "video 1/1 (frame 2275/2731) c:\\Users\\thoma\\Documents\\GitHub\\follow_target\\videos\\testvideo_1_640x360.mp4: 224x384 (no detections), 26.2ms\n",
      "video 1/1 (frame 2276/2731) c:\\Users\\thoma\\Documents\\GitHub\\follow_target\\videos\\testvideo_1_640x360.mp4: 224x384 (no detections), 34.2ms\n",
      "video 1/1 (frame 2277/2731) c:\\Users\\thoma\\Documents\\GitHub\\follow_target\\videos\\testvideo_1_640x360.mp4: 224x384 (no detections), 27.0ms\n",
      "video 1/1 (frame 2278/2731) c:\\Users\\thoma\\Documents\\GitHub\\follow_target\\videos\\testvideo_1_640x360.mp4: 224x384 (no detections), 31.2ms\n",
      "video 1/1 (frame 2279/2731) c:\\Users\\thoma\\Documents\\GitHub\\follow_target\\videos\\testvideo_1_640x360.mp4: 224x384 (no detections), 25.3ms\n",
      "video 1/1 (frame 2280/2731) c:\\Users\\thoma\\Documents\\GitHub\\follow_target\\videos\\testvideo_1_640x360.mp4: 224x384 (no detections), 29.5ms\n",
      "video 1/1 (frame 2281/2731) c:\\Users\\thoma\\Documents\\GitHub\\follow_target\\videos\\testvideo_1_640x360.mp4: 224x384 (no detections), 27.6ms\n",
      "video 1/1 (frame 2282/2731) c:\\Users\\thoma\\Documents\\GitHub\\follow_target\\videos\\testvideo_1_640x360.mp4: 224x384 (no detections), 32.2ms\n",
      "video 1/1 (frame 2283/2731) c:\\Users\\thoma\\Documents\\GitHub\\follow_target\\videos\\testvideo_1_640x360.mp4: 224x384 (no detections), 29.6ms\n",
      "video 1/1 (frame 2284/2731) c:\\Users\\thoma\\Documents\\GitHub\\follow_target\\videos\\testvideo_1_640x360.mp4: 224x384 (no detections), 28.2ms\n",
      "video 1/1 (frame 2285/2731) c:\\Users\\thoma\\Documents\\GitHub\\follow_target\\videos\\testvideo_1_640x360.mp4: 224x384 (no detections), 28.2ms\n",
      "video 1/1 (frame 2286/2731) c:\\Users\\thoma\\Documents\\GitHub\\follow_target\\videos\\testvideo_1_640x360.mp4: 224x384 (no detections), 28.8ms\n",
      "video 1/1 (frame 2287/2731) c:\\Users\\thoma\\Documents\\GitHub\\follow_target\\videos\\testvideo_1_640x360.mp4: 224x384 (no detections), 30.3ms\n",
      "video 1/1 (frame 2288/2731) c:\\Users\\thoma\\Documents\\GitHub\\follow_target\\videos\\testvideo_1_640x360.mp4: 224x384 (no detections), 27.9ms\n",
      "video 1/1 (frame 2289/2731) c:\\Users\\thoma\\Documents\\GitHub\\follow_target\\videos\\testvideo_1_640x360.mp4: 224x384 (no detections), 27.6ms\n",
      "video 1/1 (frame 2290/2731) c:\\Users\\thoma\\Documents\\GitHub\\follow_target\\videos\\testvideo_1_640x360.mp4: 224x384 (no detections), 28.3ms\n",
      "video 1/1 (frame 2291/2731) c:\\Users\\thoma\\Documents\\GitHub\\follow_target\\videos\\testvideo_1_640x360.mp4: 224x384 (no detections), 28.3ms\n",
      "video 1/1 (frame 2292/2731) c:\\Users\\thoma\\Documents\\GitHub\\follow_target\\videos\\testvideo_1_640x360.mp4: 224x384 (no detections), 30.6ms\n",
      "video 1/1 (frame 2293/2731) c:\\Users\\thoma\\Documents\\GitHub\\follow_target\\videos\\testvideo_1_640x360.mp4: 224x384 (no detections), 28.8ms\n",
      "video 1/1 (frame 2294/2731) c:\\Users\\thoma\\Documents\\GitHub\\follow_target\\videos\\testvideo_1_640x360.mp4: 224x384 (no detections), 29.2ms\n",
      "video 1/1 (frame 2295/2731) c:\\Users\\thoma\\Documents\\GitHub\\follow_target\\videos\\testvideo_1_640x360.mp4: 224x384 (no detections), 29.8ms\n",
      "video 1/1 (frame 2296/2731) c:\\Users\\thoma\\Documents\\GitHub\\follow_target\\videos\\testvideo_1_640x360.mp4: 224x384 (no detections), 25.5ms\n",
      "video 1/1 (frame 2297/2731) c:\\Users\\thoma\\Documents\\GitHub\\follow_target\\videos\\testvideo_1_640x360.mp4: 224x384 (no detections), 25.0ms\n",
      "video 1/1 (frame 2298/2731) c:\\Users\\thoma\\Documents\\GitHub\\follow_target\\videos\\testvideo_1_640x360.mp4: 224x384 (no detections), 24.9ms\n",
      "video 1/1 (frame 2299/2731) c:\\Users\\thoma\\Documents\\GitHub\\follow_target\\videos\\testvideo_1_640x360.mp4: 224x384 (no detections), 24.7ms\n",
      "video 1/1 (frame 2300/2731) c:\\Users\\thoma\\Documents\\GitHub\\follow_target\\videos\\testvideo_1_640x360.mp4: 224x384 (no detections), 25.9ms\n",
      "video 1/1 (frame 2301/2731) c:\\Users\\thoma\\Documents\\GitHub\\follow_target\\videos\\testvideo_1_640x360.mp4: 224x384 (no detections), 25.4ms\n",
      "video 1/1 (frame 2302/2731) c:\\Users\\thoma\\Documents\\GitHub\\follow_target\\videos\\testvideo_1_640x360.mp4: 224x384 (no detections), 28.0ms\n",
      "video 1/1 (frame 2303/2731) c:\\Users\\thoma\\Documents\\GitHub\\follow_target\\videos\\testvideo_1_640x360.mp4: 224x384 (no detections), 27.1ms\n",
      "video 1/1 (frame 2304/2731) c:\\Users\\thoma\\Documents\\GitHub\\follow_target\\videos\\testvideo_1_640x360.mp4: 224x384 (no detections), 24.0ms\n",
      "video 1/1 (frame 2305/2731) c:\\Users\\thoma\\Documents\\GitHub\\follow_target\\videos\\testvideo_1_640x360.mp4: 224x384 (no detections), 28.8ms\n",
      "video 1/1 (frame 2306/2731) c:\\Users\\thoma\\Documents\\GitHub\\follow_target\\videos\\testvideo_1_640x360.mp4: 224x384 (no detections), 30.8ms\n",
      "video 1/1 (frame 2307/2731) c:\\Users\\thoma\\Documents\\GitHub\\follow_target\\videos\\testvideo_1_640x360.mp4: 224x384 1 Target, 43.9ms\n",
      "video 1/1 (frame 2308/2731) c:\\Users\\thoma\\Documents\\GitHub\\follow_target\\videos\\testvideo_1_640x360.mp4: 224x384 1 Target, 27.8ms\n",
      "video 1/1 (frame 2309/2731) c:\\Users\\thoma\\Documents\\GitHub\\follow_target\\videos\\testvideo_1_640x360.mp4: 224x384 1 Target, 28.5ms\n",
      "video 1/1 (frame 2310/2731) c:\\Users\\thoma\\Documents\\GitHub\\follow_target\\videos\\testvideo_1_640x360.mp4: 224x384 1 Target, 27.6ms\n",
      "video 1/1 (frame 2311/2731) c:\\Users\\thoma\\Documents\\GitHub\\follow_target\\videos\\testvideo_1_640x360.mp4: 224x384 1 Target, 26.7ms\n",
      "video 1/1 (frame 2312/2731) c:\\Users\\thoma\\Documents\\GitHub\\follow_target\\videos\\testvideo_1_640x360.mp4: 224x384 1 Target, 25.0ms\n",
      "video 1/1 (frame 2313/2731) c:\\Users\\thoma\\Documents\\GitHub\\follow_target\\videos\\testvideo_1_640x360.mp4: 224x384 1 Target, 25.7ms\n",
      "video 1/1 (frame 2314/2731) c:\\Users\\thoma\\Documents\\GitHub\\follow_target\\videos\\testvideo_1_640x360.mp4: 224x384 1 Target, 25.8ms\n",
      "video 1/1 (frame 2315/2731) c:\\Users\\thoma\\Documents\\GitHub\\follow_target\\videos\\testvideo_1_640x360.mp4: 224x384 1 Target, 24.1ms\n",
      "video 1/1 (frame 2316/2731) c:\\Users\\thoma\\Documents\\GitHub\\follow_target\\videos\\testvideo_1_640x360.mp4: 224x384 1 Target, 25.6ms\n",
      "video 1/1 (frame 2317/2731) c:\\Users\\thoma\\Documents\\GitHub\\follow_target\\videos\\testvideo_1_640x360.mp4: 224x384 1 Target, 35.5ms\n",
      "video 1/1 (frame 2318/2731) c:\\Users\\thoma\\Documents\\GitHub\\follow_target\\videos\\testvideo_1_640x360.mp4: 224x384 1 Target, 27.5ms\n",
      "video 1/1 (frame 2319/2731) c:\\Users\\thoma\\Documents\\GitHub\\follow_target\\videos\\testvideo_1_640x360.mp4: 224x384 1 Target, 27.9ms\n",
      "video 1/1 (frame 2320/2731) c:\\Users\\thoma\\Documents\\GitHub\\follow_target\\videos\\testvideo_1_640x360.mp4: 224x384 1 Target, 27.6ms\n",
      "video 1/1 (frame 2321/2731) c:\\Users\\thoma\\Documents\\GitHub\\follow_target\\videos\\testvideo_1_640x360.mp4: 224x384 1 Target, 26.0ms\n",
      "video 1/1 (frame 2322/2731) c:\\Users\\thoma\\Documents\\GitHub\\follow_target\\videos\\testvideo_1_640x360.mp4: 224x384 1 Target, 28.4ms\n",
      "video 1/1 (frame 2323/2731) c:\\Users\\thoma\\Documents\\GitHub\\follow_target\\videos\\testvideo_1_640x360.mp4: 224x384 1 Target, 30.5ms\n",
      "video 1/1 (frame 2324/2731) c:\\Users\\thoma\\Documents\\GitHub\\follow_target\\videos\\testvideo_1_640x360.mp4: 224x384 1 Target, 92.0ms\n",
      "video 1/1 (frame 2325/2731) c:\\Users\\thoma\\Documents\\GitHub\\follow_target\\videos\\testvideo_1_640x360.mp4: 224x384 1 Target, 31.3ms\n",
      "video 1/1 (frame 2326/2731) c:\\Users\\thoma\\Documents\\GitHub\\follow_target\\videos\\testvideo_1_640x360.mp4: 224x384 1 Target, 32.8ms\n",
      "video 1/1 (frame 2327/2731) c:\\Users\\thoma\\Documents\\GitHub\\follow_target\\videos\\testvideo_1_640x360.mp4: 224x384 1 Target, 24.8ms\n",
      "video 1/1 (frame 2328/2731) c:\\Users\\thoma\\Documents\\GitHub\\follow_target\\videos\\testvideo_1_640x360.mp4: 224x384 1 Target, 24.8ms\n",
      "video 1/1 (frame 2329/2731) c:\\Users\\thoma\\Documents\\GitHub\\follow_target\\videos\\testvideo_1_640x360.mp4: 224x384 1 Target, 27.3ms\n",
      "video 1/1 (frame 2330/2731) c:\\Users\\thoma\\Documents\\GitHub\\follow_target\\videos\\testvideo_1_640x360.mp4: 224x384 1 Target, 28.7ms\n",
      "video 1/1 (frame 2331/2731) c:\\Users\\thoma\\Documents\\GitHub\\follow_target\\videos\\testvideo_1_640x360.mp4: 224x384 1 Target, 25.7ms\n",
      "video 1/1 (frame 2332/2731) c:\\Users\\thoma\\Documents\\GitHub\\follow_target\\videos\\testvideo_1_640x360.mp4: 224x384 1 Target, 25.1ms\n",
      "video 1/1 (frame 2333/2731) c:\\Users\\thoma\\Documents\\GitHub\\follow_target\\videos\\testvideo_1_640x360.mp4: 224x384 1 Target, 26.9ms\n",
      "video 1/1 (frame 2334/2731) c:\\Users\\thoma\\Documents\\GitHub\\follow_target\\videos\\testvideo_1_640x360.mp4: 224x384 1 Target, 23.5ms\n",
      "video 1/1 (frame 2335/2731) c:\\Users\\thoma\\Documents\\GitHub\\follow_target\\videos\\testvideo_1_640x360.mp4: 224x384 1 Target, 26.6ms\n",
      "video 1/1 (frame 2336/2731) c:\\Users\\thoma\\Documents\\GitHub\\follow_target\\videos\\testvideo_1_640x360.mp4: 224x384 1 Target, 31.5ms\n",
      "video 1/1 (frame 2337/2731) c:\\Users\\thoma\\Documents\\GitHub\\follow_target\\videos\\testvideo_1_640x360.mp4: 224x384 1 Target, 29.4ms\n",
      "video 1/1 (frame 2338/2731) c:\\Users\\thoma\\Documents\\GitHub\\follow_target\\videos\\testvideo_1_640x360.mp4: 224x384 1 Target, 27.1ms\n",
      "video 1/1 (frame 2339/2731) c:\\Users\\thoma\\Documents\\GitHub\\follow_target\\videos\\testvideo_1_640x360.mp4: 224x384 1 Target, 29.0ms\n",
      "video 1/1 (frame 2340/2731) c:\\Users\\thoma\\Documents\\GitHub\\follow_target\\videos\\testvideo_1_640x360.mp4: 224x384 1 Target, 26.5ms\n",
      "video 1/1 (frame 2341/2731) c:\\Users\\thoma\\Documents\\GitHub\\follow_target\\videos\\testvideo_1_640x360.mp4: 224x384 1 Target, 27.9ms\n",
      "video 1/1 (frame 2342/2731) c:\\Users\\thoma\\Documents\\GitHub\\follow_target\\videos\\testvideo_1_640x360.mp4: 224x384 1 Target, 24.7ms\n",
      "video 1/1 (frame 2343/2731) c:\\Users\\thoma\\Documents\\GitHub\\follow_target\\videos\\testvideo_1_640x360.mp4: 224x384 1 Target, 27.9ms\n",
      "video 1/1 (frame 2344/2731) c:\\Users\\thoma\\Documents\\GitHub\\follow_target\\videos\\testvideo_1_640x360.mp4: 224x384 1 Target, 25.7ms\n",
      "video 1/1 (frame 2345/2731) c:\\Users\\thoma\\Documents\\GitHub\\follow_target\\videos\\testvideo_1_640x360.mp4: 224x384 1 Target, 26.8ms\n",
      "video 1/1 (frame 2346/2731) c:\\Users\\thoma\\Documents\\GitHub\\follow_target\\videos\\testvideo_1_640x360.mp4: 224x384 1 Target, 26.3ms\n",
      "video 1/1 (frame 2347/2731) c:\\Users\\thoma\\Documents\\GitHub\\follow_target\\videos\\testvideo_1_640x360.mp4: 224x384 1 Target, 24.4ms\n",
      "video 1/1 (frame 2348/2731) c:\\Users\\thoma\\Documents\\GitHub\\follow_target\\videos\\testvideo_1_640x360.mp4: 224x384 1 Target, 32.9ms\n",
      "video 1/1 (frame 2349/2731) c:\\Users\\thoma\\Documents\\GitHub\\follow_target\\videos\\testvideo_1_640x360.mp4: 224x384 1 Target, 25.5ms\n",
      "video 1/1 (frame 2350/2731) c:\\Users\\thoma\\Documents\\GitHub\\follow_target\\videos\\testvideo_1_640x360.mp4: 224x384 1 Target, 26.7ms\n",
      "video 1/1 (frame 2351/2731) c:\\Users\\thoma\\Documents\\GitHub\\follow_target\\videos\\testvideo_1_640x360.mp4: 224x384 1 Target, 26.9ms\n",
      "video 1/1 (frame 2352/2731) c:\\Users\\thoma\\Documents\\GitHub\\follow_target\\videos\\testvideo_1_640x360.mp4: 224x384 1 Target, 23.0ms\n",
      "video 1/1 (frame 2353/2731) c:\\Users\\thoma\\Documents\\GitHub\\follow_target\\videos\\testvideo_1_640x360.mp4: 224x384 1 Target, 28.5ms\n",
      "video 1/1 (frame 2354/2731) c:\\Users\\thoma\\Documents\\GitHub\\follow_target\\videos\\testvideo_1_640x360.mp4: 224x384 1 Target, 31.8ms\n",
      "video 1/1 (frame 2355/2731) c:\\Users\\thoma\\Documents\\GitHub\\follow_target\\videos\\testvideo_1_640x360.mp4: 224x384 1 Target, 23.9ms\n",
      "video 1/1 (frame 2356/2731) c:\\Users\\thoma\\Documents\\GitHub\\follow_target\\videos\\testvideo_1_640x360.mp4: 224x384 1 Target, 28.1ms\n",
      "video 1/1 (frame 2357/2731) c:\\Users\\thoma\\Documents\\GitHub\\follow_target\\videos\\testvideo_1_640x360.mp4: 224x384 1 Target, 27.0ms\n",
      "video 1/1 (frame 2358/2731) c:\\Users\\thoma\\Documents\\GitHub\\follow_target\\videos\\testvideo_1_640x360.mp4: 224x384 1 Target, 27.0ms\n",
      "video 1/1 (frame 2359/2731) c:\\Users\\thoma\\Documents\\GitHub\\follow_target\\videos\\testvideo_1_640x360.mp4: 224x384 1 Target, 24.6ms\n",
      "video 1/1 (frame 2360/2731) c:\\Users\\thoma\\Documents\\GitHub\\follow_target\\videos\\testvideo_1_640x360.mp4: 224x384 1 Target, 29.7ms\n",
      "video 1/1 (frame 2361/2731) c:\\Users\\thoma\\Documents\\GitHub\\follow_target\\videos\\testvideo_1_640x360.mp4: 224x384 1 Target, 24.7ms\n",
      "video 1/1 (frame 2362/2731) c:\\Users\\thoma\\Documents\\GitHub\\follow_target\\videos\\testvideo_1_640x360.mp4: 224x384 1 Target, 21.5ms\n",
      "video 1/1 (frame 2363/2731) c:\\Users\\thoma\\Documents\\GitHub\\follow_target\\videos\\testvideo_1_640x360.mp4: 224x384 1 Target, 23.8ms\n",
      "video 1/1 (frame 2364/2731) c:\\Users\\thoma\\Documents\\GitHub\\follow_target\\videos\\testvideo_1_640x360.mp4: 224x384 1 Target, 21.6ms\n",
      "video 1/1 (frame 2365/2731) c:\\Users\\thoma\\Documents\\GitHub\\follow_target\\videos\\testvideo_1_640x360.mp4: 224x384 1 Target, 25.9ms\n",
      "video 1/1 (frame 2366/2731) c:\\Users\\thoma\\Documents\\GitHub\\follow_target\\videos\\testvideo_1_640x360.mp4: 224x384 1 Target, 27.3ms\n",
      "video 1/1 (frame 2367/2731) c:\\Users\\thoma\\Documents\\GitHub\\follow_target\\videos\\testvideo_1_640x360.mp4: 224x384 1 Target, 31.0ms\n",
      "video 1/1 (frame 2368/2731) c:\\Users\\thoma\\Documents\\GitHub\\follow_target\\videos\\testvideo_1_640x360.mp4: 224x384 1 Target, 25.1ms\n",
      "video 1/1 (frame 2369/2731) c:\\Users\\thoma\\Documents\\GitHub\\follow_target\\videos\\testvideo_1_640x360.mp4: 224x384 1 Target, 26.6ms\n",
      "video 1/1 (frame 2370/2731) c:\\Users\\thoma\\Documents\\GitHub\\follow_target\\videos\\testvideo_1_640x360.mp4: 224x384 1 Target, 25.3ms\n",
      "video 1/1 (frame 2371/2731) c:\\Users\\thoma\\Documents\\GitHub\\follow_target\\videos\\testvideo_1_640x360.mp4: 224x384 1 Target, 26.4ms\n",
      "video 1/1 (frame 2372/2731) c:\\Users\\thoma\\Documents\\GitHub\\follow_target\\videos\\testvideo_1_640x360.mp4: 224x384 1 Target, 26.4ms\n",
      "video 1/1 (frame 2373/2731) c:\\Users\\thoma\\Documents\\GitHub\\follow_target\\videos\\testvideo_1_640x360.mp4: 224x384 1 Target, 29.7ms\n",
      "video 1/1 (frame 2374/2731) c:\\Users\\thoma\\Documents\\GitHub\\follow_target\\videos\\testvideo_1_640x360.mp4: 224x384 1 Target, 23.4ms\n",
      "video 1/1 (frame 2375/2731) c:\\Users\\thoma\\Documents\\GitHub\\follow_target\\videos\\testvideo_1_640x360.mp4: 224x384 1 Target, 28.2ms\n",
      "video 1/1 (frame 2376/2731) c:\\Users\\thoma\\Documents\\GitHub\\follow_target\\videos\\testvideo_1_640x360.mp4: 224x384 1 Target, 25.3ms\n",
      "video 1/1 (frame 2377/2731) c:\\Users\\thoma\\Documents\\GitHub\\follow_target\\videos\\testvideo_1_640x360.mp4: 224x384 1 Target, 25.7ms\n",
      "video 1/1 (frame 2378/2731) c:\\Users\\thoma\\Documents\\GitHub\\follow_target\\videos\\testvideo_1_640x360.mp4: 224x384 1 Target, 25.8ms\n",
      "video 1/1 (frame 2379/2731) c:\\Users\\thoma\\Documents\\GitHub\\follow_target\\videos\\testvideo_1_640x360.mp4: 224x384 1 Target, 31.3ms\n",
      "video 1/1 (frame 2380/2731) c:\\Users\\thoma\\Documents\\GitHub\\follow_target\\videos\\testvideo_1_640x360.mp4: 224x384 1 Target, 27.0ms\n",
      "video 1/1 (frame 2381/2731) c:\\Users\\thoma\\Documents\\GitHub\\follow_target\\videos\\testvideo_1_640x360.mp4: 224x384 1 Target, 26.5ms\n",
      "video 1/1 (frame 2382/2731) c:\\Users\\thoma\\Documents\\GitHub\\follow_target\\videos\\testvideo_1_640x360.mp4: 224x384 1 Target, 26.7ms\n",
      "video 1/1 (frame 2383/2731) c:\\Users\\thoma\\Documents\\GitHub\\follow_target\\videos\\testvideo_1_640x360.mp4: 224x384 1 Target, 26.3ms\n",
      "video 1/1 (frame 2384/2731) c:\\Users\\thoma\\Documents\\GitHub\\follow_target\\videos\\testvideo_1_640x360.mp4: 224x384 1 Target, 22.8ms\n",
      "video 1/1 (frame 2385/2731) c:\\Users\\thoma\\Documents\\GitHub\\follow_target\\videos\\testvideo_1_640x360.mp4: 224x384 1 Target, 26.6ms\n",
      "video 1/1 (frame 2386/2731) c:\\Users\\thoma\\Documents\\GitHub\\follow_target\\videos\\testvideo_1_640x360.mp4: 224x384 1 Target, 25.3ms\n",
      "video 1/1 (frame 2387/2731) c:\\Users\\thoma\\Documents\\GitHub\\follow_target\\videos\\testvideo_1_640x360.mp4: 224x384 1 Target, 29.2ms\n",
      "video 1/1 (frame 2388/2731) c:\\Users\\thoma\\Documents\\GitHub\\follow_target\\videos\\testvideo_1_640x360.mp4: 224x384 1 Target, 28.6ms\n",
      "video 1/1 (frame 2389/2731) c:\\Users\\thoma\\Documents\\GitHub\\follow_target\\videos\\testvideo_1_640x360.mp4: 224x384 1 Target, 24.6ms\n",
      "video 1/1 (frame 2390/2731) c:\\Users\\thoma\\Documents\\GitHub\\follow_target\\videos\\testvideo_1_640x360.mp4: 224x384 1 Target, 26.4ms\n",
      "video 1/1 (frame 2391/2731) c:\\Users\\thoma\\Documents\\GitHub\\follow_target\\videos\\testvideo_1_640x360.mp4: 224x384 1 Target, 25.4ms\n",
      "video 1/1 (frame 2392/2731) c:\\Users\\thoma\\Documents\\GitHub\\follow_target\\videos\\testvideo_1_640x360.mp4: 224x384 1 Target, 27.2ms\n",
      "video 1/1 (frame 2393/2731) c:\\Users\\thoma\\Documents\\GitHub\\follow_target\\videos\\testvideo_1_640x360.mp4: 224x384 1 Target, 29.6ms\n",
      "video 1/1 (frame 2394/2731) c:\\Users\\thoma\\Documents\\GitHub\\follow_target\\videos\\testvideo_1_640x360.mp4: 224x384 1 Target, 26.1ms\n",
      "video 1/1 (frame 2395/2731) c:\\Users\\thoma\\Documents\\GitHub\\follow_target\\videos\\testvideo_1_640x360.mp4: 224x384 1 Target, 23.5ms\n",
      "video 1/1 (frame 2396/2731) c:\\Users\\thoma\\Documents\\GitHub\\follow_target\\videos\\testvideo_1_640x360.mp4: 224x384 1 Target, 28.0ms\n",
      "video 1/1 (frame 2397/2731) c:\\Users\\thoma\\Documents\\GitHub\\follow_target\\videos\\testvideo_1_640x360.mp4: 224x384 1 Target, 25.8ms\n",
      "video 1/1 (frame 2398/2731) c:\\Users\\thoma\\Documents\\GitHub\\follow_target\\videos\\testvideo_1_640x360.mp4: 224x384 1 Target, 27.8ms\n",
      "video 1/1 (frame 2399/2731) c:\\Users\\thoma\\Documents\\GitHub\\follow_target\\videos\\testvideo_1_640x360.mp4: 224x384 1 Target, 27.0ms\n",
      "video 1/1 (frame 2400/2731) c:\\Users\\thoma\\Documents\\GitHub\\follow_target\\videos\\testvideo_1_640x360.mp4: 224x384 1 Target, 27.7ms\n",
      "video 1/1 (frame 2401/2731) c:\\Users\\thoma\\Documents\\GitHub\\follow_target\\videos\\testvideo_1_640x360.mp4: 224x384 1 Target, 26.7ms\n",
      "video 1/1 (frame 2402/2731) c:\\Users\\thoma\\Documents\\GitHub\\follow_target\\videos\\testvideo_1_640x360.mp4: 224x384 1 Target, 25.5ms\n",
      "video 1/1 (frame 2403/2731) c:\\Users\\thoma\\Documents\\GitHub\\follow_target\\videos\\testvideo_1_640x360.mp4: 224x384 1 Target, 24.4ms\n",
      "video 1/1 (frame 2404/2731) c:\\Users\\thoma\\Documents\\GitHub\\follow_target\\videos\\testvideo_1_640x360.mp4: 224x384 1 Target, 26.0ms\n",
      "video 1/1 (frame 2405/2731) c:\\Users\\thoma\\Documents\\GitHub\\follow_target\\videos\\testvideo_1_640x360.mp4: 224x384 1 Target, 29.3ms\n",
      "video 1/1 (frame 2406/2731) c:\\Users\\thoma\\Documents\\GitHub\\follow_target\\videos\\testvideo_1_640x360.mp4: 224x384 1 Target, 23.9ms\n",
      "video 1/1 (frame 2407/2731) c:\\Users\\thoma\\Documents\\GitHub\\follow_target\\videos\\testvideo_1_640x360.mp4: 224x384 1 Target, 24.3ms\n",
      "video 1/1 (frame 2408/2731) c:\\Users\\thoma\\Documents\\GitHub\\follow_target\\videos\\testvideo_1_640x360.mp4: 224x384 1 Target, 23.9ms\n",
      "video 1/1 (frame 2409/2731) c:\\Users\\thoma\\Documents\\GitHub\\follow_target\\videos\\testvideo_1_640x360.mp4: 224x384 1 Target, 25.6ms\n",
      "video 1/1 (frame 2410/2731) c:\\Users\\thoma\\Documents\\GitHub\\follow_target\\videos\\testvideo_1_640x360.mp4: 224x384 1 Target, 26.5ms\n",
      "video 1/1 (frame 2411/2731) c:\\Users\\thoma\\Documents\\GitHub\\follow_target\\videos\\testvideo_1_640x360.mp4: 224x384 1 Target, 29.4ms\n",
      "video 1/1 (frame 2412/2731) c:\\Users\\thoma\\Documents\\GitHub\\follow_target\\videos\\testvideo_1_640x360.mp4: 224x384 1 Target, 24.7ms\n",
      "video 1/1 (frame 2413/2731) c:\\Users\\thoma\\Documents\\GitHub\\follow_target\\videos\\testvideo_1_640x360.mp4: 224x384 1 Target, 35.2ms\n",
      "video 1/1 (frame 2414/2731) c:\\Users\\thoma\\Documents\\GitHub\\follow_target\\videos\\testvideo_1_640x360.mp4: 224x384 1 Target, 36.2ms\n",
      "video 1/1 (frame 2415/2731) c:\\Users\\thoma\\Documents\\GitHub\\follow_target\\videos\\testvideo_1_640x360.mp4: 224x384 1 Target, 27.3ms\n",
      "video 1/1 (frame 2416/2731) c:\\Users\\thoma\\Documents\\GitHub\\follow_target\\videos\\testvideo_1_640x360.mp4: 224x384 1 Target, 24.5ms\n",
      "video 1/1 (frame 2417/2731) c:\\Users\\thoma\\Documents\\GitHub\\follow_target\\videos\\testvideo_1_640x360.mp4: 224x384 1 Target, 29.1ms\n",
      "video 1/1 (frame 2418/2731) c:\\Users\\thoma\\Documents\\GitHub\\follow_target\\videos\\testvideo_1_640x360.mp4: 224x384 1 Target, 26.7ms\n",
      "video 1/1 (frame 2419/2731) c:\\Users\\thoma\\Documents\\GitHub\\follow_target\\videos\\testvideo_1_640x360.mp4: 224x384 1 Target, 25.2ms\n",
      "video 1/1 (frame 2420/2731) c:\\Users\\thoma\\Documents\\GitHub\\follow_target\\videos\\testvideo_1_640x360.mp4: 224x384 1 Target, 25.4ms\n",
      "video 1/1 (frame 2421/2731) c:\\Users\\thoma\\Documents\\GitHub\\follow_target\\videos\\testvideo_1_640x360.mp4: 224x384 1 Target, 24.3ms\n",
      "video 1/1 (frame 2422/2731) c:\\Users\\thoma\\Documents\\GitHub\\follow_target\\videos\\testvideo_1_640x360.mp4: 224x384 1 Target, 25.2ms\n",
      "video 1/1 (frame 2423/2731) c:\\Users\\thoma\\Documents\\GitHub\\follow_target\\videos\\testvideo_1_640x360.mp4: 224x384 1 Target, 29.8ms\n",
      "video 1/1 (frame 2424/2731) c:\\Users\\thoma\\Documents\\GitHub\\follow_target\\videos\\testvideo_1_640x360.mp4: 224x384 1 Target, 26.0ms\n",
      "video 1/1 (frame 2425/2731) c:\\Users\\thoma\\Documents\\GitHub\\follow_target\\videos\\testvideo_1_640x360.mp4: 224x384 1 Target, 25.1ms\n",
      "video 1/1 (frame 2426/2731) c:\\Users\\thoma\\Documents\\GitHub\\follow_target\\videos\\testvideo_1_640x360.mp4: 224x384 1 Target, 24.2ms\n",
      "video 1/1 (frame 2427/2731) c:\\Users\\thoma\\Documents\\GitHub\\follow_target\\videos\\testvideo_1_640x360.mp4: 224x384 1 Target, 26.7ms\n",
      "video 1/1 (frame 2428/2731) c:\\Users\\thoma\\Documents\\GitHub\\follow_target\\videos\\testvideo_1_640x360.mp4: 224x384 1 Target, 24.6ms\n",
      "video 1/1 (frame 2429/2731) c:\\Users\\thoma\\Documents\\GitHub\\follow_target\\videos\\testvideo_1_640x360.mp4: 224x384 1 Target, 30.0ms\n",
      "video 1/1 (frame 2430/2731) c:\\Users\\thoma\\Documents\\GitHub\\follow_target\\videos\\testvideo_1_640x360.mp4: 224x384 1 Target, 23.3ms\n",
      "video 1/1 (frame 2431/2731) c:\\Users\\thoma\\Documents\\GitHub\\follow_target\\videos\\testvideo_1_640x360.mp4: 224x384 1 Target, 29.5ms\n",
      "video 1/1 (frame 2432/2731) c:\\Users\\thoma\\Documents\\GitHub\\follow_target\\videos\\testvideo_1_640x360.mp4: 224x384 1 Target, 20.7ms\n",
      "video 1/1 (frame 2433/2731) c:\\Users\\thoma\\Documents\\GitHub\\follow_target\\videos\\testvideo_1_640x360.mp4: 224x384 1 Target, 26.9ms\n",
      "video 1/1 (frame 2434/2731) c:\\Users\\thoma\\Documents\\GitHub\\follow_target\\videos\\testvideo_1_640x360.mp4: 224x384 1 Target, 26.1ms\n",
      "video 1/1 (frame 2435/2731) c:\\Users\\thoma\\Documents\\GitHub\\follow_target\\videos\\testvideo_1_640x360.mp4: 224x384 1 Target, 27.6ms\n",
      "video 1/1 (frame 2436/2731) c:\\Users\\thoma\\Documents\\GitHub\\follow_target\\videos\\testvideo_1_640x360.mp4: 224x384 1 Target, 25.8ms\n",
      "video 1/1 (frame 2437/2731) c:\\Users\\thoma\\Documents\\GitHub\\follow_target\\videos\\testvideo_1_640x360.mp4: 224x384 1 Target, 26.0ms\n",
      "video 1/1 (frame 2438/2731) c:\\Users\\thoma\\Documents\\GitHub\\follow_target\\videos\\testvideo_1_640x360.mp4: 224x384 1 Target, 27.8ms\n",
      "video 1/1 (frame 2439/2731) c:\\Users\\thoma\\Documents\\GitHub\\follow_target\\videos\\testvideo_1_640x360.mp4: 224x384 1 Target, 26.7ms\n",
      "video 1/1 (frame 2440/2731) c:\\Users\\thoma\\Documents\\GitHub\\follow_target\\videos\\testvideo_1_640x360.mp4: 224x384 1 Target, 26.8ms\n",
      "video 1/1 (frame 2441/2731) c:\\Users\\thoma\\Documents\\GitHub\\follow_target\\videos\\testvideo_1_640x360.mp4: 224x384 1 Target, 34.4ms\n",
      "video 1/1 (frame 2442/2731) c:\\Users\\thoma\\Documents\\GitHub\\follow_target\\videos\\testvideo_1_640x360.mp4: 224x384 1 Target, 30.8ms\n",
      "video 1/1 (frame 2443/2731) c:\\Users\\thoma\\Documents\\GitHub\\follow_target\\videos\\testvideo_1_640x360.mp4: 224x384 1 Target, 27.0ms\n",
      "video 1/1 (frame 2444/2731) c:\\Users\\thoma\\Documents\\GitHub\\follow_target\\videos\\testvideo_1_640x360.mp4: 224x384 1 Target, 27.4ms\n",
      "video 1/1 (frame 2445/2731) c:\\Users\\thoma\\Documents\\GitHub\\follow_target\\videos\\testvideo_1_640x360.mp4: 224x384 1 Target, 30.7ms\n",
      "video 1/1 (frame 2446/2731) c:\\Users\\thoma\\Documents\\GitHub\\follow_target\\videos\\testvideo_1_640x360.mp4: 224x384 1 Target, 27.3ms\n",
      "video 1/1 (frame 2447/2731) c:\\Users\\thoma\\Documents\\GitHub\\follow_target\\videos\\testvideo_1_640x360.mp4: 224x384 1 Target, 52.1ms\n",
      "video 1/1 (frame 2448/2731) c:\\Users\\thoma\\Documents\\GitHub\\follow_target\\videos\\testvideo_1_640x360.mp4: 224x384 1 Target, 29.9ms\n",
      "video 1/1 (frame 2449/2731) c:\\Users\\thoma\\Documents\\GitHub\\follow_target\\videos\\testvideo_1_640x360.mp4: 224x384 1 Target, 26.8ms\n",
      "video 1/1 (frame 2450/2731) c:\\Users\\thoma\\Documents\\GitHub\\follow_target\\videos\\testvideo_1_640x360.mp4: 224x384 1 Target, 25.0ms\n",
      "video 1/1 (frame 2451/2731) c:\\Users\\thoma\\Documents\\GitHub\\follow_target\\videos\\testvideo_1_640x360.mp4: 224x384 1 Target, 25.8ms\n",
      "video 1/1 (frame 2452/2731) c:\\Users\\thoma\\Documents\\GitHub\\follow_target\\videos\\testvideo_1_640x360.mp4: 224x384 1 Target, 26.2ms\n",
      "video 1/1 (frame 2453/2731) c:\\Users\\thoma\\Documents\\GitHub\\follow_target\\videos\\testvideo_1_640x360.mp4: 224x384 1 Target, 32.9ms\n",
      "video 1/1 (frame 2454/2731) c:\\Users\\thoma\\Documents\\GitHub\\follow_target\\videos\\testvideo_1_640x360.mp4: 224x384 1 Target, 24.9ms\n",
      "video 1/1 (frame 2455/2731) c:\\Users\\thoma\\Documents\\GitHub\\follow_target\\videos\\testvideo_1_640x360.mp4: 224x384 1 Target, 26.4ms\n",
      "video 1/1 (frame 2456/2731) c:\\Users\\thoma\\Documents\\GitHub\\follow_target\\videos\\testvideo_1_640x360.mp4: 224x384 1 Target, 25.7ms\n",
      "video 1/1 (frame 2457/2731) c:\\Users\\thoma\\Documents\\GitHub\\follow_target\\videos\\testvideo_1_640x360.mp4: 224x384 1 Target, 27.7ms\n",
      "video 1/1 (frame 2458/2731) c:\\Users\\thoma\\Documents\\GitHub\\follow_target\\videos\\testvideo_1_640x360.mp4: 224x384 1 Target, 27.5ms\n",
      "video 1/1 (frame 2459/2731) c:\\Users\\thoma\\Documents\\GitHub\\follow_target\\videos\\testvideo_1_640x360.mp4: 224x384 1 Target, 26.9ms\n",
      "video 1/1 (frame 2460/2731) c:\\Users\\thoma\\Documents\\GitHub\\follow_target\\videos\\testvideo_1_640x360.mp4: 224x384 1 Target, 28.0ms\n",
      "video 1/1 (frame 2461/2731) c:\\Users\\thoma\\Documents\\GitHub\\follow_target\\videos\\testvideo_1_640x360.mp4: 224x384 1 Target, 24.1ms\n",
      "video 1/1 (frame 2462/2731) c:\\Users\\thoma\\Documents\\GitHub\\follow_target\\videos\\testvideo_1_640x360.mp4: 224x384 1 Target, 26.9ms\n",
      "video 1/1 (frame 2463/2731) c:\\Users\\thoma\\Documents\\GitHub\\follow_target\\videos\\testvideo_1_640x360.mp4: 224x384 1 Target, 25.5ms\n",
      "video 1/1 (frame 2464/2731) c:\\Users\\thoma\\Documents\\GitHub\\follow_target\\videos\\testvideo_1_640x360.mp4: 224x384 1 Target, 26.8ms\n",
      "video 1/1 (frame 2465/2731) c:\\Users\\thoma\\Documents\\GitHub\\follow_target\\videos\\testvideo_1_640x360.mp4: 224x384 1 Target, 26.6ms\n",
      "video 1/1 (frame 2466/2731) c:\\Users\\thoma\\Documents\\GitHub\\follow_target\\videos\\testvideo_1_640x360.mp4: 224x384 1 Target, 26.3ms\n",
      "video 1/1 (frame 2467/2731) c:\\Users\\thoma\\Documents\\GitHub\\follow_target\\videos\\testvideo_1_640x360.mp4: 224x384 1 Target, 25.7ms\n",
      "video 1/1 (frame 2468/2731) c:\\Users\\thoma\\Documents\\GitHub\\follow_target\\videos\\testvideo_1_640x360.mp4: 224x384 1 Target, 26.8ms\n",
      "video 1/1 (frame 2469/2731) c:\\Users\\thoma\\Documents\\GitHub\\follow_target\\videos\\testvideo_1_640x360.mp4: 224x384 1 Target, 26.3ms\n",
      "video 1/1 (frame 2470/2731) c:\\Users\\thoma\\Documents\\GitHub\\follow_target\\videos\\testvideo_1_640x360.mp4: 224x384 1 Target, 28.0ms\n",
      "video 1/1 (frame 2471/2731) c:\\Users\\thoma\\Documents\\GitHub\\follow_target\\videos\\testvideo_1_640x360.mp4: 224x384 1 Target, 28.9ms\n",
      "video 1/1 (frame 2472/2731) c:\\Users\\thoma\\Documents\\GitHub\\follow_target\\videos\\testvideo_1_640x360.mp4: 224x384 1 Target, 30.8ms\n",
      "video 1/1 (frame 2473/2731) c:\\Users\\thoma\\Documents\\GitHub\\follow_target\\videos\\testvideo_1_640x360.mp4: 224x384 1 Target, 27.1ms\n",
      "video 1/1 (frame 2474/2731) c:\\Users\\thoma\\Documents\\GitHub\\follow_target\\videos\\testvideo_1_640x360.mp4: 224x384 1 Target, 25.7ms\n",
      "video 1/1 (frame 2475/2731) c:\\Users\\thoma\\Documents\\GitHub\\follow_target\\videos\\testvideo_1_640x360.mp4: 224x384 1 Target, 26.4ms\n",
      "video 1/1 (frame 2476/2731) c:\\Users\\thoma\\Documents\\GitHub\\follow_target\\videos\\testvideo_1_640x360.mp4: 224x384 1 Target, 27.0ms\n",
      "video 1/1 (frame 2477/2731) c:\\Users\\thoma\\Documents\\GitHub\\follow_target\\videos\\testvideo_1_640x360.mp4: 224x384 1 Target, 26.9ms\n",
      "video 1/1 (frame 2478/2731) c:\\Users\\thoma\\Documents\\GitHub\\follow_target\\videos\\testvideo_1_640x360.mp4: 224x384 1 Target, 31.5ms\n",
      "video 1/1 (frame 2479/2731) c:\\Users\\thoma\\Documents\\GitHub\\follow_target\\videos\\testvideo_1_640x360.mp4: 224x384 1 Target, 37.6ms\n",
      "video 1/1 (frame 2480/2731) c:\\Users\\thoma\\Documents\\GitHub\\follow_target\\videos\\testvideo_1_640x360.mp4: 224x384 1 Target, 28.2ms\n",
      "video 1/1 (frame 2481/2731) c:\\Users\\thoma\\Documents\\GitHub\\follow_target\\videos\\testvideo_1_640x360.mp4: 224x384 1 Target, 26.2ms\n",
      "video 1/1 (frame 2482/2731) c:\\Users\\thoma\\Documents\\GitHub\\follow_target\\videos\\testvideo_1_640x360.mp4: 224x384 1 Target, 26.9ms\n",
      "video 1/1 (frame 2483/2731) c:\\Users\\thoma\\Documents\\GitHub\\follow_target\\videos\\testvideo_1_640x360.mp4: 224x384 1 Target, 26.9ms\n",
      "video 1/1 (frame 2484/2731) c:\\Users\\thoma\\Documents\\GitHub\\follow_target\\videos\\testvideo_1_640x360.mp4: 224x384 1 Target, 33.0ms\n",
      "video 1/1 (frame 2485/2731) c:\\Users\\thoma\\Documents\\GitHub\\follow_target\\videos\\testvideo_1_640x360.mp4: 224x384 1 Target, 26.6ms\n",
      "video 1/1 (frame 2486/2731) c:\\Users\\thoma\\Documents\\GitHub\\follow_target\\videos\\testvideo_1_640x360.mp4: 224x384 1 Target, 25.5ms\n",
      "video 1/1 (frame 2487/2731) c:\\Users\\thoma\\Documents\\GitHub\\follow_target\\videos\\testvideo_1_640x360.mp4: 224x384 1 Target, 24.7ms\n",
      "video 1/1 (frame 2488/2731) c:\\Users\\thoma\\Documents\\GitHub\\follow_target\\videos\\testvideo_1_640x360.mp4: 224x384 1 Target, 28.6ms\n",
      "video 1/1 (frame 2489/2731) c:\\Users\\thoma\\Documents\\GitHub\\follow_target\\videos\\testvideo_1_640x360.mp4: 224x384 1 Target, 25.1ms\n",
      "video 1/1 (frame 2490/2731) c:\\Users\\thoma\\Documents\\GitHub\\follow_target\\videos\\testvideo_1_640x360.mp4: 224x384 1 Target, 28.7ms\n",
      "video 1/1 (frame 2491/2731) c:\\Users\\thoma\\Documents\\GitHub\\follow_target\\videos\\testvideo_1_640x360.mp4: 224x384 1 Target, 29.8ms\n",
      "video 1/1 (frame 2492/2731) c:\\Users\\thoma\\Documents\\GitHub\\follow_target\\videos\\testvideo_1_640x360.mp4: 224x384 1 Target, 27.4ms\n",
      "video 1/1 (frame 2493/2731) c:\\Users\\thoma\\Documents\\GitHub\\follow_target\\videos\\testvideo_1_640x360.mp4: 224x384 1 Target, 25.6ms\n",
      "video 1/1 (frame 2494/2731) c:\\Users\\thoma\\Documents\\GitHub\\follow_target\\videos\\testvideo_1_640x360.mp4: 224x384 1 Target, 26.0ms\n",
      "video 1/1 (frame 2495/2731) c:\\Users\\thoma\\Documents\\GitHub\\follow_target\\videos\\testvideo_1_640x360.mp4: 224x384 1 Target, 23.8ms\n",
      "video 1/1 (frame 2496/2731) c:\\Users\\thoma\\Documents\\GitHub\\follow_target\\videos\\testvideo_1_640x360.mp4: 224x384 1 Target, 27.8ms\n",
      "video 1/1 (frame 2497/2731) c:\\Users\\thoma\\Documents\\GitHub\\follow_target\\videos\\testvideo_1_640x360.mp4: 224x384 1 Target, 26.2ms\n",
      "video 1/1 (frame 2498/2731) c:\\Users\\thoma\\Documents\\GitHub\\follow_target\\videos\\testvideo_1_640x360.mp4: 224x384 1 Target, 27.9ms\n",
      "video 1/1 (frame 2499/2731) c:\\Users\\thoma\\Documents\\GitHub\\follow_target\\videos\\testvideo_1_640x360.mp4: 224x384 1 Target, 27.9ms\n",
      "video 1/1 (frame 2500/2731) c:\\Users\\thoma\\Documents\\GitHub\\follow_target\\videos\\testvideo_1_640x360.mp4: 224x384 1 Target, 26.8ms\n",
      "video 1/1 (frame 2501/2731) c:\\Users\\thoma\\Documents\\GitHub\\follow_target\\videos\\testvideo_1_640x360.mp4: 224x384 1 Target, 26.8ms\n",
      "video 1/1 (frame 2502/2731) c:\\Users\\thoma\\Documents\\GitHub\\follow_target\\videos\\testvideo_1_640x360.mp4: 224x384 1 Target, 28.4ms\n",
      "video 1/1 (frame 2503/2731) c:\\Users\\thoma\\Documents\\GitHub\\follow_target\\videos\\testvideo_1_640x360.mp4: 224x384 1 Target, 25.7ms\n",
      "video 1/1 (frame 2504/2731) c:\\Users\\thoma\\Documents\\GitHub\\follow_target\\videos\\testvideo_1_640x360.mp4: 224x384 1 Target, 26.4ms\n",
      "video 1/1 (frame 2505/2731) c:\\Users\\thoma\\Documents\\GitHub\\follow_target\\videos\\testvideo_1_640x360.mp4: 224x384 1 Target, 26.1ms\n",
      "video 1/1 (frame 2506/2731) c:\\Users\\thoma\\Documents\\GitHub\\follow_target\\videos\\testvideo_1_640x360.mp4: 224x384 1 Target, 26.2ms\n",
      "video 1/1 (frame 2507/2731) c:\\Users\\thoma\\Documents\\GitHub\\follow_target\\videos\\testvideo_1_640x360.mp4: 224x384 1 Target, 26.2ms\n",
      "video 1/1 (frame 2508/2731) c:\\Users\\thoma\\Documents\\GitHub\\follow_target\\videos\\testvideo_1_640x360.mp4: 224x384 1 Target, 29.3ms\n",
      "video 1/1 (frame 2509/2731) c:\\Users\\thoma\\Documents\\GitHub\\follow_target\\videos\\testvideo_1_640x360.mp4: 224x384 1 Target, 26.7ms\n",
      "video 1/1 (frame 2510/2731) c:\\Users\\thoma\\Documents\\GitHub\\follow_target\\videos\\testvideo_1_640x360.mp4: 224x384 1 Target, 25.5ms\n",
      "video 1/1 (frame 2511/2731) c:\\Users\\thoma\\Documents\\GitHub\\follow_target\\videos\\testvideo_1_640x360.mp4: 224x384 1 Target, 47.0ms\n",
      "video 1/1 (frame 2512/2731) c:\\Users\\thoma\\Documents\\GitHub\\follow_target\\videos\\testvideo_1_640x360.mp4: 224x384 1 Target, 30.8ms\n",
      "video 1/1 (frame 2513/2731) c:\\Users\\thoma\\Documents\\GitHub\\follow_target\\videos\\testvideo_1_640x360.mp4: 224x384 1 Target, 27.0ms\n",
      "video 1/1 (frame 2514/2731) c:\\Users\\thoma\\Documents\\GitHub\\follow_target\\videos\\testvideo_1_640x360.mp4: 224x384 1 Target, 29.4ms\n",
      "video 1/1 (frame 2515/2731) c:\\Users\\thoma\\Documents\\GitHub\\follow_target\\videos\\testvideo_1_640x360.mp4: 224x384 1 Target, 27.2ms\n",
      "video 1/1 (frame 2516/2731) c:\\Users\\thoma\\Documents\\GitHub\\follow_target\\videos\\testvideo_1_640x360.mp4: 224x384 1 Target, 25.3ms\n",
      "video 1/1 (frame 2517/2731) c:\\Users\\thoma\\Documents\\GitHub\\follow_target\\videos\\testvideo_1_640x360.mp4: 224x384 1 Target, 26.5ms\n",
      "video 1/1 (frame 2518/2731) c:\\Users\\thoma\\Documents\\GitHub\\follow_target\\videos\\testvideo_1_640x360.mp4: 224x384 1 Target, 26.7ms\n",
      "video 1/1 (frame 2519/2731) c:\\Users\\thoma\\Documents\\GitHub\\follow_target\\videos\\testvideo_1_640x360.mp4: 224x384 1 Target, 27.5ms\n",
      "video 1/1 (frame 2520/2731) c:\\Users\\thoma\\Documents\\GitHub\\follow_target\\videos\\testvideo_1_640x360.mp4: 224x384 1 Target, 31.0ms\n",
      "video 1/1 (frame 2521/2731) c:\\Users\\thoma\\Documents\\GitHub\\follow_target\\videos\\testvideo_1_640x360.mp4: 224x384 1 Target, 26.7ms\n",
      "video 1/1 (frame 2522/2731) c:\\Users\\thoma\\Documents\\GitHub\\follow_target\\videos\\testvideo_1_640x360.mp4: 224x384 1 Target, 27.2ms\n",
      "video 1/1 (frame 2523/2731) c:\\Users\\thoma\\Documents\\GitHub\\follow_target\\videos\\testvideo_1_640x360.mp4: 224x384 1 Target, 26.8ms\n",
      "video 1/1 (frame 2524/2731) c:\\Users\\thoma\\Documents\\GitHub\\follow_target\\videos\\testvideo_1_640x360.mp4: 224x384 1 Target, 29.3ms\n",
      "video 1/1 (frame 2525/2731) c:\\Users\\thoma\\Documents\\GitHub\\follow_target\\videos\\testvideo_1_640x360.mp4: 224x384 1 Target, 27.0ms\n",
      "video 1/1 (frame 2526/2731) c:\\Users\\thoma\\Documents\\GitHub\\follow_target\\videos\\testvideo_1_640x360.mp4: 224x384 1 Target, 28.2ms\n",
      "video 1/1 (frame 2527/2731) c:\\Users\\thoma\\Documents\\GitHub\\follow_target\\videos\\testvideo_1_640x360.mp4: 224x384 1 Target, 26.8ms\n",
      "video 1/1 (frame 2528/2731) c:\\Users\\thoma\\Documents\\GitHub\\follow_target\\videos\\testvideo_1_640x360.mp4: 224x384 1 Target, 27.6ms\n",
      "video 1/1 (frame 2529/2731) c:\\Users\\thoma\\Documents\\GitHub\\follow_target\\videos\\testvideo_1_640x360.mp4: 224x384 1 Target, 26.7ms\n",
      "video 1/1 (frame 2530/2731) c:\\Users\\thoma\\Documents\\GitHub\\follow_target\\videos\\testvideo_1_640x360.mp4: 224x384 1 Target, 27.2ms\n",
      "video 1/1 (frame 2531/2731) c:\\Users\\thoma\\Documents\\GitHub\\follow_target\\videos\\testvideo_1_640x360.mp4: 224x384 1 Target, 26.8ms\n",
      "video 1/1 (frame 2532/2731) c:\\Users\\thoma\\Documents\\GitHub\\follow_target\\videos\\testvideo_1_640x360.mp4: 224x384 1 Target, 29.3ms\n",
      "video 1/1 (frame 2533/2731) c:\\Users\\thoma\\Documents\\GitHub\\follow_target\\videos\\testvideo_1_640x360.mp4: 224x384 1 Target, 26.3ms\n",
      "video 1/1 (frame 2534/2731) c:\\Users\\thoma\\Documents\\GitHub\\follow_target\\videos\\testvideo_1_640x360.mp4: 224x384 1 Target, 26.6ms\n",
      "video 1/1 (frame 2535/2731) c:\\Users\\thoma\\Documents\\GitHub\\follow_target\\videos\\testvideo_1_640x360.mp4: 224x384 1 Target, 26.4ms\n",
      "video 1/1 (frame 2536/2731) c:\\Users\\thoma\\Documents\\GitHub\\follow_target\\videos\\testvideo_1_640x360.mp4: 224x384 1 Target, 26.6ms\n",
      "video 1/1 (frame 2537/2731) c:\\Users\\thoma\\Documents\\GitHub\\follow_target\\videos\\testvideo_1_640x360.mp4: 224x384 1 Target, 27.3ms\n",
      "video 1/1 (frame 2538/2731) c:\\Users\\thoma\\Documents\\GitHub\\follow_target\\videos\\testvideo_1_640x360.mp4: 224x384 1 Target, 29.1ms\n",
      "video 1/1 (frame 2539/2731) c:\\Users\\thoma\\Documents\\GitHub\\follow_target\\videos\\testvideo_1_640x360.mp4: 224x384 1 Target, 27.9ms\n",
      "video 1/1 (frame 2540/2731) c:\\Users\\thoma\\Documents\\GitHub\\follow_target\\videos\\testvideo_1_640x360.mp4: 224x384 1 Target, 26.3ms\n",
      "video 1/1 (frame 2541/2731) c:\\Users\\thoma\\Documents\\GitHub\\follow_target\\videos\\testvideo_1_640x360.mp4: 224x384 1 Target, 27.2ms\n",
      "video 1/1 (frame 2542/2731) c:\\Users\\thoma\\Documents\\GitHub\\follow_target\\videos\\testvideo_1_640x360.mp4: 224x384 1 Target, 27.6ms\n",
      "video 1/1 (frame 2543/2731) c:\\Users\\thoma\\Documents\\GitHub\\follow_target\\videos\\testvideo_1_640x360.mp4: 224x384 1 Target, 27.2ms\n",
      "video 1/1 (frame 2544/2731) c:\\Users\\thoma\\Documents\\GitHub\\follow_target\\videos\\testvideo_1_640x360.mp4: 224x384 1 Target, 26.8ms\n",
      "video 1/1 (frame 2545/2731) c:\\Users\\thoma\\Documents\\GitHub\\follow_target\\videos\\testvideo_1_640x360.mp4: 224x384 1 Target, 25.8ms\n",
      "video 1/1 (frame 2546/2731) c:\\Users\\thoma\\Documents\\GitHub\\follow_target\\videos\\testvideo_1_640x360.mp4: 224x384 1 Target, 45.4ms\n",
      "video 1/1 (frame 2547/2731) c:\\Users\\thoma\\Documents\\GitHub\\follow_target\\videos\\testvideo_1_640x360.mp4: 224x384 1 Target, 29.6ms\n",
      "video 1/1 (frame 2548/2731) c:\\Users\\thoma\\Documents\\GitHub\\follow_target\\videos\\testvideo_1_640x360.mp4: 224x384 1 Target, 25.8ms\n",
      "video 1/1 (frame 2549/2731) c:\\Users\\thoma\\Documents\\GitHub\\follow_target\\videos\\testvideo_1_640x360.mp4: 224x384 1 Target, 27.2ms\n",
      "video 1/1 (frame 2550/2731) c:\\Users\\thoma\\Documents\\GitHub\\follow_target\\videos\\testvideo_1_640x360.mp4: 224x384 1 Target, 27.3ms\n",
      "video 1/1 (frame 2551/2731) c:\\Users\\thoma\\Documents\\GitHub\\follow_target\\videos\\testvideo_1_640x360.mp4: 224x384 1 Target, 31.3ms\n",
      "video 1/1 (frame 2552/2731) c:\\Users\\thoma\\Documents\\GitHub\\follow_target\\videos\\testvideo_1_640x360.mp4: 224x384 1 Target, 28.5ms\n",
      "video 1/1 (frame 2553/2731) c:\\Users\\thoma\\Documents\\GitHub\\follow_target\\videos\\testvideo_1_640x360.mp4: 224x384 1 Target, 29.5ms\n",
      "video 1/1 (frame 2554/2731) c:\\Users\\thoma\\Documents\\GitHub\\follow_target\\videos\\testvideo_1_640x360.mp4: 224x384 1 Target, 27.0ms\n",
      "video 1/1 (frame 2555/2731) c:\\Users\\thoma\\Documents\\GitHub\\follow_target\\videos\\testvideo_1_640x360.mp4: 224x384 1 Target, 27.4ms\n",
      "video 1/1 (frame 2556/2731) c:\\Users\\thoma\\Documents\\GitHub\\follow_target\\videos\\testvideo_1_640x360.mp4: 224x384 1 Target, 27.4ms\n",
      "video 1/1 (frame 2557/2731) c:\\Users\\thoma\\Documents\\GitHub\\follow_target\\videos\\testvideo_1_640x360.mp4: 224x384 1 Target, 25.7ms\n",
      "video 1/1 (frame 2558/2731) c:\\Users\\thoma\\Documents\\GitHub\\follow_target\\videos\\testvideo_1_640x360.mp4: 224x384 1 Target, 25.4ms\n",
      "video 1/1 (frame 2559/2731) c:\\Users\\thoma\\Documents\\GitHub\\follow_target\\videos\\testvideo_1_640x360.mp4: 224x384 1 Target, 27.5ms\n",
      "video 1/1 (frame 2560/2731) c:\\Users\\thoma\\Documents\\GitHub\\follow_target\\videos\\testvideo_1_640x360.mp4: 224x384 1 Target, 26.4ms\n",
      "video 1/1 (frame 2561/2731) c:\\Users\\thoma\\Documents\\GitHub\\follow_target\\videos\\testvideo_1_640x360.mp4: 224x384 1 Target, 29.7ms\n",
      "video 1/1 (frame 2562/2731) c:\\Users\\thoma\\Documents\\GitHub\\follow_target\\videos\\testvideo_1_640x360.mp4: 224x384 1 Target, 26.7ms\n",
      "video 1/1 (frame 2563/2731) c:\\Users\\thoma\\Documents\\GitHub\\follow_target\\videos\\testvideo_1_640x360.mp4: 224x384 1 Target, 28.4ms\n",
      "video 1/1 (frame 2564/2731) c:\\Users\\thoma\\Documents\\GitHub\\follow_target\\videos\\testvideo_1_640x360.mp4: 224x384 1 Target, 26.5ms\n",
      "video 1/1 (frame 2565/2731) c:\\Users\\thoma\\Documents\\GitHub\\follow_target\\videos\\testvideo_1_640x360.mp4: 224x384 1 Target, 28.9ms\n",
      "video 1/1 (frame 2566/2731) c:\\Users\\thoma\\Documents\\GitHub\\follow_target\\videos\\testvideo_1_640x360.mp4: 224x384 1 Target, 27.2ms\n",
      "video 1/1 (frame 2567/2731) c:\\Users\\thoma\\Documents\\GitHub\\follow_target\\videos\\testvideo_1_640x360.mp4: 224x384 1 Target, 31.1ms\n",
      "video 1/1 (frame 2568/2731) c:\\Users\\thoma\\Documents\\GitHub\\follow_target\\videos\\testvideo_1_640x360.mp4: 224x384 1 Target, 26.7ms\n",
      "video 1/1 (frame 2569/2731) c:\\Users\\thoma\\Documents\\GitHub\\follow_target\\videos\\testvideo_1_640x360.mp4: 224x384 1 Target, 29.2ms\n",
      "video 1/1 (frame 2570/2731) c:\\Users\\thoma\\Documents\\GitHub\\follow_target\\videos\\testvideo_1_640x360.mp4: 224x384 1 Target, 26.4ms\n",
      "video 1/1 (frame 2571/2731) c:\\Users\\thoma\\Documents\\GitHub\\follow_target\\videos\\testvideo_1_640x360.mp4: 224x384 1 Target, 27.4ms\n",
      "video 1/1 (frame 2572/2731) c:\\Users\\thoma\\Documents\\GitHub\\follow_target\\videos\\testvideo_1_640x360.mp4: 224x384 1 Target, 26.7ms\n",
      "video 1/1 (frame 2573/2731) c:\\Users\\thoma\\Documents\\GitHub\\follow_target\\videos\\testvideo_1_640x360.mp4: 224x384 1 Target, 26.4ms\n",
      "video 1/1 (frame 2574/2731) c:\\Users\\thoma\\Documents\\GitHub\\follow_target\\videos\\testvideo_1_640x360.mp4: 224x384 1 Target, 26.7ms\n",
      "video 1/1 (frame 2575/2731) c:\\Users\\thoma\\Documents\\GitHub\\follow_target\\videos\\testvideo_1_640x360.mp4: 224x384 1 Target, 25.8ms\n",
      "video 1/1 (frame 2576/2731) c:\\Users\\thoma\\Documents\\GitHub\\follow_target\\videos\\testvideo_1_640x360.mp4: 224x384 1 Target, 27.3ms\n",
      "video 1/1 (frame 2577/2731) c:\\Users\\thoma\\Documents\\GitHub\\follow_target\\videos\\testvideo_1_640x360.mp4: 224x384 1 Target, 28.2ms\n",
      "video 1/1 (frame 2578/2731) c:\\Users\\thoma\\Documents\\GitHub\\follow_target\\videos\\testvideo_1_640x360.mp4: 224x384 1 Target, 40.2ms\n",
      "video 1/1 (frame 2579/2731) c:\\Users\\thoma\\Documents\\GitHub\\follow_target\\videos\\testvideo_1_640x360.mp4: 224x384 1 Target, 30.4ms\n",
      "video 1/1 (frame 2580/2731) c:\\Users\\thoma\\Documents\\GitHub\\follow_target\\videos\\testvideo_1_640x360.mp4: 224x384 1 Target, 27.8ms\n",
      "video 1/1 (frame 2581/2731) c:\\Users\\thoma\\Documents\\GitHub\\follow_target\\videos\\testvideo_1_640x360.mp4: 224x384 1 Target, 28.2ms\n",
      "video 1/1 (frame 2582/2731) c:\\Users\\thoma\\Documents\\GitHub\\follow_target\\videos\\testvideo_1_640x360.mp4: 224x384 1 Target, 26.9ms\n",
      "video 1/1 (frame 2583/2731) c:\\Users\\thoma\\Documents\\GitHub\\follow_target\\videos\\testvideo_1_640x360.mp4: 224x384 1 Target, 27.4ms\n",
      "video 1/1 (frame 2584/2731) c:\\Users\\thoma\\Documents\\GitHub\\follow_target\\videos\\testvideo_1_640x360.mp4: 224x384 1 Target, 26.2ms\n",
      "video 1/1 (frame 2585/2731) c:\\Users\\thoma\\Documents\\GitHub\\follow_target\\videos\\testvideo_1_640x360.mp4: 224x384 1 Target, 25.2ms\n",
      "video 1/1 (frame 2586/2731) c:\\Users\\thoma\\Documents\\GitHub\\follow_target\\videos\\testvideo_1_640x360.mp4: 224x384 1 Target, 26.5ms\n",
      "video 1/1 (frame 2587/2731) c:\\Users\\thoma\\Documents\\GitHub\\follow_target\\videos\\testvideo_1_640x360.mp4: 224x384 1 Target, 28.6ms\n",
      "video 1/1 (frame 2588/2731) c:\\Users\\thoma\\Documents\\GitHub\\follow_target\\videos\\testvideo_1_640x360.mp4: 224x384 1 Target, 25.8ms\n",
      "video 1/1 (frame 2589/2731) c:\\Users\\thoma\\Documents\\GitHub\\follow_target\\videos\\testvideo_1_640x360.mp4: 224x384 1 Target, 27.4ms\n",
      "video 1/1 (frame 2590/2731) c:\\Users\\thoma\\Documents\\GitHub\\follow_target\\videos\\testvideo_1_640x360.mp4: 224x384 1 Target, 29.0ms\n",
      "video 1/1 (frame 2591/2731) c:\\Users\\thoma\\Documents\\GitHub\\follow_target\\videos\\testvideo_1_640x360.mp4: 224x384 1 Target, 25.3ms\n",
      "video 1/1 (frame 2592/2731) c:\\Users\\thoma\\Documents\\GitHub\\follow_target\\videos\\testvideo_1_640x360.mp4: 224x384 1 Target, 28.4ms\n",
      "video 1/1 (frame 2593/2731) c:\\Users\\thoma\\Documents\\GitHub\\follow_target\\videos\\testvideo_1_640x360.mp4: 224x384 1 Target, 31.7ms\n",
      "video 1/1 (frame 2594/2731) c:\\Users\\thoma\\Documents\\GitHub\\follow_target\\videos\\testvideo_1_640x360.mp4: 224x384 1 Target, 30.5ms\n",
      "video 1/1 (frame 2595/2731) c:\\Users\\thoma\\Documents\\GitHub\\follow_target\\videos\\testvideo_1_640x360.mp4: 224x384 1 Target, 29.7ms\n",
      "video 1/1 (frame 2596/2731) c:\\Users\\thoma\\Documents\\GitHub\\follow_target\\videos\\testvideo_1_640x360.mp4: 224x384 1 Target, 27.4ms\n",
      "video 1/1 (frame 2597/2731) c:\\Users\\thoma\\Documents\\GitHub\\follow_target\\videos\\testvideo_1_640x360.mp4: 224x384 1 Target, 28.5ms\n",
      "video 1/1 (frame 2598/2731) c:\\Users\\thoma\\Documents\\GitHub\\follow_target\\videos\\testvideo_1_640x360.mp4: 224x384 1 Target, 26.9ms\n",
      "video 1/1 (frame 2599/2731) c:\\Users\\thoma\\Documents\\GitHub\\follow_target\\videos\\testvideo_1_640x360.mp4: 224x384 1 Target, 30.4ms\n",
      "video 1/1 (frame 2600/2731) c:\\Users\\thoma\\Documents\\GitHub\\follow_target\\videos\\testvideo_1_640x360.mp4: 224x384 1 Target, 24.3ms\n",
      "video 1/1 (frame 2601/2731) c:\\Users\\thoma\\Documents\\GitHub\\follow_target\\videos\\testvideo_1_640x360.mp4: 224x384 1 Target, 25.6ms\n",
      "video 1/1 (frame 2602/2731) c:\\Users\\thoma\\Documents\\GitHub\\follow_target\\videos\\testvideo_1_640x360.mp4: 224x384 1 Target, 26.9ms\n",
      "video 1/1 (frame 2603/2731) c:\\Users\\thoma\\Documents\\GitHub\\follow_target\\videos\\testvideo_1_640x360.mp4: 224x384 1 Target, 25.6ms\n",
      "video 1/1 (frame 2604/2731) c:\\Users\\thoma\\Documents\\GitHub\\follow_target\\videos\\testvideo_1_640x360.mp4: 224x384 1 Target, 30.5ms\n",
      "video 1/1 (frame 2605/2731) c:\\Users\\thoma\\Documents\\GitHub\\follow_target\\videos\\testvideo_1_640x360.mp4: 224x384 1 Target, 26.5ms\n",
      "video 1/1 (frame 2606/2731) c:\\Users\\thoma\\Documents\\GitHub\\follow_target\\videos\\testvideo_1_640x360.mp4: 224x384 1 Target, 28.5ms\n",
      "video 1/1 (frame 2607/2731) c:\\Users\\thoma\\Documents\\GitHub\\follow_target\\videos\\testvideo_1_640x360.mp4: 224x384 1 Target, 27.2ms\n",
      "video 1/1 (frame 2608/2731) c:\\Users\\thoma\\Documents\\GitHub\\follow_target\\videos\\testvideo_1_640x360.mp4: 224x384 1 Target, 27.5ms\n",
      "video 1/1 (frame 2609/2731) c:\\Users\\thoma\\Documents\\GitHub\\follow_target\\videos\\testvideo_1_640x360.mp4: 224x384 1 Target, 27.6ms\n",
      "video 1/1 (frame 2610/2731) c:\\Users\\thoma\\Documents\\GitHub\\follow_target\\videos\\testvideo_1_640x360.mp4: 224x384 1 Target, 57.2ms\n",
      "video 1/1 (frame 2611/2731) c:\\Users\\thoma\\Documents\\GitHub\\follow_target\\videos\\testvideo_1_640x360.mp4: 224x384 1 Target, 27.3ms\n",
      "video 1/1 (frame 2612/2731) c:\\Users\\thoma\\Documents\\GitHub\\follow_target\\videos\\testvideo_1_640x360.mp4: 224x384 1 Target, 26.7ms\n",
      "video 1/1 (frame 2613/2731) c:\\Users\\thoma\\Documents\\GitHub\\follow_target\\videos\\testvideo_1_640x360.mp4: 224x384 1 Target, 27.5ms\n",
      "video 1/1 (frame 2614/2731) c:\\Users\\thoma\\Documents\\GitHub\\follow_target\\videos\\testvideo_1_640x360.mp4: 224x384 1 Target, 26.6ms\n",
      "video 1/1 (frame 2615/2731) c:\\Users\\thoma\\Documents\\GitHub\\follow_target\\videos\\testvideo_1_640x360.mp4: 224x384 1 Target, 26.8ms\n",
      "video 1/1 (frame 2616/2731) c:\\Users\\thoma\\Documents\\GitHub\\follow_target\\videos\\testvideo_1_640x360.mp4: 224x384 1 Target, 30.5ms\n",
      "video 1/1 (frame 2617/2731) c:\\Users\\thoma\\Documents\\GitHub\\follow_target\\videos\\testvideo_1_640x360.mp4: 224x384 1 Target, 24.2ms\n",
      "video 1/1 (frame 2618/2731) c:\\Users\\thoma\\Documents\\GitHub\\follow_target\\videos\\testvideo_1_640x360.mp4: 224x384 1 Target, 25.8ms\n",
      "video 1/1 (frame 2619/2731) c:\\Users\\thoma\\Documents\\GitHub\\follow_target\\videos\\testvideo_1_640x360.mp4: 224x384 1 Target, 25.4ms\n",
      "video 1/1 (frame 2620/2731) c:\\Users\\thoma\\Documents\\GitHub\\follow_target\\videos\\testvideo_1_640x360.mp4: 224x384 1 Target, 27.4ms\n",
      "video 1/1 (frame 2621/2731) c:\\Users\\thoma\\Documents\\GitHub\\follow_target\\videos\\testvideo_1_640x360.mp4: 224x384 1 Target, 27.4ms\n",
      "video 1/1 (frame 2622/2731) c:\\Users\\thoma\\Documents\\GitHub\\follow_target\\videos\\testvideo_1_640x360.mp4: 224x384 1 Target, 27.6ms\n",
      "video 1/1 (frame 2623/2731) c:\\Users\\thoma\\Documents\\GitHub\\follow_target\\videos\\testvideo_1_640x360.mp4: 224x384 1 Target, 26.7ms\n",
      "video 1/1 (frame 2624/2731) c:\\Users\\thoma\\Documents\\GitHub\\follow_target\\videos\\testvideo_1_640x360.mp4: 224x384 1 Target, 25.7ms\n",
      "video 1/1 (frame 2625/2731) c:\\Users\\thoma\\Documents\\GitHub\\follow_target\\videos\\testvideo_1_640x360.mp4: 224x384 1 Target, 26.8ms\n",
      "video 1/1 (frame 2626/2731) c:\\Users\\thoma\\Documents\\GitHub\\follow_target\\videos\\testvideo_1_640x360.mp4: 224x384 1 Target, 27.3ms\n",
      "video 1/1 (frame 2627/2731) c:\\Users\\thoma\\Documents\\GitHub\\follow_target\\videos\\testvideo_1_640x360.mp4: 224x384 1 Target, 29.8ms\n",
      "video 1/1 (frame 2628/2731) c:\\Users\\thoma\\Documents\\GitHub\\follow_target\\videos\\testvideo_1_640x360.mp4: 224x384 1 Target, 26.5ms\n",
      "video 1/1 (frame 2629/2731) c:\\Users\\thoma\\Documents\\GitHub\\follow_target\\videos\\testvideo_1_640x360.mp4: 224x384 1 Target, 26.7ms\n",
      "video 1/1 (frame 2630/2731) c:\\Users\\thoma\\Documents\\GitHub\\follow_target\\videos\\testvideo_1_640x360.mp4: 224x384 1 Target, 28.5ms\n",
      "video 1/1 (frame 2631/2731) c:\\Users\\thoma\\Documents\\GitHub\\follow_target\\videos\\testvideo_1_640x360.mp4: 224x384 1 Target, 27.8ms\n",
      "video 1/1 (frame 2632/2731) c:\\Users\\thoma\\Documents\\GitHub\\follow_target\\videos\\testvideo_1_640x360.mp4: 224x384 1 Target, 26.9ms\n",
      "video 1/1 (frame 2633/2731) c:\\Users\\thoma\\Documents\\GitHub\\follow_target\\videos\\testvideo_1_640x360.mp4: 224x384 1 Target, 25.5ms\n",
      "video 1/1 (frame 2634/2731) c:\\Users\\thoma\\Documents\\GitHub\\follow_target\\videos\\testvideo_1_640x360.mp4: 224x384 1 Target, 27.8ms\n",
      "video 1/1 (frame 2635/2731) c:\\Users\\thoma\\Documents\\GitHub\\follow_target\\videos\\testvideo_1_640x360.mp4: 224x384 1 Target, 26.2ms\n",
      "video 1/1 (frame 2636/2731) c:\\Users\\thoma\\Documents\\GitHub\\follow_target\\videos\\testvideo_1_640x360.mp4: 224x384 1 Target, 28.6ms\n",
      "video 1/1 (frame 2637/2731) c:\\Users\\thoma\\Documents\\GitHub\\follow_target\\videos\\testvideo_1_640x360.mp4: 224x384 1 Target, 27.5ms\n",
      "video 1/1 (frame 2638/2731) c:\\Users\\thoma\\Documents\\GitHub\\follow_target\\videos\\testvideo_1_640x360.mp4: 224x384 (no detections), 30.5ms\n",
      "video 1/1 (frame 2639/2731) c:\\Users\\thoma\\Documents\\GitHub\\follow_target\\videos\\testvideo_1_640x360.mp4: 224x384 (no detections), 27.2ms\n",
      "video 1/1 (frame 2640/2731) c:\\Users\\thoma\\Documents\\GitHub\\follow_target\\videos\\testvideo_1_640x360.mp4: 224x384 1 Target, 43.3ms\n",
      "video 1/1 (frame 2641/2731) c:\\Users\\thoma\\Documents\\GitHub\\follow_target\\videos\\testvideo_1_640x360.mp4: 224x384 1 Target, 30.8ms\n",
      "video 1/1 (frame 2642/2731) c:\\Users\\thoma\\Documents\\GitHub\\follow_target\\videos\\testvideo_1_640x360.mp4: 224x384 1 Target, 26.2ms\n",
      "video 1/1 (frame 2643/2731) c:\\Users\\thoma\\Documents\\GitHub\\follow_target\\videos\\testvideo_1_640x360.mp4: 224x384 1 Target, 26.0ms\n",
      "video 1/1 (frame 2644/2731) c:\\Users\\thoma\\Documents\\GitHub\\follow_target\\videos\\testvideo_1_640x360.mp4: 224x384 1 Target, 25.1ms\n",
      "video 1/1 (frame 2645/2731) c:\\Users\\thoma\\Documents\\GitHub\\follow_target\\videos\\testvideo_1_640x360.mp4: 224x384 1 Target, 27.2ms\n",
      "video 1/1 (frame 2646/2731) c:\\Users\\thoma\\Documents\\GitHub\\follow_target\\videos\\testvideo_1_640x360.mp4: 224x384 1 Target, 27.3ms\n",
      "video 1/1 (frame 2647/2731) c:\\Users\\thoma\\Documents\\GitHub\\follow_target\\videos\\testvideo_1_640x360.mp4: 224x384 1 Target, 26.6ms\n",
      "video 1/1 (frame 2648/2731) c:\\Users\\thoma\\Documents\\GitHub\\follow_target\\videos\\testvideo_1_640x360.mp4: 224x384 1 Target, 25.8ms\n",
      "video 1/1 (frame 2649/2731) c:\\Users\\thoma\\Documents\\GitHub\\follow_target\\videos\\testvideo_1_640x360.mp4: 224x384 1 Target, 28.3ms\n",
      "video 1/1 (frame 2650/2731) c:\\Users\\thoma\\Documents\\GitHub\\follow_target\\videos\\testvideo_1_640x360.mp4: 224x384 1 Target, 27.8ms\n",
      "video 1/1 (frame 2651/2731) c:\\Users\\thoma\\Documents\\GitHub\\follow_target\\videos\\testvideo_1_640x360.mp4: 224x384 1 Target, 26.3ms\n",
      "video 1/1 (frame 2652/2731) c:\\Users\\thoma\\Documents\\GitHub\\follow_target\\videos\\testvideo_1_640x360.mp4: 224x384 1 Target, 24.8ms\n",
      "video 1/1 (frame 2653/2731) c:\\Users\\thoma\\Documents\\GitHub\\follow_target\\videos\\testvideo_1_640x360.mp4: 224x384 1 Target, 27.7ms\n",
      "video 1/1 (frame 2654/2731) c:\\Users\\thoma\\Documents\\GitHub\\follow_target\\videos\\testvideo_1_640x360.mp4: 224x384 1 Target, 24.3ms\n",
      "video 1/1 (frame 2655/2731) c:\\Users\\thoma\\Documents\\GitHub\\follow_target\\videos\\testvideo_1_640x360.mp4: 224x384 1 Target, 31.3ms\n",
      "video 1/1 (frame 2656/2731) c:\\Users\\thoma\\Documents\\GitHub\\follow_target\\videos\\testvideo_1_640x360.mp4: 224x384 1 Target, 27.7ms\n",
      "video 1/1 (frame 2657/2731) c:\\Users\\thoma\\Documents\\GitHub\\follow_target\\videos\\testvideo_1_640x360.mp4: 224x384 1 Target, 23.9ms\n",
      "video 1/1 (frame 2658/2731) c:\\Users\\thoma\\Documents\\GitHub\\follow_target\\videos\\testvideo_1_640x360.mp4: 224x384 1 Target, 27.1ms\n",
      "video 1/1 (frame 2659/2731) c:\\Users\\thoma\\Documents\\GitHub\\follow_target\\videos\\testvideo_1_640x360.mp4: 224x384 1 Target, 26.8ms\n",
      "video 1/1 (frame 2660/2731) c:\\Users\\thoma\\Documents\\GitHub\\follow_target\\videos\\testvideo_1_640x360.mp4: 224x384 1 Target, 29.1ms\n",
      "video 1/1 (frame 2661/2731) c:\\Users\\thoma\\Documents\\GitHub\\follow_target\\videos\\testvideo_1_640x360.mp4: 224x384 1 Target, 26.4ms\n",
      "video 1/1 (frame 2662/2731) c:\\Users\\thoma\\Documents\\GitHub\\follow_target\\videos\\testvideo_1_640x360.mp4: 224x384 1 Target, 26.6ms\n",
      "video 1/1 (frame 2663/2731) c:\\Users\\thoma\\Documents\\GitHub\\follow_target\\videos\\testvideo_1_640x360.mp4: 224x384 1 Target, 27.5ms\n",
      "video 1/1 (frame 2664/2731) c:\\Users\\thoma\\Documents\\GitHub\\follow_target\\videos\\testvideo_1_640x360.mp4: 224x384 1 Target, 28.3ms\n",
      "video 1/1 (frame 2665/2731) c:\\Users\\thoma\\Documents\\GitHub\\follow_target\\videos\\testvideo_1_640x360.mp4: 224x384 1 Target, 25.8ms\n",
      "video 1/1 (frame 2666/2731) c:\\Users\\thoma\\Documents\\GitHub\\follow_target\\videos\\testvideo_1_640x360.mp4: 224x384 1 Target, 28.3ms\n",
      "video 1/1 (frame 2667/2731) c:\\Users\\thoma\\Documents\\GitHub\\follow_target\\videos\\testvideo_1_640x360.mp4: 224x384 1 Target, 23.8ms\n",
      "video 1/1 (frame 2668/2731) c:\\Users\\thoma\\Documents\\GitHub\\follow_target\\videos\\testvideo_1_640x360.mp4: 224x384 1 Target, 25.3ms\n",
      "video 1/1 (frame 2669/2731) c:\\Users\\thoma\\Documents\\GitHub\\follow_target\\videos\\testvideo_1_640x360.mp4: 224x384 1 Target, 27.4ms\n",
      "video 1/1 (frame 2670/2731) c:\\Users\\thoma\\Documents\\GitHub\\follow_target\\videos\\testvideo_1_640x360.mp4: 224x384 1 Target, 50.8ms\n",
      "video 1/1 (frame 2671/2731) c:\\Users\\thoma\\Documents\\GitHub\\follow_target\\videos\\testvideo_1_640x360.mp4: 224x384 1 Target, 28.6ms\n",
      "video 1/1 (frame 2672/2731) c:\\Users\\thoma\\Documents\\GitHub\\follow_target\\videos\\testvideo_1_640x360.mp4: 224x384 1 Target, 26.0ms\n",
      "video 1/1 (frame 2673/2731) c:\\Users\\thoma\\Documents\\GitHub\\follow_target\\videos\\testvideo_1_640x360.mp4: 224x384 1 Target, 28.4ms\n",
      "video 1/1 (frame 2674/2731) c:\\Users\\thoma\\Documents\\GitHub\\follow_target\\videos\\testvideo_1_640x360.mp4: 224x384 1 Target, 28.5ms\n",
      "video 1/1 (frame 2675/2731) c:\\Users\\thoma\\Documents\\GitHub\\follow_target\\videos\\testvideo_1_640x360.mp4: 224x384 1 Target, 28.5ms\n",
      "video 1/1 (frame 2676/2731) c:\\Users\\thoma\\Documents\\GitHub\\follow_target\\videos\\testvideo_1_640x360.mp4: 224x384 1 Target, 26.4ms\n",
      "video 1/1 (frame 2677/2731) c:\\Users\\thoma\\Documents\\GitHub\\follow_target\\videos\\testvideo_1_640x360.mp4: 224x384 1 Target, 28.3ms\n",
      "video 1/1 (frame 2678/2731) c:\\Users\\thoma\\Documents\\GitHub\\follow_target\\videos\\testvideo_1_640x360.mp4: 224x384 1 Target, 27.3ms\n",
      "video 1/1 (frame 2679/2731) c:\\Users\\thoma\\Documents\\GitHub\\follow_target\\videos\\testvideo_1_640x360.mp4: 224x384 1 Target, 25.5ms\n",
      "video 1/1 (frame 2680/2731) c:\\Users\\thoma\\Documents\\GitHub\\follow_target\\videos\\testvideo_1_640x360.mp4: 224x384 1 Target, 34.5ms\n",
      "video 1/1 (frame 2681/2731) c:\\Users\\thoma\\Documents\\GitHub\\follow_target\\videos\\testvideo_1_640x360.mp4: 224x384 1 Target, 26.0ms\n",
      "video 1/1 (frame 2682/2731) c:\\Users\\thoma\\Documents\\GitHub\\follow_target\\videos\\testvideo_1_640x360.mp4: 224x384 1 Target, 26.5ms\n",
      "video 1/1 (frame 2683/2731) c:\\Users\\thoma\\Documents\\GitHub\\follow_target\\videos\\testvideo_1_640x360.mp4: 224x384 1 Target, 26.7ms\n",
      "video 1/1 (frame 2684/2731) c:\\Users\\thoma\\Documents\\GitHub\\follow_target\\videos\\testvideo_1_640x360.mp4: 224x384 1 Target, 26.8ms\n",
      "video 1/1 (frame 2685/2731) c:\\Users\\thoma\\Documents\\GitHub\\follow_target\\videos\\testvideo_1_640x360.mp4: 224x384 1 Target, 33.1ms\n",
      "video 1/1 (frame 2686/2731) c:\\Users\\thoma\\Documents\\GitHub\\follow_target\\videos\\testvideo_1_640x360.mp4: 224x384 1 Target, 28.1ms\n",
      "video 1/1 (frame 2687/2731) c:\\Users\\thoma\\Documents\\GitHub\\follow_target\\videos\\testvideo_1_640x360.mp4: 224x384 1 Target, 26.6ms\n",
      "video 1/1 (frame 2688/2731) c:\\Users\\thoma\\Documents\\GitHub\\follow_target\\videos\\testvideo_1_640x360.mp4: 224x384 1 Target, 26.0ms\n",
      "video 1/1 (frame 2689/2731) c:\\Users\\thoma\\Documents\\GitHub\\follow_target\\videos\\testvideo_1_640x360.mp4: 224x384 1 Target, 26.9ms\n",
      "video 1/1 (frame 2690/2731) c:\\Users\\thoma\\Documents\\GitHub\\follow_target\\videos\\testvideo_1_640x360.mp4: 224x384 1 Target, 27.5ms\n",
      "video 1/1 (frame 2691/2731) c:\\Users\\thoma\\Documents\\GitHub\\follow_target\\videos\\testvideo_1_640x360.mp4: 224x384 1 Target, 27.0ms\n",
      "video 1/1 (frame 2692/2731) c:\\Users\\thoma\\Documents\\GitHub\\follow_target\\videos\\testvideo_1_640x360.mp4: 224x384 1 Target, 25.1ms\n",
      "video 1/1 (frame 2693/2731) c:\\Users\\thoma\\Documents\\GitHub\\follow_target\\videos\\testvideo_1_640x360.mp4: 224x384 1 Target, 27.6ms\n",
      "video 1/1 (frame 2694/2731) c:\\Users\\thoma\\Documents\\GitHub\\follow_target\\videos\\testvideo_1_640x360.mp4: 224x384 1 Target, 27.6ms\n",
      "video 1/1 (frame 2695/2731) c:\\Users\\thoma\\Documents\\GitHub\\follow_target\\videos\\testvideo_1_640x360.mp4: 224x384 1 Target, 28.6ms\n",
      "video 1/1 (frame 2696/2731) c:\\Users\\thoma\\Documents\\GitHub\\follow_target\\videos\\testvideo_1_640x360.mp4: 224x384 1 Target, 25.8ms\n",
      "video 1/1 (frame 2697/2731) c:\\Users\\thoma\\Documents\\GitHub\\follow_target\\videos\\testvideo_1_640x360.mp4: 224x384 1 Target, 26.6ms\n",
      "video 1/1 (frame 2698/2731) c:\\Users\\thoma\\Documents\\GitHub\\follow_target\\videos\\testvideo_1_640x360.mp4: 224x384 1 Target, 27.4ms\n",
      "video 1/1 (frame 2699/2731) c:\\Users\\thoma\\Documents\\GitHub\\follow_target\\videos\\testvideo_1_640x360.mp4: 224x384 1 Target, 28.1ms\n",
      "video 1/1 (frame 2700/2731) c:\\Users\\thoma\\Documents\\GitHub\\follow_target\\videos\\testvideo_1_640x360.mp4: 224x384 1 Target, 29.0ms\n",
      "video 1/1 (frame 2701/2731) c:\\Users\\thoma\\Documents\\GitHub\\follow_target\\videos\\testvideo_1_640x360.mp4: 224x384 1 Target, 27.2ms\n",
      "video 1/1 (frame 2702/2731) c:\\Users\\thoma\\Documents\\GitHub\\follow_target\\videos\\testvideo_1_640x360.mp4: 224x384 1 Target, 37.4ms\n",
      "video 1/1 (frame 2703/2731) c:\\Users\\thoma\\Documents\\GitHub\\follow_target\\videos\\testvideo_1_640x360.mp4: 224x384 1 Target, 32.8ms\n",
      "video 1/1 (frame 2704/2731) c:\\Users\\thoma\\Documents\\GitHub\\follow_target\\videos\\testvideo_1_640x360.mp4: 224x384 1 Target, 26.2ms\n",
      "video 1/1 (frame 2705/2731) c:\\Users\\thoma\\Documents\\GitHub\\follow_target\\videos\\testvideo_1_640x360.mp4: 224x384 1 Target, 27.0ms\n",
      "video 1/1 (frame 2706/2731) c:\\Users\\thoma\\Documents\\GitHub\\follow_target\\videos\\testvideo_1_640x360.mp4: 224x384 1 Target, 27.5ms\n",
      "video 1/1 (frame 2707/2731) c:\\Users\\thoma\\Documents\\GitHub\\follow_target\\videos\\testvideo_1_640x360.mp4: 224x384 1 Target, 27.2ms\n",
      "video 1/1 (frame 2708/2731) c:\\Users\\thoma\\Documents\\GitHub\\follow_target\\videos\\testvideo_1_640x360.mp4: 224x384 1 Target, 25.7ms\n",
      "video 1/1 (frame 2709/2731) c:\\Users\\thoma\\Documents\\GitHub\\follow_target\\videos\\testvideo_1_640x360.mp4: 224x384 1 Target, 27.5ms\n",
      "video 1/1 (frame 2710/2731) c:\\Users\\thoma\\Documents\\GitHub\\follow_target\\videos\\testvideo_1_640x360.mp4: 224x384 1 Target, 29.4ms\n",
      "video 1/1 (frame 2711/2731) c:\\Users\\thoma\\Documents\\GitHub\\follow_target\\videos\\testvideo_1_640x360.mp4: 224x384 1 Target, 29.7ms\n",
      "video 1/1 (frame 2712/2731) c:\\Users\\thoma\\Documents\\GitHub\\follow_target\\videos\\testvideo_1_640x360.mp4: 224x384 1 Target, 24.2ms\n",
      "video 1/1 (frame 2713/2731) c:\\Users\\thoma\\Documents\\GitHub\\follow_target\\videos\\testvideo_1_640x360.mp4: 224x384 1 Target, 28.0ms\n",
      "video 1/1 (frame 2714/2731) c:\\Users\\thoma\\Documents\\GitHub\\follow_target\\videos\\testvideo_1_640x360.mp4: 224x384 1 Target, 26.2ms\n",
      "video 1/1 (frame 2715/2731) c:\\Users\\thoma\\Documents\\GitHub\\follow_target\\videos\\testvideo_1_640x360.mp4: 224x384 1 Target, 27.9ms\n",
      "video 1/1 (frame 2716/2731) c:\\Users\\thoma\\Documents\\GitHub\\follow_target\\videos\\testvideo_1_640x360.mp4: 224x384 1 Target, 30.5ms\n",
      "video 1/1 (frame 2717/2731) c:\\Users\\thoma\\Documents\\GitHub\\follow_target\\videos\\testvideo_1_640x360.mp4: 224x384 1 Target, 29.0ms\n",
      "video 1/1 (frame 2718/2731) c:\\Users\\thoma\\Documents\\GitHub\\follow_target\\videos\\testvideo_1_640x360.mp4: 224x384 1 Target, 27.0ms\n",
      "video 1/1 (frame 2719/2731) c:\\Users\\thoma\\Documents\\GitHub\\follow_target\\videos\\testvideo_1_640x360.mp4: 224x384 1 Target, 30.2ms\n",
      "video 1/1 (frame 2720/2731) c:\\Users\\thoma\\Documents\\GitHub\\follow_target\\videos\\testvideo_1_640x360.mp4: 224x384 1 Target, 27.0ms\n",
      "video 1/1 (frame 2721/2731) c:\\Users\\thoma\\Documents\\GitHub\\follow_target\\videos\\testvideo_1_640x360.mp4: 224x384 1 Target, 31.1ms\n",
      "video 1/1 (frame 2722/2731) c:\\Users\\thoma\\Documents\\GitHub\\follow_target\\videos\\testvideo_1_640x360.mp4: 224x384 1 Target, 25.5ms\n",
      "video 1/1 (frame 2723/2731) c:\\Users\\thoma\\Documents\\GitHub\\follow_target\\videos\\testvideo_1_640x360.mp4: 224x384 1 Target, 27.1ms\n",
      "video 1/1 (frame 2724/2731) c:\\Users\\thoma\\Documents\\GitHub\\follow_target\\videos\\testvideo_1_640x360.mp4: 224x384 1 Target, 27.0ms\n",
      "video 1/1 (frame 2725/2731) c:\\Users\\thoma\\Documents\\GitHub\\follow_target\\videos\\testvideo_1_640x360.mp4: 224x384 1 Target, 25.6ms\n",
      "video 1/1 (frame 2726/2731) c:\\Users\\thoma\\Documents\\GitHub\\follow_target\\videos\\testvideo_1_640x360.mp4: 224x384 1 Target, 30.7ms\n",
      "video 1/1 (frame 2727/2731) c:\\Users\\thoma\\Documents\\GitHub\\follow_target\\videos\\testvideo_1_640x360.mp4: 224x384 1 Target, 27.5ms\n",
      "video 1/1 (frame 2728/2731) c:\\Users\\thoma\\Documents\\GitHub\\follow_target\\videos\\testvideo_1_640x360.mp4: 224x384 1 Target, 27.2ms\n",
      "video 1/1 (frame 2729/2731) c:\\Users\\thoma\\Documents\\GitHub\\follow_target\\videos\\testvideo_1_640x360.mp4: 224x384 1 Target, 26.9ms\n",
      "video 1/1 (frame 2730/2731) c:\\Users\\thoma\\Documents\\GitHub\\follow_target\\videos\\testvideo_1_640x360.mp4: 224x384 1 Target, 25.6ms\n",
      "video 1/1 (frame 2731/2731) c:\\Users\\thoma\\Documents\\GitHub\\follow_target\\videos\\testvideo_1_640x360.mp4: 224x384 1 Target, 29.8ms\n",
      "Speed: 0.7ms preprocess, 27.3ms inference, 0.5ms postprocess per image at shape (1, 3, 224, 384)\n",
      "Results saved to \u001b[1mconceptual_predictions\\pred_s_testvideo_1_640x3602\u001b[0m\n",
      "2572 labels saved to conceptual_predictions\\pred_s_testvideo_1_640x3602\\labels\n"
     ]
    }
   ],
   "source": [
    "# Make predictions on a video file\n",
    "results = model.predict(\n",
    "    source='videos/testvideo_1_640x360.mp4',\n",
    "    save=True,\n",
    "    max_det=1,\n",
    "    project='conceptual_predictions',\n",
    "    name='pred_s_testvideo_1_640x360',\n",
    "    imgsz=(640, 360),\n",
    "    save_txt=True,\n",
    "    save_conf=True,\n",
    ")"
   ]
  },
  {
   "cell_type": "markdown",
   "id": "55630207",
   "metadata": {},
   "source": [
    "# 03 - Show object position"
   ]
  },
  {
   "cell_type": "markdown",
   "id": "649f6fc8",
   "metadata": {},
   "source": [
    "### Load single files, merge them and save as single csv-file"
   ]
  },
  {
   "cell_type": "code",
   "execution_count": 31,
   "id": "fdc065ba",
   "metadata": {},
   "outputs": [],
   "source": [
    "# Find all txt files in a directory an add the content to a dataframe\n",
    "def read_txt_files_in_directory(directory):\n",
    "    data = []\n",
    "    for filename in os.listdir(directory):\n",
    "        if filename.endswith('.txt'):\n",
    "            with open(os.path.join(directory, filename), 'r') as file:\n",
    "                content = file.read().strip()\n",
    "                if content:  # Only add non-empty content\n",
    "                    data.append({'filename': filename, 'content': content})\n",
    "    return pd.DataFrame(data)"
   ]
  },
  {
   "cell_type": "code",
   "execution_count": 32,
   "id": "f9b606c4",
   "metadata": {},
   "outputs": [
    {
     "name": "stderr",
     "output_type": "stream",
     "text": [
      "<>:1: SyntaxWarning: invalid escape sequence '\\p'\n",
      "<>:1: SyntaxWarning: invalid escape sequence '\\p'\n",
      "C:\\Users\\thoma\\AppData\\Local\\Temp\\ipykernel_25440\\2766283898.py:1: SyntaxWarning: invalid escape sequence '\\p'\n",
      "  df = read_txt_files_in_directory('conceptual_predictions\\pred_s_testvideo_1_640x360_v2\\labels')\n"
     ]
    },
    {
     "data": {
      "text/html": [
       "<div>\n",
       "<style scoped>\n",
       "    .dataframe tbody tr th:only-of-type {\n",
       "        vertical-align: middle;\n",
       "    }\n",
       "\n",
       "    .dataframe tbody tr th {\n",
       "        vertical-align: top;\n",
       "    }\n",
       "\n",
       "    .dataframe thead th {\n",
       "        text-align: right;\n",
       "    }\n",
       "</style>\n",
       "<table border=\"1\" class=\"dataframe\">\n",
       "  <thead>\n",
       "    <tr style=\"text-align: right;\">\n",
       "      <th></th>\n",
       "      <th>filename</th>\n",
       "      <th>content</th>\n",
       "    </tr>\n",
       "  </thead>\n",
       "  <tbody>\n",
       "    <tr>\n",
       "      <th>0</th>\n",
       "      <td>testvideo_1_640x360_1.txt</td>\n",
       "      <td>0 0.519042 0.473661 0.0637577 0.10203 0.849575</td>\n",
       "    </tr>\n",
       "    <tr>\n",
       "      <th>1</th>\n",
       "      <td>testvideo_1_640x360_10.txt</td>\n",
       "      <td>0 0.508348 0.507702 0.0642627 0.106141 0.85238</td>\n",
       "    </tr>\n",
       "    <tr>\n",
       "      <th>2</th>\n",
       "      <td>testvideo_1_640x360_100.txt</td>\n",
       "      <td>0 0.485339 0.548762 0.0524535 0.0873122 0.858795</td>\n",
       "    </tr>\n",
       "    <tr>\n",
       "      <th>3</th>\n",
       "      <td>testvideo_1_640x360_1000.txt</td>\n",
       "      <td>0 0.409477 0.35132 0.0570429 0.0951285 0.858591</td>\n",
       "    </tr>\n",
       "    <tr>\n",
       "      <th>4</th>\n",
       "      <td>testvideo_1_640x360_1001.txt</td>\n",
       "      <td>0 0.409225 0.351366 0.0586784 0.096702 0.861718</td>\n",
       "    </tr>\n",
       "    <tr>\n",
       "      <th>...</th>\n",
       "      <td>...</td>\n",
       "      <td>...</td>\n",
       "    </tr>\n",
       "    <tr>\n",
       "      <th>2567</th>\n",
       "      <td>testvideo_1_640x360_995.txt</td>\n",
       "      <td>0 0.41222 0.345855 0.0611118 0.0890192 0.872198</td>\n",
       "    </tr>\n",
       "    <tr>\n",
       "      <th>2568</th>\n",
       "      <td>testvideo_1_640x360_996.txt</td>\n",
       "      <td>0 0.409993 0.342282 0.0559459 0.0941228 0.864038</td>\n",
       "    </tr>\n",
       "    <tr>\n",
       "      <th>2569</th>\n",
       "      <td>testvideo_1_640x360_997.txt</td>\n",
       "      <td>0 0.410712 0.345681 0.0579495 0.0936473 0.877418</td>\n",
       "    </tr>\n",
       "    <tr>\n",
       "      <th>2570</th>\n",
       "      <td>testvideo_1_640x360_998.txt</td>\n",
       "      <td>0 0.409514 0.34678 0.0561682 0.095138 0.870236</td>\n",
       "    </tr>\n",
       "    <tr>\n",
       "      <th>2571</th>\n",
       "      <td>testvideo_1_640x360_999.txt</td>\n",
       "      <td>0 0.409 0.346799 0.0574317 0.0953296 0.863369</td>\n",
       "    </tr>\n",
       "  </tbody>\n",
       "</table>\n",
       "<p>2572 rows × 2 columns</p>\n",
       "</div>"
      ],
      "text/plain": [
       "                          filename  \\\n",
       "0        testvideo_1_640x360_1.txt   \n",
       "1       testvideo_1_640x360_10.txt   \n",
       "2      testvideo_1_640x360_100.txt   \n",
       "3     testvideo_1_640x360_1000.txt   \n",
       "4     testvideo_1_640x360_1001.txt   \n",
       "...                            ...   \n",
       "2567   testvideo_1_640x360_995.txt   \n",
       "2568   testvideo_1_640x360_996.txt   \n",
       "2569   testvideo_1_640x360_997.txt   \n",
       "2570   testvideo_1_640x360_998.txt   \n",
       "2571   testvideo_1_640x360_999.txt   \n",
       "\n",
       "                                               content  \n",
       "0       0 0.519042 0.473661 0.0637577 0.10203 0.849575  \n",
       "1       0 0.508348 0.507702 0.0642627 0.106141 0.85238  \n",
       "2     0 0.485339 0.548762 0.0524535 0.0873122 0.858795  \n",
       "3      0 0.409477 0.35132 0.0570429 0.0951285 0.858591  \n",
       "4      0 0.409225 0.351366 0.0586784 0.096702 0.861718  \n",
       "...                                                ...  \n",
       "2567   0 0.41222 0.345855 0.0611118 0.0890192 0.872198  \n",
       "2568  0 0.409993 0.342282 0.0559459 0.0941228 0.864038  \n",
       "2569  0 0.410712 0.345681 0.0579495 0.0936473 0.877418  \n",
       "2570    0 0.409514 0.34678 0.0561682 0.095138 0.870236  \n",
       "2571     0 0.409 0.346799 0.0574317 0.0953296 0.863369  \n",
       "\n",
       "[2572 rows x 2 columns]"
      ]
     },
     "execution_count": 32,
     "metadata": {},
     "output_type": "execute_result"
    }
   ],
   "source": [
    "df = read_txt_files_in_directory('conceptual_predictions\\pred_s_testvideo_1_640x360_v2\\labels')\n",
    "df"
   ]
  },
  {
   "cell_type": "code",
   "execution_count": 33,
   "id": "750f2c75",
   "metadata": {},
   "outputs": [],
   "source": [
    "# Split the content column on ' ' and expand it into separate columns\n",
    "def split_content_column(df):\n",
    "    split_df = df['content'].str.split(' ', expand=True)\n",
    "    split_df.columns = ['class', 'x_center', 'y_center', 'width', 'height', 'confidence']\n",
    "    return pd.concat([df[['filename']], split_df], axis=1)\n",
    "\n",
    "# Split the 'filename' column to get the video name\n",
    "def extract_video_name(df):\n",
    "    df['frame'] = df['filename'].str.split('_').str[3]\n",
    "    # remove the file extension from the video name\n",
    "    df['frame'] = df['frame'].str.replace('.txt', '', regex=False)\n",
    "    return df"
   ]
  },
  {
   "cell_type": "code",
   "execution_count": 34,
   "id": "38bfe271",
   "metadata": {},
   "outputs": [
    {
     "data": {
      "text/html": [
       "<div>\n",
       "<style scoped>\n",
       "    .dataframe tbody tr th:only-of-type {\n",
       "        vertical-align: middle;\n",
       "    }\n",
       "\n",
       "    .dataframe tbody tr th {\n",
       "        vertical-align: top;\n",
       "    }\n",
       "\n",
       "    .dataframe thead th {\n",
       "        text-align: right;\n",
       "    }\n",
       "</style>\n",
       "<table border=\"1\" class=\"dataframe\">\n",
       "  <thead>\n",
       "    <tr style=\"text-align: right;\">\n",
       "      <th></th>\n",
       "      <th>filename</th>\n",
       "      <th>class</th>\n",
       "      <th>x_center</th>\n",
       "      <th>y_center</th>\n",
       "      <th>width</th>\n",
       "      <th>height</th>\n",
       "      <th>confidence</th>\n",
       "      <th>frame</th>\n",
       "    </tr>\n",
       "  </thead>\n",
       "  <tbody>\n",
       "    <tr>\n",
       "      <th>0</th>\n",
       "      <td>testvideo_1_640x360_1.txt</td>\n",
       "      <td>0</td>\n",
       "      <td>0.519042</td>\n",
       "      <td>0.473661</td>\n",
       "      <td>0.0637577</td>\n",
       "      <td>0.10203</td>\n",
       "      <td>0.849575</td>\n",
       "      <td>1</td>\n",
       "    </tr>\n",
       "    <tr>\n",
       "      <th>1</th>\n",
       "      <td>testvideo_1_640x360_10.txt</td>\n",
       "      <td>0</td>\n",
       "      <td>0.508348</td>\n",
       "      <td>0.507702</td>\n",
       "      <td>0.0642627</td>\n",
       "      <td>0.106141</td>\n",
       "      <td>0.85238</td>\n",
       "      <td>10</td>\n",
       "    </tr>\n",
       "    <tr>\n",
       "      <th>2</th>\n",
       "      <td>testvideo_1_640x360_100.txt</td>\n",
       "      <td>0</td>\n",
       "      <td>0.485339</td>\n",
       "      <td>0.548762</td>\n",
       "      <td>0.0524535</td>\n",
       "      <td>0.0873122</td>\n",
       "      <td>0.858795</td>\n",
       "      <td>100</td>\n",
       "    </tr>\n",
       "    <tr>\n",
       "      <th>3</th>\n",
       "      <td>testvideo_1_640x360_1000.txt</td>\n",
       "      <td>0</td>\n",
       "      <td>0.409477</td>\n",
       "      <td>0.35132</td>\n",
       "      <td>0.0570429</td>\n",
       "      <td>0.0951285</td>\n",
       "      <td>0.858591</td>\n",
       "      <td>1000</td>\n",
       "    </tr>\n",
       "    <tr>\n",
       "      <th>4</th>\n",
       "      <td>testvideo_1_640x360_1001.txt</td>\n",
       "      <td>0</td>\n",
       "      <td>0.409225</td>\n",
       "      <td>0.351366</td>\n",
       "      <td>0.0586784</td>\n",
       "      <td>0.096702</td>\n",
       "      <td>0.861718</td>\n",
       "      <td>1001</td>\n",
       "    </tr>\n",
       "    <tr>\n",
       "      <th>...</th>\n",
       "      <td>...</td>\n",
       "      <td>...</td>\n",
       "      <td>...</td>\n",
       "      <td>...</td>\n",
       "      <td>...</td>\n",
       "      <td>...</td>\n",
       "      <td>...</td>\n",
       "      <td>...</td>\n",
       "    </tr>\n",
       "    <tr>\n",
       "      <th>2567</th>\n",
       "      <td>testvideo_1_640x360_995.txt</td>\n",
       "      <td>0</td>\n",
       "      <td>0.41222</td>\n",
       "      <td>0.345855</td>\n",
       "      <td>0.0611118</td>\n",
       "      <td>0.0890192</td>\n",
       "      <td>0.872198</td>\n",
       "      <td>995</td>\n",
       "    </tr>\n",
       "    <tr>\n",
       "      <th>2568</th>\n",
       "      <td>testvideo_1_640x360_996.txt</td>\n",
       "      <td>0</td>\n",
       "      <td>0.409993</td>\n",
       "      <td>0.342282</td>\n",
       "      <td>0.0559459</td>\n",
       "      <td>0.0941228</td>\n",
       "      <td>0.864038</td>\n",
       "      <td>996</td>\n",
       "    </tr>\n",
       "    <tr>\n",
       "      <th>2569</th>\n",
       "      <td>testvideo_1_640x360_997.txt</td>\n",
       "      <td>0</td>\n",
       "      <td>0.410712</td>\n",
       "      <td>0.345681</td>\n",
       "      <td>0.0579495</td>\n",
       "      <td>0.0936473</td>\n",
       "      <td>0.877418</td>\n",
       "      <td>997</td>\n",
       "    </tr>\n",
       "    <tr>\n",
       "      <th>2570</th>\n",
       "      <td>testvideo_1_640x360_998.txt</td>\n",
       "      <td>0</td>\n",
       "      <td>0.409514</td>\n",
       "      <td>0.34678</td>\n",
       "      <td>0.0561682</td>\n",
       "      <td>0.095138</td>\n",
       "      <td>0.870236</td>\n",
       "      <td>998</td>\n",
       "    </tr>\n",
       "    <tr>\n",
       "      <th>2571</th>\n",
       "      <td>testvideo_1_640x360_999.txt</td>\n",
       "      <td>0</td>\n",
       "      <td>0.409</td>\n",
       "      <td>0.346799</td>\n",
       "      <td>0.0574317</td>\n",
       "      <td>0.0953296</td>\n",
       "      <td>0.863369</td>\n",
       "      <td>999</td>\n",
       "    </tr>\n",
       "  </tbody>\n",
       "</table>\n",
       "<p>2572 rows × 8 columns</p>\n",
       "</div>"
      ],
      "text/plain": [
       "                          filename class  x_center  y_center      width  \\\n",
       "0        testvideo_1_640x360_1.txt     0  0.519042  0.473661  0.0637577   \n",
       "1       testvideo_1_640x360_10.txt     0  0.508348  0.507702  0.0642627   \n",
       "2      testvideo_1_640x360_100.txt     0  0.485339  0.548762  0.0524535   \n",
       "3     testvideo_1_640x360_1000.txt     0  0.409477   0.35132  0.0570429   \n",
       "4     testvideo_1_640x360_1001.txt     0  0.409225  0.351366  0.0586784   \n",
       "...                            ...   ...       ...       ...        ...   \n",
       "2567   testvideo_1_640x360_995.txt     0   0.41222  0.345855  0.0611118   \n",
       "2568   testvideo_1_640x360_996.txt     0  0.409993  0.342282  0.0559459   \n",
       "2569   testvideo_1_640x360_997.txt     0  0.410712  0.345681  0.0579495   \n",
       "2570   testvideo_1_640x360_998.txt     0  0.409514   0.34678  0.0561682   \n",
       "2571   testvideo_1_640x360_999.txt     0     0.409  0.346799  0.0574317   \n",
       "\n",
       "         height confidence frame  \n",
       "0       0.10203   0.849575     1  \n",
       "1      0.106141    0.85238    10  \n",
       "2     0.0873122   0.858795   100  \n",
       "3     0.0951285   0.858591  1000  \n",
       "4      0.096702   0.861718  1001  \n",
       "...         ...        ...   ...  \n",
       "2567  0.0890192   0.872198   995  \n",
       "2568  0.0941228   0.864038   996  \n",
       "2569  0.0936473   0.877418   997  \n",
       "2570   0.095138   0.870236   998  \n",
       "2571  0.0953296   0.863369   999  \n",
       "\n",
       "[2572 rows x 8 columns]"
      ]
     },
     "execution_count": 34,
     "metadata": {},
     "output_type": "execute_result"
    }
   ],
   "source": [
    "df = split_content_column(df)\n",
    "df = extract_video_name(df)\n",
    "df"
   ]
  },
  {
   "cell_type": "code",
   "execution_count": 35,
   "id": "48f30e15",
   "metadata": {},
   "outputs": [
    {
     "data": {
      "text/html": [
       "<div>\n",
       "<style scoped>\n",
       "    .dataframe tbody tr th:only-of-type {\n",
       "        vertical-align: middle;\n",
       "    }\n",
       "\n",
       "    .dataframe tbody tr th {\n",
       "        vertical-align: top;\n",
       "    }\n",
       "\n",
       "    .dataframe thead th {\n",
       "        text-align: right;\n",
       "    }\n",
       "</style>\n",
       "<table border=\"1\" class=\"dataframe\">\n",
       "  <thead>\n",
       "    <tr style=\"text-align: right;\">\n",
       "      <th></th>\n",
       "      <th>filename</th>\n",
       "      <th>class</th>\n",
       "      <th>x_center</th>\n",
       "      <th>y_center</th>\n",
       "      <th>width</th>\n",
       "      <th>height</th>\n",
       "      <th>confidence</th>\n",
       "      <th>frame</th>\n",
       "    </tr>\n",
       "  </thead>\n",
       "  <tbody>\n",
       "    <tr>\n",
       "      <th>0</th>\n",
       "      <td>testvideo_1_640x360_1.txt</td>\n",
       "      <td>0</td>\n",
       "      <td>0.519042</td>\n",
       "      <td>0.473661</td>\n",
       "      <td>0.0637577</td>\n",
       "      <td>0.10203</td>\n",
       "      <td>0.849575</td>\n",
       "      <td>1</td>\n",
       "    </tr>\n",
       "    <tr>\n",
       "      <th>1074</th>\n",
       "      <td>testvideo_1_640x360_2.txt</td>\n",
       "      <td>0</td>\n",
       "      <td>0.516551</td>\n",
       "      <td>0.478943</td>\n",
       "      <td>0.0660798</td>\n",
       "      <td>0.110641</td>\n",
       "      <td>0.854822</td>\n",
       "      <td>2</td>\n",
       "    </tr>\n",
       "    <tr>\n",
       "      <th>1826</th>\n",
       "      <td>testvideo_1_640x360_3.txt</td>\n",
       "      <td>0</td>\n",
       "      <td>0.514742</td>\n",
       "      <td>0.484524</td>\n",
       "      <td>0.0655971</td>\n",
       "      <td>0.114412</td>\n",
       "      <td>0.856562</td>\n",
       "      <td>3</td>\n",
       "    </tr>\n",
       "    <tr>\n",
       "      <th>1932</th>\n",
       "      <td>testvideo_1_640x360_4.txt</td>\n",
       "      <td>0</td>\n",
       "      <td>0.513939</td>\n",
       "      <td>0.491519</td>\n",
       "      <td>0.0652015</td>\n",
       "      <td>0.110209</td>\n",
       "      <td>0.856842</td>\n",
       "      <td>4</td>\n",
       "    </tr>\n",
       "    <tr>\n",
       "      <th>2043</th>\n",
       "      <td>testvideo_1_640x360_5.txt</td>\n",
       "      <td>0</td>\n",
       "      <td>0.513227</td>\n",
       "      <td>0.495993</td>\n",
       "      <td>0.063935</td>\n",
       "      <td>0.107716</td>\n",
       "      <td>0.852165</td>\n",
       "      <td>5</td>\n",
       "    </tr>\n",
       "    <tr>\n",
       "      <th>...</th>\n",
       "      <td>...</td>\n",
       "      <td>...</td>\n",
       "      <td>...</td>\n",
       "      <td>...</td>\n",
       "      <td>...</td>\n",
       "      <td>...</td>\n",
       "      <td>...</td>\n",
       "      <td>...</td>\n",
       "    </tr>\n",
       "    <tr>\n",
       "      <th>1792</th>\n",
       "      <td>testvideo_1_640x360_2727.txt</td>\n",
       "      <td>0</td>\n",
       "      <td>0.493834</td>\n",
       "      <td>0.366593</td>\n",
       "      <td>0.0371954</td>\n",
       "      <td>0.0877039</td>\n",
       "      <td>0.781695</td>\n",
       "      <td>2727</td>\n",
       "    </tr>\n",
       "    <tr>\n",
       "      <th>1793</th>\n",
       "      <td>testvideo_1_640x360_2728.txt</td>\n",
       "      <td>0</td>\n",
       "      <td>0.491806</td>\n",
       "      <td>0.371712</td>\n",
       "      <td>0.0359834</td>\n",
       "      <td>0.0842029</td>\n",
       "      <td>0.747057</td>\n",
       "      <td>2728</td>\n",
       "    </tr>\n",
       "    <tr>\n",
       "      <th>1794</th>\n",
       "      <td>testvideo_1_640x360_2729.txt</td>\n",
       "      <td>0</td>\n",
       "      <td>0.491297</td>\n",
       "      <td>0.372393</td>\n",
       "      <td>0.0349228</td>\n",
       "      <td>0.0874459</td>\n",
       "      <td>0.703929</td>\n",
       "      <td>2729</td>\n",
       "    </tr>\n",
       "    <tr>\n",
       "      <th>1796</th>\n",
       "      <td>testvideo_1_640x360_2730.txt</td>\n",
       "      <td>0</td>\n",
       "      <td>0.490699</td>\n",
       "      <td>0.370823</td>\n",
       "      <td>0.0350323</td>\n",
       "      <td>0.0894807</td>\n",
       "      <td>0.672216</td>\n",
       "      <td>2730</td>\n",
       "    </tr>\n",
       "    <tr>\n",
       "      <th>1797</th>\n",
       "      <td>testvideo_1_640x360_2731.txt</td>\n",
       "      <td>0</td>\n",
       "      <td>0.488775</td>\n",
       "      <td>0.37017</td>\n",
       "      <td>0.0342017</td>\n",
       "      <td>0.0912685</td>\n",
       "      <td>0.637848</td>\n",
       "      <td>2731</td>\n",
       "    </tr>\n",
       "  </tbody>\n",
       "</table>\n",
       "<p>2572 rows × 8 columns</p>\n",
       "</div>"
      ],
      "text/plain": [
       "                          filename class  x_center  y_center      width  \\\n",
       "0        testvideo_1_640x360_1.txt     0  0.519042  0.473661  0.0637577   \n",
       "1074     testvideo_1_640x360_2.txt     0  0.516551  0.478943  0.0660798   \n",
       "1826     testvideo_1_640x360_3.txt     0  0.514742  0.484524  0.0655971   \n",
       "1932     testvideo_1_640x360_4.txt     0  0.513939  0.491519  0.0652015   \n",
       "2043     testvideo_1_640x360_5.txt     0  0.513227  0.495993   0.063935   \n",
       "...                            ...   ...       ...       ...        ...   \n",
       "1792  testvideo_1_640x360_2727.txt     0  0.493834  0.366593  0.0371954   \n",
       "1793  testvideo_1_640x360_2728.txt     0  0.491806  0.371712  0.0359834   \n",
       "1794  testvideo_1_640x360_2729.txt     0  0.491297  0.372393  0.0349228   \n",
       "1796  testvideo_1_640x360_2730.txt     0  0.490699  0.370823  0.0350323   \n",
       "1797  testvideo_1_640x360_2731.txt     0  0.488775   0.37017  0.0342017   \n",
       "\n",
       "         height confidence  frame  \n",
       "0       0.10203   0.849575      1  \n",
       "1074   0.110641   0.854822      2  \n",
       "1826   0.114412   0.856562      3  \n",
       "1932   0.110209   0.856842      4  \n",
       "2043   0.107716   0.852165      5  \n",
       "...         ...        ...    ...  \n",
       "1792  0.0877039   0.781695   2727  \n",
       "1793  0.0842029   0.747057   2728  \n",
       "1794  0.0874459   0.703929   2729  \n",
       "1796  0.0894807   0.672216   2730  \n",
       "1797  0.0912685   0.637848   2731  \n",
       "\n",
       "[2572 rows x 8 columns]"
      ]
     },
     "execution_count": 35,
     "metadata": {},
     "output_type": "execute_result"
    }
   ],
   "source": [
    "# Convert the frame column to int and sort the DataFrame\n",
    "df['frame'] = df['frame'].astype(int)\n",
    "df.sort_values(by=['frame'], inplace=True)\n",
    "\n",
    "df"
   ]
  },
  {
   "cell_type": "code",
   "execution_count": 37,
   "id": "b151d246",
   "metadata": {},
   "outputs": [
    {
     "data": {
      "text/html": [
       "<div>\n",
       "<style scoped>\n",
       "    .dataframe tbody tr th:only-of-type {\n",
       "        vertical-align: middle;\n",
       "    }\n",
       "\n",
       "    .dataframe tbody tr th {\n",
       "        vertical-align: top;\n",
       "    }\n",
       "\n",
       "    .dataframe thead th {\n",
       "        text-align: right;\n",
       "    }\n",
       "</style>\n",
       "<table border=\"1\" class=\"dataframe\">\n",
       "  <thead>\n",
       "    <tr style=\"text-align: right;\">\n",
       "      <th></th>\n",
       "      <th>filename</th>\n",
       "      <th>class</th>\n",
       "      <th>x_center</th>\n",
       "      <th>y_center</th>\n",
       "      <th>width</th>\n",
       "      <th>height</th>\n",
       "      <th>confidence</th>\n",
       "      <th>frame</th>\n",
       "    </tr>\n",
       "  </thead>\n",
       "  <tbody>\n",
       "    <tr>\n",
       "      <th>0</th>\n",
       "      <td>testvideo_1_640x360_1.txt</td>\n",
       "      <td>0</td>\n",
       "      <td>0.519</td>\n",
       "      <td>0.474</td>\n",
       "      <td>0.064</td>\n",
       "      <td>0.102</td>\n",
       "      <td>0.850</td>\n",
       "      <td>1</td>\n",
       "    </tr>\n",
       "    <tr>\n",
       "      <th>1074</th>\n",
       "      <td>testvideo_1_640x360_2.txt</td>\n",
       "      <td>0</td>\n",
       "      <td>0.517</td>\n",
       "      <td>0.479</td>\n",
       "      <td>0.066</td>\n",
       "      <td>0.111</td>\n",
       "      <td>0.855</td>\n",
       "      <td>2</td>\n",
       "    </tr>\n",
       "    <tr>\n",
       "      <th>1826</th>\n",
       "      <td>testvideo_1_640x360_3.txt</td>\n",
       "      <td>0</td>\n",
       "      <td>0.515</td>\n",
       "      <td>0.485</td>\n",
       "      <td>0.066</td>\n",
       "      <td>0.114</td>\n",
       "      <td>0.857</td>\n",
       "      <td>3</td>\n",
       "    </tr>\n",
       "    <tr>\n",
       "      <th>1932</th>\n",
       "      <td>testvideo_1_640x360_4.txt</td>\n",
       "      <td>0</td>\n",
       "      <td>0.514</td>\n",
       "      <td>0.492</td>\n",
       "      <td>0.065</td>\n",
       "      <td>0.110</td>\n",
       "      <td>0.857</td>\n",
       "      <td>4</td>\n",
       "    </tr>\n",
       "    <tr>\n",
       "      <th>2043</th>\n",
       "      <td>testvideo_1_640x360_5.txt</td>\n",
       "      <td>0</td>\n",
       "      <td>0.513</td>\n",
       "      <td>0.496</td>\n",
       "      <td>0.064</td>\n",
       "      <td>0.108</td>\n",
       "      <td>0.852</td>\n",
       "      <td>5</td>\n",
       "    </tr>\n",
       "    <tr>\n",
       "      <th>...</th>\n",
       "      <td>...</td>\n",
       "      <td>...</td>\n",
       "      <td>...</td>\n",
       "      <td>...</td>\n",
       "      <td>...</td>\n",
       "      <td>...</td>\n",
       "      <td>...</td>\n",
       "      <td>...</td>\n",
       "    </tr>\n",
       "    <tr>\n",
       "      <th>1792</th>\n",
       "      <td>testvideo_1_640x360_2727.txt</td>\n",
       "      <td>0</td>\n",
       "      <td>0.494</td>\n",
       "      <td>0.367</td>\n",
       "      <td>0.037</td>\n",
       "      <td>0.088</td>\n",
       "      <td>0.782</td>\n",
       "      <td>2727</td>\n",
       "    </tr>\n",
       "    <tr>\n",
       "      <th>1793</th>\n",
       "      <td>testvideo_1_640x360_2728.txt</td>\n",
       "      <td>0</td>\n",
       "      <td>0.492</td>\n",
       "      <td>0.372</td>\n",
       "      <td>0.036</td>\n",
       "      <td>0.084</td>\n",
       "      <td>0.747</td>\n",
       "      <td>2728</td>\n",
       "    </tr>\n",
       "    <tr>\n",
       "      <th>1794</th>\n",
       "      <td>testvideo_1_640x360_2729.txt</td>\n",
       "      <td>0</td>\n",
       "      <td>0.491</td>\n",
       "      <td>0.372</td>\n",
       "      <td>0.035</td>\n",
       "      <td>0.087</td>\n",
       "      <td>0.704</td>\n",
       "      <td>2729</td>\n",
       "    </tr>\n",
       "    <tr>\n",
       "      <th>1796</th>\n",
       "      <td>testvideo_1_640x360_2730.txt</td>\n",
       "      <td>0</td>\n",
       "      <td>0.491</td>\n",
       "      <td>0.371</td>\n",
       "      <td>0.035</td>\n",
       "      <td>0.089</td>\n",
       "      <td>0.672</td>\n",
       "      <td>2730</td>\n",
       "    </tr>\n",
       "    <tr>\n",
       "      <th>1797</th>\n",
       "      <td>testvideo_1_640x360_2731.txt</td>\n",
       "      <td>0</td>\n",
       "      <td>0.489</td>\n",
       "      <td>0.370</td>\n",
       "      <td>0.034</td>\n",
       "      <td>0.091</td>\n",
       "      <td>0.638</td>\n",
       "      <td>2731</td>\n",
       "    </tr>\n",
       "  </tbody>\n",
       "</table>\n",
       "<p>2572 rows × 8 columns</p>\n",
       "</div>"
      ],
      "text/plain": [
       "                          filename  class  x_center  y_center  width  height  \\\n",
       "0        testvideo_1_640x360_1.txt      0     0.519     0.474  0.064   0.102   \n",
       "1074     testvideo_1_640x360_2.txt      0     0.517     0.479  0.066   0.111   \n",
       "1826     testvideo_1_640x360_3.txt      0     0.515     0.485  0.066   0.114   \n",
       "1932     testvideo_1_640x360_4.txt      0     0.514     0.492  0.065   0.110   \n",
       "2043     testvideo_1_640x360_5.txt      0     0.513     0.496  0.064   0.108   \n",
       "...                            ...    ...       ...       ...    ...     ...   \n",
       "1792  testvideo_1_640x360_2727.txt      0     0.494     0.367  0.037   0.088   \n",
       "1793  testvideo_1_640x360_2728.txt      0     0.492     0.372  0.036   0.084   \n",
       "1794  testvideo_1_640x360_2729.txt      0     0.491     0.372  0.035   0.087   \n",
       "1796  testvideo_1_640x360_2730.txt      0     0.491     0.371  0.035   0.089   \n",
       "1797  testvideo_1_640x360_2731.txt      0     0.489     0.370  0.034   0.091   \n",
       "\n",
       "      confidence  frame  \n",
       "0          0.850      1  \n",
       "1074       0.855      2  \n",
       "1826       0.857      3  \n",
       "1932       0.857      4  \n",
       "2043       0.852      5  \n",
       "...          ...    ...  \n",
       "1792       0.782   2727  \n",
       "1793       0.747   2728  \n",
       "1794       0.704   2729  \n",
       "1796       0.672   2730  \n",
       "1797       0.638   2731  \n",
       "\n",
       "[2572 rows x 8 columns]"
      ]
     },
     "execution_count": 37,
     "metadata": {},
     "output_type": "execute_result"
    }
   ],
   "source": [
    "# Convert the columns to numeric types\n",
    "def convert_columns_to_numeric(df):\n",
    "    numeric_columns = ['class', 'x_center', 'y_center', 'width', 'height', 'confidence']\n",
    "    for column in numeric_columns:\n",
    "        df[column] = pd.to_numeric(df[column], errors='coerce')\n",
    "\n",
    "    # Round the numeric columns to 3 decimal places\n",
    "    df[numeric_columns] = df[numeric_columns].round(3)\n",
    "    return df\n",
    "\n",
    "df = convert_columns_to_numeric(df)\n",
    "df"
   ]
  },
  {
   "cell_type": "code",
   "execution_count": 38,
   "id": "55f508fe",
   "metadata": {},
   "outputs": [
    {
     "data": {
      "text/html": [
       "<div>\n",
       "<style scoped>\n",
       "    .dataframe tbody tr th:only-of-type {\n",
       "        vertical-align: middle;\n",
       "    }\n",
       "\n",
       "    .dataframe tbody tr th {\n",
       "        vertical-align: top;\n",
       "    }\n",
       "\n",
       "    .dataframe thead th {\n",
       "        text-align: right;\n",
       "    }\n",
       "</style>\n",
       "<table border=\"1\" class=\"dataframe\">\n",
       "  <thead>\n",
       "    <tr style=\"text-align: right;\">\n",
       "      <th></th>\n",
       "      <th>class</th>\n",
       "      <th>x_center</th>\n",
       "      <th>y_center</th>\n",
       "      <th>width</th>\n",
       "      <th>height</th>\n",
       "      <th>confidence</th>\n",
       "      <th>frame</th>\n",
       "    </tr>\n",
       "  </thead>\n",
       "  <tbody>\n",
       "    <tr>\n",
       "      <th>0</th>\n",
       "      <td>0</td>\n",
       "      <td>0.519</td>\n",
       "      <td>0.474</td>\n",
       "      <td>0.064</td>\n",
       "      <td>0.102</td>\n",
       "      <td>0.850</td>\n",
       "      <td>1</td>\n",
       "    </tr>\n",
       "    <tr>\n",
       "      <th>1</th>\n",
       "      <td>0</td>\n",
       "      <td>0.517</td>\n",
       "      <td>0.479</td>\n",
       "      <td>0.066</td>\n",
       "      <td>0.111</td>\n",
       "      <td>0.855</td>\n",
       "      <td>2</td>\n",
       "    </tr>\n",
       "    <tr>\n",
       "      <th>2</th>\n",
       "      <td>0</td>\n",
       "      <td>0.515</td>\n",
       "      <td>0.485</td>\n",
       "      <td>0.066</td>\n",
       "      <td>0.114</td>\n",
       "      <td>0.857</td>\n",
       "      <td>3</td>\n",
       "    </tr>\n",
       "    <tr>\n",
       "      <th>3</th>\n",
       "      <td>0</td>\n",
       "      <td>0.514</td>\n",
       "      <td>0.492</td>\n",
       "      <td>0.065</td>\n",
       "      <td>0.110</td>\n",
       "      <td>0.857</td>\n",
       "      <td>4</td>\n",
       "    </tr>\n",
       "    <tr>\n",
       "      <th>4</th>\n",
       "      <td>0</td>\n",
       "      <td>0.513</td>\n",
       "      <td>0.496</td>\n",
       "      <td>0.064</td>\n",
       "      <td>0.108</td>\n",
       "      <td>0.852</td>\n",
       "      <td>5</td>\n",
       "    </tr>\n",
       "    <tr>\n",
       "      <th>...</th>\n",
       "      <td>...</td>\n",
       "      <td>...</td>\n",
       "      <td>...</td>\n",
       "      <td>...</td>\n",
       "      <td>...</td>\n",
       "      <td>...</td>\n",
       "      <td>...</td>\n",
       "    </tr>\n",
       "    <tr>\n",
       "      <th>2567</th>\n",
       "      <td>0</td>\n",
       "      <td>0.494</td>\n",
       "      <td>0.367</td>\n",
       "      <td>0.037</td>\n",
       "      <td>0.088</td>\n",
       "      <td>0.782</td>\n",
       "      <td>2727</td>\n",
       "    </tr>\n",
       "    <tr>\n",
       "      <th>2568</th>\n",
       "      <td>0</td>\n",
       "      <td>0.492</td>\n",
       "      <td>0.372</td>\n",
       "      <td>0.036</td>\n",
       "      <td>0.084</td>\n",
       "      <td>0.747</td>\n",
       "      <td>2728</td>\n",
       "    </tr>\n",
       "    <tr>\n",
       "      <th>2569</th>\n",
       "      <td>0</td>\n",
       "      <td>0.491</td>\n",
       "      <td>0.372</td>\n",
       "      <td>0.035</td>\n",
       "      <td>0.087</td>\n",
       "      <td>0.704</td>\n",
       "      <td>2729</td>\n",
       "    </tr>\n",
       "    <tr>\n",
       "      <th>2570</th>\n",
       "      <td>0</td>\n",
       "      <td>0.491</td>\n",
       "      <td>0.371</td>\n",
       "      <td>0.035</td>\n",
       "      <td>0.089</td>\n",
       "      <td>0.672</td>\n",
       "      <td>2730</td>\n",
       "    </tr>\n",
       "    <tr>\n",
       "      <th>2571</th>\n",
       "      <td>0</td>\n",
       "      <td>0.489</td>\n",
       "      <td>0.370</td>\n",
       "      <td>0.034</td>\n",
       "      <td>0.091</td>\n",
       "      <td>0.638</td>\n",
       "      <td>2731</td>\n",
       "    </tr>\n",
       "  </tbody>\n",
       "</table>\n",
       "<p>2572 rows × 7 columns</p>\n",
       "</div>"
      ],
      "text/plain": [
       "      class  x_center  y_center  width  height  confidence  frame\n",
       "0         0     0.519     0.474  0.064   0.102       0.850      1\n",
       "1         0     0.517     0.479  0.066   0.111       0.855      2\n",
       "2         0     0.515     0.485  0.066   0.114       0.857      3\n",
       "3         0     0.514     0.492  0.065   0.110       0.857      4\n",
       "4         0     0.513     0.496  0.064   0.108       0.852      5\n",
       "...     ...       ...       ...    ...     ...         ...    ...\n",
       "2567      0     0.494     0.367  0.037   0.088       0.782   2727\n",
       "2568      0     0.492     0.372  0.036   0.084       0.747   2728\n",
       "2569      0     0.491     0.372  0.035   0.087       0.704   2729\n",
       "2570      0     0.491     0.371  0.035   0.089       0.672   2730\n",
       "2571      0     0.489     0.370  0.034   0.091       0.638   2731\n",
       "\n",
       "[2572 rows x 7 columns]"
      ]
     },
     "execution_count": 38,
     "metadata": {},
     "output_type": "execute_result"
    }
   ],
   "source": [
    "# Drop the filename column\n",
    "df.drop(columns=['filename'], inplace=True)\n",
    "\n",
    "# Reset the index of the DataFrame\n",
    "df.reset_index(drop=True, inplace=True)\n",
    "\n",
    "# Save the DataFrame to a CSV file\n",
    "df.to_csv('conceptual_predictions/pred_s_testvideo_1_640x360_v2/labels.csv', index=False)\n",
    "\n",
    "df"
   ]
  },
  {
   "cell_type": "markdown",
   "id": "60d04817",
   "metadata": {},
   "source": [
    "### Load merged csv-file"
   ]
  },
  {
   "cell_type": "code",
   "execution_count": 42,
   "id": "445edc2e",
   "metadata": {},
   "outputs": [
    {
     "data": {
      "text/html": [
       "<div>\n",
       "<style scoped>\n",
       "    .dataframe tbody tr th:only-of-type {\n",
       "        vertical-align: middle;\n",
       "    }\n",
       "\n",
       "    .dataframe tbody tr th {\n",
       "        vertical-align: top;\n",
       "    }\n",
       "\n",
       "    .dataframe thead th {\n",
       "        text-align: right;\n",
       "    }\n",
       "</style>\n",
       "<table border=\"1\" class=\"dataframe\">\n",
       "  <thead>\n",
       "    <tr style=\"text-align: right;\">\n",
       "      <th></th>\n",
       "      <th>class</th>\n",
       "      <th>x_center</th>\n",
       "      <th>y_center</th>\n",
       "      <th>width</th>\n",
       "      <th>height</th>\n",
       "      <th>confidence</th>\n",
       "      <th>frame</th>\n",
       "    </tr>\n",
       "  </thead>\n",
       "  <tbody>\n",
       "    <tr>\n",
       "      <th>0</th>\n",
       "      <td>0</td>\n",
       "      <td>0.519</td>\n",
       "      <td>0.474</td>\n",
       "      <td>0.064</td>\n",
       "      <td>0.102</td>\n",
       "      <td>0.850</td>\n",
       "      <td>1</td>\n",
       "    </tr>\n",
       "    <tr>\n",
       "      <th>1</th>\n",
       "      <td>0</td>\n",
       "      <td>0.517</td>\n",
       "      <td>0.479</td>\n",
       "      <td>0.066</td>\n",
       "      <td>0.111</td>\n",
       "      <td>0.855</td>\n",
       "      <td>2</td>\n",
       "    </tr>\n",
       "    <tr>\n",
       "      <th>2</th>\n",
       "      <td>0</td>\n",
       "      <td>0.515</td>\n",
       "      <td>0.485</td>\n",
       "      <td>0.066</td>\n",
       "      <td>0.114</td>\n",
       "      <td>0.857</td>\n",
       "      <td>3</td>\n",
       "    </tr>\n",
       "    <tr>\n",
       "      <th>3</th>\n",
       "      <td>0</td>\n",
       "      <td>0.514</td>\n",
       "      <td>0.492</td>\n",
       "      <td>0.065</td>\n",
       "      <td>0.110</td>\n",
       "      <td>0.857</td>\n",
       "      <td>4</td>\n",
       "    </tr>\n",
       "    <tr>\n",
       "      <th>4</th>\n",
       "      <td>0</td>\n",
       "      <td>0.513</td>\n",
       "      <td>0.496</td>\n",
       "      <td>0.064</td>\n",
       "      <td>0.108</td>\n",
       "      <td>0.852</td>\n",
       "      <td>5</td>\n",
       "    </tr>\n",
       "  </tbody>\n",
       "</table>\n",
       "</div>"
      ],
      "text/plain": [
       "   class  x_center  y_center  width  height  confidence  frame\n",
       "0      0     0.519     0.474  0.064   0.102       0.850      1\n",
       "1      0     0.517     0.479  0.066   0.111       0.855      2\n",
       "2      0     0.515     0.485  0.066   0.114       0.857      3\n",
       "3      0     0.514     0.492  0.065   0.110       0.857      4\n",
       "4      0     0.513     0.496  0.064   0.108       0.852      5"
      ]
     },
     "execution_count": 42,
     "metadata": {},
     "output_type": "execute_result"
    }
   ],
   "source": [
    "# Load the CSV file into a DataFrame\n",
    "df = pd.read_csv('conceptual_predictions/pred_s_testvideo_1_640x360_v2/labels.csv')\n",
    "\n",
    "df.head()"
   ]
  },
  {
   "cell_type": "code",
   "execution_count": 68,
   "id": "af273372",
   "metadata": {},
   "outputs": [
    {
     "data": {
      "image/png": "[encoded data removed]",
      "text/plain": [
       "<Figure size 1000x500 with 1 Axes>"
      ]
     },
     "metadata": {},
     "output_type": "display_data"
    }
   ],
   "source": [
    "fig, ax = plt.subplots(figsize=(10, 5))\n",
    "\n",
    "# Plot the y_center and x_center values versus the frame number\n",
    "ax.plot(df['frame'], df['y_center'], label='Y', marker='.', lw=.2, color='blue')\n",
    "ax.plot(df['frame'], df['x_center'], label='X', marker='.', lw=.2, color='red')\n",
    "\n",
    "# Set the title and labels\n",
    "ax.set_title('YOLOv11 Predictions: Y and X Center Coordinates vs Frame Number')\n",
    "ax.set_xlabel('Frame Number')\n",
    "ax.set_ylabel('Center Coordinates (Normalized)')\n",
    "\n",
    "# Add a legend\n",
    "ax.legend(frameon=False)\n",
    "\n",
    "# Dont show upper and right spines\n",
    "ax.spines['right'].set_visible(False)\n",
    "ax.spines['top'].set_visible(False)\n",
    "\n",
    "# Show the plot\n",
    "plt.show()"
   ]
  },
  {
   "cell_type": "code",
   "execution_count": null,
   "id": "e35d84c1",
   "metadata": {},
   "outputs": [],
   "source": []
  },
  {
   "cell_type": "code",
   "execution_count": null,
   "id": "e2b35262",
   "metadata": {},
   "outputs": [],
   "source": []
  },
  {
   "cell_type": "code",
   "execution_count": 55,
   "id": "45030f71",
   "metadata": {},
   "outputs": [
    {
     "ename": "ValueError",
     "evalue": "x and y must be the same size",
     "output_type": "error",
     "traceback": [
      "\u001b[31m---------------------------------------------------------------------------\u001b[39m",
      "\u001b[31mValueError\u001b[39m                                Traceback (most recent call last)",
      "\u001b[36mCell\u001b[39m\u001b[36m \u001b[39m\u001b[32mIn[55]\u001b[39m\u001b[32m, line 1\u001b[39m\n\u001b[32m----> \u001b[39m\u001b[32m1\u001b[39m \u001b[43mdf\u001b[49m\u001b[43m[\u001b[49m\u001b[43mdf\u001b[49m\u001b[43m[\u001b[49m\u001b[33;43m'\u001b[39;49m\u001b[33;43mclass\u001b[39;49m\u001b[33;43m'\u001b[39;49m\u001b[43m]\u001b[49m\u001b[43m==\u001b[49m\u001b[32;43m0\u001b[39;49m\u001b[43m]\u001b[49m\u001b[43m.\u001b[49m\u001b[43mplot\u001b[49m\u001b[43m(\u001b[49m\n\u001b[32m      2\u001b[39m \u001b[43m    \u001b[49m\u001b[43mkind\u001b[49m\u001b[43m=\u001b[49m\u001b[33;43m'\u001b[39;49m\u001b[33;43mscatter\u001b[39;49m\u001b[33;43m'\u001b[39;49m\u001b[43m,\u001b[49m\n\u001b[32m      3\u001b[39m \u001b[43m    \u001b[49m\u001b[43mx\u001b[49m\u001b[43m=\u001b[49m\u001b[33;43m'\u001b[39;49m\u001b[33;43mframe\u001b[39;49m\u001b[33;43m'\u001b[39;49m\u001b[43m,\u001b[49m\n\u001b[32m      4\u001b[39m \u001b[43m    \u001b[49m\u001b[43my\u001b[49m\u001b[43m=\u001b[49m\u001b[43m[\u001b[49m\u001b[33;43m'\u001b[39;49m\u001b[33;43my_center\u001b[39;49m\u001b[33;43m'\u001b[39;49m\u001b[43m,\u001b[49m\u001b[43m \u001b[49m\u001b[33;43m'\u001b[39;49m\u001b[33;43mx_center\u001b[39;49m\u001b[33;43m'\u001b[39;49m\u001b[43m]\u001b[49m\u001b[43m,\u001b[49m\u001b[43m \u001b[49m\n\u001b[32m      5\u001b[39m \u001b[43m    \u001b[49m\u001b[43malpha\u001b[49m\u001b[43m=\u001b[49m\u001b[32;43m1\u001b[39;49m\u001b[43m,\u001b[49m\n\u001b[32m      6\u001b[39m \u001b[43m    \u001b[49m\u001b[43mcolor\u001b[49m\u001b[43m=\u001b[49m\u001b[33;43m'\u001b[39;49m\u001b[33;43mk\u001b[39;49m\u001b[33;43m'\u001b[39;49m\u001b[43m,\u001b[49m\n\u001b[32m      7\u001b[39m \u001b[43m    \u001b[49m\u001b[43mfigsize\u001b[49m\u001b[43m=\u001b[49m\u001b[43m(\u001b[49m\u001b[32;43m10\u001b[39;49m\u001b[43m,\u001b[49m\u001b[43m \u001b[49m\u001b[32;43m4\u001b[39;49m\u001b[43m)\u001b[49m\u001b[43m,\u001b[49m\u001b[43m \u001b[49m\n\u001b[32m      8\u001b[39m \u001b[43m    \u001b[49m\u001b[43mtitle\u001b[49m\u001b[43m=\u001b[49m\u001b[33;43m'\u001b[39;49m\u001b[33;43mScatter Plot of x_center vs y_center\u001b[39;49m\u001b[33;43m'\u001b[39;49m\u001b[43m,\u001b[49m\n\u001b[32m      9\u001b[39m \u001b[43m    \u001b[49m\u001b[43m)\u001b[49m\n",
      "\u001b[36mFile \u001b[39m\u001b[32mc:\\Users\\thoma\\Documents\\GitHub\\follow_target\\.venv\\Lib\\site-packages\\pandas\\plotting\\_core.py:975\u001b[39m, in \u001b[36mPlotAccessor.__call__\u001b[39m\u001b[34m(self, *args, **kwargs)\u001b[39m\n\u001b[32m    973\u001b[39m \u001b[38;5;28;01mif\u001b[39;00m kind \u001b[38;5;129;01min\u001b[39;00m \u001b[38;5;28mself\u001b[39m._dataframe_kinds:\n\u001b[32m    974\u001b[39m     \u001b[38;5;28;01mif\u001b[39;00m \u001b[38;5;28misinstance\u001b[39m(data, ABCDataFrame):\n\u001b[32m--> \u001b[39m\u001b[32m975\u001b[39m         \u001b[38;5;28;01mreturn\u001b[39;00m \u001b[43mplot_backend\u001b[49m\u001b[43m.\u001b[49m\u001b[43mplot\u001b[49m\u001b[43m(\u001b[49m\u001b[43mdata\u001b[49m\u001b[43m,\u001b[49m\u001b[43m \u001b[49m\u001b[43mx\u001b[49m\u001b[43m=\u001b[49m\u001b[43mx\u001b[49m\u001b[43m,\u001b[49m\u001b[43m \u001b[49m\u001b[43my\u001b[49m\u001b[43m=\u001b[49m\u001b[43my\u001b[49m\u001b[43m,\u001b[49m\u001b[43m \u001b[49m\u001b[43mkind\u001b[49m\u001b[43m=\u001b[49m\u001b[43mkind\u001b[49m\u001b[43m,\u001b[49m\u001b[43m \u001b[49m\u001b[43m*\u001b[49m\u001b[43m*\u001b[49m\u001b[43mkwargs\u001b[49m\u001b[43m)\u001b[49m\n\u001b[32m    976\u001b[39m     \u001b[38;5;28;01melse\u001b[39;00m:\n\u001b[32m    977\u001b[39m         \u001b[38;5;28;01mraise\u001b[39;00m \u001b[38;5;167;01mValueError\u001b[39;00m(\u001b[33mf\u001b[39m\u001b[33m\"\u001b[39m\u001b[33mplot kind \u001b[39m\u001b[38;5;132;01m{\u001b[39;00mkind\u001b[38;5;132;01m}\u001b[39;00m\u001b[33m can only be used for data frames\u001b[39m\u001b[33m\"\u001b[39m)\n",
      "\u001b[36mFile \u001b[39m\u001b[32mc:\\Users\\thoma\\Documents\\GitHub\\follow_target\\.venv\\Lib\\site-packages\\pandas\\plotting\\_matplotlib\\__init__.py:71\u001b[39m, in \u001b[36mplot\u001b[39m\u001b[34m(data, kind, **kwargs)\u001b[39m\n\u001b[32m     69\u001b[39m         kwargs[\u001b[33m\"\u001b[39m\u001b[33max\u001b[39m\u001b[33m\"\u001b[39m] = \u001b[38;5;28mgetattr\u001b[39m(ax, \u001b[33m\"\u001b[39m\u001b[33mleft_ax\u001b[39m\u001b[33m\"\u001b[39m, ax)\n\u001b[32m     70\u001b[39m plot_obj = PLOT_CLASSES[kind](data, **kwargs)\n\u001b[32m---> \u001b[39m\u001b[32m71\u001b[39m \u001b[43mplot_obj\u001b[49m\u001b[43m.\u001b[49m\u001b[43mgenerate\u001b[49m\u001b[43m(\u001b[49m\u001b[43m)\u001b[49m\n\u001b[32m     72\u001b[39m plot_obj.draw()\n\u001b[32m     73\u001b[39m \u001b[38;5;28;01mreturn\u001b[39;00m plot_obj.result\n",
      "\u001b[36mFile \u001b[39m\u001b[32mc:\\Users\\thoma\\Documents\\GitHub\\follow_target\\.venv\\Lib\\site-packages\\pandas\\plotting\\_matplotlib\\core.py:501\u001b[39m, in \u001b[36mMPLPlot.generate\u001b[39m\u001b[34m(self)\u001b[39m\n\u001b[32m    499\u001b[39m \u001b[38;5;28mself\u001b[39m._compute_plot_data()\n\u001b[32m    500\u001b[39m fig = \u001b[38;5;28mself\u001b[39m.fig\n\u001b[32m--> \u001b[39m\u001b[32m501\u001b[39m \u001b[38;5;28;43mself\u001b[39;49m\u001b[43m.\u001b[49m\u001b[43m_make_plot\u001b[49m\u001b[43m(\u001b[49m\u001b[43mfig\u001b[49m\u001b[43m)\u001b[49m\n\u001b[32m    502\u001b[39m \u001b[38;5;28mself\u001b[39m._add_table()\n\u001b[32m    503\u001b[39m \u001b[38;5;28mself\u001b[39m._make_legend()\n",
      "\u001b[36mFile \u001b[39m\u001b[32mc:\\Users\\thoma\\Documents\\GitHub\\follow_target\\.venv\\Lib\\site-packages\\pandas\\plotting\\_matplotlib\\core.py:1351\u001b[39m, in \u001b[36mScatterPlot._make_plot\u001b[39m\u001b[34m(self, fig)\u001b[39m\n\u001b[32m   1349\u001b[39m \u001b[38;5;28;01melse\u001b[39;00m:\n\u001b[32m   1350\u001b[39m     label = \u001b[38;5;28;01mNone\u001b[39;00m\n\u001b[32m-> \u001b[39m\u001b[32m1351\u001b[39m scatter = \u001b[43max\u001b[49m\u001b[43m.\u001b[49m\u001b[43mscatter\u001b[49m\u001b[43m(\u001b[49m\n\u001b[32m   1352\u001b[39m \u001b[43m    \u001b[49m\u001b[43mdata\u001b[49m\u001b[43m[\u001b[49m\u001b[43mx\u001b[49m\u001b[43m]\u001b[49m\u001b[43m.\u001b[49m\u001b[43mvalues\u001b[49m\u001b[43m,\u001b[49m\n\u001b[32m   1353\u001b[39m \u001b[43m    \u001b[49m\u001b[43mdata\u001b[49m\u001b[43m[\u001b[49m\u001b[43my\u001b[49m\u001b[43m]\u001b[49m\u001b[43m.\u001b[49m\u001b[43mvalues\u001b[49m\u001b[43m,\u001b[49m\n\u001b[32m   1354\u001b[39m \u001b[43m    \u001b[49m\u001b[43mc\u001b[49m\u001b[43m=\u001b[49m\u001b[43mc_values\u001b[49m\u001b[43m,\u001b[49m\n\u001b[32m   1355\u001b[39m \u001b[43m    \u001b[49m\u001b[43mlabel\u001b[49m\u001b[43m=\u001b[49m\u001b[43mlabel\u001b[49m\u001b[43m,\u001b[49m\n\u001b[32m   1356\u001b[39m \u001b[43m    \u001b[49m\u001b[43mcmap\u001b[49m\u001b[43m=\u001b[49m\u001b[43mcmap\u001b[49m\u001b[43m,\u001b[49m\n\u001b[32m   1357\u001b[39m \u001b[43m    \u001b[49m\u001b[43mnorm\u001b[49m\u001b[43m=\u001b[49m\u001b[43mnorm\u001b[49m\u001b[43m,\u001b[49m\n\u001b[32m   1358\u001b[39m \u001b[43m    \u001b[49m\u001b[43ms\u001b[49m\u001b[43m=\u001b[49m\u001b[38;5;28;43mself\u001b[39;49m\u001b[43m.\u001b[49m\u001b[43ms\u001b[49m\u001b[43m,\u001b[49m\n\u001b[32m   1359\u001b[39m \u001b[43m    \u001b[49m\u001b[43m*\u001b[49m\u001b[43m*\u001b[49m\u001b[38;5;28;43mself\u001b[39;49m\u001b[43m.\u001b[49m\u001b[43mkwds\u001b[49m\u001b[43m,\u001b[49m\n\u001b[32m   1360\u001b[39m \u001b[43m\u001b[49m\u001b[43m)\u001b[49m\n\u001b[32m   1361\u001b[39m \u001b[38;5;28;01mif\u001b[39;00m cb:\n\u001b[32m   1362\u001b[39m     cbar_label = c \u001b[38;5;28;01mif\u001b[39;00m c_is_column \u001b[38;5;28;01melse\u001b[39;00m \u001b[33m\"\u001b[39m\u001b[33m\"\u001b[39m\n",
      "\u001b[36mFile \u001b[39m\u001b[32mc:\\Users\\thoma\\Documents\\GitHub\\follow_target\\.venv\\Lib\\site-packages\\matplotlib\\_api\\deprecation.py:453\u001b[39m, in \u001b[36mmake_keyword_only.<locals>.wrapper\u001b[39m\u001b[34m(*args, **kwargs)\u001b[39m\n\u001b[32m    447\u001b[39m \u001b[38;5;28;01mif\u001b[39;00m \u001b[38;5;28mlen\u001b[39m(args) > name_idx:\n\u001b[32m    448\u001b[39m     warn_deprecated(\n\u001b[32m    449\u001b[39m         since, message=\u001b[33m\"\u001b[39m\u001b[33mPassing the \u001b[39m\u001b[38;5;132;01m%(name)s\u001b[39;00m\u001b[33m \u001b[39m\u001b[38;5;132;01m%(obj_type)s\u001b[39;00m\u001b[33m \u001b[39m\u001b[33m\"\u001b[39m\n\u001b[32m    450\u001b[39m         \u001b[33m\"\u001b[39m\u001b[33mpositionally is deprecated since Matplotlib \u001b[39m\u001b[38;5;132;01m%(since)s\u001b[39;00m\u001b[33m; the \u001b[39m\u001b[33m\"\u001b[39m\n\u001b[32m    451\u001b[39m         \u001b[33m\"\u001b[39m\u001b[33mparameter will become keyword-only in \u001b[39m\u001b[38;5;132;01m%(removal)s\u001b[39;00m\u001b[33m.\u001b[39m\u001b[33m\"\u001b[39m,\n\u001b[32m    452\u001b[39m         name=name, obj_type=\u001b[33mf\u001b[39m\u001b[33m\"\u001b[39m\u001b[33mparameter of \u001b[39m\u001b[38;5;132;01m{\u001b[39;00mfunc.\u001b[34m__name__\u001b[39m\u001b[38;5;132;01m}\u001b[39;00m\u001b[33m()\u001b[39m\u001b[33m\"\u001b[39m)\n\u001b[32m--> \u001b[39m\u001b[32m453\u001b[39m \u001b[38;5;28;01mreturn\u001b[39;00m \u001b[43mfunc\u001b[49m\u001b[43m(\u001b[49m\u001b[43m*\u001b[49m\u001b[43margs\u001b[49m\u001b[43m,\u001b[49m\u001b[43m \u001b[49m\u001b[43m*\u001b[49m\u001b[43m*\u001b[49m\u001b[43mkwargs\u001b[49m\u001b[43m)\u001b[49m\n",
      "\u001b[36mFile \u001b[39m\u001b[32mc:\\Users\\thoma\\Documents\\GitHub\\follow_target\\.venv\\Lib\\site-packages\\matplotlib\\__init__.py:1521\u001b[39m, in \u001b[36m_preprocess_data.<locals>.inner\u001b[39m\u001b[34m(ax, data, *args, **kwargs)\u001b[39m\n\u001b[32m   1518\u001b[39m \u001b[38;5;129m@functools\u001b[39m.wraps(func)\n\u001b[32m   1519\u001b[39m \u001b[38;5;28;01mdef\u001b[39;00m\u001b[38;5;250m \u001b[39m\u001b[34minner\u001b[39m(ax, *args, data=\u001b[38;5;28;01mNone\u001b[39;00m, **kwargs):\n\u001b[32m   1520\u001b[39m     \u001b[38;5;28;01mif\u001b[39;00m data \u001b[38;5;129;01mis\u001b[39;00m \u001b[38;5;28;01mNone\u001b[39;00m:\n\u001b[32m-> \u001b[39m\u001b[32m1521\u001b[39m         \u001b[38;5;28;01mreturn\u001b[39;00m \u001b[43mfunc\u001b[49m\u001b[43m(\u001b[49m\n\u001b[32m   1522\u001b[39m \u001b[43m            \u001b[49m\u001b[43max\u001b[49m\u001b[43m,\u001b[49m\n\u001b[32m   1523\u001b[39m \u001b[43m            \u001b[49m\u001b[43m*\u001b[49m\u001b[38;5;28;43mmap\u001b[39;49m\u001b[43m(\u001b[49m\u001b[43mcbook\u001b[49m\u001b[43m.\u001b[49m\u001b[43msanitize_sequence\u001b[49m\u001b[43m,\u001b[49m\u001b[43m \u001b[49m\u001b[43margs\u001b[49m\u001b[43m)\u001b[49m\u001b[43m,\u001b[49m\n\u001b[32m   1524\u001b[39m \u001b[43m            \u001b[49m\u001b[43m*\u001b[49m\u001b[43m*\u001b[49m\u001b[43m{\u001b[49m\u001b[43mk\u001b[49m\u001b[43m:\u001b[49m\u001b[43m \u001b[49m\u001b[43mcbook\u001b[49m\u001b[43m.\u001b[49m\u001b[43msanitize_sequence\u001b[49m\u001b[43m(\u001b[49m\u001b[43mv\u001b[49m\u001b[43m)\u001b[49m\u001b[43m \u001b[49m\u001b[38;5;28;43;01mfor\u001b[39;49;00m\u001b[43m \u001b[49m\u001b[43mk\u001b[49m\u001b[43m,\u001b[49m\u001b[43m \u001b[49m\u001b[43mv\u001b[49m\u001b[43m \u001b[49m\u001b[38;5;129;43;01min\u001b[39;49;00m\u001b[43m \u001b[49m\u001b[43mkwargs\u001b[49m\u001b[43m.\u001b[49m\u001b[43mitems\u001b[49m\u001b[43m(\u001b[49m\u001b[43m)\u001b[49m\u001b[43m}\u001b[49m\u001b[43m)\u001b[49m\n\u001b[32m   1526\u001b[39m     bound = new_sig.bind(ax, *args, **kwargs)\n\u001b[32m   1527\u001b[39m     auto_label = (bound.arguments.get(label_namer)\n\u001b[32m   1528\u001b[39m                   \u001b[38;5;129;01mor\u001b[39;00m bound.kwargs.get(label_namer))\n",
      "\u001b[36mFile \u001b[39m\u001b[32mc:\\Users\\thoma\\Documents\\GitHub\\follow_target\\.venv\\Lib\\site-packages\\matplotlib\\axes\\_axes.py:4933\u001b[39m, in \u001b[36mAxes.scatter\u001b[39m\u001b[34m(self, x, y, s, c, marker, cmap, norm, vmin, vmax, alpha, linewidths, edgecolors, colorizer, plotnonfinite, **kwargs)\u001b[39m\n\u001b[32m   4931\u001b[39m y = np.ma.ravel(y)\n\u001b[32m   4932\u001b[39m \u001b[38;5;28;01mif\u001b[39;00m x.size != y.size:\n\u001b[32m-> \u001b[39m\u001b[32m4933\u001b[39m     \u001b[38;5;28;01mraise\u001b[39;00m \u001b[38;5;167;01mValueError\u001b[39;00m(\u001b[33m\"\u001b[39m\u001b[33mx and y must be the same size\u001b[39m\u001b[33m\"\u001b[39m)\n\u001b[32m   4935\u001b[39m \u001b[38;5;28;01mif\u001b[39;00m s \u001b[38;5;129;01mis\u001b[39;00m \u001b[38;5;28;01mNone\u001b[39;00m:\n\u001b[32m   4936\u001b[39m     s = (\u001b[32m20\u001b[39m \u001b[38;5;28;01mif\u001b[39;00m mpl.rcParams[\u001b[33m'\u001b[39m\u001b[33m_internal.classic_mode\u001b[39m\u001b[33m'\u001b[39m] \u001b[38;5;28;01melse\u001b[39;00m\n\u001b[32m   4937\u001b[39m          mpl.rcParams[\u001b[33m'\u001b[39m\u001b[33mlines.markersize\u001b[39m\u001b[33m'\u001b[39m] ** \u001b[32m2.0\u001b[39m)\n",
      "\u001b[31mValueError\u001b[39m: x and y must be the same size"
     ]
    },
    {
     "data": {
      "image/png": "[encoded data removed]",
      "text/plain": [
       "<Figure size 1000x400 with 1 Axes>"
      ]
     },
     "metadata": {},
     "output_type": "display_data"
    }
   ],
   "source": [
    "df[df['class']==0].plot(\n",
    "    kind='scatter',\n",
    "    x='frame',\n",
    "    y=['y_center', 'x_center'], \n",
    "    alpha=1,\n",
    "    color='k',\n",
    "    figsize=(10, 4), \n",
    "    title='Scatter Plot of x_center vs y_center',\n",
    "    )\n"
   ]
  },
  {
   "cell_type": "code",
   "execution_count": null,
   "id": "470757b2",
   "metadata": {},
   "outputs": [],
   "source": []
  }
 ],
 "metadata": {
  "kernelspec": {
   "display_name": ".venv",
   "language": "python",
   "name": "python3"
  },
  "language_info": {
   "codemirror_mode": {
    "name": "ipython",
    "version": 3
   },
   "file_extension": ".py",
   "mimetype": "text/x-python",
   "name": "python",
   "nbconvert_exporter": "python",
   "pygments_lexer": "ipython3",
   "version": "3.13.1"
  }
 },
 "nbformat": 4,
 "nbformat_minor": 5
}
